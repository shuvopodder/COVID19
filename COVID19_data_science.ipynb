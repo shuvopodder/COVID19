{
  "nbformat": 4,
  "nbformat_minor": 0,
  "metadata": {
    "colab": {
      "name": "COVID19-data-science.ipynb",
      "provenance": [],
      "toc_visible": true,
      "authorship_tag": "ABX9TyNmKBqQ5I20AhnXT5d0MCou",
      "include_colab_link": true
    },
    "kernelspec": {
      "name": "python3",
      "display_name": "Python 3"
    }
  },
  "cells": [
    {
      "cell_type": "markdown",
      "metadata": {
        "id": "view-in-github",
        "colab_type": "text"
      },
      "source": [
        "<a href=\"https://colab.research.google.com/github/shuvopodder/COVID19/blob/master/COVID19_data_science.ipynb\" target=\"_parent\"><img src=\"https://colab.research.google.com/assets/colab-badge.svg\" alt=\"Open In Colab\"/></a>"
      ]
    },
    {
      "cell_type": "markdown",
      "metadata": {
        "id": "W8evuqADa_TC",
        "colab_type": "text"
      },
      "source": [
        "## Forecast cases, deaths, and prediction (Shuvo Podder)"
      ]
    },
    {
      "cell_type": "code",
      "metadata": {
        "id": "_WlSFE1S2x1Y",
        "colab_type": "code",
        "colab": {}
      },
      "source": [
        "import pandas as pd\n",
        "import numpy as np\n",
        "import plotly.express as px\n",
        "\n",
        "import plotly.graph_objects as go\n",
        "from plotly.subplots import make_subplots\n",
        "import string\n",
        "import collections\n",
        "from wordcloud import WordCloud, STOPWORDS, ImageColorGenerator\n",
        "import seaborn as sns  \n",
        "import matplotlib.cm as cm\n",
        "import matplotlib.pyplot as plt\n",
        "% matplotlib inline\n",
        "\n",
        "from datetime import datetime"
      ],
      "execution_count": 98,
      "outputs": []
    },
    {
      "cell_type": "markdown",
      "metadata": {
        "id": "5zgNoanp8SKp",
        "colab_type": "text"
      },
      "source": [
        "Import Datasets"
      ]
    },
    {
      "cell_type": "code",
      "metadata": {
        "id": "waN09ODNY-cH",
        "colab_type": "code",
        "colab": {}
      },
      "source": [
        "data=pd.read_csv(\"https://opendata.ecdc.europa.eu/covid19/casedistribution/csv\") \n",
        "#data=pd.read_excel(\"COVID-19-worldwide.xlsx\") "
      ],
      "execution_count": 99,
      "outputs": []
    },
    {
      "cell_type": "markdown",
      "metadata": {
        "id": "Ma2WFK4g68ON",
        "colab_type": "text"
      },
      "source": [
        "Checking Datasets"
      ]
    },
    {
      "cell_type": "code",
      "metadata": {
        "id": "lgeG5Of23gKt",
        "colab_type": "code",
        "colab": {
          "base_uri": "https://localhost:8080/",
          "height": 323
        },
        "outputId": "74d88984-8bca-4073-dff7-da5fbacba32e"
      },
      "source": [
        "data.info()"
      ],
      "execution_count": null,
      "outputs": [
        {
          "output_type": "stream",
          "text": [
            "<class 'pandas.core.frame.DataFrame'>\n",
            "RangeIndex: 26353 entries, 0 to 26352\n",
            "Data columns (total 11 columns):\n",
            " #   Column                   Non-Null Count  Dtype  \n",
            "---  ------                   --------------  -----  \n",
            " 0   dateRep                  26353 non-null  object \n",
            " 1   day                      26353 non-null  int64  \n",
            " 2   month                    26353 non-null  int64  \n",
            " 3   year                     26353 non-null  int64  \n",
            " 4   cases                    26353 non-null  int64  \n",
            " 5   deaths                   26353 non-null  int64  \n",
            " 6   countriesAndTerritories  26353 non-null  object \n",
            " 7   geoId                    26247 non-null  object \n",
            " 8   countryterritoryCode     26289 non-null  object \n",
            " 9   popData2019              26289 non-null  float64\n",
            " 10  continentExp             26353 non-null  object \n",
            "dtypes: float64(1), int64(5), object(5)\n",
            "memory usage: 2.2+ MB\n"
          ],
          "name": "stdout"
        }
      ]
    },
    {
      "cell_type": "code",
      "metadata": {
        "id": "WJVkvbZ58XlH",
        "colab_type": "code",
        "colab": {
          "base_uri": "https://localhost:8080/",
          "height": 297
        },
        "outputId": "1631c8b6-0c77-42aa-9ad7-d513e789cd29"
      },
      "source": [
        "data.describe()"
      ],
      "execution_count": null,
      "outputs": [
        {
          "output_type": "execute_result",
          "data": {
            "text/html": [
              "<div>\n",
              "<style scoped>\n",
              "    .dataframe tbody tr th:only-of-type {\n",
              "        vertical-align: middle;\n",
              "    }\n",
              "\n",
              "    .dataframe tbody tr th {\n",
              "        vertical-align: top;\n",
              "    }\n",
              "\n",
              "    .dataframe thead th {\n",
              "        text-align: right;\n",
              "    }\n",
              "</style>\n",
              "<table border=\"1\" class=\"dataframe\">\n",
              "  <thead>\n",
              "    <tr style=\"text-align: right;\">\n",
              "      <th></th>\n",
              "      <th>day</th>\n",
              "      <th>month</th>\n",
              "      <th>year</th>\n",
              "      <th>cases</th>\n",
              "      <th>deaths</th>\n",
              "      <th>popData2019</th>\n",
              "    </tr>\n",
              "  </thead>\n",
              "  <tbody>\n",
              "    <tr>\n",
              "      <th>count</th>\n",
              "      <td>26353.000000</td>\n",
              "      <td>26353.000000</td>\n",
              "      <td>26353.000000</td>\n",
              "      <td>26353.000000</td>\n",
              "      <td>26353.000000</td>\n",
              "      <td>2.628900e+04</td>\n",
              "    </tr>\n",
              "    <tr>\n",
              "      <th>mean</th>\n",
              "      <td>16.106515</td>\n",
              "      <td>4.180473</td>\n",
              "      <td>2019.997458</td>\n",
              "      <td>377.661253</td>\n",
              "      <td>18.916973</td>\n",
              "      <td>4.697303e+07</td>\n",
              "    </tr>\n",
              "    <tr>\n",
              "      <th>std</th>\n",
              "      <td>8.705274</td>\n",
              "      <td>1.553363</td>\n",
              "      <td>0.050359</td>\n",
              "      <td>2155.418932</td>\n",
              "      <td>121.757959</td>\n",
              "      <td>1.677347e+08</td>\n",
              "    </tr>\n",
              "    <tr>\n",
              "      <th>min</th>\n",
              "      <td>1.000000</td>\n",
              "      <td>1.000000</td>\n",
              "      <td>2019.000000</td>\n",
              "      <td>-2461.000000</td>\n",
              "      <td>-1918.000000</td>\n",
              "      <td>8.150000e+02</td>\n",
              "    </tr>\n",
              "    <tr>\n",
              "      <th>25%</th>\n",
              "      <td>9.000000</td>\n",
              "      <td>3.000000</td>\n",
              "      <td>2020.000000</td>\n",
              "      <td>0.000000</td>\n",
              "      <td>0.000000</td>\n",
              "      <td>1.919968e+06</td>\n",
              "    </tr>\n",
              "    <tr>\n",
              "      <th>50%</th>\n",
              "      <td>16.000000</td>\n",
              "      <td>4.000000</td>\n",
              "      <td>2020.000000</td>\n",
              "      <td>4.000000</td>\n",
              "      <td>0.000000</td>\n",
              "      <td>8.858775e+06</td>\n",
              "    </tr>\n",
              "    <tr>\n",
              "      <th>75%</th>\n",
              "      <td>24.000000</td>\n",
              "      <td>5.000000</td>\n",
              "      <td>2020.000000</td>\n",
              "      <td>67.000000</td>\n",
              "      <td>1.000000</td>\n",
              "      <td>3.194979e+07</td>\n",
              "    </tr>\n",
              "    <tr>\n",
              "      <th>max</th>\n",
              "      <td>31.000000</td>\n",
              "      <td>12.000000</td>\n",
              "      <td>2020.000000</td>\n",
              "      <td>54771.000000</td>\n",
              "      <td>4928.000000</td>\n",
              "      <td>1.433784e+09</td>\n",
              "    </tr>\n",
              "  </tbody>\n",
              "</table>\n",
              "</div>"
            ],
            "text/plain": [
              "                day         month  ...        deaths   popData2019\n",
              "count  26353.000000  26353.000000  ...  26353.000000  2.628900e+04\n",
              "mean      16.106515      4.180473  ...     18.916973  4.697303e+07\n",
              "std        8.705274      1.553363  ...    121.757959  1.677347e+08\n",
              "min        1.000000      1.000000  ...  -1918.000000  8.150000e+02\n",
              "25%        9.000000      3.000000  ...      0.000000  1.919968e+06\n",
              "50%       16.000000      4.000000  ...      0.000000  8.858775e+06\n",
              "75%       24.000000      5.000000  ...      1.000000  3.194979e+07\n",
              "max       31.000000     12.000000  ...   4928.000000  1.433784e+09\n",
              "\n",
              "[8 rows x 6 columns]"
            ]
          },
          "metadata": {
            "tags": []
          },
          "execution_count": 26
        }
      ]
    },
    {
      "cell_type": "code",
      "metadata": {
        "id": "jOcCz-gNTiAU",
        "colab_type": "code",
        "colab": {
          "base_uri": "https://localhost:8080/",
          "height": 224
        },
        "outputId": "6d36dd7a-dc43-4e7f-b6b4-8e62f29c2bce"
      },
      "source": [
        "data.head()"
      ],
      "execution_count": null,
      "outputs": [
        {
          "output_type": "execute_result",
          "data": {
            "text/html": [
              "<div>\n",
              "<style scoped>\n",
              "    .dataframe tbody tr th:only-of-type {\n",
              "        vertical-align: middle;\n",
              "    }\n",
              "\n",
              "    .dataframe tbody tr th {\n",
              "        vertical-align: top;\n",
              "    }\n",
              "\n",
              "    .dataframe thead th {\n",
              "        text-align: right;\n",
              "    }\n",
              "</style>\n",
              "<table border=\"1\" class=\"dataframe\">\n",
              "  <thead>\n",
              "    <tr style=\"text-align: right;\">\n",
              "      <th></th>\n",
              "      <th>dateRep</th>\n",
              "      <th>day</th>\n",
              "      <th>month</th>\n",
              "      <th>year</th>\n",
              "      <th>cases</th>\n",
              "      <th>deaths</th>\n",
              "      <th>countriesAndTerritories</th>\n",
              "      <th>geoId</th>\n",
              "      <th>countryterritoryCode</th>\n",
              "      <th>popData2019</th>\n",
              "      <th>continentExp</th>\n",
              "    </tr>\n",
              "  </thead>\n",
              "  <tbody>\n",
              "    <tr>\n",
              "      <th>0</th>\n",
              "      <td>28/06/2020</td>\n",
              "      <td>28</td>\n",
              "      <td>6</td>\n",
              "      <td>2020</td>\n",
              "      <td>165</td>\n",
              "      <td>20</td>\n",
              "      <td>Afghanistan</td>\n",
              "      <td>AF</td>\n",
              "      <td>AFG</td>\n",
              "      <td>38041757.0</td>\n",
              "      <td>Asia</td>\n",
              "    </tr>\n",
              "    <tr>\n",
              "      <th>1</th>\n",
              "      <td>27/06/2020</td>\n",
              "      <td>27</td>\n",
              "      <td>6</td>\n",
              "      <td>2020</td>\n",
              "      <td>276</td>\n",
              "      <td>8</td>\n",
              "      <td>Afghanistan</td>\n",
              "      <td>AF</td>\n",
              "      <td>AFG</td>\n",
              "      <td>38041757.0</td>\n",
              "      <td>Asia</td>\n",
              "    </tr>\n",
              "    <tr>\n",
              "      <th>2</th>\n",
              "      <td>26/06/2020</td>\n",
              "      <td>26</td>\n",
              "      <td>6</td>\n",
              "      <td>2020</td>\n",
              "      <td>460</td>\n",
              "      <td>36</td>\n",
              "      <td>Afghanistan</td>\n",
              "      <td>AF</td>\n",
              "      <td>AFG</td>\n",
              "      <td>38041757.0</td>\n",
              "      <td>Asia</td>\n",
              "    </tr>\n",
              "    <tr>\n",
              "      <th>3</th>\n",
              "      <td>25/06/2020</td>\n",
              "      <td>25</td>\n",
              "      <td>6</td>\n",
              "      <td>2020</td>\n",
              "      <td>234</td>\n",
              "      <td>21</td>\n",
              "      <td>Afghanistan</td>\n",
              "      <td>AF</td>\n",
              "      <td>AFG</td>\n",
              "      <td>38041757.0</td>\n",
              "      <td>Asia</td>\n",
              "    </tr>\n",
              "    <tr>\n",
              "      <th>4</th>\n",
              "      <td>24/06/2020</td>\n",
              "      <td>24</td>\n",
              "      <td>6</td>\n",
              "      <td>2020</td>\n",
              "      <td>338</td>\n",
              "      <td>20</td>\n",
              "      <td>Afghanistan</td>\n",
              "      <td>AF</td>\n",
              "      <td>AFG</td>\n",
              "      <td>38041757.0</td>\n",
              "      <td>Asia</td>\n",
              "    </tr>\n",
              "  </tbody>\n",
              "</table>\n",
              "</div>"
            ],
            "text/plain": [
              "      dateRep  day  month  ...  countryterritoryCode  popData2019  continentExp\n",
              "0  28/06/2020   28      6  ...                   AFG   38041757.0          Asia\n",
              "1  27/06/2020   27      6  ...                   AFG   38041757.0          Asia\n",
              "2  26/06/2020   26      6  ...                   AFG   38041757.0          Asia\n",
              "3  25/06/2020   25      6  ...                   AFG   38041757.0          Asia\n",
              "4  24/06/2020   24      6  ...                   AFG   38041757.0          Asia\n",
              "\n",
              "[5 rows x 11 columns]"
            ]
          },
          "metadata": {
            "tags": []
          },
          "execution_count": 28
        }
      ]
    },
    {
      "cell_type": "markdown",
      "metadata": {
        "id": "cBvy9Sah7TfT",
        "colab_type": "text"
      },
      "source": [
        "Modify Column Name "
      ]
    },
    {
      "cell_type": "code",
      "metadata": {
        "id": "h4hegKHiXX5S",
        "colab_type": "code",
        "colab": {}
      },
      "source": [
        "data=data.rename(columns={\"countriesAndTerritories\" : \"country\",\n",
        "                          \"countryterritoryCode\" : \"countryCode\"})"
      ],
      "execution_count": 100,
      "outputs": []
    },
    {
      "cell_type": "code",
      "metadata": {
        "id": "c-iKHcCs0mjO",
        "colab_type": "code",
        "colab": {
          "base_uri": "https://localhost:8080/",
          "height": 204
        },
        "outputId": "2f9dcce1-65af-457e-fa75-44444d5527c7"
      },
      "source": [
        "data.head()"
      ],
      "execution_count": null,
      "outputs": [
        {
          "output_type": "execute_result",
          "data": {
            "text/html": [
              "<div>\n",
              "<style scoped>\n",
              "    .dataframe tbody tr th:only-of-type {\n",
              "        vertical-align: middle;\n",
              "    }\n",
              "\n",
              "    .dataframe tbody tr th {\n",
              "        vertical-align: top;\n",
              "    }\n",
              "\n",
              "    .dataframe thead th {\n",
              "        text-align: right;\n",
              "    }\n",
              "</style>\n",
              "<table border=\"1\" class=\"dataframe\">\n",
              "  <thead>\n",
              "    <tr style=\"text-align: right;\">\n",
              "      <th></th>\n",
              "      <th>dateRep</th>\n",
              "      <th>day</th>\n",
              "      <th>month</th>\n",
              "      <th>year</th>\n",
              "      <th>cases</th>\n",
              "      <th>deaths</th>\n",
              "      <th>country</th>\n",
              "      <th>geoId</th>\n",
              "      <th>countryCode</th>\n",
              "      <th>popData2019</th>\n",
              "      <th>continentExp</th>\n",
              "    </tr>\n",
              "  </thead>\n",
              "  <tbody>\n",
              "    <tr>\n",
              "      <th>0</th>\n",
              "      <td>28/06/2020</td>\n",
              "      <td>28</td>\n",
              "      <td>6</td>\n",
              "      <td>2020</td>\n",
              "      <td>165</td>\n",
              "      <td>20</td>\n",
              "      <td>Afghanistan</td>\n",
              "      <td>AF</td>\n",
              "      <td>AFG</td>\n",
              "      <td>38041757.0</td>\n",
              "      <td>Asia</td>\n",
              "    </tr>\n",
              "    <tr>\n",
              "      <th>1</th>\n",
              "      <td>27/06/2020</td>\n",
              "      <td>27</td>\n",
              "      <td>6</td>\n",
              "      <td>2020</td>\n",
              "      <td>276</td>\n",
              "      <td>8</td>\n",
              "      <td>Afghanistan</td>\n",
              "      <td>AF</td>\n",
              "      <td>AFG</td>\n",
              "      <td>38041757.0</td>\n",
              "      <td>Asia</td>\n",
              "    </tr>\n",
              "    <tr>\n",
              "      <th>2</th>\n",
              "      <td>26/06/2020</td>\n",
              "      <td>26</td>\n",
              "      <td>6</td>\n",
              "      <td>2020</td>\n",
              "      <td>460</td>\n",
              "      <td>36</td>\n",
              "      <td>Afghanistan</td>\n",
              "      <td>AF</td>\n",
              "      <td>AFG</td>\n",
              "      <td>38041757.0</td>\n",
              "      <td>Asia</td>\n",
              "    </tr>\n",
              "    <tr>\n",
              "      <th>3</th>\n",
              "      <td>25/06/2020</td>\n",
              "      <td>25</td>\n",
              "      <td>6</td>\n",
              "      <td>2020</td>\n",
              "      <td>234</td>\n",
              "      <td>21</td>\n",
              "      <td>Afghanistan</td>\n",
              "      <td>AF</td>\n",
              "      <td>AFG</td>\n",
              "      <td>38041757.0</td>\n",
              "      <td>Asia</td>\n",
              "    </tr>\n",
              "    <tr>\n",
              "      <th>4</th>\n",
              "      <td>24/06/2020</td>\n",
              "      <td>24</td>\n",
              "      <td>6</td>\n",
              "      <td>2020</td>\n",
              "      <td>338</td>\n",
              "      <td>20</td>\n",
              "      <td>Afghanistan</td>\n",
              "      <td>AF</td>\n",
              "      <td>AFG</td>\n",
              "      <td>38041757.0</td>\n",
              "      <td>Asia</td>\n",
              "    </tr>\n",
              "  </tbody>\n",
              "</table>\n",
              "</div>"
            ],
            "text/plain": [
              "      dateRep  day  month  year  ...  geoId  countryCode popData2019 continentExp\n",
              "0  28/06/2020   28      6  2020  ...     AF          AFG  38041757.0         Asia\n",
              "1  27/06/2020   27      6  2020  ...     AF          AFG  38041757.0         Asia\n",
              "2  26/06/2020   26      6  2020  ...     AF          AFG  38041757.0         Asia\n",
              "3  25/06/2020   25      6  2020  ...     AF          AFG  38041757.0         Asia\n",
              "4  24/06/2020   24      6  2020  ...     AF          AFG  38041757.0         Asia\n",
              "\n",
              "[5 rows x 11 columns]"
            ]
          },
          "metadata": {
            "tags": []
          },
          "execution_count": 30
        }
      ]
    },
    {
      "cell_type": "markdown",
      "metadata": {
        "id": "TaFwMJmUIzlQ",
        "colab_type": "text"
      },
      "source": [
        "## **Worldwide**"
      ]
    },
    {
      "cell_type": "markdown",
      "metadata": {
        "id": "uHPheVwx7r0n",
        "colab_type": "text"
      },
      "source": [
        "Daily Cases Worldwide"
      ]
    },
    {
      "cell_type": "code",
      "metadata": {
        "id": "GUA6YHwaz88B",
        "colab_type": "code",
        "colab": {
          "base_uri": "https://localhost:8080/",
          "height": 204
        },
        "outputId": "11cea4ce-2251-4909-e6af-5a2291402eb0"
      },
      "source": [
        "daily = pd.DataFrame()\n",
        "daily = data.groupby(['year','month','day','dateRep']).agg({\"cases\":'sum',\"deaths\":sum})\n",
        "daily = daily.reset_index()\n",
        "daily.head(5)"
      ],
      "execution_count": null,
      "outputs": [
        {
          "output_type": "execute_result",
          "data": {
            "text/html": [
              "<div>\n",
              "<style scoped>\n",
              "    .dataframe tbody tr th:only-of-type {\n",
              "        vertical-align: middle;\n",
              "    }\n",
              "\n",
              "    .dataframe tbody tr th {\n",
              "        vertical-align: top;\n",
              "    }\n",
              "\n",
              "    .dataframe thead th {\n",
              "        text-align: right;\n",
              "    }\n",
              "</style>\n",
              "<table border=\"1\" class=\"dataframe\">\n",
              "  <thead>\n",
              "    <tr style=\"text-align: right;\">\n",
              "      <th></th>\n",
              "      <th>year</th>\n",
              "      <th>month</th>\n",
              "      <th>day</th>\n",
              "      <th>dateRep</th>\n",
              "      <th>cases</th>\n",
              "      <th>deaths</th>\n",
              "    </tr>\n",
              "  </thead>\n",
              "  <tbody>\n",
              "    <tr>\n",
              "      <th>0</th>\n",
              "      <td>2019</td>\n",
              "      <td>12</td>\n",
              "      <td>31</td>\n",
              "      <td>31/12/2019</td>\n",
              "      <td>27</td>\n",
              "      <td>0</td>\n",
              "    </tr>\n",
              "    <tr>\n",
              "      <th>1</th>\n",
              "      <td>2020</td>\n",
              "      <td>1</td>\n",
              "      <td>1</td>\n",
              "      <td>01/01/2020</td>\n",
              "      <td>0</td>\n",
              "      <td>0</td>\n",
              "    </tr>\n",
              "    <tr>\n",
              "      <th>2</th>\n",
              "      <td>2020</td>\n",
              "      <td>1</td>\n",
              "      <td>2</td>\n",
              "      <td>02/01/2020</td>\n",
              "      <td>0</td>\n",
              "      <td>0</td>\n",
              "    </tr>\n",
              "    <tr>\n",
              "      <th>3</th>\n",
              "      <td>2020</td>\n",
              "      <td>1</td>\n",
              "      <td>3</td>\n",
              "      <td>03/01/2020</td>\n",
              "      <td>17</td>\n",
              "      <td>0</td>\n",
              "    </tr>\n",
              "    <tr>\n",
              "      <th>4</th>\n",
              "      <td>2020</td>\n",
              "      <td>1</td>\n",
              "      <td>4</td>\n",
              "      <td>04/01/2020</td>\n",
              "      <td>0</td>\n",
              "      <td>0</td>\n",
              "    </tr>\n",
              "  </tbody>\n",
              "</table>\n",
              "</div>"
            ],
            "text/plain": [
              "   year  month  day     dateRep  cases  deaths\n",
              "0  2019     12   31  31/12/2019     27       0\n",
              "1  2020      1    1  01/01/2020      0       0\n",
              "2  2020      1    2  02/01/2020      0       0\n",
              "3  2020      1    3  03/01/2020     17       0\n",
              "4  2020      1    4  04/01/2020      0       0"
            ]
          },
          "metadata": {
            "tags": []
          },
          "execution_count": 31
        }
      ]
    },
    {
      "cell_type": "code",
      "metadata": {
        "id": "9u4tqvXw1URw",
        "colab_type": "code",
        "colab": {
          "base_uri": "https://localhost:8080/",
          "height": 542
        },
        "outputId": "046fb054-79b1-4e1a-9ff9-46a8466eb4a0"
      },
      "source": [
        "fig = px.bar(x = daily[\"dateRep\"],y = daily[\"cases\"])\n",
        "fig.update_layout(title = \"Distribution of Number of Daily Cases\",\n",
        "                  xaxis_title = \"Date\", yaxis_title = \"Number of Cases\",)\n",
        "fig.show()"
      ],
      "execution_count": null,
      "outputs": [
        {
          "output_type": "display_data",
          "data": {
            "text/html": [
              "<html>\n",
              "<head><meta charset=\"utf-8\" /></head>\n",
              "<body>\n",
              "    <div>\n",
              "            <script src=\"https://cdnjs.cloudflare.com/ajax/libs/mathjax/2.7.5/MathJax.js?config=TeX-AMS-MML_SVG\"></script><script type=\"text/javascript\">if (window.MathJax) {MathJax.Hub.Config({SVG: {font: \"STIX-Web\"}});}</script>\n",
              "                <script type=\"text/javascript\">window.PlotlyConfig = {MathJaxConfig: 'local'};</script>\n",
              "        <script src=\"https://cdn.plot.ly/plotly-latest.min.js\"></script>    \n",
              "            <div id=\"8ee1b0dd-7176-49ba-9848-a1ed1eb97957\" class=\"plotly-graph-div\" style=\"height:525px; width:100%;\"></div>\n",
              "            <script type=\"text/javascript\">\n",
              "                \n",
              "                    window.PLOTLYENV=window.PLOTLYENV || {};\n",
              "                    \n",
              "                if (document.getElementById(\"8ee1b0dd-7176-49ba-9848-a1ed1eb97957\")) {\n",
              "                    Plotly.newPlot(\n",
              "                        '8ee1b0dd-7176-49ba-9848-a1ed1eb97957',\n",
              "                        [{\"alignmentgroup\": \"True\", \"hoverlabel\": {\"namelength\": 0}, \"hovertemplate\": \"x=%{x}<br>y=%{y}\", \"legendgroup\": \"\", \"marker\": {\"color\": \"#636efa\"}, \"name\": \"\", \"offsetgroup\": \"\", \"orientation\": \"v\", \"showlegend\": false, \"textposition\": \"auto\", \"type\": \"bar\", \"x\": [\"31/12/2019\", \"01/01/2020\", \"02/01/2020\", \"03/01/2020\", \"04/01/2020\", \"05/01/2020\", \"06/01/2020\", \"07/01/2020\", \"08/01/2020\", \"09/01/2020\", \"10/01/2020\", \"11/01/2020\", \"12/01/2020\", \"13/01/2020\", \"14/01/2020\", \"15/01/2020\", \"16/01/2020\", \"17/01/2020\", \"18/01/2020\", \"19/01/2020\", \"20/01/2020\", \"21/01/2020\", \"22/01/2020\", \"23/01/2020\", \"24/01/2020\", \"25/01/2020\", \"26/01/2020\", \"27/01/2020\", \"28/01/2020\", \"29/01/2020\", \"30/01/2020\", \"31/01/2020\", \"01/02/2020\", \"02/02/2020\", \"03/02/2020\", \"04/02/2020\", \"05/02/2020\", \"06/02/2020\", \"07/02/2020\", \"08/02/2020\", \"09/02/2020\", \"10/02/2020\", \"11/02/2020\", \"12/02/2020\", \"13/02/2020\", \"14/02/2020\", \"15/02/2020\", \"16/02/2020\", \"17/02/2020\", \"18/02/2020\", \"19/02/2020\", \"20/02/2020\", \"21/02/2020\", \"22/02/2020\", \"23/02/2020\", \"24/02/2020\", \"25/02/2020\", \"26/02/2020\", \"27/02/2020\", \"28/02/2020\", \"29/02/2020\", \"01/03/2020\", \"02/03/2020\", \"03/03/2020\", \"04/03/2020\", \"05/03/2020\", \"06/03/2020\", \"07/03/2020\", \"08/03/2020\", \"09/03/2020\", \"10/03/2020\", \"11/03/2020\", \"12/03/2020\", \"13/03/2020\", \"14/03/2020\", \"15/03/2020\", \"16/03/2020\", \"17/03/2020\", \"18/03/2020\", \"19/03/2020\", \"20/03/2020\", \"21/03/2020\", \"22/03/2020\", \"23/03/2020\", \"24/03/2020\", \"25/03/2020\", \"26/03/2020\", \"27/03/2020\", \"28/03/2020\", \"29/03/2020\", \"30/03/2020\", \"31/03/2020\", \"01/04/2020\", \"02/04/2020\", \"03/04/2020\", \"04/04/2020\", \"05/04/2020\", \"06/04/2020\", \"07/04/2020\", \"08/04/2020\", \"09/04/2020\", \"10/04/2020\", \"11/04/2020\", \"12/04/2020\", \"13/04/2020\", \"14/04/2020\", \"15/04/2020\", \"16/04/2020\", \"17/04/2020\", \"18/04/2020\", \"19/04/2020\", \"20/04/2020\", \"21/04/2020\", \"22/04/2020\", \"23/04/2020\", \"24/04/2020\", \"25/04/2020\", \"26/04/2020\", \"27/04/2020\", \"28/04/2020\", \"29/04/2020\", \"30/04/2020\", \"01/05/2020\", \"02/05/2020\", \"03/05/2020\", \"04/05/2020\", \"05/05/2020\", \"06/05/2020\", \"07/05/2020\", \"08/05/2020\", \"09/05/2020\", \"10/05/2020\", \"11/05/2020\", \"12/05/2020\", \"13/05/2020\", \"14/05/2020\", \"15/05/2020\", \"16/05/2020\", \"17/05/2020\", \"18/05/2020\", \"19/05/2020\", \"20/05/2020\", \"21/05/2020\", \"22/05/2020\", \"23/05/2020\", \"24/05/2020\", \"25/05/2020\", \"26/05/2020\", \"27/05/2020\", \"28/05/2020\", \"29/05/2020\", \"30/05/2020\", \"31/05/2020\", \"01/06/2020\", \"02/06/2020\", \"03/06/2020\", \"04/06/2020\", \"05/06/2020\", \"06/06/2020\", \"07/06/2020\", \"08/06/2020\", \"09/06/2020\", \"10/06/2020\", \"11/06/2020\", \"12/06/2020\", \"13/06/2020\", \"14/06/2020\", \"15/06/2020\", \"16/06/2020\", \"17/06/2020\", \"18/06/2020\", \"19/06/2020\", \"20/06/2020\", \"21/06/2020\", \"22/06/2020\", \"23/06/2020\", \"24/06/2020\", \"25/06/2020\", \"26/06/2020\", \"27/06/2020\", \"28/06/2020\"], \"xaxis\": \"x\", \"y\": [27, 0, 0, 17, 0, 15, 0, 0, 0, 0, 0, 0, 0, 1, 0, 1, 0, 5, 17, 136, 20, 153, 142, 97, 266, 453, 673, 797, 1767, 1480, 1756, 2003, 2120, 2608, 2818, 3243, 3907, 3751, 3218, 3442, 2619, 2988, 2565, 2072, 15151, 4215, 2560, 2162, 2067, 1995, 1864, 532, 996, 1085, 1008, 527, 793, 865, 1109, 1269, 1848, 1819, 2094, 1833, 2281, 2316, 3032, 4134, 3931, 4178, 4753, 4990, 7662, 9186, 10047, 12182, 12374, 13928, 16722, 20100, 30774, 31554, 33959, 33900, 43882, 41555, 52755, 60415, 64805, 62259, 56791, 64236, 73404, 77071, 76818, 81217, 84256, 68340, 73134, 75110, 84857, 86449, 89955, 80442, 70142, 65607, 77634, 78914, 83390, 81947, 79413, 71273, 75745, 86020, 66130, 77494, 73072, 99903, 82452, 65977, 71486, 77795, 84513, 91466, 80968, 78261, 77474, 79478, 90103, 93972, 90030, 89810, 76622, 71124, 85852, 86066, 96652, 98017, 93997, 81007, 87164, 95127, 99552, 107743, 106544, 100929, 94009, 89150, 95955, 102627, 118707, 122965, 127731, 107821, 100403, 112599, 126774, 127748, 133525, 125766, 116217, 105879, 125649, 133446, 137529, 144444, 134025, 122077, 118769, 141347, 176463, 138694, 177240, 161919, 129796, 136912, 165799, 171237, 181511, 189197, 180989], \"yaxis\": \"y\"}],\n",
              "                        {\"barmode\": \"relative\", \"legend\": {\"tracegroupgap\": 0}, \"margin\": {\"t\": 60}, \"template\": {\"data\": {\"bar\": [{\"error_x\": {\"color\": \"#2a3f5f\"}, \"error_y\": {\"color\": \"#2a3f5f\"}, \"marker\": {\"line\": {\"color\": \"#E5ECF6\", \"width\": 0.5}}, \"type\": \"bar\"}], \"barpolar\": [{\"marker\": {\"line\": {\"color\": \"#E5ECF6\", \"width\": 0.5}}, \"type\": \"barpolar\"}], \"carpet\": [{\"aaxis\": {\"endlinecolor\": \"#2a3f5f\", \"gridcolor\": \"white\", \"linecolor\": \"white\", \"minorgridcolor\": \"white\", \"startlinecolor\": \"#2a3f5f\"}, \"baxis\": {\"endlinecolor\": \"#2a3f5f\", \"gridcolor\": \"white\", \"linecolor\": \"white\", \"minorgridcolor\": \"white\", \"startlinecolor\": \"#2a3f5f\"}, \"type\": \"carpet\"}], \"choropleth\": [{\"colorbar\": {\"outlinewidth\": 0, \"ticks\": \"\"}, \"type\": \"choropleth\"}], \"contour\": [{\"colorbar\": {\"outlinewidth\": 0, \"ticks\": \"\"}, \"colorscale\": [[0.0, \"#0d0887\"], [0.1111111111111111, \"#46039f\"], [0.2222222222222222, \"#7201a8\"], [0.3333333333333333, \"#9c179e\"], [0.4444444444444444, \"#bd3786\"], [0.5555555555555556, \"#d8576b\"], [0.6666666666666666, \"#ed7953\"], [0.7777777777777778, \"#fb9f3a\"], [0.8888888888888888, \"#fdca26\"], [1.0, \"#f0f921\"]], \"type\": \"contour\"}], \"contourcarpet\": [{\"colorbar\": {\"outlinewidth\": 0, \"ticks\": \"\"}, \"type\": \"contourcarpet\"}], \"heatmap\": [{\"colorbar\": {\"outlinewidth\": 0, \"ticks\": \"\"}, \"colorscale\": [[0.0, \"#0d0887\"], [0.1111111111111111, \"#46039f\"], [0.2222222222222222, \"#7201a8\"], [0.3333333333333333, \"#9c179e\"], [0.4444444444444444, \"#bd3786\"], [0.5555555555555556, \"#d8576b\"], [0.6666666666666666, \"#ed7953\"], [0.7777777777777778, \"#fb9f3a\"], [0.8888888888888888, \"#fdca26\"], [1.0, \"#f0f921\"]], \"type\": \"heatmap\"}], \"heatmapgl\": [{\"colorbar\": {\"outlinewidth\": 0, \"ticks\": \"\"}, \"colorscale\": [[0.0, \"#0d0887\"], [0.1111111111111111, \"#46039f\"], [0.2222222222222222, \"#7201a8\"], [0.3333333333333333, \"#9c179e\"], [0.4444444444444444, \"#bd3786\"], [0.5555555555555556, \"#d8576b\"], [0.6666666666666666, \"#ed7953\"], [0.7777777777777778, \"#fb9f3a\"], [0.8888888888888888, \"#fdca26\"], [1.0, \"#f0f921\"]], \"type\": \"heatmapgl\"}], \"histogram\": [{\"marker\": {\"colorbar\": {\"outlinewidth\": 0, \"ticks\": \"\"}}, \"type\": \"histogram\"}], \"histogram2d\": [{\"colorbar\": {\"outlinewidth\": 0, \"ticks\": \"\"}, \"colorscale\": [[0.0, \"#0d0887\"], [0.1111111111111111, \"#46039f\"], [0.2222222222222222, \"#7201a8\"], [0.3333333333333333, \"#9c179e\"], [0.4444444444444444, \"#bd3786\"], [0.5555555555555556, \"#d8576b\"], [0.6666666666666666, \"#ed7953\"], [0.7777777777777778, \"#fb9f3a\"], [0.8888888888888888, \"#fdca26\"], [1.0, \"#f0f921\"]], \"type\": \"histogram2d\"}], \"histogram2dcontour\": [{\"colorbar\": {\"outlinewidth\": 0, \"ticks\": \"\"}, \"colorscale\": [[0.0, \"#0d0887\"], [0.1111111111111111, \"#46039f\"], [0.2222222222222222, \"#7201a8\"], [0.3333333333333333, \"#9c179e\"], [0.4444444444444444, \"#bd3786\"], [0.5555555555555556, \"#d8576b\"], [0.6666666666666666, \"#ed7953\"], [0.7777777777777778, \"#fb9f3a\"], [0.8888888888888888, \"#fdca26\"], [1.0, \"#f0f921\"]], \"type\": \"histogram2dcontour\"}], \"mesh3d\": [{\"colorbar\": {\"outlinewidth\": 0, \"ticks\": \"\"}, \"type\": \"mesh3d\"}], \"parcoords\": [{\"line\": {\"colorbar\": {\"outlinewidth\": 0, \"ticks\": \"\"}}, \"type\": \"parcoords\"}], \"pie\": [{\"automargin\": true, \"type\": \"pie\"}], \"scatter\": [{\"marker\": {\"colorbar\": {\"outlinewidth\": 0, \"ticks\": \"\"}}, \"type\": \"scatter\"}], \"scatter3d\": [{\"line\": {\"colorbar\": {\"outlinewidth\": 0, \"ticks\": \"\"}}, \"marker\": {\"colorbar\": {\"outlinewidth\": 0, \"ticks\": \"\"}}, \"type\": \"scatter3d\"}], \"scattercarpet\": [{\"marker\": {\"colorbar\": {\"outlinewidth\": 0, \"ticks\": \"\"}}, \"type\": \"scattercarpet\"}], \"scattergeo\": [{\"marker\": {\"colorbar\": {\"outlinewidth\": 0, \"ticks\": \"\"}}, \"type\": \"scattergeo\"}], \"scattergl\": [{\"marker\": {\"colorbar\": {\"outlinewidth\": 0, \"ticks\": \"\"}}, \"type\": \"scattergl\"}], \"scattermapbox\": [{\"marker\": {\"colorbar\": {\"outlinewidth\": 0, \"ticks\": \"\"}}, \"type\": \"scattermapbox\"}], \"scatterpolar\": [{\"marker\": {\"colorbar\": {\"outlinewidth\": 0, \"ticks\": \"\"}}, \"type\": \"scatterpolar\"}], \"scatterpolargl\": [{\"marker\": {\"colorbar\": {\"outlinewidth\": 0, \"ticks\": \"\"}}, \"type\": \"scatterpolargl\"}], \"scatterternary\": [{\"marker\": {\"colorbar\": {\"outlinewidth\": 0, \"ticks\": \"\"}}, \"type\": \"scatterternary\"}], \"surface\": [{\"colorbar\": {\"outlinewidth\": 0, \"ticks\": \"\"}, \"colorscale\": [[0.0, \"#0d0887\"], [0.1111111111111111, \"#46039f\"], [0.2222222222222222, \"#7201a8\"], [0.3333333333333333, \"#9c179e\"], [0.4444444444444444, \"#bd3786\"], [0.5555555555555556, \"#d8576b\"], [0.6666666666666666, \"#ed7953\"], [0.7777777777777778, \"#fb9f3a\"], [0.8888888888888888, \"#fdca26\"], [1.0, \"#f0f921\"]], \"type\": \"surface\"}], \"table\": [{\"cells\": {\"fill\": {\"color\": \"#EBF0F8\"}, \"line\": {\"color\": \"white\"}}, \"header\": {\"fill\": {\"color\": \"#C8D4E3\"}, \"line\": {\"color\": \"white\"}}, \"type\": \"table\"}]}, \"layout\": {\"annotationdefaults\": {\"arrowcolor\": \"#2a3f5f\", \"arrowhead\": 0, \"arrowwidth\": 1}, \"coloraxis\": {\"colorbar\": {\"outlinewidth\": 0, \"ticks\": \"\"}}, \"colorscale\": {\"diverging\": [[0, \"#8e0152\"], [0.1, \"#c51b7d\"], [0.2, \"#de77ae\"], [0.3, \"#f1b6da\"], [0.4, \"#fde0ef\"], [0.5, \"#f7f7f7\"], [0.6, \"#e6f5d0\"], [0.7, \"#b8e186\"], [0.8, \"#7fbc41\"], [0.9, \"#4d9221\"], [1, \"#276419\"]], \"sequential\": [[0.0, \"#0d0887\"], [0.1111111111111111, \"#46039f\"], [0.2222222222222222, \"#7201a8\"], [0.3333333333333333, \"#9c179e\"], [0.4444444444444444, \"#bd3786\"], [0.5555555555555556, \"#d8576b\"], [0.6666666666666666, \"#ed7953\"], [0.7777777777777778, \"#fb9f3a\"], [0.8888888888888888, \"#fdca26\"], [1.0, \"#f0f921\"]], \"sequentialminus\": [[0.0, \"#0d0887\"], [0.1111111111111111, \"#46039f\"], [0.2222222222222222, \"#7201a8\"], [0.3333333333333333, \"#9c179e\"], [0.4444444444444444, \"#bd3786\"], [0.5555555555555556, \"#d8576b\"], [0.6666666666666666, \"#ed7953\"], [0.7777777777777778, \"#fb9f3a\"], [0.8888888888888888, \"#fdca26\"], [1.0, \"#f0f921\"]]}, \"colorway\": [\"#636efa\", \"#EF553B\", \"#00cc96\", \"#ab63fa\", \"#FFA15A\", \"#19d3f3\", \"#FF6692\", \"#B6E880\", \"#FF97FF\", \"#FECB52\"], \"font\": {\"color\": \"#2a3f5f\"}, \"geo\": {\"bgcolor\": \"white\", \"lakecolor\": \"white\", \"landcolor\": \"#E5ECF6\", \"showlakes\": true, \"showland\": true, \"subunitcolor\": \"white\"}, \"hoverlabel\": {\"align\": \"left\"}, \"hovermode\": \"closest\", \"mapbox\": {\"style\": \"light\"}, \"paper_bgcolor\": \"white\", \"plot_bgcolor\": \"#E5ECF6\", \"polar\": {\"angularaxis\": {\"gridcolor\": \"white\", \"linecolor\": \"white\", \"ticks\": \"\"}, \"bgcolor\": \"#E5ECF6\", \"radialaxis\": {\"gridcolor\": \"white\", \"linecolor\": \"white\", \"ticks\": \"\"}}, \"scene\": {\"xaxis\": {\"backgroundcolor\": \"#E5ECF6\", \"gridcolor\": \"white\", \"gridwidth\": 2, \"linecolor\": \"white\", \"showbackground\": true, \"ticks\": \"\", \"zerolinecolor\": \"white\"}, \"yaxis\": {\"backgroundcolor\": \"#E5ECF6\", \"gridcolor\": \"white\", \"gridwidth\": 2, \"linecolor\": \"white\", \"showbackground\": true, \"ticks\": \"\", \"zerolinecolor\": \"white\"}, \"zaxis\": {\"backgroundcolor\": \"#E5ECF6\", \"gridcolor\": \"white\", \"gridwidth\": 2, \"linecolor\": \"white\", \"showbackground\": true, \"ticks\": \"\", \"zerolinecolor\": \"white\"}}, \"shapedefaults\": {\"line\": {\"color\": \"#2a3f5f\"}}, \"ternary\": {\"aaxis\": {\"gridcolor\": \"white\", \"linecolor\": \"white\", \"ticks\": \"\"}, \"baxis\": {\"gridcolor\": \"white\", \"linecolor\": \"white\", \"ticks\": \"\"}, \"bgcolor\": \"#E5ECF6\", \"caxis\": {\"gridcolor\": \"white\", \"linecolor\": \"white\", \"ticks\": \"\"}}, \"title\": {\"x\": 0.05}, \"xaxis\": {\"automargin\": true, \"gridcolor\": \"white\", \"linecolor\": \"white\", \"ticks\": \"\", \"title\": {\"standoff\": 15}, \"zerolinecolor\": \"white\", \"zerolinewidth\": 2}, \"yaxis\": {\"automargin\": true, \"gridcolor\": \"white\", \"linecolor\": \"white\", \"ticks\": \"\", \"title\": {\"standoff\": 15}, \"zerolinecolor\": \"white\", \"zerolinewidth\": 2}}}, \"title\": {\"text\": \"Distribution of Number of Daily Cases\"}, \"xaxis\": {\"anchor\": \"y\", \"domain\": [0.0, 1.0], \"title\": {\"text\": \"Date\"}}, \"yaxis\": {\"anchor\": \"x\", \"domain\": [0.0, 1.0], \"title\": {\"text\": \"Number of Cases\"}}},\n",
              "                        {\"responsive\": true}\n",
              "                    ).then(function(){\n",
              "                            \n",
              "var gd = document.getElementById('8ee1b0dd-7176-49ba-9848-a1ed1eb97957');\n",
              "var x = new MutationObserver(function (mutations, observer) {{\n",
              "        var display = window.getComputedStyle(gd).display;\n",
              "        if (!display || display === 'none') {{\n",
              "            console.log([gd, 'removed!']);\n",
              "            Plotly.purge(gd);\n",
              "            observer.disconnect();\n",
              "        }}\n",
              "}});\n",
              "\n",
              "// Listen for the removal of the full notebook cells\n",
              "var notebookContainer = gd.closest('#notebook-container');\n",
              "if (notebookContainer) {{\n",
              "    x.observe(notebookContainer, {childList: true});\n",
              "}}\n",
              "\n",
              "// Listen for the clearing of the current output cell\n",
              "var outputEl = gd.closest('.output');\n",
              "if (outputEl) {{\n",
              "    x.observe(outputEl, {childList: true});\n",
              "}}\n",
              "\n",
              "                        })\n",
              "                };\n",
              "                \n",
              "            </script>\n",
              "        </div>\n",
              "</body>\n",
              "</html>"
            ]
          },
          "metadata": {
            "tags": []
          }
        }
      ]
    },
    {
      "cell_type": "markdown",
      "metadata": {
        "id": "xKmHRkpbnWT5",
        "colab_type": "text"
      },
      "source": [
        "Total number of Daily Deaths worldwide"
      ]
    },
    {
      "cell_type": "code",
      "metadata": {
        "id": "wevJOfO22442",
        "colab_type": "code",
        "colab": {
          "base_uri": "https://localhost:8080/",
          "height": 542
        },
        "outputId": "03aa62b0-324c-4f56-cc14-afc60e086b1c"
      },
      "source": [
        "fig=px.bar(x=daily['dateRep'],y=daily[\"deaths\"])\n",
        "fig.update_layout(title=\"Distribution of Number of Daily Deaths\",\n",
        "                  xaxis_title=\"Date\",yaxis_title=\"Number of Deaths\")\n",
        "fig.show()"
      ],
      "execution_count": null,
      "outputs": [
        {
          "output_type": "display_data",
          "data": {
            "text/html": [
              "<html>\n",
              "<head><meta charset=\"utf-8\" /></head>\n",
              "<body>\n",
              "    <div>\n",
              "            <script src=\"https://cdnjs.cloudflare.com/ajax/libs/mathjax/2.7.5/MathJax.js?config=TeX-AMS-MML_SVG\"></script><script type=\"text/javascript\">if (window.MathJax) {MathJax.Hub.Config({SVG: {font: \"STIX-Web\"}});}</script>\n",
              "                <script type=\"text/javascript\">window.PlotlyConfig = {MathJaxConfig: 'local'};</script>\n",
              "        <script src=\"https://cdn.plot.ly/plotly-latest.min.js\"></script>    \n",
              "            <div id=\"1b7026dd-1385-43b8-800c-192ec5f95da9\" class=\"plotly-graph-div\" style=\"height:525px; width:100%;\"></div>\n",
              "            <script type=\"text/javascript\">\n",
              "                \n",
              "                    window.PLOTLYENV=window.PLOTLYENV || {};\n",
              "                    \n",
              "                if (document.getElementById(\"1b7026dd-1385-43b8-800c-192ec5f95da9\")) {\n",
              "                    Plotly.newPlot(\n",
              "                        '1b7026dd-1385-43b8-800c-192ec5f95da9',\n",
              "                        [{\"alignmentgroup\": \"True\", \"hoverlabel\": {\"namelength\": 0}, \"hovertemplate\": \"x=%{x}<br>y=%{y}\", \"legendgroup\": \"\", \"marker\": {\"color\": \"#636efa\"}, \"name\": \"\", \"offsetgroup\": \"\", \"orientation\": \"v\", \"showlegend\": false, \"textposition\": \"auto\", \"type\": \"bar\", \"x\": [\"31/12/2019\", \"01/01/2020\", \"02/01/2020\", \"03/01/2020\", \"04/01/2020\", \"05/01/2020\", \"06/01/2020\", \"07/01/2020\", \"08/01/2020\", \"09/01/2020\", \"10/01/2020\", \"11/01/2020\", \"12/01/2020\", \"13/01/2020\", \"14/01/2020\", \"15/01/2020\", \"16/01/2020\", \"17/01/2020\", \"18/01/2020\", \"19/01/2020\", \"20/01/2020\", \"21/01/2020\", \"22/01/2020\", \"23/01/2020\", \"24/01/2020\", \"25/01/2020\", \"26/01/2020\", \"27/01/2020\", \"28/01/2020\", \"29/01/2020\", \"30/01/2020\", \"31/01/2020\", \"01/02/2020\", \"02/02/2020\", \"03/02/2020\", \"04/02/2020\", \"05/02/2020\", \"06/02/2020\", \"07/02/2020\", \"08/02/2020\", \"09/02/2020\", \"10/02/2020\", \"11/02/2020\", \"12/02/2020\", \"13/02/2020\", \"14/02/2020\", \"15/02/2020\", \"16/02/2020\", \"17/02/2020\", \"18/02/2020\", \"19/02/2020\", \"20/02/2020\", \"21/02/2020\", \"22/02/2020\", \"23/02/2020\", \"24/02/2020\", \"25/02/2020\", \"26/02/2020\", \"27/02/2020\", \"28/02/2020\", \"29/02/2020\", \"01/03/2020\", \"02/03/2020\", \"03/03/2020\", \"04/03/2020\", \"05/03/2020\", \"06/03/2020\", \"07/03/2020\", \"08/03/2020\", \"09/03/2020\", \"10/03/2020\", \"11/03/2020\", \"12/03/2020\", \"13/03/2020\", \"14/03/2020\", \"15/03/2020\", \"16/03/2020\", \"17/03/2020\", \"18/03/2020\", \"19/03/2020\", \"20/03/2020\", \"21/03/2020\", \"22/03/2020\", \"23/03/2020\", \"24/03/2020\", \"25/03/2020\", \"26/03/2020\", \"27/03/2020\", \"28/03/2020\", \"29/03/2020\", \"30/03/2020\", \"31/03/2020\", \"01/04/2020\", \"02/04/2020\", \"03/04/2020\", \"04/04/2020\", \"05/04/2020\", \"06/04/2020\", \"07/04/2020\", \"08/04/2020\", \"09/04/2020\", \"10/04/2020\", \"11/04/2020\", \"12/04/2020\", \"13/04/2020\", \"14/04/2020\", \"15/04/2020\", \"16/04/2020\", \"17/04/2020\", \"18/04/2020\", \"19/04/2020\", \"20/04/2020\", \"21/04/2020\", \"22/04/2020\", \"23/04/2020\", \"24/04/2020\", \"25/04/2020\", \"26/04/2020\", \"27/04/2020\", \"28/04/2020\", \"29/04/2020\", \"30/04/2020\", \"01/05/2020\", \"02/05/2020\", \"03/05/2020\", \"04/05/2020\", \"05/05/2020\", \"06/05/2020\", \"07/05/2020\", \"08/05/2020\", \"09/05/2020\", \"10/05/2020\", \"11/05/2020\", \"12/05/2020\", \"13/05/2020\", \"14/05/2020\", \"15/05/2020\", \"16/05/2020\", \"17/05/2020\", \"18/05/2020\", \"19/05/2020\", \"20/05/2020\", \"21/05/2020\", \"22/05/2020\", \"23/05/2020\", \"24/05/2020\", \"25/05/2020\", \"26/05/2020\", \"27/05/2020\", \"28/05/2020\", \"29/05/2020\", \"30/05/2020\", \"31/05/2020\", \"01/06/2020\", \"02/06/2020\", \"03/06/2020\", \"04/06/2020\", \"05/06/2020\", \"06/06/2020\", \"07/06/2020\", \"08/06/2020\", \"09/06/2020\", \"10/06/2020\", \"11/06/2020\", \"12/06/2020\", \"13/06/2020\", \"14/06/2020\", \"15/06/2020\", \"16/06/2020\", \"17/06/2020\", \"18/06/2020\", \"19/06/2020\", \"20/06/2020\", \"21/06/2020\", \"22/06/2020\", \"23/06/2020\", \"24/06/2020\", \"25/06/2020\", \"26/06/2020\", \"27/06/2020\", \"28/06/2020\"], \"xaxis\": \"x\", \"y\": [0, 0, 0, 0, 0, 0, 0, 0, 0, 0, 0, 1, 0, 0, 0, 1, 0, 0, 0, 1, 0, 3, 11, 0, 9, 15, 15, 25, 25, 26, 38, 43, 46, 46, 57, 65, 66, 72, 73, 86, 89, 97, 108, 97, 255, 13, 144, 142, 106, 98, 139, 116, 119, 112, 104, 156, 79, 64, 38, 57, 64, 58, 67, 72, 84, 80, 102, 104, 97, 228, 208, 273, 326, 350, 442, 364, 752, 608, 812, 955, 1064, 1384, 1709, 1675, 1844, 2304, 2614, 2808, 3477, 3562, 3190, 3981, 4622, 5032, 4982, 6730, 6278, 4744, 5354, 7563, 6548, 7433, 7043, 5989, 5355, 5350, 7625, 10512, 8546, 8466, 6413, 5019, 5390, 7316, 6031, 7391, 5390, 6163, 3927, 4904, 6509, 6599, 5525, 5829, 4776, 3703, 4017, 5939, 6138, 5748, 5230, 4448, 3408, 3581, 5770, 5159, 5356, 5152, 4250, 2961, 3269, 5230, 4791, 5435, 4701, 3988, 807, 3375, 3954, 5170, 4699, 4762, 4064, 2915, 3580, 4655, 5655, 5177, 4778, 3819, 3500, 3225, 4930, 5241, 4762, 4734, 4201, 3127, 3376, 6856, 5245, 6323, 5015, 4211, 3974, 3435, 5577, 5194, 6716, 4701, 4623], \"yaxis\": \"y\"}],\n",
              "                        {\"barmode\": \"relative\", \"legend\": {\"tracegroupgap\": 0}, \"margin\": {\"t\": 60}, \"template\": {\"data\": {\"bar\": [{\"error_x\": {\"color\": \"#2a3f5f\"}, \"error_y\": {\"color\": \"#2a3f5f\"}, \"marker\": {\"line\": {\"color\": \"#E5ECF6\", \"width\": 0.5}}, \"type\": \"bar\"}], \"barpolar\": [{\"marker\": {\"line\": {\"color\": \"#E5ECF6\", \"width\": 0.5}}, \"type\": \"barpolar\"}], \"carpet\": [{\"aaxis\": {\"endlinecolor\": \"#2a3f5f\", \"gridcolor\": \"white\", \"linecolor\": \"white\", \"minorgridcolor\": \"white\", \"startlinecolor\": \"#2a3f5f\"}, \"baxis\": {\"endlinecolor\": \"#2a3f5f\", \"gridcolor\": \"white\", \"linecolor\": \"white\", \"minorgridcolor\": \"white\", \"startlinecolor\": \"#2a3f5f\"}, \"type\": \"carpet\"}], \"choropleth\": [{\"colorbar\": {\"outlinewidth\": 0, \"ticks\": \"\"}, \"type\": \"choropleth\"}], \"contour\": [{\"colorbar\": {\"outlinewidth\": 0, \"ticks\": \"\"}, \"colorscale\": [[0.0, \"#0d0887\"], [0.1111111111111111, \"#46039f\"], [0.2222222222222222, \"#7201a8\"], [0.3333333333333333, \"#9c179e\"], [0.4444444444444444, \"#bd3786\"], [0.5555555555555556, \"#d8576b\"], [0.6666666666666666, \"#ed7953\"], [0.7777777777777778, \"#fb9f3a\"], [0.8888888888888888, \"#fdca26\"], [1.0, \"#f0f921\"]], \"type\": \"contour\"}], \"contourcarpet\": [{\"colorbar\": {\"outlinewidth\": 0, \"ticks\": \"\"}, \"type\": \"contourcarpet\"}], \"heatmap\": [{\"colorbar\": {\"outlinewidth\": 0, \"ticks\": \"\"}, \"colorscale\": [[0.0, \"#0d0887\"], [0.1111111111111111, \"#46039f\"], [0.2222222222222222, \"#7201a8\"], [0.3333333333333333, \"#9c179e\"], [0.4444444444444444, \"#bd3786\"], [0.5555555555555556, \"#d8576b\"], [0.6666666666666666, \"#ed7953\"], [0.7777777777777778, \"#fb9f3a\"], [0.8888888888888888, \"#fdca26\"], [1.0, \"#f0f921\"]], \"type\": \"heatmap\"}], \"heatmapgl\": [{\"colorbar\": {\"outlinewidth\": 0, \"ticks\": \"\"}, \"colorscale\": [[0.0, \"#0d0887\"], [0.1111111111111111, \"#46039f\"], [0.2222222222222222, \"#7201a8\"], [0.3333333333333333, \"#9c179e\"], [0.4444444444444444, \"#bd3786\"], [0.5555555555555556, \"#d8576b\"], [0.6666666666666666, \"#ed7953\"], [0.7777777777777778, \"#fb9f3a\"], [0.8888888888888888, \"#fdca26\"], [1.0, \"#f0f921\"]], \"type\": \"heatmapgl\"}], \"histogram\": [{\"marker\": {\"colorbar\": {\"outlinewidth\": 0, \"ticks\": \"\"}}, \"type\": \"histogram\"}], \"histogram2d\": [{\"colorbar\": {\"outlinewidth\": 0, \"ticks\": \"\"}, \"colorscale\": [[0.0, \"#0d0887\"], [0.1111111111111111, \"#46039f\"], [0.2222222222222222, \"#7201a8\"], [0.3333333333333333, \"#9c179e\"], [0.4444444444444444, \"#bd3786\"], [0.5555555555555556, \"#d8576b\"], [0.6666666666666666, \"#ed7953\"], [0.7777777777777778, \"#fb9f3a\"], [0.8888888888888888, \"#fdca26\"], [1.0, \"#f0f921\"]], \"type\": \"histogram2d\"}], \"histogram2dcontour\": [{\"colorbar\": {\"outlinewidth\": 0, \"ticks\": \"\"}, \"colorscale\": [[0.0, \"#0d0887\"], [0.1111111111111111, \"#46039f\"], [0.2222222222222222, \"#7201a8\"], [0.3333333333333333, \"#9c179e\"], [0.4444444444444444, \"#bd3786\"], [0.5555555555555556, \"#d8576b\"], [0.6666666666666666, \"#ed7953\"], [0.7777777777777778, \"#fb9f3a\"], [0.8888888888888888, \"#fdca26\"], [1.0, \"#f0f921\"]], \"type\": \"histogram2dcontour\"}], \"mesh3d\": [{\"colorbar\": {\"outlinewidth\": 0, \"ticks\": \"\"}, \"type\": \"mesh3d\"}], \"parcoords\": [{\"line\": {\"colorbar\": {\"outlinewidth\": 0, \"ticks\": \"\"}}, \"type\": \"parcoords\"}], \"pie\": [{\"automargin\": true, \"type\": \"pie\"}], \"scatter\": [{\"marker\": {\"colorbar\": {\"outlinewidth\": 0, \"ticks\": \"\"}}, \"type\": \"scatter\"}], \"scatter3d\": [{\"line\": {\"colorbar\": {\"outlinewidth\": 0, \"ticks\": \"\"}}, \"marker\": {\"colorbar\": {\"outlinewidth\": 0, \"ticks\": \"\"}}, \"type\": \"scatter3d\"}], \"scattercarpet\": [{\"marker\": {\"colorbar\": {\"outlinewidth\": 0, \"ticks\": \"\"}}, \"type\": \"scattercarpet\"}], \"scattergeo\": [{\"marker\": {\"colorbar\": {\"outlinewidth\": 0, \"ticks\": \"\"}}, \"type\": \"scattergeo\"}], \"scattergl\": [{\"marker\": {\"colorbar\": {\"outlinewidth\": 0, \"ticks\": \"\"}}, \"type\": \"scattergl\"}], \"scattermapbox\": [{\"marker\": {\"colorbar\": {\"outlinewidth\": 0, \"ticks\": \"\"}}, \"type\": \"scattermapbox\"}], \"scatterpolar\": [{\"marker\": {\"colorbar\": {\"outlinewidth\": 0, \"ticks\": \"\"}}, \"type\": \"scatterpolar\"}], \"scatterpolargl\": [{\"marker\": {\"colorbar\": {\"outlinewidth\": 0, \"ticks\": \"\"}}, \"type\": \"scatterpolargl\"}], \"scatterternary\": [{\"marker\": {\"colorbar\": {\"outlinewidth\": 0, \"ticks\": \"\"}}, \"type\": \"scatterternary\"}], \"surface\": [{\"colorbar\": {\"outlinewidth\": 0, \"ticks\": \"\"}, \"colorscale\": [[0.0, \"#0d0887\"], [0.1111111111111111, \"#46039f\"], [0.2222222222222222, \"#7201a8\"], [0.3333333333333333, \"#9c179e\"], [0.4444444444444444, \"#bd3786\"], [0.5555555555555556, \"#d8576b\"], [0.6666666666666666, \"#ed7953\"], [0.7777777777777778, \"#fb9f3a\"], [0.8888888888888888, \"#fdca26\"], [1.0, \"#f0f921\"]], \"type\": \"surface\"}], \"table\": [{\"cells\": {\"fill\": {\"color\": \"#EBF0F8\"}, \"line\": {\"color\": \"white\"}}, \"header\": {\"fill\": {\"color\": \"#C8D4E3\"}, \"line\": {\"color\": \"white\"}}, \"type\": \"table\"}]}, \"layout\": {\"annotationdefaults\": {\"arrowcolor\": \"#2a3f5f\", \"arrowhead\": 0, \"arrowwidth\": 1}, \"coloraxis\": {\"colorbar\": {\"outlinewidth\": 0, \"ticks\": \"\"}}, \"colorscale\": {\"diverging\": [[0, \"#8e0152\"], [0.1, \"#c51b7d\"], [0.2, \"#de77ae\"], [0.3, \"#f1b6da\"], [0.4, \"#fde0ef\"], [0.5, \"#f7f7f7\"], [0.6, \"#e6f5d0\"], [0.7, \"#b8e186\"], [0.8, \"#7fbc41\"], [0.9, \"#4d9221\"], [1, \"#276419\"]], \"sequential\": [[0.0, \"#0d0887\"], [0.1111111111111111, \"#46039f\"], [0.2222222222222222, \"#7201a8\"], [0.3333333333333333, \"#9c179e\"], [0.4444444444444444, \"#bd3786\"], [0.5555555555555556, \"#d8576b\"], [0.6666666666666666, \"#ed7953\"], [0.7777777777777778, \"#fb9f3a\"], [0.8888888888888888, \"#fdca26\"], [1.0, \"#f0f921\"]], \"sequentialminus\": [[0.0, \"#0d0887\"], [0.1111111111111111, \"#46039f\"], [0.2222222222222222, \"#7201a8\"], [0.3333333333333333, \"#9c179e\"], [0.4444444444444444, \"#bd3786\"], [0.5555555555555556, \"#d8576b\"], [0.6666666666666666, \"#ed7953\"], [0.7777777777777778, \"#fb9f3a\"], [0.8888888888888888, \"#fdca26\"], [1.0, \"#f0f921\"]]}, \"colorway\": [\"#636efa\", \"#EF553B\", \"#00cc96\", \"#ab63fa\", \"#FFA15A\", \"#19d3f3\", \"#FF6692\", \"#B6E880\", \"#FF97FF\", \"#FECB52\"], \"font\": {\"color\": \"#2a3f5f\"}, \"geo\": {\"bgcolor\": \"white\", \"lakecolor\": \"white\", \"landcolor\": \"#E5ECF6\", \"showlakes\": true, \"showland\": true, \"subunitcolor\": \"white\"}, \"hoverlabel\": {\"align\": \"left\"}, \"hovermode\": \"closest\", \"mapbox\": {\"style\": \"light\"}, \"paper_bgcolor\": \"white\", \"plot_bgcolor\": \"#E5ECF6\", \"polar\": {\"angularaxis\": {\"gridcolor\": \"white\", \"linecolor\": \"white\", \"ticks\": \"\"}, \"bgcolor\": \"#E5ECF6\", \"radialaxis\": {\"gridcolor\": \"white\", \"linecolor\": \"white\", \"ticks\": \"\"}}, \"scene\": {\"xaxis\": {\"backgroundcolor\": \"#E5ECF6\", \"gridcolor\": \"white\", \"gridwidth\": 2, \"linecolor\": \"white\", \"showbackground\": true, \"ticks\": \"\", \"zerolinecolor\": \"white\"}, \"yaxis\": {\"backgroundcolor\": \"#E5ECF6\", \"gridcolor\": \"white\", \"gridwidth\": 2, \"linecolor\": \"white\", \"showbackground\": true, \"ticks\": \"\", \"zerolinecolor\": \"white\"}, \"zaxis\": {\"backgroundcolor\": \"#E5ECF6\", \"gridcolor\": \"white\", \"gridwidth\": 2, \"linecolor\": \"white\", \"showbackground\": true, \"ticks\": \"\", \"zerolinecolor\": \"white\"}}, \"shapedefaults\": {\"line\": {\"color\": \"#2a3f5f\"}}, \"ternary\": {\"aaxis\": {\"gridcolor\": \"white\", \"linecolor\": \"white\", \"ticks\": \"\"}, \"baxis\": {\"gridcolor\": \"white\", \"linecolor\": \"white\", \"ticks\": \"\"}, \"bgcolor\": \"#E5ECF6\", \"caxis\": {\"gridcolor\": \"white\", \"linecolor\": \"white\", \"ticks\": \"\"}}, \"title\": {\"x\": 0.05}, \"xaxis\": {\"automargin\": true, \"gridcolor\": \"white\", \"linecolor\": \"white\", \"ticks\": \"\", \"title\": {\"standoff\": 15}, \"zerolinecolor\": \"white\", \"zerolinewidth\": 2}, \"yaxis\": {\"automargin\": true, \"gridcolor\": \"white\", \"linecolor\": \"white\", \"ticks\": \"\", \"title\": {\"standoff\": 15}, \"zerolinecolor\": \"white\", \"zerolinewidth\": 2}}}, \"title\": {\"text\": \"Distribution of Number of Daily Deaths\"}, \"xaxis\": {\"anchor\": \"y\", \"domain\": [0.0, 1.0], \"title\": {\"text\": \"Date\"}}, \"yaxis\": {\"anchor\": \"x\", \"domain\": [0.0, 1.0], \"title\": {\"text\": \"Number of Deaths\"}}},\n",
              "                        {\"responsive\": true}\n",
              "                    ).then(function(){\n",
              "                            \n",
              "var gd = document.getElementById('1b7026dd-1385-43b8-800c-192ec5f95da9');\n",
              "var x = new MutationObserver(function (mutations, observer) {{\n",
              "        var display = window.getComputedStyle(gd).display;\n",
              "        if (!display || display === 'none') {{\n",
              "            console.log([gd, 'removed!']);\n",
              "            Plotly.purge(gd);\n",
              "            observer.disconnect();\n",
              "        }}\n",
              "}});\n",
              "\n",
              "// Listen for the removal of the full notebook cells\n",
              "var notebookContainer = gd.closest('#notebook-container');\n",
              "if (notebookContainer) {{\n",
              "    x.observe(notebookContainer, {childList: true});\n",
              "}}\n",
              "\n",
              "// Listen for the clearing of the current output cell\n",
              "var outputEl = gd.closest('.output');\n",
              "if (outputEl) {{\n",
              "    x.observe(outputEl, {childList: true});\n",
              "}}\n",
              "\n",
              "                        })\n",
              "                };\n",
              "                \n",
              "            </script>\n",
              "        </div>\n",
              "</body>\n",
              "</html>"
            ]
          },
          "metadata": {
            "tags": []
          }
        }
      ]
    },
    {
      "cell_type": "markdown",
      "metadata": {
        "id": "KDDSJkIoF3NW",
        "colab_type": "text"
      },
      "source": [
        "All Affected Country List"
      ]
    },
    {
      "cell_type": "code",
      "metadata": {
        "id": "w0hDiivy2v99",
        "colab_type": "code",
        "colab": {
          "base_uri": "https://localhost:8080/",
          "height": 51
        },
        "outputId": "0b5c44c8-a33f-4e7f-a75c-482ecee34d91"
      },
      "source": [
        "c = pd.DataFrame(data['country'].unique())\n",
        "c.count()"
      ],
      "execution_count": null,
      "outputs": [
        {
          "output_type": "execute_result",
          "data": {
            "text/plain": [
              "0    210\n",
              "dtype: int64"
            ]
          },
          "metadata": {
            "tags": []
          },
          "execution_count": 34
        }
      ]
    },
    {
      "cell_type": "code",
      "metadata": {
        "id": "gVamVxZsF7za",
        "colab_type": "code",
        "colab": {
          "base_uri": "https://localhost:8080/",
          "height": 833
        },
        "outputId": "15a2ed94-420c-4a0f-cce3-ddd676cebd79"
      },
      "source": [
        "data['country'].unique()"
      ],
      "execution_count": null,
      "outputs": [
        {
          "output_type": "execute_result",
          "data": {
            "text/plain": [
              "array(['Afghanistan', 'Albania', 'Algeria', 'Andorra', 'Angola',\n",
              "       'Anguilla', 'Antigua_and_Barbuda', 'Argentina', 'Armenia', 'Aruba',\n",
              "       'Australia', 'Austria', 'Azerbaijan', 'Bahamas', 'Bahrain',\n",
              "       'Bangladesh', 'Barbados', 'Belarus', 'Belgium', 'Belize', 'Benin',\n",
              "       'Bermuda', 'Bhutan', 'Bolivia',\n",
              "       'Bonaire, Saint Eustatius and Saba', 'Bosnia_and_Herzegovina',\n",
              "       'Botswana', 'Brazil', 'British_Virgin_Islands',\n",
              "       'Brunei_Darussalam', 'Bulgaria', 'Burkina_Faso', 'Burundi',\n",
              "       'Cambodia', 'Cameroon', 'Canada', 'Cape_Verde',\n",
              "       'Cases_on_an_international_conveyance_Japan', 'Cayman_Islands',\n",
              "       'Central_African_Republic', 'Chad', 'Chile', 'China', 'Colombia',\n",
              "       'Comoros', 'Congo', 'Costa_Rica', 'Cote_dIvoire', 'Croatia',\n",
              "       'Cuba', 'Curaçao', 'Cyprus', 'Czechia',\n",
              "       'Democratic_Republic_of_the_Congo', 'Denmark', 'Djibouti',\n",
              "       'Dominica', 'Dominican_Republic', 'Ecuador', 'Egypt',\n",
              "       'El_Salvador', 'Equatorial_Guinea', 'Eritrea', 'Estonia',\n",
              "       'Eswatini', 'Ethiopia', 'Falkland_Islands_(Malvinas)',\n",
              "       'Faroe_Islands', 'Fiji', 'Finland', 'France', 'French_Polynesia',\n",
              "       'Gabon', 'Gambia', 'Georgia', 'Germany', 'Ghana', 'Gibraltar',\n",
              "       'Greece', 'Greenland', 'Grenada', 'Guam', 'Guatemala', 'Guernsey',\n",
              "       'Guinea', 'Guinea_Bissau', 'Guyana', 'Haiti', 'Holy_See',\n",
              "       'Honduras', 'Hungary', 'Iceland', 'India', 'Indonesia', 'Iran',\n",
              "       'Iraq', 'Ireland', 'Isle_of_Man', 'Israel', 'Italy', 'Jamaica',\n",
              "       'Japan', 'Jersey', 'Jordan', 'Kazakhstan', 'Kenya', 'Kosovo',\n",
              "       'Kuwait', 'Kyrgyzstan', 'Laos', 'Latvia', 'Lebanon', 'Lesotho',\n",
              "       'Liberia', 'Libya', 'Liechtenstein', 'Lithuania', 'Luxembourg',\n",
              "       'Madagascar', 'Malawi', 'Malaysia', 'Maldives', 'Mali', 'Malta',\n",
              "       'Mauritania', 'Mauritius', 'Mexico', 'Moldova', 'Monaco',\n",
              "       'Mongolia', 'Montenegro', 'Montserrat', 'Morocco', 'Mozambique',\n",
              "       'Myanmar', 'Namibia', 'Nepal', 'Netherlands', 'New_Caledonia',\n",
              "       'New_Zealand', 'Nicaragua', 'Niger', 'Nigeria', 'North_Macedonia',\n",
              "       'Northern_Mariana_Islands', 'Norway', 'Oman', 'Pakistan',\n",
              "       'Palestine', 'Panama', 'Papua_New_Guinea', 'Paraguay', 'Peru',\n",
              "       'Philippines', 'Poland', 'Portugal', 'Puerto_Rico', 'Qatar',\n",
              "       'Romania', 'Russia', 'Rwanda', 'Saint_Kitts_and_Nevis',\n",
              "       'Saint_Lucia', 'Saint_Vincent_and_the_Grenadines', 'San_Marino',\n",
              "       'Sao_Tome_and_Principe', 'Saudi_Arabia', 'Senegal', 'Serbia',\n",
              "       'Seychelles', 'Sierra_Leone', 'Singapore', 'Sint_Maarten',\n",
              "       'Slovakia', 'Slovenia', 'Somalia', 'South_Africa', 'South_Korea',\n",
              "       'South_Sudan', 'Spain', 'Sri_Lanka', 'Sudan', 'Suriname', 'Sweden',\n",
              "       'Switzerland', 'Syria', 'Taiwan', 'Tajikistan', 'Thailand',\n",
              "       'Timor_Leste', 'Togo', 'Trinidad_and_Tobago', 'Tunisia', 'Turkey',\n",
              "       'Turks_and_Caicos_islands', 'Uganda', 'Ukraine',\n",
              "       'United_Arab_Emirates', 'United_Kingdom',\n",
              "       'United_Republic_of_Tanzania', 'United_States_of_America',\n",
              "       'United_States_Virgin_Islands', 'Uruguay', 'Uzbekistan',\n",
              "       'Venezuela', 'Vietnam', 'Western_Sahara', 'Yemen', 'Zambia',\n",
              "       'Zimbabwe'], dtype=object)"
            ]
          },
          "metadata": {
            "tags": []
          },
          "execution_count": 35
        }
      ]
    },
    {
      "cell_type": "markdown",
      "metadata": {
        "id": "UMBuT6HvKsW1",
        "colab_type": "text"
      },
      "source": [
        "Affected countries in wordcloud"
      ]
    },
    {
      "cell_type": "code",
      "metadata": {
        "id": "ASlrsoVNF6IR",
        "colab_type": "code",
        "colab": {
          "base_uri": "https://localhost:8080/",
          "height": 310
        },
        "outputId": "9916468e-167b-4b26-c1e6-0f0ada744d80"
      },
      "source": [
        "wordcloud_country = WordCloud(background_color=\"white\", max_font_size=30, \n",
        "                              max_words=500).generate(str(data['country'].unique()))\n",
        "plt.figure(figsize=(10,20))\n",
        "plt.imshow(wordcloud_country,interpolation='bilinear')\n",
        "plt.axis('off')\n",
        "plt.show()"
      ],
      "execution_count": null,
      "outputs": [
        {
          "output_type": "display_data",
          "data": {
            "image/png": "[encoded data removed]",
            "text/plain": [
              "<Figure size 720x1440 with 1 Axes>"
            ]
          },
          "metadata": {
            "tags": [],
            "needs_background": "light"
          }
        }
      ]
    },
    {
      "cell_type": "markdown",
      "metadata": {
        "id": "3TD6wBj2GxLO",
        "colab_type": "text"
      },
      "source": [
        "Top Infected Country"
      ]
    },
    {
      "cell_type": "code",
      "metadata": {
        "id": "YogjOuGnGylT",
        "colab_type": "code",
        "colab": {
          "base_uri": "https://localhost:8080/",
          "height": 542
        },
        "outputId": "fc142755-80b7-47ab-8c84-766a1be414dd"
      },
      "source": [
        "grouped_country = data.groupby(['country']).agg({\"cases\":'sum',\"deaths\":'sum'} ,ignore_index=True)\n",
        "grouped_country= grouped_country.sort_values(by='cases')\n",
        "grouped_country = grouped_country.reset_index()\n",
        "#grouped_country=grouped_country.tail(10).reset_index()\n",
        "fig=px.bar(x = grouped_country['country'].tail(10),y = grouped_country[\"cases\"].tail(10))\n",
        "fig.update_layout(title = \"Top Ten Afftected Countries\",\n",
        "                  xaxis_title = \"Country\",yaxis_title = \"Number of Cases\",)\n",
        "fig.show()"
      ],
      "execution_count": null,
      "outputs": [
        {
          "output_type": "display_data",
          "data": {
            "text/html": [
              "<html>\n",
              "<head><meta charset=\"utf-8\" /></head>\n",
              "<body>\n",
              "    <div>\n",
              "            <script src=\"https://cdnjs.cloudflare.com/ajax/libs/mathjax/2.7.5/MathJax.js?config=TeX-AMS-MML_SVG\"></script><script type=\"text/javascript\">if (window.MathJax) {MathJax.Hub.Config({SVG: {font: \"STIX-Web\"}});}</script>\n",
              "                <script type=\"text/javascript\">window.PlotlyConfig = {MathJaxConfig: 'local'};</script>\n",
              "        <script src=\"https://cdn.plot.ly/plotly-latest.min.js\"></script>    \n",
              "            <div id=\"46e8fad3-d06e-47f0-b3f1-bc26ea394b92\" class=\"plotly-graph-div\" style=\"height:525px; width:100%;\"></div>\n",
              "            <script type=\"text/javascript\">\n",
              "                \n",
              "                    window.PLOTLYENV=window.PLOTLYENV || {};\n",
              "                    \n",
              "                if (document.getElementById(\"46e8fad3-d06e-47f0-b3f1-bc26ea394b92\")) {\n",
              "                    Plotly.newPlot(\n",
              "                        '46e8fad3-d06e-47f0-b3f1-bc26ea394b92',\n",
              "                        [{\"alignmentgroup\": \"True\", \"hoverlabel\": {\"namelength\": 0}, \"hovertemplate\": \"x=%{x}<br>y=%{y}\", \"legendgroup\": \"\", \"marker\": {\"color\": \"#636efa\"}, \"name\": \"\", \"offsetgroup\": \"\", \"orientation\": \"v\", \"showlegend\": false, \"textposition\": \"auto\", \"type\": \"bar\", \"x\": [\"Iran\", \"Italy\", \"Spain\", \"Chile\", \"Peru\", \"United_Kingdom\", \"India\", \"Russia\", \"Brazil\", \"United_States_of_America\"], \"xaxis\": \"x\", \"y\": [220180, 240136, 248469, 267766, 275989, 310250, 528859, 627646, 1313667, 2510323], \"yaxis\": \"y\"}],\n",
              "                        {\"barmode\": \"relative\", \"legend\": {\"tracegroupgap\": 0}, \"margin\": {\"t\": 60}, \"template\": {\"data\": {\"bar\": [{\"error_x\": {\"color\": \"#2a3f5f\"}, \"error_y\": {\"color\": \"#2a3f5f\"}, \"marker\": {\"line\": {\"color\": \"#E5ECF6\", \"width\": 0.5}}, \"type\": \"bar\"}], \"barpolar\": [{\"marker\": {\"line\": {\"color\": \"#E5ECF6\", \"width\": 0.5}}, \"type\": \"barpolar\"}], \"carpet\": [{\"aaxis\": {\"endlinecolor\": \"#2a3f5f\", \"gridcolor\": \"white\", \"linecolor\": \"white\", \"minorgridcolor\": \"white\", \"startlinecolor\": \"#2a3f5f\"}, \"baxis\": {\"endlinecolor\": \"#2a3f5f\", \"gridcolor\": \"white\", \"linecolor\": \"white\", \"minorgridcolor\": \"white\", \"startlinecolor\": \"#2a3f5f\"}, \"type\": \"carpet\"}], \"choropleth\": [{\"colorbar\": {\"outlinewidth\": 0, \"ticks\": \"\"}, \"type\": \"choropleth\"}], \"contour\": [{\"colorbar\": {\"outlinewidth\": 0, \"ticks\": \"\"}, \"colorscale\": [[0.0, \"#0d0887\"], [0.1111111111111111, \"#46039f\"], [0.2222222222222222, \"#7201a8\"], [0.3333333333333333, \"#9c179e\"], [0.4444444444444444, \"#bd3786\"], [0.5555555555555556, \"#d8576b\"], [0.6666666666666666, \"#ed7953\"], [0.7777777777777778, \"#fb9f3a\"], [0.8888888888888888, \"#fdca26\"], [1.0, \"#f0f921\"]], \"type\": \"contour\"}], \"contourcarpet\": [{\"colorbar\": {\"outlinewidth\": 0, \"ticks\": \"\"}, \"type\": \"contourcarpet\"}], \"heatmap\": [{\"colorbar\": {\"outlinewidth\": 0, \"ticks\": \"\"}, \"colorscale\": [[0.0, \"#0d0887\"], [0.1111111111111111, \"#46039f\"], [0.2222222222222222, \"#7201a8\"], [0.3333333333333333, \"#9c179e\"], [0.4444444444444444, \"#bd3786\"], [0.5555555555555556, \"#d8576b\"], [0.6666666666666666, \"#ed7953\"], [0.7777777777777778, \"#fb9f3a\"], [0.8888888888888888, \"#fdca26\"], [1.0, \"#f0f921\"]], \"type\": \"heatmap\"}], \"heatmapgl\": [{\"colorbar\": {\"outlinewidth\": 0, \"ticks\": \"\"}, \"colorscale\": [[0.0, \"#0d0887\"], [0.1111111111111111, \"#46039f\"], [0.2222222222222222, \"#7201a8\"], [0.3333333333333333, \"#9c179e\"], [0.4444444444444444, \"#bd3786\"], [0.5555555555555556, \"#d8576b\"], [0.6666666666666666, \"#ed7953\"], [0.7777777777777778, \"#fb9f3a\"], [0.8888888888888888, \"#fdca26\"], [1.0, \"#f0f921\"]], \"type\": \"heatmapgl\"}], \"histogram\": [{\"marker\": {\"colorbar\": {\"outlinewidth\": 0, \"ticks\": \"\"}}, \"type\": \"histogram\"}], \"histogram2d\": [{\"colorbar\": {\"outlinewidth\": 0, \"ticks\": \"\"}, \"colorscale\": [[0.0, \"#0d0887\"], [0.1111111111111111, \"#46039f\"], [0.2222222222222222, \"#7201a8\"], [0.3333333333333333, \"#9c179e\"], [0.4444444444444444, \"#bd3786\"], [0.5555555555555556, \"#d8576b\"], [0.6666666666666666, \"#ed7953\"], [0.7777777777777778, \"#fb9f3a\"], [0.8888888888888888, \"#fdca26\"], [1.0, \"#f0f921\"]], \"type\": \"histogram2d\"}], \"histogram2dcontour\": [{\"colorbar\": {\"outlinewidth\": 0, \"ticks\": \"\"}, \"colorscale\": [[0.0, \"#0d0887\"], [0.1111111111111111, \"#46039f\"], [0.2222222222222222, \"#7201a8\"], [0.3333333333333333, \"#9c179e\"], [0.4444444444444444, \"#bd3786\"], [0.5555555555555556, \"#d8576b\"], [0.6666666666666666, \"#ed7953\"], [0.7777777777777778, \"#fb9f3a\"], [0.8888888888888888, \"#fdca26\"], [1.0, \"#f0f921\"]], \"type\": \"histogram2dcontour\"}], \"mesh3d\": [{\"colorbar\": {\"outlinewidth\": 0, \"ticks\": \"\"}, \"type\": \"mesh3d\"}], \"parcoords\": [{\"line\": {\"colorbar\": {\"outlinewidth\": 0, \"ticks\": \"\"}}, \"type\": \"parcoords\"}], \"pie\": [{\"automargin\": true, \"type\": \"pie\"}], \"scatter\": [{\"marker\": {\"colorbar\": {\"outlinewidth\": 0, \"ticks\": \"\"}}, \"type\": \"scatter\"}], \"scatter3d\": [{\"line\": {\"colorbar\": {\"outlinewidth\": 0, \"ticks\": \"\"}}, \"marker\": {\"colorbar\": {\"outlinewidth\": 0, \"ticks\": \"\"}}, \"type\": \"scatter3d\"}], \"scattercarpet\": [{\"marker\": {\"colorbar\": {\"outlinewidth\": 0, \"ticks\": \"\"}}, \"type\": \"scattercarpet\"}], \"scattergeo\": [{\"marker\": {\"colorbar\": {\"outlinewidth\": 0, \"ticks\": \"\"}}, \"type\": \"scattergeo\"}], \"scattergl\": [{\"marker\": {\"colorbar\": {\"outlinewidth\": 0, \"ticks\": \"\"}}, \"type\": \"scattergl\"}], \"scattermapbox\": [{\"marker\": {\"colorbar\": {\"outlinewidth\": 0, \"ticks\": \"\"}}, \"type\": \"scattermapbox\"}], \"scatterpolar\": [{\"marker\": {\"colorbar\": {\"outlinewidth\": 0, \"ticks\": \"\"}}, \"type\": \"scatterpolar\"}], \"scatterpolargl\": [{\"marker\": {\"colorbar\": {\"outlinewidth\": 0, \"ticks\": \"\"}}, \"type\": \"scatterpolargl\"}], \"scatterternary\": [{\"marker\": {\"colorbar\": {\"outlinewidth\": 0, \"ticks\": \"\"}}, \"type\": \"scatterternary\"}], \"surface\": [{\"colorbar\": {\"outlinewidth\": 0, \"ticks\": \"\"}, \"colorscale\": [[0.0, \"#0d0887\"], [0.1111111111111111, \"#46039f\"], [0.2222222222222222, \"#7201a8\"], [0.3333333333333333, \"#9c179e\"], [0.4444444444444444, \"#bd3786\"], [0.5555555555555556, \"#d8576b\"], [0.6666666666666666, \"#ed7953\"], [0.7777777777777778, \"#fb9f3a\"], [0.8888888888888888, \"#fdca26\"], [1.0, \"#f0f921\"]], \"type\": \"surface\"}], \"table\": [{\"cells\": {\"fill\": {\"color\": \"#EBF0F8\"}, \"line\": {\"color\": \"white\"}}, \"header\": {\"fill\": {\"color\": \"#C8D4E3\"}, \"line\": {\"color\": \"white\"}}, \"type\": \"table\"}]}, \"layout\": {\"annotationdefaults\": {\"arrowcolor\": \"#2a3f5f\", \"arrowhead\": 0, \"arrowwidth\": 1}, \"coloraxis\": {\"colorbar\": {\"outlinewidth\": 0, \"ticks\": \"\"}}, \"colorscale\": {\"diverging\": [[0, \"#8e0152\"], [0.1, \"#c51b7d\"], [0.2, \"#de77ae\"], [0.3, \"#f1b6da\"], [0.4, \"#fde0ef\"], [0.5, \"#f7f7f7\"], [0.6, \"#e6f5d0\"], [0.7, \"#b8e186\"], [0.8, \"#7fbc41\"], [0.9, \"#4d9221\"], [1, \"#276419\"]], \"sequential\": [[0.0, \"#0d0887\"], [0.1111111111111111, \"#46039f\"], [0.2222222222222222, \"#7201a8\"], [0.3333333333333333, \"#9c179e\"], [0.4444444444444444, \"#bd3786\"], [0.5555555555555556, \"#d8576b\"], [0.6666666666666666, \"#ed7953\"], [0.7777777777777778, \"#fb9f3a\"], [0.8888888888888888, \"#fdca26\"], [1.0, \"#f0f921\"]], \"sequentialminus\": [[0.0, \"#0d0887\"], [0.1111111111111111, \"#46039f\"], [0.2222222222222222, \"#7201a8\"], [0.3333333333333333, \"#9c179e\"], [0.4444444444444444, \"#bd3786\"], [0.5555555555555556, \"#d8576b\"], [0.6666666666666666, \"#ed7953\"], [0.7777777777777778, \"#fb9f3a\"], [0.8888888888888888, \"#fdca26\"], [1.0, \"#f0f921\"]]}, \"colorway\": [\"#636efa\", \"#EF553B\", \"#00cc96\", \"#ab63fa\", \"#FFA15A\", \"#19d3f3\", \"#FF6692\", \"#B6E880\", \"#FF97FF\", \"#FECB52\"], \"font\": {\"color\": \"#2a3f5f\"}, \"geo\": {\"bgcolor\": \"white\", \"lakecolor\": \"white\", \"landcolor\": \"#E5ECF6\", \"showlakes\": true, \"showland\": true, \"subunitcolor\": \"white\"}, \"hoverlabel\": {\"align\": \"left\"}, \"hovermode\": \"closest\", \"mapbox\": {\"style\": \"light\"}, \"paper_bgcolor\": \"white\", \"plot_bgcolor\": \"#E5ECF6\", \"polar\": {\"angularaxis\": {\"gridcolor\": \"white\", \"linecolor\": \"white\", \"ticks\": \"\"}, \"bgcolor\": \"#E5ECF6\", \"radialaxis\": {\"gridcolor\": \"white\", \"linecolor\": \"white\", \"ticks\": \"\"}}, \"scene\": {\"xaxis\": {\"backgroundcolor\": \"#E5ECF6\", \"gridcolor\": \"white\", \"gridwidth\": 2, \"linecolor\": \"white\", \"showbackground\": true, \"ticks\": \"\", \"zerolinecolor\": \"white\"}, \"yaxis\": {\"backgroundcolor\": \"#E5ECF6\", \"gridcolor\": \"white\", \"gridwidth\": 2, \"linecolor\": \"white\", \"showbackground\": true, \"ticks\": \"\", \"zerolinecolor\": \"white\"}, \"zaxis\": {\"backgroundcolor\": \"#E5ECF6\", \"gridcolor\": \"white\", \"gridwidth\": 2, \"linecolor\": \"white\", \"showbackground\": true, \"ticks\": \"\", \"zerolinecolor\": \"white\"}}, \"shapedefaults\": {\"line\": {\"color\": \"#2a3f5f\"}}, \"ternary\": {\"aaxis\": {\"gridcolor\": \"white\", \"linecolor\": \"white\", \"ticks\": \"\"}, \"baxis\": {\"gridcolor\": \"white\", \"linecolor\": \"white\", \"ticks\": \"\"}, \"bgcolor\": \"#E5ECF6\", \"caxis\": {\"gridcolor\": \"white\", \"linecolor\": \"white\", \"ticks\": \"\"}}, \"title\": {\"x\": 0.05}, \"xaxis\": {\"automargin\": true, \"gridcolor\": \"white\", \"linecolor\": \"white\", \"ticks\": \"\", \"title\": {\"standoff\": 15}, \"zerolinecolor\": \"white\", \"zerolinewidth\": 2}, \"yaxis\": {\"automargin\": true, \"gridcolor\": \"white\", \"linecolor\": \"white\", \"ticks\": \"\", \"title\": {\"standoff\": 15}, \"zerolinecolor\": \"white\", \"zerolinewidth\": 2}}}, \"title\": {\"text\": \"Top Ten Afftected Countries\"}, \"xaxis\": {\"anchor\": \"y\", \"domain\": [0.0, 1.0], \"title\": {\"text\": \"Country\"}}, \"yaxis\": {\"anchor\": \"x\", \"domain\": [0.0, 1.0], \"title\": {\"text\": \"Number of Cases\"}}},\n",
              "                        {\"responsive\": true}\n",
              "                    ).then(function(){\n",
              "                            \n",
              "var gd = document.getElementById('46e8fad3-d06e-47f0-b3f1-bc26ea394b92');\n",
              "var x = new MutationObserver(function (mutations, observer) {{\n",
              "        var display = window.getComputedStyle(gd).display;\n",
              "        if (!display || display === 'none') {{\n",
              "            console.log([gd, 'removed!']);\n",
              "            Plotly.purge(gd);\n",
              "            observer.disconnect();\n",
              "        }}\n",
              "}});\n",
              "\n",
              "// Listen for the removal of the full notebook cells\n",
              "var notebookContainer = gd.closest('#notebook-container');\n",
              "if (notebookContainer) {{\n",
              "    x.observe(notebookContainer, {childList: true});\n",
              "}}\n",
              "\n",
              "// Listen for the clearing of the current output cell\n",
              "var outputEl = gd.closest('.output');\n",
              "if (outputEl) {{\n",
              "    x.observe(outputEl, {childList: true});\n",
              "}}\n",
              "\n",
              "                        })\n",
              "                };\n",
              "                \n",
              "            </script>\n",
              "        </div>\n",
              "</body>\n",
              "</html>"
            ]
          },
          "metadata": {
            "tags": []
          }
        }
      ]
    },
    {
      "cell_type": "markdown",
      "metadata": {
        "id": "V_3lfbNK5B1w",
        "colab_type": "text"
      },
      "source": [
        "Highest Deaths Troll"
      ]
    },
    {
      "cell_type": "code",
      "metadata": {
        "id": "3VjB45Qw4_09",
        "colab_type": "code",
        "colab": {
          "base_uri": "https://localhost:8080/",
          "height": 542
        },
        "outputId": "2adbb621-6d00-445c-bd31-06886ecd5513"
      },
      "source": [
        "death_troll= grouped_country.sort_values(by='deaths')\n",
        "death_troll = death_troll.reset_index() \n",
        "fig=px.bar(x = death_troll['country'].tail(10),y = death_troll[\"deaths\"].tail(10))\n",
        "fig.update_layout(title = \"Top Ten Countries with deaths Troll\",\n",
        "                  xaxis_title = \"Country\",yaxis_title = \"Number of Cases\",)\n",
        "fig.show()"
      ],
      "execution_count": null,
      "outputs": [
        {
          "output_type": "display_data",
          "data": {
            "text/html": [
              "<html>\n",
              "<head><meta charset=\"utf-8\" /></head>\n",
              "<body>\n",
              "    <div>\n",
              "            <script src=\"https://cdnjs.cloudflare.com/ajax/libs/mathjax/2.7.5/MathJax.js?config=TeX-AMS-MML_SVG\"></script><script type=\"text/javascript\">if (window.MathJax) {MathJax.Hub.Config({SVG: {font: \"STIX-Web\"}});}</script>\n",
              "                <script type=\"text/javascript\">window.PlotlyConfig = {MathJaxConfig: 'local'};</script>\n",
              "        <script src=\"https://cdn.plot.ly/plotly-latest.min.js\"></script>    \n",
              "            <div id=\"baa89ded-2277-4a8a-9a66-b41d27afc8da\" class=\"plotly-graph-div\" style=\"height:525px; width:100%;\"></div>\n",
              "            <script type=\"text/javascript\">\n",
              "                \n",
              "                    window.PLOTLYENV=window.PLOTLYENV || {};\n",
              "                    \n",
              "                if (document.getElementById(\"baa89ded-2277-4a8a-9a66-b41d27afc8da\")) {\n",
              "                    Plotly.newPlot(\n",
              "                        'baa89ded-2277-4a8a-9a66-b41d27afc8da',\n",
              "                        [{\"alignmentgroup\": \"True\", \"hoverlabel\": {\"namelength\": 0}, \"hovertemplate\": \"x=%{x}<br>y=%{y}\", \"legendgroup\": \"\", \"marker\": {\"color\": \"#636efa\"}, \"name\": \"\", \"offsetgroup\": \"\", \"orientation\": \"v\", \"showlegend\": false, \"textposition\": \"auto\", \"type\": \"bar\", \"x\": [\"Belgium\", \"Iran\", \"India\", \"Mexico\", \"Spain\", \"France\", \"Italy\", \"United_Kingdom\", \"Brazil\", \"United_States_of_America\"], \"xaxis\": \"x\", \"y\": [9732, 10364, 16095, 26381, 28341, 29778, 34716, 43514, 57070, 125539], \"yaxis\": \"y\"}],\n",
              "                        {\"barmode\": \"relative\", \"legend\": {\"tracegroupgap\": 0}, \"margin\": {\"t\": 60}, \"template\": {\"data\": {\"bar\": [{\"error_x\": {\"color\": \"#2a3f5f\"}, \"error_y\": {\"color\": \"#2a3f5f\"}, \"marker\": {\"line\": {\"color\": \"#E5ECF6\", \"width\": 0.5}}, \"type\": \"bar\"}], \"barpolar\": [{\"marker\": {\"line\": {\"color\": \"#E5ECF6\", \"width\": 0.5}}, \"type\": \"barpolar\"}], \"carpet\": [{\"aaxis\": {\"endlinecolor\": \"#2a3f5f\", \"gridcolor\": \"white\", \"linecolor\": \"white\", \"minorgridcolor\": \"white\", \"startlinecolor\": \"#2a3f5f\"}, \"baxis\": {\"endlinecolor\": \"#2a3f5f\", \"gridcolor\": \"white\", \"linecolor\": \"white\", \"minorgridcolor\": \"white\", \"startlinecolor\": \"#2a3f5f\"}, \"type\": \"carpet\"}], \"choropleth\": [{\"colorbar\": {\"outlinewidth\": 0, \"ticks\": \"\"}, \"type\": \"choropleth\"}], \"contour\": [{\"colorbar\": {\"outlinewidth\": 0, \"ticks\": \"\"}, \"colorscale\": [[0.0, \"#0d0887\"], [0.1111111111111111, \"#46039f\"], [0.2222222222222222, \"#7201a8\"], [0.3333333333333333, \"#9c179e\"], [0.4444444444444444, \"#bd3786\"], [0.5555555555555556, \"#d8576b\"], [0.6666666666666666, \"#ed7953\"], [0.7777777777777778, \"#fb9f3a\"], [0.8888888888888888, \"#fdca26\"], [1.0, \"#f0f921\"]], \"type\": \"contour\"}], \"contourcarpet\": [{\"colorbar\": {\"outlinewidth\": 0, \"ticks\": \"\"}, \"type\": \"contourcarpet\"}], \"heatmap\": [{\"colorbar\": {\"outlinewidth\": 0, \"ticks\": \"\"}, \"colorscale\": [[0.0, \"#0d0887\"], [0.1111111111111111, \"#46039f\"], [0.2222222222222222, \"#7201a8\"], [0.3333333333333333, \"#9c179e\"], [0.4444444444444444, \"#bd3786\"], [0.5555555555555556, \"#d8576b\"], [0.6666666666666666, \"#ed7953\"], [0.7777777777777778, \"#fb9f3a\"], [0.8888888888888888, \"#fdca26\"], [1.0, \"#f0f921\"]], \"type\": \"heatmap\"}], \"heatmapgl\": [{\"colorbar\": {\"outlinewidth\": 0, \"ticks\": \"\"}, \"colorscale\": [[0.0, \"#0d0887\"], [0.1111111111111111, \"#46039f\"], [0.2222222222222222, \"#7201a8\"], [0.3333333333333333, \"#9c179e\"], [0.4444444444444444, \"#bd3786\"], [0.5555555555555556, \"#d8576b\"], [0.6666666666666666, \"#ed7953\"], [0.7777777777777778, \"#fb9f3a\"], [0.8888888888888888, \"#fdca26\"], [1.0, \"#f0f921\"]], \"type\": \"heatmapgl\"}], \"histogram\": [{\"marker\": {\"colorbar\": {\"outlinewidth\": 0, \"ticks\": \"\"}}, \"type\": \"histogram\"}], \"histogram2d\": [{\"colorbar\": {\"outlinewidth\": 0, \"ticks\": \"\"}, \"colorscale\": [[0.0, \"#0d0887\"], [0.1111111111111111, \"#46039f\"], [0.2222222222222222, \"#7201a8\"], [0.3333333333333333, \"#9c179e\"], [0.4444444444444444, \"#bd3786\"], [0.5555555555555556, \"#d8576b\"], [0.6666666666666666, \"#ed7953\"], [0.7777777777777778, \"#fb9f3a\"], [0.8888888888888888, \"#fdca26\"], [1.0, \"#f0f921\"]], \"type\": \"histogram2d\"}], \"histogram2dcontour\": [{\"colorbar\": {\"outlinewidth\": 0, \"ticks\": \"\"}, \"colorscale\": [[0.0, \"#0d0887\"], [0.1111111111111111, \"#46039f\"], [0.2222222222222222, \"#7201a8\"], [0.3333333333333333, \"#9c179e\"], [0.4444444444444444, \"#bd3786\"], [0.5555555555555556, \"#d8576b\"], [0.6666666666666666, \"#ed7953\"], [0.7777777777777778, \"#fb9f3a\"], [0.8888888888888888, \"#fdca26\"], [1.0, \"#f0f921\"]], \"type\": \"histogram2dcontour\"}], \"mesh3d\": [{\"colorbar\": {\"outlinewidth\": 0, \"ticks\": \"\"}, \"type\": \"mesh3d\"}], \"parcoords\": [{\"line\": {\"colorbar\": {\"outlinewidth\": 0, \"ticks\": \"\"}}, \"type\": \"parcoords\"}], \"pie\": [{\"automargin\": true, \"type\": \"pie\"}], \"scatter\": [{\"marker\": {\"colorbar\": {\"outlinewidth\": 0, \"ticks\": \"\"}}, \"type\": \"scatter\"}], \"scatter3d\": [{\"line\": {\"colorbar\": {\"outlinewidth\": 0, \"ticks\": \"\"}}, \"marker\": {\"colorbar\": {\"outlinewidth\": 0, \"ticks\": \"\"}}, \"type\": \"scatter3d\"}], \"scattercarpet\": [{\"marker\": {\"colorbar\": {\"outlinewidth\": 0, \"ticks\": \"\"}}, \"type\": \"scattercarpet\"}], \"scattergeo\": [{\"marker\": {\"colorbar\": {\"outlinewidth\": 0, \"ticks\": \"\"}}, \"type\": \"scattergeo\"}], \"scattergl\": [{\"marker\": {\"colorbar\": {\"outlinewidth\": 0, \"ticks\": \"\"}}, \"type\": \"scattergl\"}], \"scattermapbox\": [{\"marker\": {\"colorbar\": {\"outlinewidth\": 0, \"ticks\": \"\"}}, \"type\": \"scattermapbox\"}], \"scatterpolar\": [{\"marker\": {\"colorbar\": {\"outlinewidth\": 0, \"ticks\": \"\"}}, \"type\": \"scatterpolar\"}], \"scatterpolargl\": [{\"marker\": {\"colorbar\": {\"outlinewidth\": 0, \"ticks\": \"\"}}, \"type\": \"scatterpolargl\"}], \"scatterternary\": [{\"marker\": {\"colorbar\": {\"outlinewidth\": 0, \"ticks\": \"\"}}, \"type\": \"scatterternary\"}], \"surface\": [{\"colorbar\": {\"outlinewidth\": 0, \"ticks\": \"\"}, \"colorscale\": [[0.0, \"#0d0887\"], [0.1111111111111111, \"#46039f\"], [0.2222222222222222, \"#7201a8\"], [0.3333333333333333, \"#9c179e\"], [0.4444444444444444, \"#bd3786\"], [0.5555555555555556, \"#d8576b\"], [0.6666666666666666, \"#ed7953\"], [0.7777777777777778, \"#fb9f3a\"], [0.8888888888888888, \"#fdca26\"], [1.0, \"#f0f921\"]], \"type\": \"surface\"}], \"table\": [{\"cells\": {\"fill\": {\"color\": \"#EBF0F8\"}, \"line\": {\"color\": \"white\"}}, \"header\": {\"fill\": {\"color\": \"#C8D4E3\"}, \"line\": {\"color\": \"white\"}}, \"type\": \"table\"}]}, \"layout\": {\"annotationdefaults\": {\"arrowcolor\": \"#2a3f5f\", \"arrowhead\": 0, \"arrowwidth\": 1}, \"coloraxis\": {\"colorbar\": {\"outlinewidth\": 0, \"ticks\": \"\"}}, \"colorscale\": {\"diverging\": [[0, \"#8e0152\"], [0.1, \"#c51b7d\"], [0.2, \"#de77ae\"], [0.3, \"#f1b6da\"], [0.4, \"#fde0ef\"], [0.5, \"#f7f7f7\"], [0.6, \"#e6f5d0\"], [0.7, \"#b8e186\"], [0.8, \"#7fbc41\"], [0.9, \"#4d9221\"], [1, \"#276419\"]], \"sequential\": [[0.0, \"#0d0887\"], [0.1111111111111111, \"#46039f\"], [0.2222222222222222, \"#7201a8\"], [0.3333333333333333, \"#9c179e\"], [0.4444444444444444, \"#bd3786\"], [0.5555555555555556, \"#d8576b\"], [0.6666666666666666, \"#ed7953\"], [0.7777777777777778, \"#fb9f3a\"], [0.8888888888888888, \"#fdca26\"], [1.0, \"#f0f921\"]], \"sequentialminus\": [[0.0, \"#0d0887\"], [0.1111111111111111, \"#46039f\"], [0.2222222222222222, \"#7201a8\"], [0.3333333333333333, \"#9c179e\"], [0.4444444444444444, \"#bd3786\"], [0.5555555555555556, \"#d8576b\"], [0.6666666666666666, \"#ed7953\"], [0.7777777777777778, \"#fb9f3a\"], [0.8888888888888888, \"#fdca26\"], [1.0, \"#f0f921\"]]}, \"colorway\": [\"#636efa\", \"#EF553B\", \"#00cc96\", \"#ab63fa\", \"#FFA15A\", \"#19d3f3\", \"#FF6692\", \"#B6E880\", \"#FF97FF\", \"#FECB52\"], \"font\": {\"color\": \"#2a3f5f\"}, \"geo\": {\"bgcolor\": \"white\", \"lakecolor\": \"white\", \"landcolor\": \"#E5ECF6\", \"showlakes\": true, \"showland\": true, \"subunitcolor\": \"white\"}, \"hoverlabel\": {\"align\": \"left\"}, \"hovermode\": \"closest\", \"mapbox\": {\"style\": \"light\"}, \"paper_bgcolor\": \"white\", \"plot_bgcolor\": \"#E5ECF6\", \"polar\": {\"angularaxis\": {\"gridcolor\": \"white\", \"linecolor\": \"white\", \"ticks\": \"\"}, \"bgcolor\": \"#E5ECF6\", \"radialaxis\": {\"gridcolor\": \"white\", \"linecolor\": \"white\", \"ticks\": \"\"}}, \"scene\": {\"xaxis\": {\"backgroundcolor\": \"#E5ECF6\", \"gridcolor\": \"white\", \"gridwidth\": 2, \"linecolor\": \"white\", \"showbackground\": true, \"ticks\": \"\", \"zerolinecolor\": \"white\"}, \"yaxis\": {\"backgroundcolor\": \"#E5ECF6\", \"gridcolor\": \"white\", \"gridwidth\": 2, \"linecolor\": \"white\", \"showbackground\": true, \"ticks\": \"\", \"zerolinecolor\": \"white\"}, \"zaxis\": {\"backgroundcolor\": \"#E5ECF6\", \"gridcolor\": \"white\", \"gridwidth\": 2, \"linecolor\": \"white\", \"showbackground\": true, \"ticks\": \"\", \"zerolinecolor\": \"white\"}}, \"shapedefaults\": {\"line\": {\"color\": \"#2a3f5f\"}}, \"ternary\": {\"aaxis\": {\"gridcolor\": \"white\", \"linecolor\": \"white\", \"ticks\": \"\"}, \"baxis\": {\"gridcolor\": \"white\", \"linecolor\": \"white\", \"ticks\": \"\"}, \"bgcolor\": \"#E5ECF6\", \"caxis\": {\"gridcolor\": \"white\", \"linecolor\": \"white\", \"ticks\": \"\"}}, \"title\": {\"x\": 0.05}, \"xaxis\": {\"automargin\": true, \"gridcolor\": \"white\", \"linecolor\": \"white\", \"ticks\": \"\", \"title\": {\"standoff\": 15}, \"zerolinecolor\": \"white\", \"zerolinewidth\": 2}, \"yaxis\": {\"automargin\": true, \"gridcolor\": \"white\", \"linecolor\": \"white\", \"ticks\": \"\", \"title\": {\"standoff\": 15}, \"zerolinecolor\": \"white\", \"zerolinewidth\": 2}}}, \"title\": {\"text\": \"Top Ten Countries with deaths Troll\"}, \"xaxis\": {\"anchor\": \"y\", \"domain\": [0.0, 1.0], \"title\": {\"text\": \"Country\"}}, \"yaxis\": {\"anchor\": \"x\", \"domain\": [0.0, 1.0], \"title\": {\"text\": \"Number of Cases\"}}},\n",
              "                        {\"responsive\": true}\n",
              "                    ).then(function(){\n",
              "                            \n",
              "var gd = document.getElementById('baa89ded-2277-4a8a-9a66-b41d27afc8da');\n",
              "var x = new MutationObserver(function (mutations, observer) {{\n",
              "        var display = window.getComputedStyle(gd).display;\n",
              "        if (!display || display === 'none') {{\n",
              "            console.log([gd, 'removed!']);\n",
              "            Plotly.purge(gd);\n",
              "            observer.disconnect();\n",
              "        }}\n",
              "}});\n",
              "\n",
              "// Listen for the removal of the full notebook cells\n",
              "var notebookContainer = gd.closest('#notebook-container');\n",
              "if (notebookContainer) {{\n",
              "    x.observe(notebookContainer, {childList: true});\n",
              "}}\n",
              "\n",
              "// Listen for the clearing of the current output cell\n",
              "var outputEl = gd.closest('.output');\n",
              "if (outputEl) {{\n",
              "    x.observe(outputEl, {childList: true});\n",
              "}}\n",
              "\n",
              "                        })\n",
              "                };\n",
              "                \n",
              "            </script>\n",
              "        </div>\n",
              "</body>\n",
              "</html>"
            ]
          },
          "metadata": {
            "tags": []
          }
        }
      ]
    },
    {
      "cell_type": "markdown",
      "metadata": {
        "id": "Wp4TecuPMy1W",
        "colab_type": "text"
      },
      "source": [
        "Lowest infected countries are"
      ]
    },
    {
      "cell_type": "code",
      "metadata": {
        "id": "DCQvL2jHLqvW",
        "colab_type": "code",
        "colab": {
          "base_uri": "https://localhost:8080/",
          "height": 204
        },
        "outputId": "d6fd742c-0d65-4e02-8354-4f83aba891a0"
      },
      "source": [
        "grouped_country['country'].head(10)"
      ],
      "execution_count": null,
      "outputs": [
        {
          "output_type": "execute_result",
          "data": {
            "text/plain": [
              "0                             Anguilla\n",
              "1    Bonaire, Saint Eustatius and Saba\n",
              "2               British_Virgin_Islands\n",
              "3                           Montserrat\n",
              "4                     Papua_New_Guinea\n",
              "5                           Seychelles\n",
              "6                             Holy_See\n",
              "7          Falkland_Islands_(Malvinas)\n",
              "8                            Greenland\n",
              "9                Saint_Kitts_and_Nevis\n",
              "Name: country, dtype: object"
            ]
          },
          "metadata": {
            "tags": []
          },
          "execution_count": 39
        }
      ]
    },
    {
      "cell_type": "markdown",
      "metadata": {
        "id": "PaKjAxI0AhjW",
        "colab_type": "text"
      },
      "source": [
        "Infection Area Wise"
      ]
    },
    {
      "cell_type": "code",
      "metadata": {
        "id": "PqXPOt965TcO",
        "colab_type": "code",
        "colab": {
          "base_uri": "https://localhost:8080/",
          "height": 51
        },
        "outputId": "429995f5-1c68-4ff2-c570-8c2ef2c0873b"
      },
      "source": [
        "data['continentExp'].unique()"
      ],
      "execution_count": null,
      "outputs": [
        {
          "output_type": "execute_result",
          "data": {
            "text/plain": [
              "array(['Asia', 'Europe', 'Africa', 'America', 'Oceania', 'Other'],\n",
              "      dtype=object)"
            ]
          },
          "metadata": {
            "tags": []
          },
          "execution_count": 40
        }
      ]
    },
    {
      "cell_type": "code",
      "metadata": {
        "id": "w9eFKE_s7uwQ",
        "colab_type": "code",
        "colab": {
          "base_uri": "https://localhost:8080/",
          "height": 542
        },
        "outputId": "da2be706-7b8c-4715-f4e5-b892e6e7bd95"
      },
      "source": [
        "#Asia \n",
        "asia=data[data['continentExp']=='Asia'] \n",
        "asia=asia.groupby(['year','month','day','dateRep']).agg({\"cases\":'sum',\"deaths\":'sum'})#test\n",
        "asia=asia.reset_index()\n",
        "\n",
        "asia=asia.sort_values(by=['year','month','day'])\n",
        "\n",
        "fig=px.bar(x=asia['dateRep'],y=asia[\"cases\"])\n",
        "fig.update_layout(title=\"Distribution of Number of Daily Cases Asia\",\n",
        "                  xaxis_title=\"Date\",yaxis_title=\"Number of Cases\",)\n",
        "fig.show()"
      ],
      "execution_count": null,
      "outputs": [
        {
          "output_type": "display_data",
          "data": {
            "text/html": [
              "<html>\n",
              "<head><meta charset=\"utf-8\" /></head>\n",
              "<body>\n",
              "    <div>\n",
              "            <script src=\"https://cdnjs.cloudflare.com/ajax/libs/mathjax/2.7.5/MathJax.js?config=TeX-AMS-MML_SVG\"></script><script type=\"text/javascript\">if (window.MathJax) {MathJax.Hub.Config({SVG: {font: \"STIX-Web\"}});}</script>\n",
              "                <script type=\"text/javascript\">window.PlotlyConfig = {MathJaxConfig: 'local'};</script>\n",
              "        <script src=\"https://cdn.plot.ly/plotly-latest.min.js\"></script>    \n",
              "            <div id=\"68b12b0d-c56c-46c7-a455-8ade0ec1f3ad\" class=\"plotly-graph-div\" style=\"height:525px; width:100%;\"></div>\n",
              "            <script type=\"text/javascript\">\n",
              "                \n",
              "                    window.PLOTLYENV=window.PLOTLYENV || {};\n",
              "                    \n",
              "                if (document.getElementById(\"68b12b0d-c56c-46c7-a455-8ade0ec1f3ad\")) {\n",
              "                    Plotly.newPlot(\n",
              "                        '68b12b0d-c56c-46c7-a455-8ade0ec1f3ad',\n",
              "                        [{\"alignmentgroup\": \"True\", \"hoverlabel\": {\"namelength\": 0}, \"hovertemplate\": \"x=%{x}<br>y=%{y}\", \"legendgroup\": \"\", \"marker\": {\"color\": \"#636efa\"}, \"name\": \"\", \"offsetgroup\": \"\", \"orientation\": \"v\", \"showlegend\": false, \"textposition\": \"auto\", \"type\": \"bar\", \"x\": [\"31/12/2019\", \"01/01/2020\", \"02/01/2020\", \"03/01/2020\", \"04/01/2020\", \"05/01/2020\", \"06/01/2020\", \"07/01/2020\", \"08/01/2020\", \"09/01/2020\", \"10/01/2020\", \"11/01/2020\", \"12/01/2020\", \"13/01/2020\", \"14/01/2020\", \"15/01/2020\", \"16/01/2020\", \"17/01/2020\", \"18/01/2020\", \"19/01/2020\", \"20/01/2020\", \"21/01/2020\", \"22/01/2020\", \"23/01/2020\", \"24/01/2020\", \"25/01/2020\", \"26/01/2020\", \"27/01/2020\", \"28/01/2020\", \"29/01/2020\", \"30/01/2020\", \"31/01/2020\", \"01/02/2020\", \"02/02/2020\", \"03/02/2020\", \"04/02/2020\", \"05/02/2020\", \"06/02/2020\", \"07/02/2020\", \"08/02/2020\", \"09/02/2020\", \"10/02/2020\", \"11/02/2020\", \"12/02/2020\", \"13/02/2020\", \"14/02/2020\", \"15/02/2020\", \"16/02/2020\", \"17/02/2020\", \"18/02/2020\", \"19/02/2020\", \"20/02/2020\", \"21/02/2020\", \"22/02/2020\", \"23/02/2020\", \"24/02/2020\", \"25/02/2020\", \"26/02/2020\", \"27/02/2020\", \"28/02/2020\", \"29/02/2020\", \"01/03/2020\", \"02/03/2020\", \"03/03/2020\", \"04/03/2020\", \"05/03/2020\", \"06/03/2020\", \"07/03/2020\", \"08/03/2020\", \"09/03/2020\", \"10/03/2020\", \"11/03/2020\", \"12/03/2020\", \"13/03/2020\", \"14/03/2020\", \"15/03/2020\", \"16/03/2020\", \"17/03/2020\", \"18/03/2020\", \"19/03/2020\", \"20/03/2020\", \"21/03/2020\", \"22/03/2020\", \"23/03/2020\", \"24/03/2020\", \"25/03/2020\", \"26/03/2020\", \"27/03/2020\", \"28/03/2020\", \"29/03/2020\", \"30/03/2020\", \"31/03/2020\", \"01/04/2020\", \"02/04/2020\", \"03/04/2020\", \"04/04/2020\", \"05/04/2020\", \"06/04/2020\", \"07/04/2020\", \"08/04/2020\", \"09/04/2020\", \"10/04/2020\", \"11/04/2020\", \"12/04/2020\", \"13/04/2020\", \"14/04/2020\", \"15/04/2020\", \"16/04/2020\", \"17/04/2020\", \"18/04/2020\", \"19/04/2020\", \"20/04/2020\", \"21/04/2020\", \"22/04/2020\", \"23/04/2020\", \"24/04/2020\", \"25/04/2020\", \"26/04/2020\", \"27/04/2020\", \"28/04/2020\", \"29/04/2020\", \"30/04/2020\", \"01/05/2020\", \"02/05/2020\", \"03/05/2020\", \"04/05/2020\", \"05/05/2020\", \"06/05/2020\", \"07/05/2020\", \"08/05/2020\", \"09/05/2020\", \"10/05/2020\", \"11/05/2020\", \"12/05/2020\", \"13/05/2020\", \"14/05/2020\", \"15/05/2020\", \"16/05/2020\", \"17/05/2020\", \"18/05/2020\", \"19/05/2020\", \"20/05/2020\", \"21/05/2020\", \"22/05/2020\", \"23/05/2020\", \"24/05/2020\", \"25/05/2020\", \"26/05/2020\", \"27/05/2020\", \"28/05/2020\", \"29/05/2020\", \"30/05/2020\", \"31/05/2020\", \"01/06/2020\", \"02/06/2020\", \"03/06/2020\", \"04/06/2020\", \"05/06/2020\", \"06/06/2020\", \"07/06/2020\", \"08/06/2020\", \"09/06/2020\", \"10/06/2020\", \"11/06/2020\", \"12/06/2020\", \"13/06/2020\", \"14/06/2020\", \"15/06/2020\", \"16/06/2020\", \"17/06/2020\", \"18/06/2020\", \"19/06/2020\", \"20/06/2020\", \"21/06/2020\", \"22/06/2020\", \"23/06/2020\", \"24/06/2020\", \"25/06/2020\", \"26/06/2020\", \"27/06/2020\", \"28/06/2020\"], \"xaxis\": \"x\", \"y\": [27, 0, 0, 17, 0, 15, 0, 0, 0, 0, 0, 0, 0, 1, 0, 1, 0, 5, 17, 136, 20, 152, 142, 97, 266, 448, 669, 794, 1765, 1475, 1752, 1994, 2110, 2604, 2814, 3240, 3895, 3739, 3172, 3433, 2618, 2981, 2495, 2031, 15149, 4166, 2558, 2028, 2066, 1896, 1776, 453, 979, 1048, 945, 413, 675, 756, 985, 920, 1523, 1403, 1326, 1273, 1514, 1253, 1348, 1959, 1622, 1164, 913, 1335, 1624, 1370, 1813, 1790, 1933, 1798, 1916, 2058, 2382, 2522, 2940, 2691, 3196, 4032, 4583, 5312, 6953, 7302, 7076, 7472, 7706, 8324, 8736, 6162, 12210, 10077, 9286, 9513, 9378, 10025, 10953, 12979, 11420, 11669, 11085, 11307, 12876, 11701, 12204, 12232, 14085, 13165, 11388, 13421, 12972, 12340, 11322, 10997, 11585, 12703, 12854, 13213, 11997, 12525, 14318, 14031, 16086, 15492, 15722, 15910, 17182, 15307, 18254, 17894, 18324, 19798, 19426, 20705, 20356, 21088, 22371, 23838, 23453, 24363, 22857, 21619, 20439, 22283, 25879, 28005, 27242, 28106, 27745, 29901, 32003, 31374, 32643, 32754, 32854, 32206, 33573, 34703, 37449, 38380, 38063, 36668, 36121, 37806, 40041, 40671, 39905, 42544, 38519, 39350, 40802, 43612, 42830, 45125, 45349], \"yaxis\": \"y\"}],\n",
              "                        {\"barmode\": \"relative\", \"legend\": {\"tracegroupgap\": 0}, \"margin\": {\"t\": 60}, \"template\": {\"data\": {\"bar\": [{\"error_x\": {\"color\": \"#2a3f5f\"}, \"error_y\": {\"color\": \"#2a3f5f\"}, \"marker\": {\"line\": {\"color\": \"#E5ECF6\", \"width\": 0.5}}, \"type\": \"bar\"}], \"barpolar\": [{\"marker\": {\"line\": {\"color\": \"#E5ECF6\", \"width\": 0.5}}, \"type\": \"barpolar\"}], \"carpet\": [{\"aaxis\": {\"endlinecolor\": \"#2a3f5f\", \"gridcolor\": \"white\", \"linecolor\": \"white\", \"minorgridcolor\": \"white\", \"startlinecolor\": \"#2a3f5f\"}, \"baxis\": {\"endlinecolor\": \"#2a3f5f\", \"gridcolor\": \"white\", \"linecolor\": \"white\", \"minorgridcolor\": \"white\", \"startlinecolor\": \"#2a3f5f\"}, \"type\": \"carpet\"}], \"choropleth\": [{\"colorbar\": {\"outlinewidth\": 0, \"ticks\": \"\"}, \"type\": \"choropleth\"}], \"contour\": [{\"colorbar\": {\"outlinewidth\": 0, \"ticks\": \"\"}, \"colorscale\": [[0.0, \"#0d0887\"], [0.1111111111111111, \"#46039f\"], [0.2222222222222222, \"#7201a8\"], [0.3333333333333333, \"#9c179e\"], [0.4444444444444444, \"#bd3786\"], [0.5555555555555556, \"#d8576b\"], [0.6666666666666666, \"#ed7953\"], [0.7777777777777778, \"#fb9f3a\"], [0.8888888888888888, \"#fdca26\"], [1.0, \"#f0f921\"]], \"type\": \"contour\"}], \"contourcarpet\": [{\"colorbar\": {\"outlinewidth\": 0, \"ticks\": \"\"}, \"type\": \"contourcarpet\"}], \"heatmap\": [{\"colorbar\": {\"outlinewidth\": 0, \"ticks\": \"\"}, \"colorscale\": [[0.0, \"#0d0887\"], [0.1111111111111111, \"#46039f\"], [0.2222222222222222, \"#7201a8\"], [0.3333333333333333, \"#9c179e\"], [0.4444444444444444, \"#bd3786\"], [0.5555555555555556, \"#d8576b\"], [0.6666666666666666, \"#ed7953\"], [0.7777777777777778, \"#fb9f3a\"], [0.8888888888888888, \"#fdca26\"], [1.0, \"#f0f921\"]], \"type\": \"heatmap\"}], \"heatmapgl\": [{\"colorbar\": {\"outlinewidth\": 0, \"ticks\": \"\"}, \"colorscale\": [[0.0, \"#0d0887\"], [0.1111111111111111, \"#46039f\"], [0.2222222222222222, \"#7201a8\"], [0.3333333333333333, \"#9c179e\"], [0.4444444444444444, \"#bd3786\"], [0.5555555555555556, \"#d8576b\"], [0.6666666666666666, \"#ed7953\"], [0.7777777777777778, \"#fb9f3a\"], [0.8888888888888888, \"#fdca26\"], [1.0, \"#f0f921\"]], \"type\": \"heatmapgl\"}], \"histogram\": [{\"marker\": {\"colorbar\": {\"outlinewidth\": 0, \"ticks\": \"\"}}, \"type\": \"histogram\"}], \"histogram2d\": [{\"colorbar\": {\"outlinewidth\": 0, \"ticks\": \"\"}, \"colorscale\": [[0.0, \"#0d0887\"], [0.1111111111111111, \"#46039f\"], [0.2222222222222222, \"#7201a8\"], [0.3333333333333333, \"#9c179e\"], [0.4444444444444444, \"#bd3786\"], [0.5555555555555556, \"#d8576b\"], [0.6666666666666666, \"#ed7953\"], [0.7777777777777778, \"#fb9f3a\"], [0.8888888888888888, \"#fdca26\"], [1.0, \"#f0f921\"]], \"type\": \"histogram2d\"}], \"histogram2dcontour\": [{\"colorbar\": {\"outlinewidth\": 0, \"ticks\": \"\"}, \"colorscale\": [[0.0, \"#0d0887\"], [0.1111111111111111, \"#46039f\"], [0.2222222222222222, \"#7201a8\"], [0.3333333333333333, \"#9c179e\"], [0.4444444444444444, \"#bd3786\"], [0.5555555555555556, \"#d8576b\"], [0.6666666666666666, \"#ed7953\"], [0.7777777777777778, \"#fb9f3a\"], [0.8888888888888888, \"#fdca26\"], [1.0, \"#f0f921\"]], \"type\": \"histogram2dcontour\"}], \"mesh3d\": [{\"colorbar\": {\"outlinewidth\": 0, \"ticks\": \"\"}, \"type\": \"mesh3d\"}], \"parcoords\": [{\"line\": {\"colorbar\": {\"outlinewidth\": 0, \"ticks\": \"\"}}, \"type\": \"parcoords\"}], \"pie\": [{\"automargin\": true, \"type\": \"pie\"}], \"scatter\": [{\"marker\": {\"colorbar\": {\"outlinewidth\": 0, \"ticks\": \"\"}}, \"type\": \"scatter\"}], \"scatter3d\": [{\"line\": {\"colorbar\": {\"outlinewidth\": 0, \"ticks\": \"\"}}, \"marker\": {\"colorbar\": {\"outlinewidth\": 0, \"ticks\": \"\"}}, \"type\": \"scatter3d\"}], \"scattercarpet\": [{\"marker\": {\"colorbar\": {\"outlinewidth\": 0, \"ticks\": \"\"}}, \"type\": \"scattercarpet\"}], \"scattergeo\": [{\"marker\": {\"colorbar\": {\"outlinewidth\": 0, \"ticks\": \"\"}}, \"type\": \"scattergeo\"}], \"scattergl\": [{\"marker\": {\"colorbar\": {\"outlinewidth\": 0, \"ticks\": \"\"}}, \"type\": \"scattergl\"}], \"scattermapbox\": [{\"marker\": {\"colorbar\": {\"outlinewidth\": 0, \"ticks\": \"\"}}, \"type\": \"scattermapbox\"}], \"scatterpolar\": [{\"marker\": {\"colorbar\": {\"outlinewidth\": 0, \"ticks\": \"\"}}, \"type\": \"scatterpolar\"}], \"scatterpolargl\": [{\"marker\": {\"colorbar\": {\"outlinewidth\": 0, \"ticks\": \"\"}}, \"type\": \"scatterpolargl\"}], \"scatterternary\": [{\"marker\": {\"colorbar\": {\"outlinewidth\": 0, \"ticks\": \"\"}}, \"type\": \"scatterternary\"}], \"surface\": [{\"colorbar\": {\"outlinewidth\": 0, \"ticks\": \"\"}, \"colorscale\": [[0.0, \"#0d0887\"], [0.1111111111111111, \"#46039f\"], [0.2222222222222222, \"#7201a8\"], [0.3333333333333333, \"#9c179e\"], [0.4444444444444444, \"#bd3786\"], [0.5555555555555556, \"#d8576b\"], [0.6666666666666666, \"#ed7953\"], [0.7777777777777778, \"#fb9f3a\"], [0.8888888888888888, \"#fdca26\"], [1.0, \"#f0f921\"]], \"type\": \"surface\"}], \"table\": [{\"cells\": {\"fill\": {\"color\": \"#EBF0F8\"}, \"line\": {\"color\": \"white\"}}, \"header\": {\"fill\": {\"color\": \"#C8D4E3\"}, \"line\": {\"color\": \"white\"}}, \"type\": \"table\"}]}, \"layout\": {\"annotationdefaults\": {\"arrowcolor\": \"#2a3f5f\", \"arrowhead\": 0, \"arrowwidth\": 1}, \"coloraxis\": {\"colorbar\": {\"outlinewidth\": 0, \"ticks\": \"\"}}, \"colorscale\": {\"diverging\": [[0, \"#8e0152\"], [0.1, \"#c51b7d\"], [0.2, \"#de77ae\"], [0.3, \"#f1b6da\"], [0.4, \"#fde0ef\"], [0.5, \"#f7f7f7\"], [0.6, \"#e6f5d0\"], [0.7, \"#b8e186\"], [0.8, \"#7fbc41\"], [0.9, \"#4d9221\"], [1, \"#276419\"]], \"sequential\": [[0.0, \"#0d0887\"], [0.1111111111111111, \"#46039f\"], [0.2222222222222222, \"#7201a8\"], [0.3333333333333333, \"#9c179e\"], [0.4444444444444444, \"#bd3786\"], [0.5555555555555556, \"#d8576b\"], [0.6666666666666666, \"#ed7953\"], [0.7777777777777778, \"#fb9f3a\"], [0.8888888888888888, \"#fdca26\"], [1.0, \"#f0f921\"]], \"sequentialminus\": [[0.0, \"#0d0887\"], [0.1111111111111111, \"#46039f\"], [0.2222222222222222, \"#7201a8\"], [0.3333333333333333, \"#9c179e\"], [0.4444444444444444, \"#bd3786\"], [0.5555555555555556, \"#d8576b\"], [0.6666666666666666, \"#ed7953\"], [0.7777777777777778, \"#fb9f3a\"], [0.8888888888888888, \"#fdca26\"], [1.0, \"#f0f921\"]]}, \"colorway\": [\"#636efa\", \"#EF553B\", \"#00cc96\", \"#ab63fa\", \"#FFA15A\", \"#19d3f3\", \"#FF6692\", \"#B6E880\", \"#FF97FF\", \"#FECB52\"], \"font\": {\"color\": \"#2a3f5f\"}, \"geo\": {\"bgcolor\": \"white\", \"lakecolor\": \"white\", \"landcolor\": \"#E5ECF6\", \"showlakes\": true, \"showland\": true, \"subunitcolor\": \"white\"}, \"hoverlabel\": {\"align\": \"left\"}, \"hovermode\": \"closest\", \"mapbox\": {\"style\": \"light\"}, \"paper_bgcolor\": \"white\", \"plot_bgcolor\": \"#E5ECF6\", \"polar\": {\"angularaxis\": {\"gridcolor\": \"white\", \"linecolor\": \"white\", \"ticks\": \"\"}, \"bgcolor\": \"#E5ECF6\", \"radialaxis\": {\"gridcolor\": \"white\", \"linecolor\": \"white\", \"ticks\": \"\"}}, \"scene\": {\"xaxis\": {\"backgroundcolor\": \"#E5ECF6\", \"gridcolor\": \"white\", \"gridwidth\": 2, \"linecolor\": \"white\", \"showbackground\": true, \"ticks\": \"\", \"zerolinecolor\": \"white\"}, \"yaxis\": {\"backgroundcolor\": \"#E5ECF6\", \"gridcolor\": \"white\", \"gridwidth\": 2, \"linecolor\": \"white\", \"showbackground\": true, \"ticks\": \"\", \"zerolinecolor\": \"white\"}, \"zaxis\": {\"backgroundcolor\": \"#E5ECF6\", \"gridcolor\": \"white\", \"gridwidth\": 2, \"linecolor\": \"white\", \"showbackground\": true, \"ticks\": \"\", \"zerolinecolor\": \"white\"}}, \"shapedefaults\": {\"line\": {\"color\": \"#2a3f5f\"}}, \"ternary\": {\"aaxis\": {\"gridcolor\": \"white\", \"linecolor\": \"white\", \"ticks\": \"\"}, \"baxis\": {\"gridcolor\": \"white\", \"linecolor\": \"white\", \"ticks\": \"\"}, \"bgcolor\": \"#E5ECF6\", \"caxis\": {\"gridcolor\": \"white\", \"linecolor\": \"white\", \"ticks\": \"\"}}, \"title\": {\"x\": 0.05}, \"xaxis\": {\"automargin\": true, \"gridcolor\": \"white\", \"linecolor\": \"white\", \"ticks\": \"\", \"title\": {\"standoff\": 15}, \"zerolinecolor\": \"white\", \"zerolinewidth\": 2}, \"yaxis\": {\"automargin\": true, \"gridcolor\": \"white\", \"linecolor\": \"white\", \"ticks\": \"\", \"title\": {\"standoff\": 15}, \"zerolinecolor\": \"white\", \"zerolinewidth\": 2}}}, \"title\": {\"text\": \"Distribution of Number of Daily Cases Asia\"}, \"xaxis\": {\"anchor\": \"y\", \"domain\": [0.0, 1.0], \"title\": {\"text\": \"Date\"}}, \"yaxis\": {\"anchor\": \"x\", \"domain\": [0.0, 1.0], \"title\": {\"text\": \"Number of Cases\"}}},\n",
              "                        {\"responsive\": true}\n",
              "                    ).then(function(){\n",
              "                            \n",
              "var gd = document.getElementById('68b12b0d-c56c-46c7-a455-8ade0ec1f3ad');\n",
              "var x = new MutationObserver(function (mutations, observer) {{\n",
              "        var display = window.getComputedStyle(gd).display;\n",
              "        if (!display || display === 'none') {{\n",
              "            console.log([gd, 'removed!']);\n",
              "            Plotly.purge(gd);\n",
              "            observer.disconnect();\n",
              "        }}\n",
              "}});\n",
              "\n",
              "// Listen for the removal of the full notebook cells\n",
              "var notebookContainer = gd.closest('#notebook-container');\n",
              "if (notebookContainer) {{\n",
              "    x.observe(notebookContainer, {childList: true});\n",
              "}}\n",
              "\n",
              "// Listen for the clearing of the current output cell\n",
              "var outputEl = gd.closest('.output');\n",
              "if (outputEl) {{\n",
              "    x.observe(outputEl, {childList: true});\n",
              "}}\n",
              "\n",
              "                        })\n",
              "                };\n",
              "                \n",
              "            </script>\n",
              "        </div>\n",
              "</body>\n",
              "</html>"
            ]
          },
          "metadata": {
            "tags": []
          }
        }
      ]
    },
    {
      "cell_type": "code",
      "metadata": {
        "id": "gWz5MgeYAqc7",
        "colab_type": "code",
        "colab": {
          "base_uri": "https://localhost:8080/",
          "height": 542
        },
        "outputId": "be59ce73-685e-4b90-eb0e-1ff8624c409b"
      },
      "source": [
        "#Europe\n",
        "europe=data[data['continentExp']=='Europe']\n",
        "europe=europe.sort_values(by=['month','day'])\n",
        "\n",
        "europe=europe.groupby(['year','month','day','dateRep']).agg({\"cases\":'sum',\"deaths\":'sum'})#test\n",
        "europe=europe.reset_index()\n",
        "\n",
        "europe=europe.sort_values(by=['year','month','day'])\n",
        "\n",
        "fig=px.bar(x=europe['dateRep'],y=europe[\"cases\"])\n",
        "fig.update_layout(title=\"Distribution of Number of Daily Cases Europe\",\n",
        "                  xaxis_title=\"Date\",yaxis_title=\"Number of Cases\",)\n",
        "fig.show()"
      ],
      "execution_count": null,
      "outputs": [
        {
          "output_type": "display_data",
          "data": {
            "text/html": [
              "<html>\n",
              "<head><meta charset=\"utf-8\" /></head>\n",
              "<body>\n",
              "    <div>\n",
              "            <script src=\"https://cdnjs.cloudflare.com/ajax/libs/mathjax/2.7.5/MathJax.js?config=TeX-AMS-MML_SVG\"></script><script type=\"text/javascript\">if (window.MathJax) {MathJax.Hub.Config({SVG: {font: \"STIX-Web\"}});}</script>\n",
              "                <script type=\"text/javascript\">window.PlotlyConfig = {MathJaxConfig: 'local'};</script>\n",
              "        <script src=\"https://cdn.plot.ly/plotly-latest.min.js\"></script>    \n",
              "            <div id=\"7976fabb-cd07-4be7-a214-ebf92167542f\" class=\"plotly-graph-div\" style=\"height:525px; width:100%;\"></div>\n",
              "            <script type=\"text/javascript\">\n",
              "                \n",
              "                    window.PLOTLYENV=window.PLOTLYENV || {};\n",
              "                    \n",
              "                if (document.getElementById(\"7976fabb-cd07-4be7-a214-ebf92167542f\")) {\n",
              "                    Plotly.newPlot(\n",
              "                        '7976fabb-cd07-4be7-a214-ebf92167542f',\n",
              "                        [{\"alignmentgroup\": \"True\", \"hoverlabel\": {\"namelength\": 0}, \"hovertemplate\": \"x=%{x}<br>y=%{y}\", \"legendgroup\": \"\", \"marker\": {\"color\": \"#636efa\"}, \"name\": \"\", \"offsetgroup\": \"\", \"orientation\": \"v\", \"showlegend\": false, \"textposition\": \"auto\", \"type\": \"bar\", \"x\": [\"31/12/2019\", \"01/01/2020\", \"02/01/2020\", \"03/01/2020\", \"04/01/2020\", \"05/01/2020\", \"06/01/2020\", \"07/01/2020\", \"08/01/2020\", \"09/01/2020\", \"10/01/2020\", \"11/01/2020\", \"12/01/2020\", \"13/01/2020\", \"14/01/2020\", \"15/01/2020\", \"16/01/2020\", \"17/01/2020\", \"18/01/2020\", \"19/01/2020\", \"20/01/2020\", \"21/01/2020\", \"22/01/2020\", \"23/01/2020\", \"24/01/2020\", \"25/01/2020\", \"26/01/2020\", \"27/01/2020\", \"28/01/2020\", \"29/01/2020\", \"30/01/2020\", \"31/01/2020\", \"01/02/2020\", \"02/02/2020\", \"03/02/2020\", \"04/02/2020\", \"05/02/2020\", \"06/02/2020\", \"07/02/2020\", \"08/02/2020\", \"09/02/2020\", \"10/02/2020\", \"11/02/2020\", \"12/02/2020\", \"13/02/2020\", \"14/02/2020\", \"15/02/2020\", \"16/02/2020\", \"17/02/2020\", \"18/02/2020\", \"19/02/2020\", \"20/02/2020\", \"21/02/2020\", \"22/02/2020\", \"23/02/2020\", \"24/02/2020\", \"25/02/2020\", \"26/02/2020\", \"27/02/2020\", \"28/02/2020\", \"29/02/2020\", \"01/03/2020\", \"02/03/2020\", \"03/03/2020\", \"04/03/2020\", \"05/03/2020\", \"06/03/2020\", \"07/03/2020\", \"08/03/2020\", \"09/03/2020\", \"10/03/2020\", \"11/03/2020\", \"12/03/2020\", \"13/03/2020\", \"14/03/2020\", \"15/03/2020\", \"16/03/2020\", \"17/03/2020\", \"18/03/2020\", \"19/03/2020\", \"20/03/2020\", \"21/03/2020\", \"22/03/2020\", \"23/03/2020\", \"24/03/2020\", \"25/03/2020\", \"26/03/2020\", \"27/03/2020\", \"28/03/2020\", \"29/03/2020\", \"30/03/2020\", \"31/03/2020\", \"01/04/2020\", \"02/04/2020\", \"03/04/2020\", \"04/04/2020\", \"05/04/2020\", \"06/04/2020\", \"07/04/2020\", \"08/04/2020\", \"09/04/2020\", \"10/04/2020\", \"11/04/2020\", \"12/04/2020\", \"13/04/2020\", \"14/04/2020\", \"15/04/2020\", \"16/04/2020\", \"17/04/2020\", \"18/04/2020\", \"19/04/2020\", \"20/04/2020\", \"21/04/2020\", \"22/04/2020\", \"23/04/2020\", \"24/04/2020\", \"25/04/2020\", \"26/04/2020\", \"27/04/2020\", \"28/04/2020\", \"29/04/2020\", \"30/04/2020\", \"01/05/2020\", \"02/05/2020\", \"03/05/2020\", \"04/05/2020\", \"05/05/2020\", \"06/05/2020\", \"07/05/2020\", \"08/05/2020\", \"09/05/2020\", \"10/05/2020\", \"11/05/2020\", \"12/05/2020\", \"13/05/2020\", \"14/05/2020\", \"15/05/2020\", \"16/05/2020\", \"17/05/2020\", \"18/05/2020\", \"19/05/2020\", \"20/05/2020\", \"21/05/2020\", \"22/05/2020\", \"23/05/2020\", \"24/05/2020\", \"25/05/2020\", \"26/05/2020\", \"27/05/2020\", \"28/05/2020\", \"29/05/2020\", \"30/05/2020\", \"31/05/2020\", \"01/06/2020\", \"02/06/2020\", \"03/06/2020\", \"04/06/2020\", \"05/06/2020\", \"06/06/2020\", \"07/06/2020\", \"08/06/2020\", \"09/06/2020\", \"10/06/2020\", \"11/06/2020\", \"12/06/2020\", \"13/06/2020\", \"14/06/2020\", \"15/06/2020\", \"16/06/2020\", \"17/06/2020\", \"18/06/2020\", \"19/06/2020\", \"20/06/2020\", \"21/06/2020\", \"22/06/2020\", \"23/06/2020\", \"24/06/2020\", \"25/06/2020\", \"26/06/2020\", \"27/06/2020\", \"28/06/2020\"], \"xaxis\": \"x\", \"y\": [0, 0, 0, 0, 0, 0, 0, 0, 0, 0, 0, 0, 0, 0, 0, 0, 0, 0, 0, 0, 0, 0, 0, 0, 0, 3, 0, 0, 1, 4, 2, 7, 6, 1, 1, 3, 0, 0, 2, 6, 1, 1, 4, 2, 1, 0, 0, 0, 1, 0, 0, 0, 0, 14, 62, 57, 98, 107, 102, 344, 313, 402, 733, 534, 729, 999, 1571, 2029, 2194, 2810, 3586, 3308, 5649, 7276, 7496, 9332, 9233, 10686, 12433, 14233, 22506, 22223, 22247, 20573, 27677, 26224, 30480, 35191, 35926, 31711, 28031, 31469, 36334, 36433, 34066, 37525, 32436, 27531, 28898, 29151, 33765, 34996, 34753, 33162, 25303, 24188, 31016, 28938, 30623, 29380, 25227, 25760, 25379, 26552, 27259, 25773, 28043, 24265, 21875, 20832, 20619, 22272, 23591, 25465, 23210, 22251, 22459, 23417, 30028, 26546, 24695, 25052, 20759, 22030, 22235, 20913, 21561, 21381, 19492, 18380, 17163, 18299, 15221, 19162, 18888, 18187, 15255, 16305, 18459, 16603, 20403, 18228, 16972, 16154, 15193, 15141, 17933, 18174, 17917, 16704, 16339, 15888, 16320, 15974, 17937, 18133, 17767, 16539, 14908, 16192, 17141, 17291, 15595, 16281, 14602, 17154, 17797, 14446, 17234, 17914, 13409], \"yaxis\": \"y\"}],\n",
              "                        {\"barmode\": \"relative\", \"legend\": {\"tracegroupgap\": 0}, \"margin\": {\"t\": 60}, \"template\": {\"data\": {\"bar\": [{\"error_x\": {\"color\": \"#2a3f5f\"}, \"error_y\": {\"color\": \"#2a3f5f\"}, \"marker\": {\"line\": {\"color\": \"#E5ECF6\", \"width\": 0.5}}, \"type\": \"bar\"}], \"barpolar\": [{\"marker\": {\"line\": {\"color\": \"#E5ECF6\", \"width\": 0.5}}, \"type\": \"barpolar\"}], \"carpet\": [{\"aaxis\": {\"endlinecolor\": \"#2a3f5f\", \"gridcolor\": \"white\", \"linecolor\": \"white\", \"minorgridcolor\": \"white\", \"startlinecolor\": \"#2a3f5f\"}, \"baxis\": {\"endlinecolor\": \"#2a3f5f\", \"gridcolor\": \"white\", \"linecolor\": \"white\", \"minorgridcolor\": \"white\", \"startlinecolor\": \"#2a3f5f\"}, \"type\": \"carpet\"}], \"choropleth\": [{\"colorbar\": {\"outlinewidth\": 0, \"ticks\": \"\"}, \"type\": \"choropleth\"}], \"contour\": [{\"colorbar\": {\"outlinewidth\": 0, \"ticks\": \"\"}, \"colorscale\": [[0.0, \"#0d0887\"], [0.1111111111111111, \"#46039f\"], [0.2222222222222222, \"#7201a8\"], [0.3333333333333333, \"#9c179e\"], [0.4444444444444444, \"#bd3786\"], [0.5555555555555556, \"#d8576b\"], [0.6666666666666666, \"#ed7953\"], [0.7777777777777778, \"#fb9f3a\"], [0.8888888888888888, \"#fdca26\"], [1.0, \"#f0f921\"]], \"type\": \"contour\"}], \"contourcarpet\": [{\"colorbar\": {\"outlinewidth\": 0, \"ticks\": \"\"}, \"type\": \"contourcarpet\"}], \"heatmap\": [{\"colorbar\": {\"outlinewidth\": 0, \"ticks\": \"\"}, \"colorscale\": [[0.0, \"#0d0887\"], [0.1111111111111111, \"#46039f\"], [0.2222222222222222, \"#7201a8\"], [0.3333333333333333, \"#9c179e\"], [0.4444444444444444, \"#bd3786\"], [0.5555555555555556, \"#d8576b\"], [0.6666666666666666, \"#ed7953\"], [0.7777777777777778, \"#fb9f3a\"], [0.8888888888888888, \"#fdca26\"], [1.0, \"#f0f921\"]], \"type\": \"heatmap\"}], \"heatmapgl\": [{\"colorbar\": {\"outlinewidth\": 0, \"ticks\": \"\"}, \"colorscale\": [[0.0, \"#0d0887\"], [0.1111111111111111, \"#46039f\"], [0.2222222222222222, \"#7201a8\"], [0.3333333333333333, \"#9c179e\"], [0.4444444444444444, \"#bd3786\"], [0.5555555555555556, \"#d8576b\"], [0.6666666666666666, \"#ed7953\"], [0.7777777777777778, \"#fb9f3a\"], [0.8888888888888888, \"#fdca26\"], [1.0, \"#f0f921\"]], \"type\": \"heatmapgl\"}], \"histogram\": [{\"marker\": {\"colorbar\": {\"outlinewidth\": 0, \"ticks\": \"\"}}, \"type\": \"histogram\"}], \"histogram2d\": [{\"colorbar\": {\"outlinewidth\": 0, \"ticks\": \"\"}, \"colorscale\": [[0.0, \"#0d0887\"], [0.1111111111111111, \"#46039f\"], [0.2222222222222222, \"#7201a8\"], [0.3333333333333333, \"#9c179e\"], [0.4444444444444444, \"#bd3786\"], [0.5555555555555556, \"#d8576b\"], [0.6666666666666666, \"#ed7953\"], [0.7777777777777778, \"#fb9f3a\"], [0.8888888888888888, \"#fdca26\"], [1.0, \"#f0f921\"]], \"type\": \"histogram2d\"}], \"histogram2dcontour\": [{\"colorbar\": {\"outlinewidth\": 0, \"ticks\": \"\"}, \"colorscale\": [[0.0, \"#0d0887\"], [0.1111111111111111, \"#46039f\"], [0.2222222222222222, \"#7201a8\"], [0.3333333333333333, \"#9c179e\"], [0.4444444444444444, \"#bd3786\"], [0.5555555555555556, \"#d8576b\"], [0.6666666666666666, \"#ed7953\"], [0.7777777777777778, \"#fb9f3a\"], [0.8888888888888888, \"#fdca26\"], [1.0, \"#f0f921\"]], \"type\": \"histogram2dcontour\"}], \"mesh3d\": [{\"colorbar\": {\"outlinewidth\": 0, \"ticks\": \"\"}, \"type\": \"mesh3d\"}], \"parcoords\": [{\"line\": {\"colorbar\": {\"outlinewidth\": 0, \"ticks\": \"\"}}, \"type\": \"parcoords\"}], \"pie\": [{\"automargin\": true, \"type\": \"pie\"}], \"scatter\": [{\"marker\": {\"colorbar\": {\"outlinewidth\": 0, \"ticks\": \"\"}}, \"type\": \"scatter\"}], \"scatter3d\": [{\"line\": {\"colorbar\": {\"outlinewidth\": 0, \"ticks\": \"\"}}, \"marker\": {\"colorbar\": {\"outlinewidth\": 0, \"ticks\": \"\"}}, \"type\": \"scatter3d\"}], \"scattercarpet\": [{\"marker\": {\"colorbar\": {\"outlinewidth\": 0, \"ticks\": \"\"}}, \"type\": \"scattercarpet\"}], \"scattergeo\": [{\"marker\": {\"colorbar\": {\"outlinewidth\": 0, \"ticks\": \"\"}}, \"type\": \"scattergeo\"}], \"scattergl\": [{\"marker\": {\"colorbar\": {\"outlinewidth\": 0, \"ticks\": \"\"}}, \"type\": \"scattergl\"}], \"scattermapbox\": [{\"marker\": {\"colorbar\": {\"outlinewidth\": 0, \"ticks\": \"\"}}, \"type\": \"scattermapbox\"}], \"scatterpolar\": [{\"marker\": {\"colorbar\": {\"outlinewidth\": 0, \"ticks\": \"\"}}, \"type\": \"scatterpolar\"}], \"scatterpolargl\": [{\"marker\": {\"colorbar\": {\"outlinewidth\": 0, \"ticks\": \"\"}}, \"type\": \"scatterpolargl\"}], \"scatterternary\": [{\"marker\": {\"colorbar\": {\"outlinewidth\": 0, \"ticks\": \"\"}}, \"type\": \"scatterternary\"}], \"surface\": [{\"colorbar\": {\"outlinewidth\": 0, \"ticks\": \"\"}, \"colorscale\": [[0.0, \"#0d0887\"], [0.1111111111111111, \"#46039f\"], [0.2222222222222222, \"#7201a8\"], [0.3333333333333333, \"#9c179e\"], [0.4444444444444444, \"#bd3786\"], [0.5555555555555556, \"#d8576b\"], [0.6666666666666666, \"#ed7953\"], [0.7777777777777778, \"#fb9f3a\"], [0.8888888888888888, \"#fdca26\"], [1.0, \"#f0f921\"]], \"type\": \"surface\"}], \"table\": [{\"cells\": {\"fill\": {\"color\": \"#EBF0F8\"}, \"line\": {\"color\": \"white\"}}, \"header\": {\"fill\": {\"color\": \"#C8D4E3\"}, \"line\": {\"color\": \"white\"}}, \"type\": \"table\"}]}, \"layout\": {\"annotationdefaults\": {\"arrowcolor\": \"#2a3f5f\", \"arrowhead\": 0, \"arrowwidth\": 1}, \"coloraxis\": {\"colorbar\": {\"outlinewidth\": 0, \"ticks\": \"\"}}, \"colorscale\": {\"diverging\": [[0, \"#8e0152\"], [0.1, \"#c51b7d\"], [0.2, \"#de77ae\"], [0.3, \"#f1b6da\"], [0.4, \"#fde0ef\"], [0.5, \"#f7f7f7\"], [0.6, \"#e6f5d0\"], [0.7, \"#b8e186\"], [0.8, \"#7fbc41\"], [0.9, \"#4d9221\"], [1, \"#276419\"]], \"sequential\": [[0.0, \"#0d0887\"], [0.1111111111111111, \"#46039f\"], [0.2222222222222222, \"#7201a8\"], [0.3333333333333333, \"#9c179e\"], [0.4444444444444444, \"#bd3786\"], [0.5555555555555556, \"#d8576b\"], [0.6666666666666666, \"#ed7953\"], [0.7777777777777778, \"#fb9f3a\"], [0.8888888888888888, \"#fdca26\"], [1.0, \"#f0f921\"]], \"sequentialminus\": [[0.0, \"#0d0887\"], [0.1111111111111111, \"#46039f\"], [0.2222222222222222, \"#7201a8\"], [0.3333333333333333, \"#9c179e\"], [0.4444444444444444, \"#bd3786\"], [0.5555555555555556, \"#d8576b\"], [0.6666666666666666, \"#ed7953\"], [0.7777777777777778, \"#fb9f3a\"], [0.8888888888888888, \"#fdca26\"], [1.0, \"#f0f921\"]]}, \"colorway\": [\"#636efa\", \"#EF553B\", \"#00cc96\", \"#ab63fa\", \"#FFA15A\", \"#19d3f3\", \"#FF6692\", \"#B6E880\", \"#FF97FF\", \"#FECB52\"], \"font\": {\"color\": \"#2a3f5f\"}, \"geo\": {\"bgcolor\": \"white\", \"lakecolor\": \"white\", \"landcolor\": \"#E5ECF6\", \"showlakes\": true, \"showland\": true, \"subunitcolor\": \"white\"}, \"hoverlabel\": {\"align\": \"left\"}, \"hovermode\": \"closest\", \"mapbox\": {\"style\": \"light\"}, \"paper_bgcolor\": \"white\", \"plot_bgcolor\": \"#E5ECF6\", \"polar\": {\"angularaxis\": {\"gridcolor\": \"white\", \"linecolor\": \"white\", \"ticks\": \"\"}, \"bgcolor\": \"#E5ECF6\", \"radialaxis\": {\"gridcolor\": \"white\", \"linecolor\": \"white\", \"ticks\": \"\"}}, \"scene\": {\"xaxis\": {\"backgroundcolor\": \"#E5ECF6\", \"gridcolor\": \"white\", \"gridwidth\": 2, \"linecolor\": \"white\", \"showbackground\": true, \"ticks\": \"\", \"zerolinecolor\": \"white\"}, \"yaxis\": {\"backgroundcolor\": \"#E5ECF6\", \"gridcolor\": \"white\", \"gridwidth\": 2, \"linecolor\": \"white\", \"showbackground\": true, \"ticks\": \"\", \"zerolinecolor\": \"white\"}, \"zaxis\": {\"backgroundcolor\": \"#E5ECF6\", \"gridcolor\": \"white\", \"gridwidth\": 2, \"linecolor\": \"white\", \"showbackground\": true, \"ticks\": \"\", \"zerolinecolor\": \"white\"}}, \"shapedefaults\": {\"line\": {\"color\": \"#2a3f5f\"}}, \"ternary\": {\"aaxis\": {\"gridcolor\": \"white\", \"linecolor\": \"white\", \"ticks\": \"\"}, \"baxis\": {\"gridcolor\": \"white\", \"linecolor\": \"white\", \"ticks\": \"\"}, \"bgcolor\": \"#E5ECF6\", \"caxis\": {\"gridcolor\": \"white\", \"linecolor\": \"white\", \"ticks\": \"\"}}, \"title\": {\"x\": 0.05}, \"xaxis\": {\"automargin\": true, \"gridcolor\": \"white\", \"linecolor\": \"white\", \"ticks\": \"\", \"title\": {\"standoff\": 15}, \"zerolinecolor\": \"white\", \"zerolinewidth\": 2}, \"yaxis\": {\"automargin\": true, \"gridcolor\": \"white\", \"linecolor\": \"white\", \"ticks\": \"\", \"title\": {\"standoff\": 15}, \"zerolinecolor\": \"white\", \"zerolinewidth\": 2}}}, \"title\": {\"text\": \"Distribution of Number of Daily Cases Europe\"}, \"xaxis\": {\"anchor\": \"y\", \"domain\": [0.0, 1.0], \"title\": {\"text\": \"Date\"}}, \"yaxis\": {\"anchor\": \"x\", \"domain\": [0.0, 1.0], \"title\": {\"text\": \"Number of Cases\"}}},\n",
              "                        {\"responsive\": true}\n",
              "                    ).then(function(){\n",
              "                            \n",
              "var gd = document.getElementById('7976fabb-cd07-4be7-a214-ebf92167542f');\n",
              "var x = new MutationObserver(function (mutations, observer) {{\n",
              "        var display = window.getComputedStyle(gd).display;\n",
              "        if (!display || display === 'none') {{\n",
              "            console.log([gd, 'removed!']);\n",
              "            Plotly.purge(gd);\n",
              "            observer.disconnect();\n",
              "        }}\n",
              "}});\n",
              "\n",
              "// Listen for the removal of the full notebook cells\n",
              "var notebookContainer = gd.closest('#notebook-container');\n",
              "if (notebookContainer) {{\n",
              "    x.observe(notebookContainer, {childList: true});\n",
              "}}\n",
              "\n",
              "// Listen for the clearing of the current output cell\n",
              "var outputEl = gd.closest('.output');\n",
              "if (outputEl) {{\n",
              "    x.observe(outputEl, {childList: true});\n",
              "}}\n",
              "\n",
              "                        })\n",
              "                };\n",
              "                \n",
              "            </script>\n",
              "        </div>\n",
              "</body>\n",
              "</html>"
            ]
          },
          "metadata": {
            "tags": []
          }
        }
      ]
    },
    {
      "cell_type": "code",
      "metadata": {
        "id": "5x0Z6hroRfBq",
        "colab_type": "code",
        "colab": {}
      },
      "source": [
        ""
      ],
      "execution_count": null,
      "outputs": []
    },
    {
      "cell_type": "markdown",
      "metadata": {
        "id": "xxCTilvlQqgG",
        "colab_type": "text"
      },
      "source": [
        "Asia vs Europe"
      ]
    },
    {
      "cell_type": "code",
      "metadata": {
        "id": "CKvrIs7XL9pw",
        "colab_type": "code",
        "colab": {
          "base_uri": "https://localhost:8080/",
          "height": 1000
        },
        "outputId": "b5fc45e8-c382-4eb3-eec3-e34e9d58ea6d"
      },
      "source": [
        "fig = make_subplots(rows = 2, cols = 1,subplot_titles = (\"Asia\", \"Europe\"))\n",
        "fig.add_trace(\n",
        "    go.Scatter(x=asia['dateRep'], y=asia['cases'],name='Asia'),\n",
        "    row=1, col=1\n",
        ")\n",
        "fig.add_trace(\n",
        "    go.Scatter(x=europe['dateRep'] , y=europe['cases'],name=\"Europe\"),\n",
        "    row=2, col=1\n",
        ")\n",
        "fig.update_layout(height=1000,legend=dict(x=-0.1,y=1.2,traceorder=\"normal\"))\n",
        "fig.update_xaxes(title_text=\"Date\", row=1, col=1)\n",
        "fig.update_yaxes(title_text=\"Cases\", row=1, col=1)\n",
        "fig.update_xaxes(title_text=\"Date\", row=1, col=2)\n",
        "fig.update_yaxes(title_text=\"Europe\", row=1, col=2)\n",
        "fig.show()"
      ],
      "execution_count": null,
      "outputs": [
        {
          "output_type": "display_data",
          "data": {
            "text/html": [
              "<html>\n",
              "<head><meta charset=\"utf-8\" /></head>\n",
              "<body>\n",
              "    <div>\n",
              "            <script src=\"https://cdnjs.cloudflare.com/ajax/libs/mathjax/2.7.5/MathJax.js?config=TeX-AMS-MML_SVG\"></script><script type=\"text/javascript\">if (window.MathJax) {MathJax.Hub.Config({SVG: {font: \"STIX-Web\"}});}</script>\n",
              "                <script type=\"text/javascript\">window.PlotlyConfig = {MathJaxConfig: 'local'};</script>\n",
              "        <script src=\"https://cdn.plot.ly/plotly-latest.min.js\"></script>    \n",
              "            <div id=\"6aae831b-9b41-497a-adb5-b8b252ddeede\" class=\"plotly-graph-div\" style=\"height:1000px; width:100%;\"></div>\n",
              "            <script type=\"text/javascript\">\n",
              "                \n",
              "                    window.PLOTLYENV=window.PLOTLYENV || {};\n",
              "                    \n",
              "                if (document.getElementById(\"6aae831b-9b41-497a-adb5-b8b252ddeede\")) {\n",
              "                    Plotly.newPlot(\n",
              "                        '6aae831b-9b41-497a-adb5-b8b252ddeede',\n",
              "                        [{\"name\": \"Asia\", \"type\": \"scatter\", \"x\": [\"31/12/2019\", \"01/01/2020\", \"02/01/2020\", \"03/01/2020\", \"04/01/2020\", \"05/01/2020\", \"06/01/2020\", \"07/01/2020\", \"08/01/2020\", \"09/01/2020\", \"10/01/2020\", \"11/01/2020\", \"12/01/2020\", \"13/01/2020\", \"14/01/2020\", \"15/01/2020\", \"16/01/2020\", \"17/01/2020\", \"18/01/2020\", \"19/01/2020\", \"20/01/2020\", \"21/01/2020\", \"22/01/2020\", \"23/01/2020\", \"24/01/2020\", \"25/01/2020\", \"26/01/2020\", \"27/01/2020\", \"28/01/2020\", \"29/01/2020\", \"30/01/2020\", \"31/01/2020\", \"01/02/2020\", \"02/02/2020\", \"03/02/2020\", \"04/02/2020\", \"05/02/2020\", \"06/02/2020\", \"07/02/2020\", \"08/02/2020\", \"09/02/2020\", \"10/02/2020\", \"11/02/2020\", \"12/02/2020\", \"13/02/2020\", \"14/02/2020\", \"15/02/2020\", \"16/02/2020\", \"17/02/2020\", \"18/02/2020\", \"19/02/2020\", \"20/02/2020\", \"21/02/2020\", \"22/02/2020\", \"23/02/2020\", \"24/02/2020\", \"25/02/2020\", \"26/02/2020\", \"27/02/2020\", \"28/02/2020\", \"29/02/2020\", \"01/03/2020\", \"02/03/2020\", \"03/03/2020\", \"04/03/2020\", \"05/03/2020\", \"06/03/2020\", \"07/03/2020\", \"08/03/2020\", \"09/03/2020\", \"10/03/2020\", \"11/03/2020\", \"12/03/2020\", \"13/03/2020\", \"14/03/2020\", \"15/03/2020\", \"16/03/2020\", \"17/03/2020\", \"18/03/2020\", \"19/03/2020\", \"20/03/2020\", \"21/03/2020\", \"22/03/2020\", \"23/03/2020\", \"24/03/2020\", \"25/03/2020\", \"26/03/2020\", \"27/03/2020\", \"28/03/2020\", \"29/03/2020\", \"30/03/2020\", \"31/03/2020\", \"01/04/2020\", \"02/04/2020\", \"03/04/2020\", \"04/04/2020\", \"05/04/2020\", \"06/04/2020\", \"07/04/2020\", \"08/04/2020\", \"09/04/2020\", \"10/04/2020\", \"11/04/2020\", \"12/04/2020\", \"13/04/2020\", \"14/04/2020\", \"15/04/2020\", \"16/04/2020\", \"17/04/2020\", \"18/04/2020\", \"19/04/2020\", \"20/04/2020\", \"21/04/2020\", \"22/04/2020\", \"23/04/2020\", \"24/04/2020\", \"25/04/2020\", \"26/04/2020\", \"27/04/2020\", \"28/04/2020\", \"29/04/2020\", \"30/04/2020\", \"01/05/2020\", \"02/05/2020\", \"03/05/2020\", \"04/05/2020\", \"05/05/2020\", \"06/05/2020\", \"07/05/2020\", \"08/05/2020\", \"09/05/2020\", \"10/05/2020\", \"11/05/2020\", \"12/05/2020\", \"13/05/2020\", \"14/05/2020\", \"15/05/2020\", \"16/05/2020\", \"17/05/2020\", \"18/05/2020\", \"19/05/2020\", \"20/05/2020\", \"21/05/2020\", \"22/05/2020\", \"23/05/2020\", \"24/05/2020\", \"25/05/2020\", \"26/05/2020\", \"27/05/2020\", \"28/05/2020\", \"29/05/2020\", \"30/05/2020\", \"31/05/2020\", \"01/06/2020\", \"02/06/2020\", \"03/06/2020\", \"04/06/2020\", \"05/06/2020\", \"06/06/2020\", \"07/06/2020\", \"08/06/2020\", \"09/06/2020\", \"10/06/2020\", \"11/06/2020\", \"12/06/2020\", \"13/06/2020\", \"14/06/2020\", \"15/06/2020\", \"16/06/2020\", \"17/06/2020\", \"18/06/2020\", \"19/06/2020\", \"20/06/2020\", \"21/06/2020\", \"22/06/2020\", \"23/06/2020\", \"24/06/2020\", \"25/06/2020\", \"26/06/2020\", \"27/06/2020\", \"28/06/2020\"], \"xaxis\": \"x\", \"y\": [27, 0, 0, 17, 0, 15, 0, 0, 0, 0, 0, 0, 0, 1, 0, 1, 0, 5, 17, 136, 20, 152, 142, 97, 266, 448, 669, 794, 1765, 1475, 1752, 1994, 2110, 2604, 2814, 3240, 3895, 3739, 3172, 3433, 2618, 2981, 2495, 2031, 15149, 4166, 2558, 2028, 2066, 1896, 1776, 453, 979, 1048, 945, 413, 675, 756, 985, 920, 1523, 1403, 1326, 1273, 1514, 1253, 1348, 1959, 1622, 1164, 913, 1335, 1624, 1370, 1813, 1790, 1933, 1798, 1916, 2058, 2382, 2522, 2940, 2691, 3196, 4032, 4583, 5312, 6953, 7302, 7076, 7472, 7706, 8324, 8736, 6162, 12210, 10077, 9286, 9513, 9378, 10025, 10953, 12979, 11420, 11669, 11085, 11307, 12876, 11701, 12204, 12232, 14085, 13165, 11388, 13421, 12972, 12340, 11322, 10997, 11585, 12703, 12854, 13213, 11997, 12525, 14318, 14031, 16086, 15492, 15722, 15910, 17182, 15307, 18254, 17894, 18324, 19798, 19426, 20705, 20356, 21088, 22371, 23838, 23453, 24363, 22857, 21619, 20439, 22283, 25879, 28005, 27242, 28106, 27745, 29901, 32003, 31374, 32643, 32754, 32854, 32206, 33573, 34703, 37449, 38380, 38063, 36668, 36121, 37806, 40041, 40671, 39905, 42544, 38519, 39350, 40802, 43612, 42830, 45125, 45349], \"yaxis\": \"y\"}, {\"name\": \"Europe\", \"type\": \"scatter\", \"x\": [\"31/12/2019\", \"01/01/2020\", \"02/01/2020\", \"03/01/2020\", \"04/01/2020\", \"05/01/2020\", \"06/01/2020\", \"07/01/2020\", \"08/01/2020\", \"09/01/2020\", \"10/01/2020\", \"11/01/2020\", \"12/01/2020\", \"13/01/2020\", \"14/01/2020\", \"15/01/2020\", \"16/01/2020\", \"17/01/2020\", \"18/01/2020\", \"19/01/2020\", \"20/01/2020\", \"21/01/2020\", \"22/01/2020\", \"23/01/2020\", \"24/01/2020\", \"25/01/2020\", \"26/01/2020\", \"27/01/2020\", \"28/01/2020\", \"29/01/2020\", \"30/01/2020\", \"31/01/2020\", \"01/02/2020\", \"02/02/2020\", \"03/02/2020\", \"04/02/2020\", \"05/02/2020\", \"06/02/2020\", \"07/02/2020\", \"08/02/2020\", \"09/02/2020\", \"10/02/2020\", \"11/02/2020\", \"12/02/2020\", \"13/02/2020\", \"14/02/2020\", \"15/02/2020\", \"16/02/2020\", \"17/02/2020\", \"18/02/2020\", \"19/02/2020\", \"20/02/2020\", \"21/02/2020\", \"22/02/2020\", \"23/02/2020\", \"24/02/2020\", \"25/02/2020\", \"26/02/2020\", \"27/02/2020\", \"28/02/2020\", \"29/02/2020\", \"01/03/2020\", \"02/03/2020\", \"03/03/2020\", \"04/03/2020\", \"05/03/2020\", \"06/03/2020\", \"07/03/2020\", \"08/03/2020\", \"09/03/2020\", \"10/03/2020\", \"11/03/2020\", \"12/03/2020\", \"13/03/2020\", \"14/03/2020\", \"15/03/2020\", \"16/03/2020\", \"17/03/2020\", \"18/03/2020\", \"19/03/2020\", \"20/03/2020\", \"21/03/2020\", \"22/03/2020\", \"23/03/2020\", \"24/03/2020\", \"25/03/2020\", \"26/03/2020\", \"27/03/2020\", \"28/03/2020\", \"29/03/2020\", \"30/03/2020\", \"31/03/2020\", \"01/04/2020\", \"02/04/2020\", \"03/04/2020\", \"04/04/2020\", \"05/04/2020\", \"06/04/2020\", \"07/04/2020\", \"08/04/2020\", \"09/04/2020\", \"10/04/2020\", \"11/04/2020\", \"12/04/2020\", \"13/04/2020\", \"14/04/2020\", \"15/04/2020\", \"16/04/2020\", \"17/04/2020\", \"18/04/2020\", \"19/04/2020\", \"20/04/2020\", \"21/04/2020\", \"22/04/2020\", \"23/04/2020\", \"24/04/2020\", \"25/04/2020\", \"26/04/2020\", \"27/04/2020\", \"28/04/2020\", \"29/04/2020\", \"30/04/2020\", \"01/05/2020\", \"02/05/2020\", \"03/05/2020\", \"04/05/2020\", \"05/05/2020\", \"06/05/2020\", \"07/05/2020\", \"08/05/2020\", \"09/05/2020\", \"10/05/2020\", \"11/05/2020\", \"12/05/2020\", \"13/05/2020\", \"14/05/2020\", \"15/05/2020\", \"16/05/2020\", \"17/05/2020\", \"18/05/2020\", \"19/05/2020\", \"20/05/2020\", \"21/05/2020\", \"22/05/2020\", \"23/05/2020\", \"24/05/2020\", \"25/05/2020\", \"26/05/2020\", \"27/05/2020\", \"28/05/2020\", \"29/05/2020\", \"30/05/2020\", \"31/05/2020\", \"01/06/2020\", \"02/06/2020\", \"03/06/2020\", \"04/06/2020\", \"05/06/2020\", \"06/06/2020\", \"07/06/2020\", \"08/06/2020\", \"09/06/2020\", \"10/06/2020\", \"11/06/2020\", \"12/06/2020\", \"13/06/2020\", \"14/06/2020\", \"15/06/2020\", \"16/06/2020\", \"17/06/2020\", \"18/06/2020\", \"19/06/2020\", \"20/06/2020\", \"21/06/2020\", \"22/06/2020\", \"23/06/2020\", \"24/06/2020\", \"25/06/2020\", \"26/06/2020\", \"27/06/2020\", \"28/06/2020\"], \"xaxis\": \"x2\", \"y\": [0, 0, 0, 0, 0, 0, 0, 0, 0, 0, 0, 0, 0, 0, 0, 0, 0, 0, 0, 0, 0, 0, 0, 0, 0, 3, 0, 0, 1, 4, 2, 7, 6, 1, 1, 3, 0, 0, 2, 6, 1, 1, 4, 2, 1, 0, 0, 0, 1, 0, 0, 0, 0, 14, 62, 57, 98, 107, 102, 344, 313, 402, 733, 534, 729, 999, 1571, 2029, 2194, 2810, 3586, 3308, 5649, 7276, 7496, 9332, 9233, 10686, 12433, 14233, 22506, 22223, 22247, 20573, 27677, 26224, 30480, 35191, 35926, 31711, 28031, 31469, 36334, 36433, 34066, 37525, 32436, 27531, 28898, 29151, 33765, 34996, 34753, 33162, 25303, 24188, 31016, 28938, 30623, 29380, 25227, 25760, 25379, 26552, 27259, 25773, 28043, 24265, 21875, 20832, 20619, 22272, 23591, 25465, 23210, 22251, 22459, 23417, 30028, 26546, 24695, 25052, 20759, 22030, 22235, 20913, 21561, 21381, 19492, 18380, 17163, 18299, 15221, 19162, 18888, 18187, 15255, 16305, 18459, 16603, 20403, 18228, 16972, 16154, 15193, 15141, 17933, 18174, 17917, 16704, 16339, 15888, 16320, 15974, 17937, 18133, 17767, 16539, 14908, 16192, 17141, 17291, 15595, 16281, 14602, 17154, 17797, 14446, 17234, 17914, 13409], \"yaxis\": \"y2\"}],\n",
              "                        {\"annotations\": [{\"font\": {\"size\": 16}, \"showarrow\": false, \"text\": \"Asia\", \"x\": 0.5, \"xanchor\": \"center\", \"xref\": \"paper\", \"y\": 1.0, \"yanchor\": \"bottom\", \"yref\": \"paper\"}, {\"font\": {\"size\": 16}, \"showarrow\": false, \"text\": \"Europe\", \"x\": 0.5, \"xanchor\": \"center\", \"xref\": \"paper\", \"y\": 0.375, \"yanchor\": \"bottom\", \"yref\": \"paper\"}], \"height\": 1000, \"legend\": {\"traceorder\": \"normal\", \"x\": -0.1, \"y\": 1.2}, \"template\": {\"data\": {\"bar\": [{\"error_x\": {\"color\": \"#2a3f5f\"}, \"error_y\": {\"color\": \"#2a3f5f\"}, \"marker\": {\"line\": {\"color\": \"#E5ECF6\", \"width\": 0.5}}, \"type\": \"bar\"}], \"barpolar\": [{\"marker\": {\"line\": {\"color\": \"#E5ECF6\", \"width\": 0.5}}, \"type\": \"barpolar\"}], \"carpet\": [{\"aaxis\": {\"endlinecolor\": \"#2a3f5f\", \"gridcolor\": \"white\", \"linecolor\": \"white\", \"minorgridcolor\": \"white\", \"startlinecolor\": \"#2a3f5f\"}, \"baxis\": {\"endlinecolor\": \"#2a3f5f\", \"gridcolor\": \"white\", \"linecolor\": \"white\", \"minorgridcolor\": \"white\", \"startlinecolor\": \"#2a3f5f\"}, \"type\": \"carpet\"}], \"choropleth\": [{\"colorbar\": {\"outlinewidth\": 0, \"ticks\": \"\"}, \"type\": \"choropleth\"}], \"contour\": [{\"colorbar\": {\"outlinewidth\": 0, \"ticks\": \"\"}, \"colorscale\": [[0.0, \"#0d0887\"], [0.1111111111111111, \"#46039f\"], [0.2222222222222222, \"#7201a8\"], [0.3333333333333333, \"#9c179e\"], [0.4444444444444444, \"#bd3786\"], [0.5555555555555556, \"#d8576b\"], [0.6666666666666666, \"#ed7953\"], [0.7777777777777778, \"#fb9f3a\"], [0.8888888888888888, \"#fdca26\"], [1.0, \"#f0f921\"]], \"type\": \"contour\"}], \"contourcarpet\": [{\"colorbar\": {\"outlinewidth\": 0, \"ticks\": \"\"}, \"type\": \"contourcarpet\"}], \"heatmap\": [{\"colorbar\": {\"outlinewidth\": 0, \"ticks\": \"\"}, \"colorscale\": [[0.0, \"#0d0887\"], [0.1111111111111111, \"#46039f\"], [0.2222222222222222, \"#7201a8\"], [0.3333333333333333, \"#9c179e\"], [0.4444444444444444, \"#bd3786\"], [0.5555555555555556, \"#d8576b\"], [0.6666666666666666, \"#ed7953\"], [0.7777777777777778, \"#fb9f3a\"], [0.8888888888888888, \"#fdca26\"], [1.0, \"#f0f921\"]], \"type\": \"heatmap\"}], \"heatmapgl\": [{\"colorbar\": {\"outlinewidth\": 0, \"ticks\": \"\"}, \"colorscale\": [[0.0, \"#0d0887\"], [0.1111111111111111, \"#46039f\"], [0.2222222222222222, \"#7201a8\"], [0.3333333333333333, \"#9c179e\"], [0.4444444444444444, \"#bd3786\"], [0.5555555555555556, \"#d8576b\"], [0.6666666666666666, \"#ed7953\"], [0.7777777777777778, \"#fb9f3a\"], [0.8888888888888888, \"#fdca26\"], [1.0, \"#f0f921\"]], \"type\": \"heatmapgl\"}], \"histogram\": [{\"marker\": {\"colorbar\": {\"outlinewidth\": 0, \"ticks\": \"\"}}, \"type\": \"histogram\"}], \"histogram2d\": [{\"colorbar\": {\"outlinewidth\": 0, \"ticks\": \"\"}, \"colorscale\": [[0.0, \"#0d0887\"], [0.1111111111111111, \"#46039f\"], [0.2222222222222222, \"#7201a8\"], [0.3333333333333333, \"#9c179e\"], [0.4444444444444444, \"#bd3786\"], [0.5555555555555556, \"#d8576b\"], [0.6666666666666666, \"#ed7953\"], [0.7777777777777778, \"#fb9f3a\"], [0.8888888888888888, \"#fdca26\"], [1.0, \"#f0f921\"]], \"type\": \"histogram2d\"}], \"histogram2dcontour\": [{\"colorbar\": {\"outlinewidth\": 0, \"ticks\": \"\"}, \"colorscale\": [[0.0, \"#0d0887\"], [0.1111111111111111, \"#46039f\"], [0.2222222222222222, \"#7201a8\"], [0.3333333333333333, \"#9c179e\"], [0.4444444444444444, \"#bd3786\"], [0.5555555555555556, \"#d8576b\"], [0.6666666666666666, \"#ed7953\"], [0.7777777777777778, \"#fb9f3a\"], [0.8888888888888888, \"#fdca26\"], [1.0, \"#f0f921\"]], \"type\": \"histogram2dcontour\"}], \"mesh3d\": [{\"colorbar\": {\"outlinewidth\": 0, \"ticks\": \"\"}, \"type\": \"mesh3d\"}], \"parcoords\": [{\"line\": {\"colorbar\": {\"outlinewidth\": 0, \"ticks\": \"\"}}, \"type\": \"parcoords\"}], \"pie\": [{\"automargin\": true, \"type\": \"pie\"}], \"scatter\": [{\"marker\": {\"colorbar\": {\"outlinewidth\": 0, \"ticks\": \"\"}}, \"type\": \"scatter\"}], \"scatter3d\": [{\"line\": {\"colorbar\": {\"outlinewidth\": 0, \"ticks\": \"\"}}, \"marker\": {\"colorbar\": {\"outlinewidth\": 0, \"ticks\": \"\"}}, \"type\": \"scatter3d\"}], \"scattercarpet\": [{\"marker\": {\"colorbar\": {\"outlinewidth\": 0, \"ticks\": \"\"}}, \"type\": \"scattercarpet\"}], \"scattergeo\": [{\"marker\": {\"colorbar\": {\"outlinewidth\": 0, \"ticks\": \"\"}}, \"type\": \"scattergeo\"}], \"scattergl\": [{\"marker\": {\"colorbar\": {\"outlinewidth\": 0, \"ticks\": \"\"}}, \"type\": \"scattergl\"}], \"scattermapbox\": [{\"marker\": {\"colorbar\": {\"outlinewidth\": 0, \"ticks\": \"\"}}, \"type\": \"scattermapbox\"}], \"scatterpolar\": [{\"marker\": {\"colorbar\": {\"outlinewidth\": 0, \"ticks\": \"\"}}, \"type\": \"scatterpolar\"}], \"scatterpolargl\": [{\"marker\": {\"colorbar\": {\"outlinewidth\": 0, \"ticks\": \"\"}}, \"type\": \"scatterpolargl\"}], \"scatterternary\": [{\"marker\": {\"colorbar\": {\"outlinewidth\": 0, \"ticks\": \"\"}}, \"type\": \"scatterternary\"}], \"surface\": [{\"colorbar\": {\"outlinewidth\": 0, \"ticks\": \"\"}, \"colorscale\": [[0.0, \"#0d0887\"], [0.1111111111111111, \"#46039f\"], [0.2222222222222222, \"#7201a8\"], [0.3333333333333333, \"#9c179e\"], [0.4444444444444444, \"#bd3786\"], [0.5555555555555556, \"#d8576b\"], [0.6666666666666666, \"#ed7953\"], [0.7777777777777778, \"#fb9f3a\"], [0.8888888888888888, \"#fdca26\"], [1.0, \"#f0f921\"]], \"type\": \"surface\"}], \"table\": [{\"cells\": {\"fill\": {\"color\": \"#EBF0F8\"}, \"line\": {\"color\": \"white\"}}, \"header\": {\"fill\": {\"color\": \"#C8D4E3\"}, \"line\": {\"color\": \"white\"}}, \"type\": \"table\"}]}, \"layout\": {\"annotationdefaults\": {\"arrowcolor\": \"#2a3f5f\", \"arrowhead\": 0, \"arrowwidth\": 1}, \"coloraxis\": {\"colorbar\": {\"outlinewidth\": 0, \"ticks\": \"\"}}, \"colorscale\": {\"diverging\": [[0, \"#8e0152\"], [0.1, \"#c51b7d\"], [0.2, \"#de77ae\"], [0.3, \"#f1b6da\"], [0.4, \"#fde0ef\"], [0.5, \"#f7f7f7\"], [0.6, \"#e6f5d0\"], [0.7, \"#b8e186\"], [0.8, \"#7fbc41\"], [0.9, \"#4d9221\"], [1, \"#276419\"]], \"sequential\": [[0.0, \"#0d0887\"], [0.1111111111111111, \"#46039f\"], [0.2222222222222222, \"#7201a8\"], [0.3333333333333333, \"#9c179e\"], [0.4444444444444444, \"#bd3786\"], [0.5555555555555556, \"#d8576b\"], [0.6666666666666666, \"#ed7953\"], [0.7777777777777778, \"#fb9f3a\"], [0.8888888888888888, \"#fdca26\"], [1.0, \"#f0f921\"]], \"sequentialminus\": [[0.0, \"#0d0887\"], [0.1111111111111111, \"#46039f\"], [0.2222222222222222, \"#7201a8\"], [0.3333333333333333, \"#9c179e\"], [0.4444444444444444, \"#bd3786\"], [0.5555555555555556, \"#d8576b\"], [0.6666666666666666, \"#ed7953\"], [0.7777777777777778, \"#fb9f3a\"], [0.8888888888888888, \"#fdca26\"], [1.0, \"#f0f921\"]]}, \"colorway\": [\"#636efa\", \"#EF553B\", \"#00cc96\", \"#ab63fa\", \"#FFA15A\", \"#19d3f3\", \"#FF6692\", \"#B6E880\", \"#FF97FF\", \"#FECB52\"], \"font\": {\"color\": \"#2a3f5f\"}, \"geo\": {\"bgcolor\": \"white\", \"lakecolor\": \"white\", \"landcolor\": \"#E5ECF6\", \"showlakes\": true, \"showland\": true, \"subunitcolor\": \"white\"}, \"hoverlabel\": {\"align\": \"left\"}, \"hovermode\": \"closest\", \"mapbox\": {\"style\": \"light\"}, \"paper_bgcolor\": \"white\", \"plot_bgcolor\": \"#E5ECF6\", \"polar\": {\"angularaxis\": {\"gridcolor\": \"white\", \"linecolor\": \"white\", \"ticks\": \"\"}, \"bgcolor\": \"#E5ECF6\", \"radialaxis\": {\"gridcolor\": \"white\", \"linecolor\": \"white\", \"ticks\": \"\"}}, \"scene\": {\"xaxis\": {\"backgroundcolor\": \"#E5ECF6\", \"gridcolor\": \"white\", \"gridwidth\": 2, \"linecolor\": \"white\", \"showbackground\": true, \"ticks\": \"\", \"zerolinecolor\": \"white\"}, \"yaxis\": {\"backgroundcolor\": \"#E5ECF6\", \"gridcolor\": \"white\", \"gridwidth\": 2, \"linecolor\": \"white\", \"showbackground\": true, \"ticks\": \"\", \"zerolinecolor\": \"white\"}, \"zaxis\": {\"backgroundcolor\": \"#E5ECF6\", \"gridcolor\": \"white\", \"gridwidth\": 2, \"linecolor\": \"white\", \"showbackground\": true, \"ticks\": \"\", \"zerolinecolor\": \"white\"}}, \"shapedefaults\": {\"line\": {\"color\": \"#2a3f5f\"}}, \"ternary\": {\"aaxis\": {\"gridcolor\": \"white\", \"linecolor\": \"white\", \"ticks\": \"\"}, \"baxis\": {\"gridcolor\": \"white\", \"linecolor\": \"white\", \"ticks\": \"\"}, \"bgcolor\": \"#E5ECF6\", \"caxis\": {\"gridcolor\": \"white\", \"linecolor\": \"white\", \"ticks\": \"\"}}, \"title\": {\"x\": 0.05}, \"xaxis\": {\"automargin\": true, \"gridcolor\": \"white\", \"linecolor\": \"white\", \"ticks\": \"\", \"title\": {\"standoff\": 15}, \"zerolinecolor\": \"white\", \"zerolinewidth\": 2}, \"yaxis\": {\"automargin\": true, \"gridcolor\": \"white\", \"linecolor\": \"white\", \"ticks\": \"\", \"title\": {\"standoff\": 15}, \"zerolinecolor\": \"white\", \"zerolinewidth\": 2}}}, \"xaxis\": {\"anchor\": \"y\", \"domain\": [0.0, 1.0], \"title\": {\"text\": \"Date\"}}, \"xaxis2\": {\"anchor\": \"y2\", \"domain\": [0.0, 1.0]}, \"yaxis\": {\"anchor\": \"x\", \"domain\": [0.625, 1.0], \"title\": {\"text\": \"Cases\"}}, \"yaxis2\": {\"anchor\": \"x2\", \"domain\": [0.0, 0.375]}},\n",
              "                        {\"responsive\": true}\n",
              "                    ).then(function(){\n",
              "                            \n",
              "var gd = document.getElementById('6aae831b-9b41-497a-adb5-b8b252ddeede');\n",
              "var x = new MutationObserver(function (mutations, observer) {{\n",
              "        var display = window.getComputedStyle(gd).display;\n",
              "        if (!display || display === 'none') {{\n",
              "            console.log([gd, 'removed!']);\n",
              "            Plotly.purge(gd);\n",
              "            observer.disconnect();\n",
              "        }}\n",
              "}});\n",
              "\n",
              "// Listen for the removal of the full notebook cells\n",
              "var notebookContainer = gd.closest('#notebook-container');\n",
              "if (notebookContainer) {{\n",
              "    x.observe(notebookContainer, {childList: true});\n",
              "}}\n",
              "\n",
              "// Listen for the clearing of the current output cell\n",
              "var outputEl = gd.closest('.output');\n",
              "if (outputEl) {{\n",
              "    x.observe(outputEl, {childList: true});\n",
              "}}\n",
              "\n",
              "                        })\n",
              "                };\n",
              "                \n",
              "            </script>\n",
              "        </div>\n",
              "</body>\n",
              "</html>"
            ]
          },
          "metadata": {
            "tags": []
          }
        }
      ]
    },
    {
      "cell_type": "code",
      "metadata": {
        "id": "KRRT5FX2dlPC",
        "colab_type": "code",
        "colab": {
          "base_uri": "https://localhost:8080/",
          "height": 419
        },
        "outputId": "5168373d-9bfb-4d81-e571-207eeec30cae"
      },
      "source": [
        "bd=data[data['country']=='Bangladesh']\n",
        "bd=bd.sort_values(by=['year','month','day'])\n",
        "bd"
      ],
      "execution_count": null,
      "outputs": [
        {
          "output_type": "execute_result",
          "data": {
            "text/html": [
              "<div>\n",
              "<style scoped>\n",
              "    .dataframe tbody tr th:only-of-type {\n",
              "        vertical-align: middle;\n",
              "    }\n",
              "\n",
              "    .dataframe tbody tr th {\n",
              "        vertical-align: top;\n",
              "    }\n",
              "\n",
              "    .dataframe thead th {\n",
              "        text-align: right;\n",
              "    }\n",
              "</style>\n",
              "<table border=\"1\" class=\"dataframe\">\n",
              "  <thead>\n",
              "    <tr style=\"text-align: right;\">\n",
              "      <th></th>\n",
              "      <th>dateRep</th>\n",
              "      <th>day</th>\n",
              "      <th>month</th>\n",
              "      <th>year</th>\n",
              "      <th>cases</th>\n",
              "      <th>deaths</th>\n",
              "      <th>country</th>\n",
              "      <th>geoId</th>\n",
              "      <th>countryCode</th>\n",
              "      <th>popData2019</th>\n",
              "      <th>continentExp</th>\n",
              "    </tr>\n",
              "  </thead>\n",
              "  <tbody>\n",
              "    <tr>\n",
              "      <th>2168</th>\n",
              "      <td>09/03/2020</td>\n",
              "      <td>9</td>\n",
              "      <td>3</td>\n",
              "      <td>2020</td>\n",
              "      <td>3</td>\n",
              "      <td>0</td>\n",
              "      <td>Bangladesh</td>\n",
              "      <td>BD</td>\n",
              "      <td>BGD</td>\n",
              "      <td>163046173.0</td>\n",
              "      <td>Asia</td>\n",
              "    </tr>\n",
              "    <tr>\n",
              "      <th>2167</th>\n",
              "      <td>15/03/2020</td>\n",
              "      <td>15</td>\n",
              "      <td>3</td>\n",
              "      <td>2020</td>\n",
              "      <td>0</td>\n",
              "      <td>0</td>\n",
              "      <td>Bangladesh</td>\n",
              "      <td>BD</td>\n",
              "      <td>BGD</td>\n",
              "      <td>163046173.0</td>\n",
              "      <td>Asia</td>\n",
              "    </tr>\n",
              "    <tr>\n",
              "      <th>2166</th>\n",
              "      <td>17/03/2020</td>\n",
              "      <td>17</td>\n",
              "      <td>3</td>\n",
              "      <td>2020</td>\n",
              "      <td>2</td>\n",
              "      <td>0</td>\n",
              "      <td>Bangladesh</td>\n",
              "      <td>BD</td>\n",
              "      <td>BGD</td>\n",
              "      <td>163046173.0</td>\n",
              "      <td>Asia</td>\n",
              "    </tr>\n",
              "    <tr>\n",
              "      <th>2165</th>\n",
              "      <td>18/03/2020</td>\n",
              "      <td>18</td>\n",
              "      <td>3</td>\n",
              "      <td>2020</td>\n",
              "      <td>3</td>\n",
              "      <td>0</td>\n",
              "      <td>Bangladesh</td>\n",
              "      <td>BD</td>\n",
              "      <td>BGD</td>\n",
              "      <td>163046173.0</td>\n",
              "      <td>Asia</td>\n",
              "    </tr>\n",
              "    <tr>\n",
              "      <th>2164</th>\n",
              "      <td>19/03/2020</td>\n",
              "      <td>19</td>\n",
              "      <td>3</td>\n",
              "      <td>2020</td>\n",
              "      <td>2</td>\n",
              "      <td>0</td>\n",
              "      <td>Bangladesh</td>\n",
              "      <td>BD</td>\n",
              "      <td>BGD</td>\n",
              "      <td>163046173.0</td>\n",
              "      <td>Asia</td>\n",
              "    </tr>\n",
              "    <tr>\n",
              "      <th>...</th>\n",
              "      <td>...</td>\n",
              "      <td>...</td>\n",
              "      <td>...</td>\n",
              "      <td>...</td>\n",
              "      <td>...</td>\n",
              "      <td>...</td>\n",
              "      <td>...</td>\n",
              "      <td>...</td>\n",
              "      <td>...</td>\n",
              "      <td>...</td>\n",
              "      <td>...</td>\n",
              "    </tr>\n",
              "    <tr>\n",
              "      <th>2067</th>\n",
              "      <td>24/06/2020</td>\n",
              "      <td>24</td>\n",
              "      <td>6</td>\n",
              "      <td>2020</td>\n",
              "      <td>3412</td>\n",
              "      <td>43</td>\n",
              "      <td>Bangladesh</td>\n",
              "      <td>BD</td>\n",
              "      <td>BGD</td>\n",
              "      <td>163046173.0</td>\n",
              "      <td>Asia</td>\n",
              "    </tr>\n",
              "    <tr>\n",
              "      <th>2066</th>\n",
              "      <td>25/06/2020</td>\n",
              "      <td>25</td>\n",
              "      <td>6</td>\n",
              "      <td>2020</td>\n",
              "      <td>3462</td>\n",
              "      <td>37</td>\n",
              "      <td>Bangladesh</td>\n",
              "      <td>BD</td>\n",
              "      <td>BGD</td>\n",
              "      <td>163046173.0</td>\n",
              "      <td>Asia</td>\n",
              "    </tr>\n",
              "    <tr>\n",
              "      <th>2065</th>\n",
              "      <td>26/06/2020</td>\n",
              "      <td>26</td>\n",
              "      <td>6</td>\n",
              "      <td>2020</td>\n",
              "      <td>3946</td>\n",
              "      <td>39</td>\n",
              "      <td>Bangladesh</td>\n",
              "      <td>BD</td>\n",
              "      <td>BGD</td>\n",
              "      <td>163046173.0</td>\n",
              "      <td>Asia</td>\n",
              "    </tr>\n",
              "    <tr>\n",
              "      <th>2064</th>\n",
              "      <td>27/06/2020</td>\n",
              "      <td>27</td>\n",
              "      <td>6</td>\n",
              "      <td>2020</td>\n",
              "      <td>3868</td>\n",
              "      <td>40</td>\n",
              "      <td>Bangladesh</td>\n",
              "      <td>BD</td>\n",
              "      <td>BGD</td>\n",
              "      <td>163046173.0</td>\n",
              "      <td>Asia</td>\n",
              "    </tr>\n",
              "    <tr>\n",
              "      <th>2063</th>\n",
              "      <td>28/06/2020</td>\n",
              "      <td>28</td>\n",
              "      <td>6</td>\n",
              "      <td>2020</td>\n",
              "      <td>3504</td>\n",
              "      <td>34</td>\n",
              "      <td>Bangladesh</td>\n",
              "      <td>BD</td>\n",
              "      <td>BGD</td>\n",
              "      <td>163046173.0</td>\n",
              "      <td>Asia</td>\n",
              "    </tr>\n",
              "  </tbody>\n",
              "</table>\n",
              "<p>106 rows × 11 columns</p>\n",
              "</div>"
            ],
            "text/plain": [
              "         dateRep  day  month  year  ...  geoId  countryCode  popData2019 continentExp\n",
              "2168  09/03/2020    9      3  2020  ...     BD          BGD  163046173.0         Asia\n",
              "2167  15/03/2020   15      3  2020  ...     BD          BGD  163046173.0         Asia\n",
              "2166  17/03/2020   17      3  2020  ...     BD          BGD  163046173.0         Asia\n",
              "2165  18/03/2020   18      3  2020  ...     BD          BGD  163046173.0         Asia\n",
              "2164  19/03/2020   19      3  2020  ...     BD          BGD  163046173.0         Asia\n",
              "...          ...  ...    ...   ...  ...    ...          ...          ...          ...\n",
              "2067  24/06/2020   24      6  2020  ...     BD          BGD  163046173.0         Asia\n",
              "2066  25/06/2020   25      6  2020  ...     BD          BGD  163046173.0         Asia\n",
              "2065  26/06/2020   26      6  2020  ...     BD          BGD  163046173.0         Asia\n",
              "2064  27/06/2020   27      6  2020  ...     BD          BGD  163046173.0         Asia\n",
              "2063  28/06/2020   28      6  2020  ...     BD          BGD  163046173.0         Asia\n",
              "\n",
              "[106 rows x 11 columns]"
            ]
          },
          "metadata": {
            "tags": []
          },
          "execution_count": 51
        }
      ]
    },
    {
      "cell_type": "markdown",
      "metadata": {
        "id": "b4LTURYOeBfq",
        "colab_type": "text"
      },
      "source": [
        "Infection Rate In Bangladesh"
      ]
    },
    {
      "cell_type": "code",
      "metadata": {
        "id": "P40EJQUAeGRR",
        "colab_type": "code",
        "colab": {
          "base_uri": "https://localhost:8080/",
          "height": 542
        },
        "outputId": "97ae0065-82e3-475e-d7ec-efcd3df62e9b"
      },
      "source": [
        "fig=px.bar(x=bd['dateRep'],y=bd[\"cases\"])\n",
        "fig.update_layout(title=\"Distribution of Number of Daily Cases Bangladesh\",\n",
        "                  xaxis_title=\"Date\",yaxis_title=\"Number of Cases\",)\n",
        "fig.show()"
      ],
      "execution_count": null,
      "outputs": [
        {
          "output_type": "display_data",
          "data": {
            "text/html": [
              "<html>\n",
              "<head><meta charset=\"utf-8\" /></head>\n",
              "<body>\n",
              "    <div>\n",
              "            <script src=\"https://cdnjs.cloudflare.com/ajax/libs/mathjax/2.7.5/MathJax.js?config=TeX-AMS-MML_SVG\"></script><script type=\"text/javascript\">if (window.MathJax) {MathJax.Hub.Config({SVG: {font: \"STIX-Web\"}});}</script>\n",
              "                <script type=\"text/javascript\">window.PlotlyConfig = {MathJaxConfig: 'local'};</script>\n",
              "        <script src=\"https://cdn.plot.ly/plotly-latest.min.js\"></script>    \n",
              "            <div id=\"f3483447-7ec7-440f-a1c2-faa8361068f6\" class=\"plotly-graph-div\" style=\"height:525px; width:100%;\"></div>\n",
              "            <script type=\"text/javascript\">\n",
              "                \n",
              "                    window.PLOTLYENV=window.PLOTLYENV || {};\n",
              "                    \n",
              "                if (document.getElementById(\"f3483447-7ec7-440f-a1c2-faa8361068f6\")) {\n",
              "                    Plotly.newPlot(\n",
              "                        'f3483447-7ec7-440f-a1c2-faa8361068f6',\n",
              "                        [{\"alignmentgroup\": \"True\", \"hoverlabel\": {\"namelength\": 0}, \"hovertemplate\": \"x=%{x}<br>y=%{y}\", \"legendgroup\": \"\", \"marker\": {\"color\": \"#636efa\"}, \"name\": \"\", \"offsetgroup\": \"\", \"orientation\": \"v\", \"showlegend\": false, \"textposition\": \"auto\", \"type\": \"bar\", \"x\": [\"09/03/2020\", \"15/03/2020\", \"17/03/2020\", \"18/03/2020\", \"19/03/2020\", \"20/03/2020\", \"21/03/2020\", \"22/03/2020\", \"23/03/2020\", \"24/03/2020\", \"25/03/2020\", \"26/03/2020\", \"27/03/2020\", \"28/03/2020\", \"29/03/2020\", \"30/03/2020\", \"31/03/2020\", \"01/04/2020\", \"02/04/2020\", \"03/04/2020\", \"04/04/2020\", \"05/04/2020\", \"06/04/2020\", \"07/04/2020\", \"08/04/2020\", \"09/04/2020\", \"10/04/2020\", \"11/04/2020\", \"12/04/2020\", \"13/04/2020\", \"14/04/2020\", \"15/04/2020\", \"16/04/2020\", \"17/04/2020\", \"18/04/2020\", \"19/04/2020\", \"20/04/2020\", \"21/04/2020\", \"22/04/2020\", \"23/04/2020\", \"24/04/2020\", \"25/04/2020\", \"26/04/2020\", \"27/04/2020\", \"28/04/2020\", \"29/04/2020\", \"30/04/2020\", \"01/05/2020\", \"02/05/2020\", \"03/05/2020\", \"04/05/2020\", \"05/05/2020\", \"06/05/2020\", \"07/05/2020\", \"08/05/2020\", \"09/05/2020\", \"10/05/2020\", \"11/05/2020\", \"12/05/2020\", \"13/05/2020\", \"14/05/2020\", \"15/05/2020\", \"16/05/2020\", \"17/05/2020\", \"18/05/2020\", \"19/05/2020\", \"20/05/2020\", \"21/05/2020\", \"22/05/2020\", \"23/05/2020\", \"24/05/2020\", \"25/05/2020\", \"26/05/2020\", \"27/05/2020\", \"28/05/2020\", \"29/05/2020\", \"30/05/2020\", \"31/05/2020\", \"01/06/2020\", \"02/06/2020\", \"03/06/2020\", \"04/06/2020\", \"05/06/2020\", \"06/06/2020\", \"07/06/2020\", \"08/06/2020\", \"09/06/2020\", \"10/06/2020\", \"11/06/2020\", \"12/06/2020\", \"13/06/2020\", \"14/06/2020\", \"15/06/2020\", \"16/06/2020\", \"17/06/2020\", \"18/06/2020\", \"19/06/2020\", \"20/06/2020\", \"21/06/2020\", \"22/06/2020\", \"23/06/2020\", \"24/06/2020\", \"25/06/2020\", \"26/06/2020\", \"27/06/2020\", \"28/06/2020\"], \"xaxis\": \"x\", \"y\": [3, 0, 2, 3, 2, 0, 7, 7, 3, 6, 6, 0, 9, 0, 0, 1, 0, 2, 3, 2, 5, 9, 18, 35, 41, 54, 112, 94, 58, 139, 182, 209, 219, 341, 266, 306, 312, 492, 434, 390, 414, 503, 309, 418, 497, 549, 641, 564, 571, 552, 665, 688, 786, 790, 706, 709, 636, 887, 1034, 969, 1162, 1041, 1202, 930, 1273, 1602, 1251, 1617, 1773, 1694, 1873, 1532, 1975, 1166, 1541, 2029, 2523, 1764, 2545, 2381, 2911, 2695, 2423, 2828, 2635, 2743, 2735, 3171, 3190, 3187, 3471, 2856, 3141, 3099, 3862, 4008, 3803, 3243, 3240, 3531, 3480, 3412, 3462, 3946, 3868, 3504], \"yaxis\": \"y\"}],\n",
              "                        {\"barmode\": \"relative\", \"legend\": {\"tracegroupgap\": 0}, \"margin\": {\"t\": 60}, \"template\": {\"data\": {\"bar\": [{\"error_x\": {\"color\": \"#2a3f5f\"}, \"error_y\": {\"color\": \"#2a3f5f\"}, \"marker\": {\"line\": {\"color\": \"#E5ECF6\", \"width\": 0.5}}, \"type\": \"bar\"}], \"barpolar\": [{\"marker\": {\"line\": {\"color\": \"#E5ECF6\", \"width\": 0.5}}, \"type\": \"barpolar\"}], \"carpet\": [{\"aaxis\": {\"endlinecolor\": \"#2a3f5f\", \"gridcolor\": \"white\", \"linecolor\": \"white\", \"minorgridcolor\": \"white\", \"startlinecolor\": \"#2a3f5f\"}, \"baxis\": {\"endlinecolor\": \"#2a3f5f\", \"gridcolor\": \"white\", \"linecolor\": \"white\", \"minorgridcolor\": \"white\", \"startlinecolor\": \"#2a3f5f\"}, \"type\": \"carpet\"}], \"choropleth\": [{\"colorbar\": {\"outlinewidth\": 0, \"ticks\": \"\"}, \"type\": \"choropleth\"}], \"contour\": [{\"colorbar\": {\"outlinewidth\": 0, \"ticks\": \"\"}, \"colorscale\": [[0.0, \"#0d0887\"], [0.1111111111111111, \"#46039f\"], [0.2222222222222222, \"#7201a8\"], [0.3333333333333333, \"#9c179e\"], [0.4444444444444444, \"#bd3786\"], [0.5555555555555556, \"#d8576b\"], [0.6666666666666666, \"#ed7953\"], [0.7777777777777778, \"#fb9f3a\"], [0.8888888888888888, \"#fdca26\"], [1.0, \"#f0f921\"]], \"type\": \"contour\"}], \"contourcarpet\": [{\"colorbar\": {\"outlinewidth\": 0, \"ticks\": \"\"}, \"type\": \"contourcarpet\"}], \"heatmap\": [{\"colorbar\": {\"outlinewidth\": 0, \"ticks\": \"\"}, \"colorscale\": [[0.0, \"#0d0887\"], [0.1111111111111111, \"#46039f\"], [0.2222222222222222, \"#7201a8\"], [0.3333333333333333, \"#9c179e\"], [0.4444444444444444, \"#bd3786\"], [0.5555555555555556, \"#d8576b\"], [0.6666666666666666, \"#ed7953\"], [0.7777777777777778, \"#fb9f3a\"], [0.8888888888888888, \"#fdca26\"], [1.0, \"#f0f921\"]], \"type\": \"heatmap\"}], \"heatmapgl\": [{\"colorbar\": {\"outlinewidth\": 0, \"ticks\": \"\"}, \"colorscale\": [[0.0, \"#0d0887\"], [0.1111111111111111, \"#46039f\"], [0.2222222222222222, \"#7201a8\"], [0.3333333333333333, \"#9c179e\"], [0.4444444444444444, \"#bd3786\"], [0.5555555555555556, \"#d8576b\"], [0.6666666666666666, \"#ed7953\"], [0.7777777777777778, \"#fb9f3a\"], [0.8888888888888888, \"#fdca26\"], [1.0, \"#f0f921\"]], \"type\": \"heatmapgl\"}], \"histogram\": [{\"marker\": {\"colorbar\": {\"outlinewidth\": 0, \"ticks\": \"\"}}, \"type\": \"histogram\"}], \"histogram2d\": [{\"colorbar\": {\"outlinewidth\": 0, \"ticks\": \"\"}, \"colorscale\": [[0.0, \"#0d0887\"], [0.1111111111111111, \"#46039f\"], [0.2222222222222222, \"#7201a8\"], [0.3333333333333333, \"#9c179e\"], [0.4444444444444444, \"#bd3786\"], [0.5555555555555556, \"#d8576b\"], [0.6666666666666666, \"#ed7953\"], [0.7777777777777778, \"#fb9f3a\"], [0.8888888888888888, \"#fdca26\"], [1.0, \"#f0f921\"]], \"type\": \"histogram2d\"}], \"histogram2dcontour\": [{\"colorbar\": {\"outlinewidth\": 0, \"ticks\": \"\"}, \"colorscale\": [[0.0, \"#0d0887\"], [0.1111111111111111, \"#46039f\"], [0.2222222222222222, \"#7201a8\"], [0.3333333333333333, \"#9c179e\"], [0.4444444444444444, \"#bd3786\"], [0.5555555555555556, \"#d8576b\"], [0.6666666666666666, \"#ed7953\"], [0.7777777777777778, \"#fb9f3a\"], [0.8888888888888888, \"#fdca26\"], [1.0, \"#f0f921\"]], \"type\": \"histogram2dcontour\"}], \"mesh3d\": [{\"colorbar\": {\"outlinewidth\": 0, \"ticks\": \"\"}, \"type\": \"mesh3d\"}], \"parcoords\": [{\"line\": {\"colorbar\": {\"outlinewidth\": 0, \"ticks\": \"\"}}, \"type\": \"parcoords\"}], \"pie\": [{\"automargin\": true, \"type\": \"pie\"}], \"scatter\": [{\"marker\": {\"colorbar\": {\"outlinewidth\": 0, \"ticks\": \"\"}}, \"type\": \"scatter\"}], \"scatter3d\": [{\"line\": {\"colorbar\": {\"outlinewidth\": 0, \"ticks\": \"\"}}, \"marker\": {\"colorbar\": {\"outlinewidth\": 0, \"ticks\": \"\"}}, \"type\": \"scatter3d\"}], \"scattercarpet\": [{\"marker\": {\"colorbar\": {\"outlinewidth\": 0, \"ticks\": \"\"}}, \"type\": \"scattercarpet\"}], \"scattergeo\": [{\"marker\": {\"colorbar\": {\"outlinewidth\": 0, \"ticks\": \"\"}}, \"type\": \"scattergeo\"}], \"scattergl\": [{\"marker\": {\"colorbar\": {\"outlinewidth\": 0, \"ticks\": \"\"}}, \"type\": \"scattergl\"}], \"scattermapbox\": [{\"marker\": {\"colorbar\": {\"outlinewidth\": 0, \"ticks\": \"\"}}, \"type\": \"scattermapbox\"}], \"scatterpolar\": [{\"marker\": {\"colorbar\": {\"outlinewidth\": 0, \"ticks\": \"\"}}, \"type\": \"scatterpolar\"}], \"scatterpolargl\": [{\"marker\": {\"colorbar\": {\"outlinewidth\": 0, \"ticks\": \"\"}}, \"type\": \"scatterpolargl\"}], \"scatterternary\": [{\"marker\": {\"colorbar\": {\"outlinewidth\": 0, \"ticks\": \"\"}}, \"type\": \"scatterternary\"}], \"surface\": [{\"colorbar\": {\"outlinewidth\": 0, \"ticks\": \"\"}, \"colorscale\": [[0.0, \"#0d0887\"], [0.1111111111111111, \"#46039f\"], [0.2222222222222222, \"#7201a8\"], [0.3333333333333333, \"#9c179e\"], [0.4444444444444444, \"#bd3786\"], [0.5555555555555556, \"#d8576b\"], [0.6666666666666666, \"#ed7953\"], [0.7777777777777778, \"#fb9f3a\"], [0.8888888888888888, \"#fdca26\"], [1.0, \"#f0f921\"]], \"type\": \"surface\"}], \"table\": [{\"cells\": {\"fill\": {\"color\": \"#EBF0F8\"}, \"line\": {\"color\": \"white\"}}, \"header\": {\"fill\": {\"color\": \"#C8D4E3\"}, \"line\": {\"color\": \"white\"}}, \"type\": \"table\"}]}, \"layout\": {\"annotationdefaults\": {\"arrowcolor\": \"#2a3f5f\", \"arrowhead\": 0, \"arrowwidth\": 1}, \"coloraxis\": {\"colorbar\": {\"outlinewidth\": 0, \"ticks\": \"\"}}, \"colorscale\": {\"diverging\": [[0, \"#8e0152\"], [0.1, \"#c51b7d\"], [0.2, \"#de77ae\"], [0.3, \"#f1b6da\"], [0.4, \"#fde0ef\"], [0.5, \"#f7f7f7\"], [0.6, \"#e6f5d0\"], [0.7, \"#b8e186\"], [0.8, \"#7fbc41\"], [0.9, \"#4d9221\"], [1, \"#276419\"]], \"sequential\": [[0.0, \"#0d0887\"], [0.1111111111111111, \"#46039f\"], [0.2222222222222222, \"#7201a8\"], [0.3333333333333333, \"#9c179e\"], [0.4444444444444444, \"#bd3786\"], [0.5555555555555556, \"#d8576b\"], [0.6666666666666666, \"#ed7953\"], [0.7777777777777778, \"#fb9f3a\"], [0.8888888888888888, \"#fdca26\"], [1.0, \"#f0f921\"]], \"sequentialminus\": [[0.0, \"#0d0887\"], [0.1111111111111111, \"#46039f\"], [0.2222222222222222, \"#7201a8\"], [0.3333333333333333, \"#9c179e\"], [0.4444444444444444, \"#bd3786\"], [0.5555555555555556, \"#d8576b\"], [0.6666666666666666, \"#ed7953\"], [0.7777777777777778, \"#fb9f3a\"], [0.8888888888888888, \"#fdca26\"], [1.0, \"#f0f921\"]]}, \"colorway\": [\"#636efa\", \"#EF553B\", \"#00cc96\", \"#ab63fa\", \"#FFA15A\", \"#19d3f3\", \"#FF6692\", \"#B6E880\", \"#FF97FF\", \"#FECB52\"], \"font\": {\"color\": \"#2a3f5f\"}, \"geo\": {\"bgcolor\": \"white\", \"lakecolor\": \"white\", \"landcolor\": \"#E5ECF6\", \"showlakes\": true, \"showland\": true, \"subunitcolor\": \"white\"}, \"hoverlabel\": {\"align\": \"left\"}, \"hovermode\": \"closest\", \"mapbox\": {\"style\": \"light\"}, \"paper_bgcolor\": \"white\", \"plot_bgcolor\": \"#E5ECF6\", \"polar\": {\"angularaxis\": {\"gridcolor\": \"white\", \"linecolor\": \"white\", \"ticks\": \"\"}, \"bgcolor\": \"#E5ECF6\", \"radialaxis\": {\"gridcolor\": \"white\", \"linecolor\": \"white\", \"ticks\": \"\"}}, \"scene\": {\"xaxis\": {\"backgroundcolor\": \"#E5ECF6\", \"gridcolor\": \"white\", \"gridwidth\": 2, \"linecolor\": \"white\", \"showbackground\": true, \"ticks\": \"\", \"zerolinecolor\": \"white\"}, \"yaxis\": {\"backgroundcolor\": \"#E5ECF6\", \"gridcolor\": \"white\", \"gridwidth\": 2, \"linecolor\": \"white\", \"showbackground\": true, \"ticks\": \"\", \"zerolinecolor\": \"white\"}, \"zaxis\": {\"backgroundcolor\": \"#E5ECF6\", \"gridcolor\": \"white\", \"gridwidth\": 2, \"linecolor\": \"white\", \"showbackground\": true, \"ticks\": \"\", \"zerolinecolor\": \"white\"}}, \"shapedefaults\": {\"line\": {\"color\": \"#2a3f5f\"}}, \"ternary\": {\"aaxis\": {\"gridcolor\": \"white\", \"linecolor\": \"white\", \"ticks\": \"\"}, \"baxis\": {\"gridcolor\": \"white\", \"linecolor\": \"white\", \"ticks\": \"\"}, \"bgcolor\": \"#E5ECF6\", \"caxis\": {\"gridcolor\": \"white\", \"linecolor\": \"white\", \"ticks\": \"\"}}, \"title\": {\"x\": 0.05}, \"xaxis\": {\"automargin\": true, \"gridcolor\": \"white\", \"linecolor\": \"white\", \"ticks\": \"\", \"title\": {\"standoff\": 15}, \"zerolinecolor\": \"white\", \"zerolinewidth\": 2}, \"yaxis\": {\"automargin\": true, \"gridcolor\": \"white\", \"linecolor\": \"white\", \"ticks\": \"\", \"title\": {\"standoff\": 15}, \"zerolinecolor\": \"white\", \"zerolinewidth\": 2}}}, \"title\": {\"text\": \"Distribution of Number of Daily Cases Bangladesh\"}, \"xaxis\": {\"anchor\": \"y\", \"domain\": [0.0, 1.0], \"title\": {\"text\": \"Date\"}}, \"yaxis\": {\"anchor\": \"x\", \"domain\": [0.0, 1.0], \"title\": {\"text\": \"Number of Cases\"}}},\n",
              "                        {\"responsive\": true}\n",
              "                    ).then(function(){\n",
              "                            \n",
              "var gd = document.getElementById('f3483447-7ec7-440f-a1c2-faa8361068f6');\n",
              "var x = new MutationObserver(function (mutations, observer) {{\n",
              "        var display = window.getComputedStyle(gd).display;\n",
              "        if (!display || display === 'none') {{\n",
              "            console.log([gd, 'removed!']);\n",
              "            Plotly.purge(gd);\n",
              "            observer.disconnect();\n",
              "        }}\n",
              "}});\n",
              "\n",
              "// Listen for the removal of the full notebook cells\n",
              "var notebookContainer = gd.closest('#notebook-container');\n",
              "if (notebookContainer) {{\n",
              "    x.observe(notebookContainer, {childList: true});\n",
              "}}\n",
              "\n",
              "// Listen for the clearing of the current output cell\n",
              "var outputEl = gd.closest('.output');\n",
              "if (outputEl) {{\n",
              "    x.observe(outputEl, {childList: true});\n",
              "}}\n",
              "\n",
              "                        })\n",
              "                };\n",
              "                \n",
              "            </script>\n",
              "        </div>\n",
              "</body>\n",
              "</html>"
            ]
          },
          "metadata": {
            "tags": []
          }
        }
      ]
    },
    {
      "cell_type": "code",
      "metadata": {
        "id": "u2HX-RKNIcLR",
        "colab_type": "code",
        "colab": {}
      },
      "source": [
        "def do(name):\n",
        "  user=data[data['country']==name]\n",
        "  user=user.sort_values(by=['year','month','day']) \n",
        "  fig=px.bar(x=user['dateRep'],y=user[\"cases\"])\n",
        "  fig.update_layout(title=\"Distribution of Number of Active Cases \"+name,\n",
        "                  xaxis_title=\"Date\",yaxis_title=\"Number of Cases\",)\n",
        "  return fig;"
      ],
      "execution_count": null,
      "outputs": []
    },
    {
      "cell_type": "code",
      "metadata": {
        "id": "gGaPjSge6UKT",
        "colab_type": "code",
        "colab": {
          "base_uri": "https://localhost:8080/",
          "height": 542
        },
        "outputId": "53dc9348-7287-4208-c26f-66b024ed1282"
      },
      "source": [
        "sk=data[data['country']=='South_Korea']\n",
        "sk=sk.sort_values(by=['year','month','day']) \n",
        "fig=px.bar(x=sk['dateRep'],y=sk[\"cases\"])\n",
        "fig.update_layout(title=\"Distribution of Number of Daily Cases South Korea\",\n",
        "                  xaxis_title=\"Date\",yaxis_title=\"Number of Cases\",)\n",
        "fig.show()"
      ],
      "execution_count": null,
      "outputs": [
        {
          "output_type": "display_data",
          "data": {
            "text/html": [
              "<html>\n",
              "<head><meta charset=\"utf-8\" /></head>\n",
              "<body>\n",
              "    <div>\n",
              "            <script src=\"https://cdnjs.cloudflare.com/ajax/libs/mathjax/2.7.5/MathJax.js?config=TeX-AMS-MML_SVG\"></script><script type=\"text/javascript\">if (window.MathJax) {MathJax.Hub.Config({SVG: {font: \"STIX-Web\"}});}</script>\n",
              "                <script type=\"text/javascript\">window.PlotlyConfig = {MathJaxConfig: 'local'};</script>\n",
              "        <script src=\"https://cdn.plot.ly/plotly-latest.min.js\"></script>    \n",
              "            <div id=\"c50c800e-cc1a-417d-abf3-7d02ee9beed6\" class=\"plotly-graph-div\" style=\"height:525px; width:100%;\"></div>\n",
              "            <script type=\"text/javascript\">\n",
              "                \n",
              "                    window.PLOTLYENV=window.PLOTLYENV || {};\n",
              "                    \n",
              "                if (document.getElementById(\"c50c800e-cc1a-417d-abf3-7d02ee9beed6\")) {\n",
              "                    Plotly.newPlot(\n",
              "                        'c50c800e-cc1a-417d-abf3-7d02ee9beed6',\n",
              "                        [{\"alignmentgroup\": \"True\", \"hoverlabel\": {\"namelength\": 0}, \"hovertemplate\": \"x=%{x}<br>y=%{y}\", \"legendgroup\": \"\", \"marker\": {\"color\": \"#636efa\"}, \"name\": \"\", \"offsetgroup\": \"\", \"orientation\": \"v\", \"showlegend\": false, \"textposition\": \"auto\", \"type\": \"bar\", \"x\": [\"31/12/2019\", \"01/01/2020\", \"02/01/2020\", \"03/01/2020\", \"04/01/2020\", \"05/01/2020\", \"06/01/2020\", \"07/01/2020\", \"08/01/2020\", \"09/01/2020\", \"10/01/2020\", \"11/01/2020\", \"12/01/2020\", \"13/01/2020\", \"14/01/2020\", \"15/01/2020\", \"16/01/2020\", \"17/01/2020\", \"18/01/2020\", \"19/01/2020\", \"20/01/2020\", \"21/01/2020\", \"22/01/2020\", \"23/01/2020\", \"24/01/2020\", \"25/01/2020\", \"26/01/2020\", \"27/01/2020\", \"28/01/2020\", \"29/01/2020\", \"30/01/2020\", \"31/01/2020\", \"01/02/2020\", \"02/02/2020\", \"03/02/2020\", \"04/02/2020\", \"05/02/2020\", \"06/02/2020\", \"07/02/2020\", \"08/02/2020\", \"09/02/2020\", \"10/02/2020\", \"11/02/2020\", \"12/02/2020\", \"13/02/2020\", \"14/02/2020\", \"15/02/2020\", \"16/02/2020\", \"17/02/2020\", \"18/02/2020\", \"19/02/2020\", \"20/02/2020\", \"21/02/2020\", \"22/02/2020\", \"23/02/2020\", \"24/02/2020\", \"25/02/2020\", \"26/02/2020\", \"27/02/2020\", \"28/02/2020\", \"29/02/2020\", \"01/03/2020\", \"02/03/2020\", \"03/03/2020\", \"04/03/2020\", \"05/03/2020\", \"06/03/2020\", \"07/03/2020\", \"08/03/2020\", \"09/03/2020\", \"10/03/2020\", \"11/03/2020\", \"12/03/2020\", \"13/03/2020\", \"14/03/2020\", \"15/03/2020\", \"16/03/2020\", \"17/03/2020\", \"18/03/2020\", \"19/03/2020\", \"20/03/2020\", \"21/03/2020\", \"22/03/2020\", \"23/03/2020\", \"24/03/2020\", \"25/03/2020\", \"26/03/2020\", \"27/03/2020\", \"28/03/2020\", \"29/03/2020\", \"30/03/2020\", \"31/03/2020\", \"01/04/2020\", \"02/04/2020\", \"03/04/2020\", \"04/04/2020\", \"05/04/2020\", \"06/04/2020\", \"07/04/2020\", \"08/04/2020\", \"09/04/2020\", \"10/04/2020\", \"11/04/2020\", \"12/04/2020\", \"13/04/2020\", \"14/04/2020\", \"15/04/2020\", \"16/04/2020\", \"17/04/2020\", \"18/04/2020\", \"19/04/2020\", \"20/04/2020\", \"21/04/2020\", \"22/04/2020\", \"23/04/2020\", \"24/04/2020\", \"25/04/2020\", \"26/04/2020\", \"27/04/2020\", \"28/04/2020\", \"29/04/2020\", \"30/04/2020\", \"01/05/2020\", \"02/05/2020\", \"03/05/2020\", \"04/05/2020\", \"05/05/2020\", \"06/05/2020\", \"07/05/2020\", \"08/05/2020\", \"09/05/2020\", \"10/05/2020\", \"11/05/2020\", \"12/05/2020\", \"13/05/2020\", \"14/05/2020\", \"15/05/2020\", \"16/05/2020\", \"17/05/2020\", \"18/05/2020\", \"19/05/2020\", \"20/05/2020\", \"21/05/2020\", \"22/05/2020\", \"23/05/2020\", \"24/05/2020\", \"25/05/2020\", \"26/05/2020\", \"27/05/2020\", \"28/05/2020\", \"29/05/2020\", \"30/05/2020\", \"31/05/2020\", \"01/06/2020\", \"02/06/2020\", \"03/06/2020\", \"04/06/2020\", \"05/06/2020\", \"06/06/2020\", \"07/06/2020\", \"08/06/2020\", \"09/06/2020\", \"10/06/2020\", \"11/06/2020\", \"12/06/2020\", \"13/06/2020\", \"14/06/2020\", \"15/06/2020\", \"16/06/2020\", \"17/06/2020\", \"18/06/2020\", \"19/06/2020\", \"20/06/2020\", \"21/06/2020\", \"22/06/2020\", \"23/06/2020\", \"24/06/2020\", \"25/06/2020\", \"26/06/2020\", \"27/06/2020\", \"28/06/2020\"], \"xaxis\": \"x\", \"y\": [0, 0, 0, 0, 0, 0, 0, 0, 0, 0, 0, 0, 0, 0, 0, 0, 0, 0, 0, 0, 1, 0, 0, 0, 1, 0, 1, 1, 0, 0, 0, 3, 5, 3, 0, 1, 2, 5, 1, 0, 1, 2, 1, 0, 0, 0, 0, 1, 1, 1, 15, 34, 75, 190, 256, 161, 130, 254, 449, 427, 909, 595, 686, 600, 516, 438, 518, 483, 367, 248, 131, 242, 114, 110, 107, 76, 74, 84, 93, 152, 87, 147, 98, 64, 76, 100, 104, 91, 146, 105, 78, 125, 0, 190, 86, 94, 81, 47, 47, 53, 39, 27, 0, 62, 25, 27, 27, 22, 22, 18, 8, 13, 9, 11, 8, 6, 10, 10, 10, 14, 9, 4, 9, 6, 13, 8, 3, 2, 4, 12, 18, 34, 35, 27, 26, 29, 27, 19, 13, 15, 13, 32, 12, 20, 23, 25, 16, 19, 40, 79, 58, 39, 27, 35, 38, 49, 39, 39, 51, 57, 38, 38, 50, 45, 56, 48, 33, 37, 34, 43, 59, 49, 67, 48, 17, 46, 51, 28, 39, 51, 62], \"yaxis\": \"y\"}],\n",
              "                        {\"barmode\": \"relative\", \"legend\": {\"tracegroupgap\": 0}, \"margin\": {\"t\": 60}, \"template\": {\"data\": {\"bar\": [{\"error_x\": {\"color\": \"#2a3f5f\"}, \"error_y\": {\"color\": \"#2a3f5f\"}, \"marker\": {\"line\": {\"color\": \"#E5ECF6\", \"width\": 0.5}}, \"type\": \"bar\"}], \"barpolar\": [{\"marker\": {\"line\": {\"color\": \"#E5ECF6\", \"width\": 0.5}}, \"type\": \"barpolar\"}], \"carpet\": [{\"aaxis\": {\"endlinecolor\": \"#2a3f5f\", \"gridcolor\": \"white\", \"linecolor\": \"white\", \"minorgridcolor\": \"white\", \"startlinecolor\": \"#2a3f5f\"}, \"baxis\": {\"endlinecolor\": \"#2a3f5f\", \"gridcolor\": \"white\", \"linecolor\": \"white\", \"minorgridcolor\": \"white\", \"startlinecolor\": \"#2a3f5f\"}, \"type\": \"carpet\"}], \"choropleth\": [{\"colorbar\": {\"outlinewidth\": 0, \"ticks\": \"\"}, \"type\": \"choropleth\"}], \"contour\": [{\"colorbar\": {\"outlinewidth\": 0, \"ticks\": \"\"}, \"colorscale\": [[0.0, \"#0d0887\"], [0.1111111111111111, \"#46039f\"], [0.2222222222222222, \"#7201a8\"], [0.3333333333333333, \"#9c179e\"], [0.4444444444444444, \"#bd3786\"], [0.5555555555555556, \"#d8576b\"], [0.6666666666666666, \"#ed7953\"], [0.7777777777777778, \"#fb9f3a\"], [0.8888888888888888, \"#fdca26\"], [1.0, \"#f0f921\"]], \"type\": \"contour\"}], \"contourcarpet\": [{\"colorbar\": {\"outlinewidth\": 0, \"ticks\": \"\"}, \"type\": \"contourcarpet\"}], \"heatmap\": [{\"colorbar\": {\"outlinewidth\": 0, \"ticks\": \"\"}, \"colorscale\": [[0.0, \"#0d0887\"], [0.1111111111111111, \"#46039f\"], [0.2222222222222222, \"#7201a8\"], [0.3333333333333333, \"#9c179e\"], [0.4444444444444444, \"#bd3786\"], [0.5555555555555556, \"#d8576b\"], [0.6666666666666666, \"#ed7953\"], [0.7777777777777778, \"#fb9f3a\"], [0.8888888888888888, \"#fdca26\"], [1.0, \"#f0f921\"]], \"type\": \"heatmap\"}], \"heatmapgl\": [{\"colorbar\": {\"outlinewidth\": 0, \"ticks\": \"\"}, \"colorscale\": [[0.0, \"#0d0887\"], [0.1111111111111111, \"#46039f\"], [0.2222222222222222, \"#7201a8\"], [0.3333333333333333, \"#9c179e\"], [0.4444444444444444, \"#bd3786\"], [0.5555555555555556, \"#d8576b\"], [0.6666666666666666, \"#ed7953\"], [0.7777777777777778, \"#fb9f3a\"], [0.8888888888888888, \"#fdca26\"], [1.0, \"#f0f921\"]], \"type\": \"heatmapgl\"}], \"histogram\": [{\"marker\": {\"colorbar\": {\"outlinewidth\": 0, \"ticks\": \"\"}}, \"type\": \"histogram\"}], \"histogram2d\": [{\"colorbar\": {\"outlinewidth\": 0, \"ticks\": \"\"}, \"colorscale\": [[0.0, \"#0d0887\"], [0.1111111111111111, \"#46039f\"], [0.2222222222222222, \"#7201a8\"], [0.3333333333333333, \"#9c179e\"], [0.4444444444444444, \"#bd3786\"], [0.5555555555555556, \"#d8576b\"], [0.6666666666666666, \"#ed7953\"], [0.7777777777777778, \"#fb9f3a\"], [0.8888888888888888, \"#fdca26\"], [1.0, \"#f0f921\"]], \"type\": \"histogram2d\"}], \"histogram2dcontour\": [{\"colorbar\": {\"outlinewidth\": 0, \"ticks\": \"\"}, \"colorscale\": [[0.0, \"#0d0887\"], [0.1111111111111111, \"#46039f\"], [0.2222222222222222, \"#7201a8\"], [0.3333333333333333, \"#9c179e\"], [0.4444444444444444, \"#bd3786\"], [0.5555555555555556, \"#d8576b\"], [0.6666666666666666, \"#ed7953\"], [0.7777777777777778, \"#fb9f3a\"], [0.8888888888888888, \"#fdca26\"], [1.0, \"#f0f921\"]], \"type\": \"histogram2dcontour\"}], \"mesh3d\": [{\"colorbar\": {\"outlinewidth\": 0, \"ticks\": \"\"}, \"type\": \"mesh3d\"}], \"parcoords\": [{\"line\": {\"colorbar\": {\"outlinewidth\": 0, \"ticks\": \"\"}}, \"type\": \"parcoords\"}], \"pie\": [{\"automargin\": true, \"type\": \"pie\"}], \"scatter\": [{\"marker\": {\"colorbar\": {\"outlinewidth\": 0, \"ticks\": \"\"}}, \"type\": \"scatter\"}], \"scatter3d\": [{\"line\": {\"colorbar\": {\"outlinewidth\": 0, \"ticks\": \"\"}}, \"marker\": {\"colorbar\": {\"outlinewidth\": 0, \"ticks\": \"\"}}, \"type\": \"scatter3d\"}], \"scattercarpet\": [{\"marker\": {\"colorbar\": {\"outlinewidth\": 0, \"ticks\": \"\"}}, \"type\": \"scattercarpet\"}], \"scattergeo\": [{\"marker\": {\"colorbar\": {\"outlinewidth\": 0, \"ticks\": \"\"}}, \"type\": \"scattergeo\"}], \"scattergl\": [{\"marker\": {\"colorbar\": {\"outlinewidth\": 0, \"ticks\": \"\"}}, \"type\": \"scattergl\"}], \"scattermapbox\": [{\"marker\": {\"colorbar\": {\"outlinewidth\": 0, \"ticks\": \"\"}}, \"type\": \"scattermapbox\"}], \"scatterpolar\": [{\"marker\": {\"colorbar\": {\"outlinewidth\": 0, \"ticks\": \"\"}}, \"type\": \"scatterpolar\"}], \"scatterpolargl\": [{\"marker\": {\"colorbar\": {\"outlinewidth\": 0, \"ticks\": \"\"}}, \"type\": \"scatterpolargl\"}], \"scatterternary\": [{\"marker\": {\"colorbar\": {\"outlinewidth\": 0, \"ticks\": \"\"}}, \"type\": \"scatterternary\"}], \"surface\": [{\"colorbar\": {\"outlinewidth\": 0, \"ticks\": \"\"}, \"colorscale\": [[0.0, \"#0d0887\"], [0.1111111111111111, \"#46039f\"], [0.2222222222222222, \"#7201a8\"], [0.3333333333333333, \"#9c179e\"], [0.4444444444444444, \"#bd3786\"], [0.5555555555555556, \"#d8576b\"], [0.6666666666666666, \"#ed7953\"], [0.7777777777777778, \"#fb9f3a\"], [0.8888888888888888, \"#fdca26\"], [1.0, \"#f0f921\"]], \"type\": \"surface\"}], \"table\": [{\"cells\": {\"fill\": {\"color\": \"#EBF0F8\"}, \"line\": {\"color\": \"white\"}}, \"header\": {\"fill\": {\"color\": \"#C8D4E3\"}, \"line\": {\"color\": \"white\"}}, \"type\": \"table\"}]}, \"layout\": {\"annotationdefaults\": {\"arrowcolor\": \"#2a3f5f\", \"arrowhead\": 0, \"arrowwidth\": 1}, \"coloraxis\": {\"colorbar\": {\"outlinewidth\": 0, \"ticks\": \"\"}}, \"colorscale\": {\"diverging\": [[0, \"#8e0152\"], [0.1, \"#c51b7d\"], [0.2, \"#de77ae\"], [0.3, \"#f1b6da\"], [0.4, \"#fde0ef\"], [0.5, \"#f7f7f7\"], [0.6, \"#e6f5d0\"], [0.7, \"#b8e186\"], [0.8, \"#7fbc41\"], [0.9, \"#4d9221\"], [1, \"#276419\"]], \"sequential\": [[0.0, \"#0d0887\"], [0.1111111111111111, \"#46039f\"], [0.2222222222222222, \"#7201a8\"], [0.3333333333333333, \"#9c179e\"], [0.4444444444444444, \"#bd3786\"], [0.5555555555555556, \"#d8576b\"], [0.6666666666666666, \"#ed7953\"], [0.7777777777777778, \"#fb9f3a\"], [0.8888888888888888, \"#fdca26\"], [1.0, \"#f0f921\"]], \"sequentialminus\": [[0.0, \"#0d0887\"], [0.1111111111111111, \"#46039f\"], [0.2222222222222222, \"#7201a8\"], [0.3333333333333333, \"#9c179e\"], [0.4444444444444444, \"#bd3786\"], [0.5555555555555556, \"#d8576b\"], [0.6666666666666666, \"#ed7953\"], [0.7777777777777778, \"#fb9f3a\"], [0.8888888888888888, \"#fdca26\"], [1.0, \"#f0f921\"]]}, \"colorway\": [\"#636efa\", \"#EF553B\", \"#00cc96\", \"#ab63fa\", \"#FFA15A\", \"#19d3f3\", \"#FF6692\", \"#B6E880\", \"#FF97FF\", \"#FECB52\"], \"font\": {\"color\": \"#2a3f5f\"}, \"geo\": {\"bgcolor\": \"white\", \"lakecolor\": \"white\", \"landcolor\": \"#E5ECF6\", \"showlakes\": true, \"showland\": true, \"subunitcolor\": \"white\"}, \"hoverlabel\": {\"align\": \"left\"}, \"hovermode\": \"closest\", \"mapbox\": {\"style\": \"light\"}, \"paper_bgcolor\": \"white\", \"plot_bgcolor\": \"#E5ECF6\", \"polar\": {\"angularaxis\": {\"gridcolor\": \"white\", \"linecolor\": \"white\", \"ticks\": \"\"}, \"bgcolor\": \"#E5ECF6\", \"radialaxis\": {\"gridcolor\": \"white\", \"linecolor\": \"white\", \"ticks\": \"\"}}, \"scene\": {\"xaxis\": {\"backgroundcolor\": \"#E5ECF6\", \"gridcolor\": \"white\", \"gridwidth\": 2, \"linecolor\": \"white\", \"showbackground\": true, \"ticks\": \"\", \"zerolinecolor\": \"white\"}, \"yaxis\": {\"backgroundcolor\": \"#E5ECF6\", \"gridcolor\": \"white\", \"gridwidth\": 2, \"linecolor\": \"white\", \"showbackground\": true, \"ticks\": \"\", \"zerolinecolor\": \"white\"}, \"zaxis\": {\"backgroundcolor\": \"#E5ECF6\", \"gridcolor\": \"white\", \"gridwidth\": 2, \"linecolor\": \"white\", \"showbackground\": true, \"ticks\": \"\", \"zerolinecolor\": \"white\"}}, \"shapedefaults\": {\"line\": {\"color\": \"#2a3f5f\"}}, \"ternary\": {\"aaxis\": {\"gridcolor\": \"white\", \"linecolor\": \"white\", \"ticks\": \"\"}, \"baxis\": {\"gridcolor\": \"white\", \"linecolor\": \"white\", \"ticks\": \"\"}, \"bgcolor\": \"#E5ECF6\", \"caxis\": {\"gridcolor\": \"white\", \"linecolor\": \"white\", \"ticks\": \"\"}}, \"title\": {\"x\": 0.05}, \"xaxis\": {\"automargin\": true, \"gridcolor\": \"white\", \"linecolor\": \"white\", \"ticks\": \"\", \"title\": {\"standoff\": 15}, \"zerolinecolor\": \"white\", \"zerolinewidth\": 2}, \"yaxis\": {\"automargin\": true, \"gridcolor\": \"white\", \"linecolor\": \"white\", \"ticks\": \"\", \"title\": {\"standoff\": 15}, \"zerolinecolor\": \"white\", \"zerolinewidth\": 2}}}, \"title\": {\"text\": \"Distribution of Number of Daily Cases South Korea\"}, \"xaxis\": {\"anchor\": \"y\", \"domain\": [0.0, 1.0], \"title\": {\"text\": \"Date\"}}, \"yaxis\": {\"anchor\": \"x\", \"domain\": [0.0, 1.0], \"title\": {\"text\": \"Number of Cases\"}}},\n",
              "                        {\"responsive\": true}\n",
              "                    ).then(function(){\n",
              "                            \n",
              "var gd = document.getElementById('c50c800e-cc1a-417d-abf3-7d02ee9beed6');\n",
              "var x = new MutationObserver(function (mutations, observer) {{\n",
              "        var display = window.getComputedStyle(gd).display;\n",
              "        if (!display || display === 'none') {{\n",
              "            console.log([gd, 'removed!']);\n",
              "            Plotly.purge(gd);\n",
              "            observer.disconnect();\n",
              "        }}\n",
              "}});\n",
              "\n",
              "// Listen for the removal of the full notebook cells\n",
              "var notebookContainer = gd.closest('#notebook-container');\n",
              "if (notebookContainer) {{\n",
              "    x.observe(notebookContainer, {childList: true});\n",
              "}}\n",
              "\n",
              "// Listen for the clearing of the current output cell\n",
              "var outputEl = gd.closest('.output');\n",
              "if (outputEl) {{\n",
              "    x.observe(outputEl, {childList: true});\n",
              "}}\n",
              "\n",
              "                        })\n",
              "                };\n",
              "                \n",
              "            </script>\n",
              "        </div>\n",
              "</body>\n",
              "</html>"
            ]
          },
          "metadata": {
            "tags": []
          }
        }
      ]
    },
    {
      "cell_type": "markdown",
      "metadata": {
        "id": "TbVNVS0KXC7p",
        "colab_type": "text"
      },
      "source": [
        "View Report by user input country"
      ]
    },
    {
      "cell_type": "code",
      "metadata": {
        "id": "r9McLI4AIpN9",
        "colab_type": "code",
        "colab": {
          "base_uri": "https://localhost:8080/",
          "height": 559
        },
        "outputId": "f9d9195b-31bd-4c83-d3a0-f02d69388165"
      },
      "source": [
        "str=input()\n",
        "obj=do(str)\n",
        "obj.show()"
      ],
      "execution_count": null,
      "outputs": [
        {
          "output_type": "stream",
          "text": [
            "South_Korea\n"
          ],
          "name": "stdout"
        },
        {
          "output_type": "display_data",
          "data": {
            "text/html": [
              "<html>\n",
              "<head><meta charset=\"utf-8\" /></head>\n",
              "<body>\n",
              "    <div>\n",
              "            <script src=\"https://cdnjs.cloudflare.com/ajax/libs/mathjax/2.7.5/MathJax.js?config=TeX-AMS-MML_SVG\"></script><script type=\"text/javascript\">if (window.MathJax) {MathJax.Hub.Config({SVG: {font: \"STIX-Web\"}});}</script>\n",
              "                <script type=\"text/javascript\">window.PlotlyConfig = {MathJaxConfig: 'local'};</script>\n",
              "        <script src=\"https://cdn.plot.ly/plotly-latest.min.js\"></script>    \n",
              "            <div id=\"d0288bd7-4fb1-4176-8a03-8a6c39b819a5\" class=\"plotly-graph-div\" style=\"height:525px; width:100%;\"></div>\n",
              "            <script type=\"text/javascript\">\n",
              "                \n",
              "                    window.PLOTLYENV=window.PLOTLYENV || {};\n",
              "                    \n",
              "                if (document.getElementById(\"d0288bd7-4fb1-4176-8a03-8a6c39b819a5\")) {\n",
              "                    Plotly.newPlot(\n",
              "                        'd0288bd7-4fb1-4176-8a03-8a6c39b819a5',\n",
              "                        [{\"alignmentgroup\": \"True\", \"hoverlabel\": {\"namelength\": 0}, \"hovertemplate\": \"x=%{x}<br>y=%{y}\", \"legendgroup\": \"\", \"marker\": {\"color\": \"#636efa\"}, \"name\": \"\", \"offsetgroup\": \"\", \"orientation\": \"v\", \"showlegend\": false, \"textposition\": \"auto\", \"type\": \"bar\", \"x\": [\"31/12/2019\", \"01/01/2020\", \"02/01/2020\", \"03/01/2020\", \"04/01/2020\", \"05/01/2020\", \"06/01/2020\", \"07/01/2020\", \"08/01/2020\", \"09/01/2020\", \"10/01/2020\", \"11/01/2020\", \"12/01/2020\", \"13/01/2020\", \"14/01/2020\", \"15/01/2020\", \"16/01/2020\", \"17/01/2020\", \"18/01/2020\", \"19/01/2020\", \"20/01/2020\", \"21/01/2020\", \"22/01/2020\", \"23/01/2020\", \"24/01/2020\", \"25/01/2020\", \"26/01/2020\", \"27/01/2020\", \"28/01/2020\", \"29/01/2020\", \"30/01/2020\", \"31/01/2020\", \"01/02/2020\", \"02/02/2020\", \"03/02/2020\", \"04/02/2020\", \"05/02/2020\", \"06/02/2020\", \"07/02/2020\", \"08/02/2020\", \"09/02/2020\", \"10/02/2020\", \"11/02/2020\", \"12/02/2020\", \"13/02/2020\", \"14/02/2020\", \"15/02/2020\", \"16/02/2020\", \"17/02/2020\", \"18/02/2020\", \"19/02/2020\", \"20/02/2020\", \"21/02/2020\", \"22/02/2020\", \"23/02/2020\", \"24/02/2020\", \"25/02/2020\", \"26/02/2020\", \"27/02/2020\", \"28/02/2020\", \"29/02/2020\", \"01/03/2020\", \"02/03/2020\", \"03/03/2020\", \"04/03/2020\", \"05/03/2020\", \"06/03/2020\", \"07/03/2020\", \"08/03/2020\", \"09/03/2020\", \"10/03/2020\", \"11/03/2020\", \"12/03/2020\", \"13/03/2020\", \"14/03/2020\", \"15/03/2020\", \"16/03/2020\", \"17/03/2020\", \"18/03/2020\", \"19/03/2020\", \"20/03/2020\", \"21/03/2020\", \"22/03/2020\", \"23/03/2020\", \"24/03/2020\", \"25/03/2020\", \"26/03/2020\", \"27/03/2020\", \"28/03/2020\", \"29/03/2020\", \"30/03/2020\", \"31/03/2020\", \"01/04/2020\", \"02/04/2020\", \"03/04/2020\", \"04/04/2020\", \"05/04/2020\", \"06/04/2020\", \"07/04/2020\", \"08/04/2020\", \"09/04/2020\", \"10/04/2020\", \"11/04/2020\", \"12/04/2020\", \"13/04/2020\", \"14/04/2020\", \"15/04/2020\", \"16/04/2020\", \"17/04/2020\", \"18/04/2020\", \"19/04/2020\", \"20/04/2020\", \"21/04/2020\", \"22/04/2020\", \"23/04/2020\", \"24/04/2020\", \"25/04/2020\", \"26/04/2020\", \"27/04/2020\", \"28/04/2020\", \"29/04/2020\", \"30/04/2020\", \"01/05/2020\", \"02/05/2020\", \"03/05/2020\", \"04/05/2020\", \"05/05/2020\", \"06/05/2020\", \"07/05/2020\", \"08/05/2020\", \"09/05/2020\", \"10/05/2020\", \"11/05/2020\", \"12/05/2020\", \"13/05/2020\", \"14/05/2020\", \"15/05/2020\", \"16/05/2020\", \"17/05/2020\", \"18/05/2020\", \"19/05/2020\", \"20/05/2020\", \"21/05/2020\", \"22/05/2020\", \"23/05/2020\", \"24/05/2020\", \"25/05/2020\", \"26/05/2020\", \"27/05/2020\", \"28/05/2020\", \"29/05/2020\", \"30/05/2020\", \"31/05/2020\", \"01/06/2020\", \"02/06/2020\", \"03/06/2020\", \"04/06/2020\", \"05/06/2020\", \"06/06/2020\", \"07/06/2020\", \"08/06/2020\", \"09/06/2020\", \"10/06/2020\", \"11/06/2020\", \"12/06/2020\", \"13/06/2020\", \"14/06/2020\", \"15/06/2020\", \"16/06/2020\", \"17/06/2020\", \"18/06/2020\", \"19/06/2020\", \"20/06/2020\", \"21/06/2020\", \"22/06/2020\", \"23/06/2020\", \"24/06/2020\", \"25/06/2020\", \"26/06/2020\", \"27/06/2020\", \"28/06/2020\"], \"xaxis\": \"x\", \"y\": [0, 0, 0, 0, 0, 0, 0, 0, 0, 0, 0, 0, 0, 0, 0, 0, 0, 0, 0, 0, 1, 0, 0, 0, 1, 0, 1, 1, 0, 0, 0, 3, 5, 3, 0, 1, 2, 5, 1, 0, 1, 2, 1, 0, 0, 0, 0, 1, 1, 1, 15, 34, 75, 190, 256, 161, 130, 254, 449, 427, 909, 595, 686, 600, 516, 438, 518, 483, 367, 248, 131, 242, 114, 110, 107, 76, 74, 84, 93, 152, 87, 147, 98, 64, 76, 100, 104, 91, 146, 105, 78, 125, 0, 190, 86, 94, 81, 47, 47, 53, 39, 27, 0, 62, 25, 27, 27, 22, 22, 18, 8, 13, 9, 11, 8, 6, 10, 10, 10, 14, 9, 4, 9, 6, 13, 8, 3, 2, 4, 12, 18, 34, 35, 27, 26, 29, 27, 19, 13, 15, 13, 32, 12, 20, 23, 25, 16, 19, 40, 79, 58, 39, 27, 35, 38, 49, 39, 39, 51, 57, 38, 38, 50, 45, 56, 48, 33, 37, 34, 43, 59, 49, 67, 48, 17, 46, 51, 28, 39, 51, 62], \"yaxis\": \"y\"}],\n",
              "                        {\"barmode\": \"relative\", \"legend\": {\"tracegroupgap\": 0}, \"margin\": {\"t\": 60}, \"template\": {\"data\": {\"bar\": [{\"error_x\": {\"color\": \"#2a3f5f\"}, \"error_y\": {\"color\": \"#2a3f5f\"}, \"marker\": {\"line\": {\"color\": \"#E5ECF6\", \"width\": 0.5}}, \"type\": \"bar\"}], \"barpolar\": [{\"marker\": {\"line\": {\"color\": \"#E5ECF6\", \"width\": 0.5}}, \"type\": \"barpolar\"}], \"carpet\": [{\"aaxis\": {\"endlinecolor\": \"#2a3f5f\", \"gridcolor\": \"white\", \"linecolor\": \"white\", \"minorgridcolor\": \"white\", \"startlinecolor\": \"#2a3f5f\"}, \"baxis\": {\"endlinecolor\": \"#2a3f5f\", \"gridcolor\": \"white\", \"linecolor\": \"white\", \"minorgridcolor\": \"white\", \"startlinecolor\": \"#2a3f5f\"}, \"type\": \"carpet\"}], \"choropleth\": [{\"colorbar\": {\"outlinewidth\": 0, \"ticks\": \"\"}, \"type\": \"choropleth\"}], \"contour\": [{\"colorbar\": {\"outlinewidth\": 0, \"ticks\": \"\"}, \"colorscale\": [[0.0, \"#0d0887\"], [0.1111111111111111, \"#46039f\"], [0.2222222222222222, \"#7201a8\"], [0.3333333333333333, \"#9c179e\"], [0.4444444444444444, \"#bd3786\"], [0.5555555555555556, \"#d8576b\"], [0.6666666666666666, \"#ed7953\"], [0.7777777777777778, \"#fb9f3a\"], [0.8888888888888888, \"#fdca26\"], [1.0, \"#f0f921\"]], \"type\": \"contour\"}], \"contourcarpet\": [{\"colorbar\": {\"outlinewidth\": 0, \"ticks\": \"\"}, \"type\": \"contourcarpet\"}], \"heatmap\": [{\"colorbar\": {\"outlinewidth\": 0, \"ticks\": \"\"}, \"colorscale\": [[0.0, \"#0d0887\"], [0.1111111111111111, \"#46039f\"], [0.2222222222222222, \"#7201a8\"], [0.3333333333333333, \"#9c179e\"], [0.4444444444444444, \"#bd3786\"], [0.5555555555555556, \"#d8576b\"], [0.6666666666666666, \"#ed7953\"], [0.7777777777777778, \"#fb9f3a\"], [0.8888888888888888, \"#fdca26\"], [1.0, \"#f0f921\"]], \"type\": \"heatmap\"}], \"heatmapgl\": [{\"colorbar\": {\"outlinewidth\": 0, \"ticks\": \"\"}, \"colorscale\": [[0.0, \"#0d0887\"], [0.1111111111111111, \"#46039f\"], [0.2222222222222222, \"#7201a8\"], [0.3333333333333333, \"#9c179e\"], [0.4444444444444444, \"#bd3786\"], [0.5555555555555556, \"#d8576b\"], [0.6666666666666666, \"#ed7953\"], [0.7777777777777778, \"#fb9f3a\"], [0.8888888888888888, \"#fdca26\"], [1.0, \"#f0f921\"]], \"type\": \"heatmapgl\"}], \"histogram\": [{\"marker\": {\"colorbar\": {\"outlinewidth\": 0, \"ticks\": \"\"}}, \"type\": \"histogram\"}], \"histogram2d\": [{\"colorbar\": {\"outlinewidth\": 0, \"ticks\": \"\"}, \"colorscale\": [[0.0, \"#0d0887\"], [0.1111111111111111, \"#46039f\"], [0.2222222222222222, \"#7201a8\"], [0.3333333333333333, \"#9c179e\"], [0.4444444444444444, \"#bd3786\"], [0.5555555555555556, \"#d8576b\"], [0.6666666666666666, \"#ed7953\"], [0.7777777777777778, \"#fb9f3a\"], [0.8888888888888888, \"#fdca26\"], [1.0, \"#f0f921\"]], \"type\": \"histogram2d\"}], \"histogram2dcontour\": [{\"colorbar\": {\"outlinewidth\": 0, \"ticks\": \"\"}, \"colorscale\": [[0.0, \"#0d0887\"], [0.1111111111111111, \"#46039f\"], [0.2222222222222222, \"#7201a8\"], [0.3333333333333333, \"#9c179e\"], [0.4444444444444444, \"#bd3786\"], [0.5555555555555556, \"#d8576b\"], [0.6666666666666666, \"#ed7953\"], [0.7777777777777778, \"#fb9f3a\"], [0.8888888888888888, \"#fdca26\"], [1.0, \"#f0f921\"]], \"type\": \"histogram2dcontour\"}], \"mesh3d\": [{\"colorbar\": {\"outlinewidth\": 0, \"ticks\": \"\"}, \"type\": \"mesh3d\"}], \"parcoords\": [{\"line\": {\"colorbar\": {\"outlinewidth\": 0, \"ticks\": \"\"}}, \"type\": \"parcoords\"}], \"pie\": [{\"automargin\": true, \"type\": \"pie\"}], \"scatter\": [{\"marker\": {\"colorbar\": {\"outlinewidth\": 0, \"ticks\": \"\"}}, \"type\": \"scatter\"}], \"scatter3d\": [{\"line\": {\"colorbar\": {\"outlinewidth\": 0, \"ticks\": \"\"}}, \"marker\": {\"colorbar\": {\"outlinewidth\": 0, \"ticks\": \"\"}}, \"type\": \"scatter3d\"}], \"scattercarpet\": [{\"marker\": {\"colorbar\": {\"outlinewidth\": 0, \"ticks\": \"\"}}, \"type\": \"scattercarpet\"}], \"scattergeo\": [{\"marker\": {\"colorbar\": {\"outlinewidth\": 0, \"ticks\": \"\"}}, \"type\": \"scattergeo\"}], \"scattergl\": [{\"marker\": {\"colorbar\": {\"outlinewidth\": 0, \"ticks\": \"\"}}, \"type\": \"scattergl\"}], \"scattermapbox\": [{\"marker\": {\"colorbar\": {\"outlinewidth\": 0, \"ticks\": \"\"}}, \"type\": \"scattermapbox\"}], \"scatterpolar\": [{\"marker\": {\"colorbar\": {\"outlinewidth\": 0, \"ticks\": \"\"}}, \"type\": \"scatterpolar\"}], \"scatterpolargl\": [{\"marker\": {\"colorbar\": {\"outlinewidth\": 0, \"ticks\": \"\"}}, \"type\": \"scatterpolargl\"}], \"scatterternary\": [{\"marker\": {\"colorbar\": {\"outlinewidth\": 0, \"ticks\": \"\"}}, \"type\": \"scatterternary\"}], \"surface\": [{\"colorbar\": {\"outlinewidth\": 0, \"ticks\": \"\"}, \"colorscale\": [[0.0, \"#0d0887\"], [0.1111111111111111, \"#46039f\"], [0.2222222222222222, \"#7201a8\"], [0.3333333333333333, \"#9c179e\"], [0.4444444444444444, \"#bd3786\"], [0.5555555555555556, \"#d8576b\"], [0.6666666666666666, \"#ed7953\"], [0.7777777777777778, \"#fb9f3a\"], [0.8888888888888888, \"#fdca26\"], [1.0, \"#f0f921\"]], \"type\": \"surface\"}], \"table\": [{\"cells\": {\"fill\": {\"color\": \"#EBF0F8\"}, \"line\": {\"color\": \"white\"}}, \"header\": {\"fill\": {\"color\": \"#C8D4E3\"}, \"line\": {\"color\": \"white\"}}, \"type\": \"table\"}]}, \"layout\": {\"annotationdefaults\": {\"arrowcolor\": \"#2a3f5f\", \"arrowhead\": 0, \"arrowwidth\": 1}, \"coloraxis\": {\"colorbar\": {\"outlinewidth\": 0, \"ticks\": \"\"}}, \"colorscale\": {\"diverging\": [[0, \"#8e0152\"], [0.1, \"#c51b7d\"], [0.2, \"#de77ae\"], [0.3, \"#f1b6da\"], [0.4, \"#fde0ef\"], [0.5, \"#f7f7f7\"], [0.6, \"#e6f5d0\"], [0.7, \"#b8e186\"], [0.8, \"#7fbc41\"], [0.9, \"#4d9221\"], [1, \"#276419\"]], \"sequential\": [[0.0, \"#0d0887\"], [0.1111111111111111, \"#46039f\"], [0.2222222222222222, \"#7201a8\"], [0.3333333333333333, \"#9c179e\"], [0.4444444444444444, \"#bd3786\"], [0.5555555555555556, \"#d8576b\"], [0.6666666666666666, \"#ed7953\"], [0.7777777777777778, \"#fb9f3a\"], [0.8888888888888888, \"#fdca26\"], [1.0, \"#f0f921\"]], \"sequentialminus\": [[0.0, \"#0d0887\"], [0.1111111111111111, \"#46039f\"], [0.2222222222222222, \"#7201a8\"], [0.3333333333333333, \"#9c179e\"], [0.4444444444444444, \"#bd3786\"], [0.5555555555555556, \"#d8576b\"], [0.6666666666666666, \"#ed7953\"], [0.7777777777777778, \"#fb9f3a\"], [0.8888888888888888, \"#fdca26\"], [1.0, \"#f0f921\"]]}, \"colorway\": [\"#636efa\", \"#EF553B\", \"#00cc96\", \"#ab63fa\", \"#FFA15A\", \"#19d3f3\", \"#FF6692\", \"#B6E880\", \"#FF97FF\", \"#FECB52\"], \"font\": {\"color\": \"#2a3f5f\"}, \"geo\": {\"bgcolor\": \"white\", \"lakecolor\": \"white\", \"landcolor\": \"#E5ECF6\", \"showlakes\": true, \"showland\": true, \"subunitcolor\": \"white\"}, \"hoverlabel\": {\"align\": \"left\"}, \"hovermode\": \"closest\", \"mapbox\": {\"style\": \"light\"}, \"paper_bgcolor\": \"white\", \"plot_bgcolor\": \"#E5ECF6\", \"polar\": {\"angularaxis\": {\"gridcolor\": \"white\", \"linecolor\": \"white\", \"ticks\": \"\"}, \"bgcolor\": \"#E5ECF6\", \"radialaxis\": {\"gridcolor\": \"white\", \"linecolor\": \"white\", \"ticks\": \"\"}}, \"scene\": {\"xaxis\": {\"backgroundcolor\": \"#E5ECF6\", \"gridcolor\": \"white\", \"gridwidth\": 2, \"linecolor\": \"white\", \"showbackground\": true, \"ticks\": \"\", \"zerolinecolor\": \"white\"}, \"yaxis\": {\"backgroundcolor\": \"#E5ECF6\", \"gridcolor\": \"white\", \"gridwidth\": 2, \"linecolor\": \"white\", \"showbackground\": true, \"ticks\": \"\", \"zerolinecolor\": \"white\"}, \"zaxis\": {\"backgroundcolor\": \"#E5ECF6\", \"gridcolor\": \"white\", \"gridwidth\": 2, \"linecolor\": \"white\", \"showbackground\": true, \"ticks\": \"\", \"zerolinecolor\": \"white\"}}, \"shapedefaults\": {\"line\": {\"color\": \"#2a3f5f\"}}, \"ternary\": {\"aaxis\": {\"gridcolor\": \"white\", \"linecolor\": \"white\", \"ticks\": \"\"}, \"baxis\": {\"gridcolor\": \"white\", \"linecolor\": \"white\", \"ticks\": \"\"}, \"bgcolor\": \"#E5ECF6\", \"caxis\": {\"gridcolor\": \"white\", \"linecolor\": \"white\", \"ticks\": \"\"}}, \"title\": {\"x\": 0.05}, \"xaxis\": {\"automargin\": true, \"gridcolor\": \"white\", \"linecolor\": \"white\", \"ticks\": \"\", \"title\": {\"standoff\": 15}, \"zerolinecolor\": \"white\", \"zerolinewidth\": 2}, \"yaxis\": {\"automargin\": true, \"gridcolor\": \"white\", \"linecolor\": \"white\", \"ticks\": \"\", \"title\": {\"standoff\": 15}, \"zerolinecolor\": \"white\", \"zerolinewidth\": 2}}}, \"title\": {\"text\": \"Distribution of Number of Active Cases South_Korea\"}, \"xaxis\": {\"anchor\": \"y\", \"domain\": [0.0, 1.0], \"title\": {\"text\": \"Date\"}}, \"yaxis\": {\"anchor\": \"x\", \"domain\": [0.0, 1.0], \"title\": {\"text\": \"Number of Cases\"}}},\n",
              "                        {\"responsive\": true}\n",
              "                    ).then(function(){\n",
              "                            \n",
              "var gd = document.getElementById('d0288bd7-4fb1-4176-8a03-8a6c39b819a5');\n",
              "var x = new MutationObserver(function (mutations, observer) {{\n",
              "        var display = window.getComputedStyle(gd).display;\n",
              "        if (!display || display === 'none') {{\n",
              "            console.log([gd, 'removed!']);\n",
              "            Plotly.purge(gd);\n",
              "            observer.disconnect();\n",
              "        }}\n",
              "}});\n",
              "\n",
              "// Listen for the removal of the full notebook cells\n",
              "var notebookContainer = gd.closest('#notebook-container');\n",
              "if (notebookContainer) {{\n",
              "    x.observe(notebookContainer, {childList: true});\n",
              "}}\n",
              "\n",
              "// Listen for the clearing of the current output cell\n",
              "var outputEl = gd.closest('.output');\n",
              "if (outputEl) {{\n",
              "    x.observe(outputEl, {childList: true});\n",
              "}}\n",
              "\n",
              "                        })\n",
              "                };\n",
              "                \n",
              "            </script>\n",
              "        </div>\n",
              "</body>\n",
              "</html>"
            ]
          },
          "metadata": {
            "tags": []
          }
        }
      ]
    },
    {
      "cell_type": "code",
      "metadata": {
        "id": "xGMrX9pX6e60",
        "colab_type": "code",
        "colab": {
          "base_uri": "https://localhost:8080/",
          "height": 542
        },
        "outputId": "87158d8a-30cc-49a9-8cfc-5224c331528c"
      },
      "source": [
        "us=data[data['country']=='United_States_of_America']\n",
        "us=us.sort_values(by=['year','month','day'])\n",
        "\n",
        "fig=px.bar(x=us['dateRep'],y=us[\"cases\"])\n",
        "fig.update_layout(title=\"Distribution of Number of Daily Cases USA\",\n",
        "                  xaxis_title=\"Date\",yaxis_title=\"Number of Cases\",)\n",
        "fig.show()"
      ],
      "execution_count": null,
      "outputs": [
        {
          "output_type": "display_data",
          "data": {
            "text/html": [
              "<html>\n",
              "<head><meta charset=\"utf-8\" /></head>\n",
              "<body>\n",
              "    <div>\n",
              "            <script src=\"https://cdnjs.cloudflare.com/ajax/libs/mathjax/2.7.5/MathJax.js?config=TeX-AMS-MML_SVG\"></script><script type=\"text/javascript\">if (window.MathJax) {MathJax.Hub.Config({SVG: {font: \"STIX-Web\"}});}</script>\n",
              "                <script type=\"text/javascript\">window.PlotlyConfig = {MathJaxConfig: 'local'};</script>\n",
              "        <script src=\"https://cdn.plot.ly/plotly-latest.min.js\"></script>    \n",
              "            <div id=\"14baf2d0-8706-4995-ac7a-0979c65ee1af\" class=\"plotly-graph-div\" style=\"height:525px; width:100%;\"></div>\n",
              "            <script type=\"text/javascript\">\n",
              "                \n",
              "                    window.PLOTLYENV=window.PLOTLYENV || {};\n",
              "                    \n",
              "                if (document.getElementById(\"14baf2d0-8706-4995-ac7a-0979c65ee1af\")) {\n",
              "                    Plotly.newPlot(\n",
              "                        '14baf2d0-8706-4995-ac7a-0979c65ee1af',\n",
              "                        [{\"alignmentgroup\": \"True\", \"hoverlabel\": {\"namelength\": 0}, \"hovertemplate\": \"x=%{x}<br>y=%{y}\", \"legendgroup\": \"\", \"marker\": {\"color\": \"#636efa\"}, \"name\": \"\", \"offsetgroup\": \"\", \"orientation\": \"v\", \"showlegend\": false, \"textposition\": \"auto\", \"type\": \"bar\", \"x\": [\"31/12/2019\", \"01/01/2020\", \"02/01/2020\", \"03/01/2020\", \"04/01/2020\", \"05/01/2020\", \"06/01/2020\", \"07/01/2020\", \"08/01/2020\", \"09/01/2020\", \"10/01/2020\", \"11/01/2020\", \"12/01/2020\", \"13/01/2020\", \"14/01/2020\", \"15/01/2020\", \"16/01/2020\", \"17/01/2020\", \"18/01/2020\", \"19/01/2020\", \"20/01/2020\", \"21/01/2020\", \"22/01/2020\", \"23/01/2020\", \"24/01/2020\", \"25/01/2020\", \"26/01/2020\", \"27/01/2020\", \"28/01/2020\", \"29/01/2020\", \"30/01/2020\", \"31/01/2020\", \"01/02/2020\", \"02/02/2020\", \"03/02/2020\", \"04/02/2020\", \"05/02/2020\", \"06/02/2020\", \"07/02/2020\", \"08/02/2020\", \"09/02/2020\", \"10/02/2020\", \"11/02/2020\", \"12/02/2020\", \"13/02/2020\", \"14/02/2020\", \"15/02/2020\", \"16/02/2020\", \"17/02/2020\", \"18/02/2020\", \"19/02/2020\", \"20/02/2020\", \"21/02/2020\", \"22/02/2020\", \"23/02/2020\", \"24/02/2020\", \"25/02/2020\", \"26/02/2020\", \"27/02/2020\", \"28/02/2020\", \"29/02/2020\", \"01/03/2020\", \"02/03/2020\", \"03/03/2020\", \"04/03/2020\", \"05/03/2020\", \"06/03/2020\", \"07/03/2020\", \"08/03/2020\", \"09/03/2020\", \"10/03/2020\", \"11/03/2020\", \"12/03/2020\", \"13/03/2020\", \"14/03/2020\", \"15/03/2020\", \"16/03/2020\", \"17/03/2020\", \"18/03/2020\", \"19/03/2020\", \"20/03/2020\", \"21/03/2020\", \"22/03/2020\", \"23/03/2020\", \"24/03/2020\", \"25/03/2020\", \"26/03/2020\", \"27/03/2020\", \"28/03/2020\", \"29/03/2020\", \"30/03/2020\", \"31/03/2020\", \"01/04/2020\", \"02/04/2020\", \"03/04/2020\", \"04/04/2020\", \"05/04/2020\", \"06/04/2020\", \"07/04/2020\", \"08/04/2020\", \"09/04/2020\", \"10/04/2020\", \"11/04/2020\", \"12/04/2020\", \"13/04/2020\", \"14/04/2020\", \"15/04/2020\", \"16/04/2020\", \"17/04/2020\", \"18/04/2020\", \"19/04/2020\", \"20/04/2020\", \"21/04/2020\", \"22/04/2020\", \"23/04/2020\", \"24/04/2020\", \"25/04/2020\", \"26/04/2020\", \"27/04/2020\", \"28/04/2020\", \"29/04/2020\", \"30/04/2020\", \"01/05/2020\", \"02/05/2020\", \"03/05/2020\", \"04/05/2020\", \"05/05/2020\", \"06/05/2020\", \"07/05/2020\", \"08/05/2020\", \"09/05/2020\", \"10/05/2020\", \"11/05/2020\", \"12/05/2020\", \"13/05/2020\", \"14/05/2020\", \"15/05/2020\", \"16/05/2020\", \"17/05/2020\", \"18/05/2020\", \"19/05/2020\", \"20/05/2020\", \"21/05/2020\", \"22/05/2020\", \"23/05/2020\", \"24/05/2020\", \"25/05/2020\", \"26/05/2020\", \"27/05/2020\", \"28/05/2020\", \"29/05/2020\", \"30/05/2020\", \"31/05/2020\", \"01/06/2020\", \"02/06/2020\", \"03/06/2020\", \"04/06/2020\", \"05/06/2020\", \"06/06/2020\", \"07/06/2020\", \"08/06/2020\", \"09/06/2020\", \"10/06/2020\", \"11/06/2020\", \"12/06/2020\", \"13/06/2020\", \"14/06/2020\", \"15/06/2020\", \"16/06/2020\", \"17/06/2020\", \"18/06/2020\", \"19/06/2020\", \"20/06/2020\", \"21/06/2020\", \"22/06/2020\", \"23/06/2020\", \"24/06/2020\", \"25/06/2020\", \"26/06/2020\", \"27/06/2020\", \"28/06/2020\"], \"xaxis\": \"x\", \"y\": [0, 0, 0, 0, 0, 0, 0, 0, 0, 0, 0, 0, 0, 0, 0, 0, 0, 0, 0, 0, 0, 1, 0, 0, 0, 1, 0, 3, 0, 0, 0, 1, 1, 1, 3, 0, 0, 1, 0, 0, 0, 0, 1, 0, 1, 1, 0, 0, 0, 0, 0, 0, 1, 19, 0, 0, 18, 0, 6, 1, 6, 3, 20, 14, 22, 34, 74, 105, 95, 121, 200, 271, 287, 351, 511, 777, 823, 887, 1766, 2988, 4835, 5374, 7123, 8459, 11236, 8789, 13963, 16797, 18695, 19979, 18360, 21595, 24998, 27103, 28819, 32425, 34272, 25398, 30561, 30613, 33323, 33901, 35527, 28391, 27620, 25023, 26922, 30148, 31667, 30833, 32922, 24601, 28065, 37289, 17588, 26543, 21352, 48529, 26857, 22541, 24132, 27326, 29917, 33955, 29288, 24972, 22593, 23841, 24128, 28369, 26957, 25612, 20258, 18117, 22048, 20782, 27143, 25508, 24487, 18873, 21841, 19970, 23285, 25434, 24147, 21236, 20568, 19064, 18910, 18721, 21817, 25337, 23297, 19807, 21086, 20544, 19699, 21140, 25178, 22223, 22302, 18822, 18665, 20614, 22883, 25639, 25540, 19543, 19957, 23705, 25559, 27762, 29909, 34158, 25793, 31390, 34720, 34339, 40949, 45527, 42486], \"yaxis\": \"y\"}],\n",
              "                        {\"barmode\": \"relative\", \"legend\": {\"tracegroupgap\": 0}, \"margin\": {\"t\": 60}, \"template\": {\"data\": {\"bar\": [{\"error_x\": {\"color\": \"#2a3f5f\"}, \"error_y\": {\"color\": \"#2a3f5f\"}, \"marker\": {\"line\": {\"color\": \"#E5ECF6\", \"width\": 0.5}}, \"type\": \"bar\"}], \"barpolar\": [{\"marker\": {\"line\": {\"color\": \"#E5ECF6\", \"width\": 0.5}}, \"type\": \"barpolar\"}], \"carpet\": [{\"aaxis\": {\"endlinecolor\": \"#2a3f5f\", \"gridcolor\": \"white\", \"linecolor\": \"white\", \"minorgridcolor\": \"white\", \"startlinecolor\": \"#2a3f5f\"}, \"baxis\": {\"endlinecolor\": \"#2a3f5f\", \"gridcolor\": \"white\", \"linecolor\": \"white\", \"minorgridcolor\": \"white\", \"startlinecolor\": \"#2a3f5f\"}, \"type\": \"carpet\"}], \"choropleth\": [{\"colorbar\": {\"outlinewidth\": 0, \"ticks\": \"\"}, \"type\": \"choropleth\"}], \"contour\": [{\"colorbar\": {\"outlinewidth\": 0, \"ticks\": \"\"}, \"colorscale\": [[0.0, \"#0d0887\"], [0.1111111111111111, \"#46039f\"], [0.2222222222222222, \"#7201a8\"], [0.3333333333333333, \"#9c179e\"], [0.4444444444444444, \"#bd3786\"], [0.5555555555555556, \"#d8576b\"], [0.6666666666666666, \"#ed7953\"], [0.7777777777777778, \"#fb9f3a\"], [0.8888888888888888, \"#fdca26\"], [1.0, \"#f0f921\"]], \"type\": \"contour\"}], \"contourcarpet\": [{\"colorbar\": {\"outlinewidth\": 0, \"ticks\": \"\"}, \"type\": \"contourcarpet\"}], \"heatmap\": [{\"colorbar\": {\"outlinewidth\": 0, \"ticks\": \"\"}, \"colorscale\": [[0.0, \"#0d0887\"], [0.1111111111111111, \"#46039f\"], [0.2222222222222222, \"#7201a8\"], [0.3333333333333333, \"#9c179e\"], [0.4444444444444444, \"#bd3786\"], [0.5555555555555556, \"#d8576b\"], [0.6666666666666666, \"#ed7953\"], [0.7777777777777778, \"#fb9f3a\"], [0.8888888888888888, \"#fdca26\"], [1.0, \"#f0f921\"]], \"type\": \"heatmap\"}], \"heatmapgl\": [{\"colorbar\": {\"outlinewidth\": 0, \"ticks\": \"\"}, \"colorscale\": [[0.0, \"#0d0887\"], [0.1111111111111111, \"#46039f\"], [0.2222222222222222, \"#7201a8\"], [0.3333333333333333, \"#9c179e\"], [0.4444444444444444, \"#bd3786\"], [0.5555555555555556, \"#d8576b\"], [0.6666666666666666, \"#ed7953\"], [0.7777777777777778, \"#fb9f3a\"], [0.8888888888888888, \"#fdca26\"], [1.0, \"#f0f921\"]], \"type\": \"heatmapgl\"}], \"histogram\": [{\"marker\": {\"colorbar\": {\"outlinewidth\": 0, \"ticks\": \"\"}}, \"type\": \"histogram\"}], \"histogram2d\": [{\"colorbar\": {\"outlinewidth\": 0, \"ticks\": \"\"}, \"colorscale\": [[0.0, \"#0d0887\"], [0.1111111111111111, \"#46039f\"], [0.2222222222222222, \"#7201a8\"], [0.3333333333333333, \"#9c179e\"], [0.4444444444444444, \"#bd3786\"], [0.5555555555555556, \"#d8576b\"], [0.6666666666666666, \"#ed7953\"], [0.7777777777777778, \"#fb9f3a\"], [0.8888888888888888, \"#fdca26\"], [1.0, \"#f0f921\"]], \"type\": \"histogram2d\"}], \"histogram2dcontour\": [{\"colorbar\": {\"outlinewidth\": 0, \"ticks\": \"\"}, \"colorscale\": [[0.0, \"#0d0887\"], [0.1111111111111111, \"#46039f\"], [0.2222222222222222, \"#7201a8\"], [0.3333333333333333, \"#9c179e\"], [0.4444444444444444, \"#bd3786\"], [0.5555555555555556, \"#d8576b\"], [0.6666666666666666, \"#ed7953\"], [0.7777777777777778, \"#fb9f3a\"], [0.8888888888888888, \"#fdca26\"], [1.0, \"#f0f921\"]], \"type\": \"histogram2dcontour\"}], \"mesh3d\": [{\"colorbar\": {\"outlinewidth\": 0, \"ticks\": \"\"}, \"type\": \"mesh3d\"}], \"parcoords\": [{\"line\": {\"colorbar\": {\"outlinewidth\": 0, \"ticks\": \"\"}}, \"type\": \"parcoords\"}], \"pie\": [{\"automargin\": true, \"type\": \"pie\"}], \"scatter\": [{\"marker\": {\"colorbar\": {\"outlinewidth\": 0, \"ticks\": \"\"}}, \"type\": \"scatter\"}], \"scatter3d\": [{\"line\": {\"colorbar\": {\"outlinewidth\": 0, \"ticks\": \"\"}}, \"marker\": {\"colorbar\": {\"outlinewidth\": 0, \"ticks\": \"\"}}, \"type\": \"scatter3d\"}], \"scattercarpet\": [{\"marker\": {\"colorbar\": {\"outlinewidth\": 0, \"ticks\": \"\"}}, \"type\": \"scattercarpet\"}], \"scattergeo\": [{\"marker\": {\"colorbar\": {\"outlinewidth\": 0, \"ticks\": \"\"}}, \"type\": \"scattergeo\"}], \"scattergl\": [{\"marker\": {\"colorbar\": {\"outlinewidth\": 0, \"ticks\": \"\"}}, \"type\": \"scattergl\"}], \"scattermapbox\": [{\"marker\": {\"colorbar\": {\"outlinewidth\": 0, \"ticks\": \"\"}}, \"type\": \"scattermapbox\"}], \"scatterpolar\": [{\"marker\": {\"colorbar\": {\"outlinewidth\": 0, \"ticks\": \"\"}}, \"type\": \"scatterpolar\"}], \"scatterpolargl\": [{\"marker\": {\"colorbar\": {\"outlinewidth\": 0, \"ticks\": \"\"}}, \"type\": \"scatterpolargl\"}], \"scatterternary\": [{\"marker\": {\"colorbar\": {\"outlinewidth\": 0, \"ticks\": \"\"}}, \"type\": \"scatterternary\"}], \"surface\": [{\"colorbar\": {\"outlinewidth\": 0, \"ticks\": \"\"}, \"colorscale\": [[0.0, \"#0d0887\"], [0.1111111111111111, \"#46039f\"], [0.2222222222222222, \"#7201a8\"], [0.3333333333333333, \"#9c179e\"], [0.4444444444444444, \"#bd3786\"], [0.5555555555555556, \"#d8576b\"], [0.6666666666666666, \"#ed7953\"], [0.7777777777777778, \"#fb9f3a\"], [0.8888888888888888, \"#fdca26\"], [1.0, \"#f0f921\"]], \"type\": \"surface\"}], \"table\": [{\"cells\": {\"fill\": {\"color\": \"#EBF0F8\"}, \"line\": {\"color\": \"white\"}}, \"header\": {\"fill\": {\"color\": \"#C8D4E3\"}, \"line\": {\"color\": \"white\"}}, \"type\": \"table\"}]}, \"layout\": {\"annotationdefaults\": {\"arrowcolor\": \"#2a3f5f\", \"arrowhead\": 0, \"arrowwidth\": 1}, \"coloraxis\": {\"colorbar\": {\"outlinewidth\": 0, \"ticks\": \"\"}}, \"colorscale\": {\"diverging\": [[0, \"#8e0152\"], [0.1, \"#c51b7d\"], [0.2, \"#de77ae\"], [0.3, \"#f1b6da\"], [0.4, \"#fde0ef\"], [0.5, \"#f7f7f7\"], [0.6, \"#e6f5d0\"], [0.7, \"#b8e186\"], [0.8, \"#7fbc41\"], [0.9, \"#4d9221\"], [1, \"#276419\"]], \"sequential\": [[0.0, \"#0d0887\"], [0.1111111111111111, \"#46039f\"], [0.2222222222222222, \"#7201a8\"], [0.3333333333333333, \"#9c179e\"], [0.4444444444444444, \"#bd3786\"], [0.5555555555555556, \"#d8576b\"], [0.6666666666666666, \"#ed7953\"], [0.7777777777777778, \"#fb9f3a\"], [0.8888888888888888, \"#fdca26\"], [1.0, \"#f0f921\"]], \"sequentialminus\": [[0.0, \"#0d0887\"], [0.1111111111111111, \"#46039f\"], [0.2222222222222222, \"#7201a8\"], [0.3333333333333333, \"#9c179e\"], [0.4444444444444444, \"#bd3786\"], [0.5555555555555556, \"#d8576b\"], [0.6666666666666666, \"#ed7953\"], [0.7777777777777778, \"#fb9f3a\"], [0.8888888888888888, \"#fdca26\"], [1.0, \"#f0f921\"]]}, \"colorway\": [\"#636efa\", \"#EF553B\", \"#00cc96\", \"#ab63fa\", \"#FFA15A\", \"#19d3f3\", \"#FF6692\", \"#B6E880\", \"#FF97FF\", \"#FECB52\"], \"font\": {\"color\": \"#2a3f5f\"}, \"geo\": {\"bgcolor\": \"white\", \"lakecolor\": \"white\", \"landcolor\": \"#E5ECF6\", \"showlakes\": true, \"showland\": true, \"subunitcolor\": \"white\"}, \"hoverlabel\": {\"align\": \"left\"}, \"hovermode\": \"closest\", \"mapbox\": {\"style\": \"light\"}, \"paper_bgcolor\": \"white\", \"plot_bgcolor\": \"#E5ECF6\", \"polar\": {\"angularaxis\": {\"gridcolor\": \"white\", \"linecolor\": \"white\", \"ticks\": \"\"}, \"bgcolor\": \"#E5ECF6\", \"radialaxis\": {\"gridcolor\": \"white\", \"linecolor\": \"white\", \"ticks\": \"\"}}, \"scene\": {\"xaxis\": {\"backgroundcolor\": \"#E5ECF6\", \"gridcolor\": \"white\", \"gridwidth\": 2, \"linecolor\": \"white\", \"showbackground\": true, \"ticks\": \"\", \"zerolinecolor\": \"white\"}, \"yaxis\": {\"backgroundcolor\": \"#E5ECF6\", \"gridcolor\": \"white\", \"gridwidth\": 2, \"linecolor\": \"white\", \"showbackground\": true, \"ticks\": \"\", \"zerolinecolor\": \"white\"}, \"zaxis\": {\"backgroundcolor\": \"#E5ECF6\", \"gridcolor\": \"white\", \"gridwidth\": 2, \"linecolor\": \"white\", \"showbackground\": true, \"ticks\": \"\", \"zerolinecolor\": \"white\"}}, \"shapedefaults\": {\"line\": {\"color\": \"#2a3f5f\"}}, \"ternary\": {\"aaxis\": {\"gridcolor\": \"white\", \"linecolor\": \"white\", \"ticks\": \"\"}, \"baxis\": {\"gridcolor\": \"white\", \"linecolor\": \"white\", \"ticks\": \"\"}, \"bgcolor\": \"#E5ECF6\", \"caxis\": {\"gridcolor\": \"white\", \"linecolor\": \"white\", \"ticks\": \"\"}}, \"title\": {\"x\": 0.05}, \"xaxis\": {\"automargin\": true, \"gridcolor\": \"white\", \"linecolor\": \"white\", \"ticks\": \"\", \"title\": {\"standoff\": 15}, \"zerolinecolor\": \"white\", \"zerolinewidth\": 2}, \"yaxis\": {\"automargin\": true, \"gridcolor\": \"white\", \"linecolor\": \"white\", \"ticks\": \"\", \"title\": {\"standoff\": 15}, \"zerolinecolor\": \"white\", \"zerolinewidth\": 2}}}, \"title\": {\"text\": \"Distribution of Number of Daily Cases USA\"}, \"xaxis\": {\"anchor\": \"y\", \"domain\": [0.0, 1.0], \"title\": {\"text\": \"Date\"}}, \"yaxis\": {\"anchor\": \"x\", \"domain\": [0.0, 1.0], \"title\": {\"text\": \"Number of Cases\"}}},\n",
              "                        {\"responsive\": true}\n",
              "                    ).then(function(){\n",
              "                            \n",
              "var gd = document.getElementById('14baf2d0-8706-4995-ac7a-0979c65ee1af');\n",
              "var x = new MutationObserver(function (mutations, observer) {{\n",
              "        var display = window.getComputedStyle(gd).display;\n",
              "        if (!display || display === 'none') {{\n",
              "            console.log([gd, 'removed!']);\n",
              "            Plotly.purge(gd);\n",
              "            observer.disconnect();\n",
              "        }}\n",
              "}});\n",
              "\n",
              "// Listen for the removal of the full notebook cells\n",
              "var notebookContainer = gd.closest('#notebook-container');\n",
              "if (notebookContainer) {{\n",
              "    x.observe(notebookContainer, {childList: true});\n",
              "}}\n",
              "\n",
              "// Listen for the clearing of the current output cell\n",
              "var outputEl = gd.closest('.output');\n",
              "if (outputEl) {{\n",
              "    x.observe(outputEl, {childList: true});\n",
              "}}\n",
              "\n",
              "                        })\n",
              "                };\n",
              "                \n",
              "            </script>\n",
              "        </div>\n",
              "</body>\n",
              "</html>"
            ]
          },
          "metadata": {
            "tags": []
          }
        }
      ]
    },
    {
      "cell_type": "code",
      "metadata": {
        "id": "fgQNH50N6hPr",
        "colab_type": "code",
        "colab": {
          "base_uri": "https://localhost:8080/",
          "height": 542
        },
        "outputId": "652fbf4b-5af9-4334-8387-c0b3efa0e247"
      },
      "source": [
        "cn=data[data['country']=='China']\n",
        "cn=cn.sort_values(by=['year','month','day'])\n",
        "\n",
        "fig=px.bar(x=cn['dateRep'],y=cn[\"cases\"])\n",
        "fig.update_layout(title=\"Distribution of Number of Daily Cases China\",\n",
        "                  xaxis_title=\"Date\",yaxis_title=\"Number of Cases\",)\n",
        "fig.show()"
      ],
      "execution_count": null,
      "outputs": [
        {
          "output_type": "display_data",
          "data": {
            "text/html": [
              "<html>\n",
              "<head><meta charset=\"utf-8\" /></head>\n",
              "<body>\n",
              "    <div>\n",
              "            <script src=\"https://cdnjs.cloudflare.com/ajax/libs/mathjax/2.7.5/MathJax.js?config=TeX-AMS-MML_SVG\"></script><script type=\"text/javascript\">if (window.MathJax) {MathJax.Hub.Config({SVG: {font: \"STIX-Web\"}});}</script>\n",
              "                <script type=\"text/javascript\">window.PlotlyConfig = {MathJaxConfig: 'local'};</script>\n",
              "        <script src=\"https://cdn.plot.ly/plotly-latest.min.js\"></script>    \n",
              "            <div id=\"0b528b03-dfe1-44df-978a-492ece6b49cb\" class=\"plotly-graph-div\" style=\"height:525px; width:100%;\"></div>\n",
              "            <script type=\"text/javascript\">\n",
              "                \n",
              "                    window.PLOTLYENV=window.PLOTLYENV || {};\n",
              "                    \n",
              "                if (document.getElementById(\"0b528b03-dfe1-44df-978a-492ece6b49cb\")) {\n",
              "                    Plotly.newPlot(\n",
              "                        '0b528b03-dfe1-44df-978a-492ece6b49cb',\n",
              "                        [{\"alignmentgroup\": \"True\", \"hoverlabel\": {\"namelength\": 0}, \"hovertemplate\": \"x=%{x}<br>y=%{y}\", \"legendgroup\": \"\", \"marker\": {\"color\": \"#636efa\"}, \"name\": \"\", \"offsetgroup\": \"\", \"orientation\": \"v\", \"showlegend\": false, \"textposition\": \"auto\", \"type\": \"bar\", \"x\": [\"31/12/2019\", \"01/01/2020\", \"02/01/2020\", \"03/01/2020\", \"04/01/2020\", \"05/01/2020\", \"06/01/2020\", \"07/01/2020\", \"08/01/2020\", \"09/01/2020\", \"10/01/2020\", \"11/01/2020\", \"12/01/2020\", \"13/01/2020\", \"14/01/2020\", \"15/01/2020\", \"16/01/2020\", \"17/01/2020\", \"18/01/2020\", \"19/01/2020\", \"20/01/2020\", \"21/01/2020\", \"22/01/2020\", \"23/01/2020\", \"24/01/2020\", \"25/01/2020\", \"26/01/2020\", \"27/01/2020\", \"28/01/2020\", \"29/01/2020\", \"30/01/2020\", \"31/01/2020\", \"01/02/2020\", \"02/02/2020\", \"03/02/2020\", \"04/02/2020\", \"05/02/2020\", \"06/02/2020\", \"07/02/2020\", \"08/02/2020\", \"09/02/2020\", \"10/02/2020\", \"11/02/2020\", \"12/02/2020\", \"13/02/2020\", \"14/02/2020\", \"15/02/2020\", \"16/02/2020\", \"17/02/2020\", \"18/02/2020\", \"19/02/2020\", \"20/02/2020\", \"21/02/2020\", \"22/02/2020\", \"23/02/2020\", \"24/02/2020\", \"25/02/2020\", \"26/02/2020\", \"27/02/2020\", \"28/02/2020\", \"29/02/2020\", \"01/03/2020\", \"02/03/2020\", \"03/03/2020\", \"04/03/2020\", \"05/03/2020\", \"06/03/2020\", \"07/03/2020\", \"08/03/2020\", \"09/03/2020\", \"10/03/2020\", \"11/03/2020\", \"12/03/2020\", \"13/03/2020\", \"14/03/2020\", \"15/03/2020\", \"16/03/2020\", \"17/03/2020\", \"18/03/2020\", \"19/03/2020\", \"20/03/2020\", \"21/03/2020\", \"22/03/2020\", \"23/03/2020\", \"24/03/2020\", \"25/03/2020\", \"26/03/2020\", \"27/03/2020\", \"28/03/2020\", \"29/03/2020\", \"30/03/2020\", \"31/03/2020\", \"01/04/2020\", \"02/04/2020\", \"03/04/2020\", \"04/04/2020\", \"05/04/2020\", \"06/04/2020\", \"07/04/2020\", \"08/04/2020\", \"09/04/2020\", \"10/04/2020\", \"11/04/2020\", \"12/04/2020\", \"13/04/2020\", \"14/04/2020\", \"15/04/2020\", \"16/04/2020\", \"17/04/2020\", \"18/04/2020\", \"19/04/2020\", \"20/04/2020\", \"21/04/2020\", \"22/04/2020\", \"23/04/2020\", \"24/04/2020\", \"25/04/2020\", \"26/04/2020\", \"27/04/2020\", \"28/04/2020\", \"29/04/2020\", \"30/04/2020\", \"01/05/2020\", \"02/05/2020\", \"03/05/2020\", \"04/05/2020\", \"05/05/2020\", \"06/05/2020\", \"07/05/2020\", \"08/05/2020\", \"09/05/2020\", \"10/05/2020\", \"11/05/2020\", \"12/05/2020\", \"13/05/2020\", \"14/05/2020\", \"15/05/2020\", \"16/05/2020\", \"17/05/2020\", \"18/05/2020\", \"19/05/2020\", \"20/05/2020\", \"21/05/2020\", \"22/05/2020\", \"23/05/2020\", \"24/05/2020\", \"25/05/2020\", \"26/05/2020\", \"27/05/2020\", \"28/05/2020\", \"29/05/2020\", \"30/05/2020\", \"31/05/2020\", \"01/06/2020\", \"02/06/2020\", \"03/06/2020\", \"04/06/2020\", \"05/06/2020\", \"06/06/2020\", \"07/06/2020\", \"08/06/2020\", \"09/06/2020\", \"10/06/2020\", \"11/06/2020\", \"12/06/2020\", \"13/06/2020\", \"14/06/2020\", \"15/06/2020\", \"16/06/2020\", \"17/06/2020\", \"18/06/2020\", \"19/06/2020\", \"20/06/2020\", \"21/06/2020\", \"22/06/2020\", \"23/06/2020\", \"24/06/2020\", \"25/06/2020\", \"26/06/2020\", \"27/06/2020\", \"28/06/2020\"], \"xaxis\": \"x\", \"y\": [27, 0, 0, 17, 0, 15, 0, 0, 0, 0, 0, 0, 0, 0, 0, 0, 0, 4, 17, 136, 19, 151, 140, 97, 259, 441, 665, 787, 1753, 1466, 1740, 1980, 2095, 2590, 2812, 3237, 3872, 3727, 3160, 3418, 2607, 2974, 2490, 2028, 15141, 4156, 2538, 2007, 2052, 1890, 1750, 394, 891, 826, 647, 218, 515, 410, 439, 329, 428, 574, 205, 127, 119, 117, 170, 101, 46, 45, 20, 29, 24, 22, 19, 22, 25, 43, 23, 44, 99, 52, 65, 138, 69, 78, 102, 94, 119, 113, 98, 84, 54, 100, 70, 62, 48, 67, 56, 86, 86, 55, 79, 93, 112, 94, 49, 50, 352, 31, 18, 14, 32, 15, 12, 8, 15, 10, 3, 26, 2, 4, 12, 3, 2, 3, 2, 2, 2, 6, 0, 15, 19, 1, 7, 6, 5, 9, 6, 10, 9, 2, 2, 12, 2, 3, 11, 7, 1, 3, 0, 17, 5, 19, 7, 5, 1, 11, 6, 9, 5, 3, 4, 11, 7, 12, 60, 47, 43, 44, 36, 36, 30, 29, 19, 52, 29, 20, 28, 24, 18], \"yaxis\": \"y\"}],\n",
              "                        {\"barmode\": \"relative\", \"legend\": {\"tracegroupgap\": 0}, \"margin\": {\"t\": 60}, \"template\": {\"data\": {\"bar\": [{\"error_x\": {\"color\": \"#2a3f5f\"}, \"error_y\": {\"color\": \"#2a3f5f\"}, \"marker\": {\"line\": {\"color\": \"#E5ECF6\", \"width\": 0.5}}, \"type\": \"bar\"}], \"barpolar\": [{\"marker\": {\"line\": {\"color\": \"#E5ECF6\", \"width\": 0.5}}, \"type\": \"barpolar\"}], \"carpet\": [{\"aaxis\": {\"endlinecolor\": \"#2a3f5f\", \"gridcolor\": \"white\", \"linecolor\": \"white\", \"minorgridcolor\": \"white\", \"startlinecolor\": \"#2a3f5f\"}, \"baxis\": {\"endlinecolor\": \"#2a3f5f\", \"gridcolor\": \"white\", \"linecolor\": \"white\", \"minorgridcolor\": \"white\", \"startlinecolor\": \"#2a3f5f\"}, \"type\": \"carpet\"}], \"choropleth\": [{\"colorbar\": {\"outlinewidth\": 0, \"ticks\": \"\"}, \"type\": \"choropleth\"}], \"contour\": [{\"colorbar\": {\"outlinewidth\": 0, \"ticks\": \"\"}, \"colorscale\": [[0.0, \"#0d0887\"], [0.1111111111111111, \"#46039f\"], [0.2222222222222222, \"#7201a8\"], [0.3333333333333333, \"#9c179e\"], [0.4444444444444444, \"#bd3786\"], [0.5555555555555556, \"#d8576b\"], [0.6666666666666666, \"#ed7953\"], [0.7777777777777778, \"#fb9f3a\"], [0.8888888888888888, \"#fdca26\"], [1.0, \"#f0f921\"]], \"type\": \"contour\"}], \"contourcarpet\": [{\"colorbar\": {\"outlinewidth\": 0, \"ticks\": \"\"}, \"type\": \"contourcarpet\"}], \"heatmap\": [{\"colorbar\": {\"outlinewidth\": 0, \"ticks\": \"\"}, \"colorscale\": [[0.0, \"#0d0887\"], [0.1111111111111111, \"#46039f\"], [0.2222222222222222, \"#7201a8\"], [0.3333333333333333, \"#9c179e\"], [0.4444444444444444, \"#bd3786\"], [0.5555555555555556, \"#d8576b\"], [0.6666666666666666, \"#ed7953\"], [0.7777777777777778, \"#fb9f3a\"], [0.8888888888888888, \"#fdca26\"], [1.0, \"#f0f921\"]], \"type\": \"heatmap\"}], \"heatmapgl\": [{\"colorbar\": {\"outlinewidth\": 0, \"ticks\": \"\"}, \"colorscale\": [[0.0, \"#0d0887\"], [0.1111111111111111, \"#46039f\"], [0.2222222222222222, \"#7201a8\"], [0.3333333333333333, \"#9c179e\"], [0.4444444444444444, \"#bd3786\"], [0.5555555555555556, \"#d8576b\"], [0.6666666666666666, \"#ed7953\"], [0.7777777777777778, \"#fb9f3a\"], [0.8888888888888888, \"#fdca26\"], [1.0, \"#f0f921\"]], \"type\": \"heatmapgl\"}], \"histogram\": [{\"marker\": {\"colorbar\": {\"outlinewidth\": 0, \"ticks\": \"\"}}, \"type\": \"histogram\"}], \"histogram2d\": [{\"colorbar\": {\"outlinewidth\": 0, \"ticks\": \"\"}, \"colorscale\": [[0.0, \"#0d0887\"], [0.1111111111111111, \"#46039f\"], [0.2222222222222222, \"#7201a8\"], [0.3333333333333333, \"#9c179e\"], [0.4444444444444444, \"#bd3786\"], [0.5555555555555556, \"#d8576b\"], [0.6666666666666666, \"#ed7953\"], [0.7777777777777778, \"#fb9f3a\"], [0.8888888888888888, \"#fdca26\"], [1.0, \"#f0f921\"]], \"type\": \"histogram2d\"}], \"histogram2dcontour\": [{\"colorbar\": {\"outlinewidth\": 0, \"ticks\": \"\"}, \"colorscale\": [[0.0, \"#0d0887\"], [0.1111111111111111, \"#46039f\"], [0.2222222222222222, \"#7201a8\"], [0.3333333333333333, \"#9c179e\"], [0.4444444444444444, \"#bd3786\"], [0.5555555555555556, \"#d8576b\"], [0.6666666666666666, \"#ed7953\"], [0.7777777777777778, \"#fb9f3a\"], [0.8888888888888888, \"#fdca26\"], [1.0, \"#f0f921\"]], \"type\": \"histogram2dcontour\"}], \"mesh3d\": [{\"colorbar\": {\"outlinewidth\": 0, \"ticks\": \"\"}, \"type\": \"mesh3d\"}], \"parcoords\": [{\"line\": {\"colorbar\": {\"outlinewidth\": 0, \"ticks\": \"\"}}, \"type\": \"parcoords\"}], \"pie\": [{\"automargin\": true, \"type\": \"pie\"}], \"scatter\": [{\"marker\": {\"colorbar\": {\"outlinewidth\": 0, \"ticks\": \"\"}}, \"type\": \"scatter\"}], \"scatter3d\": [{\"line\": {\"colorbar\": {\"outlinewidth\": 0, \"ticks\": \"\"}}, \"marker\": {\"colorbar\": {\"outlinewidth\": 0, \"ticks\": \"\"}}, \"type\": \"scatter3d\"}], \"scattercarpet\": [{\"marker\": {\"colorbar\": {\"outlinewidth\": 0, \"ticks\": \"\"}}, \"type\": \"scattercarpet\"}], \"scattergeo\": [{\"marker\": {\"colorbar\": {\"outlinewidth\": 0, \"ticks\": \"\"}}, \"type\": \"scattergeo\"}], \"scattergl\": [{\"marker\": {\"colorbar\": {\"outlinewidth\": 0, \"ticks\": \"\"}}, \"type\": \"scattergl\"}], \"scattermapbox\": [{\"marker\": {\"colorbar\": {\"outlinewidth\": 0, \"ticks\": \"\"}}, \"type\": \"scattermapbox\"}], \"scatterpolar\": [{\"marker\": {\"colorbar\": {\"outlinewidth\": 0, \"ticks\": \"\"}}, \"type\": \"scatterpolar\"}], \"scatterpolargl\": [{\"marker\": {\"colorbar\": {\"outlinewidth\": 0, \"ticks\": \"\"}}, \"type\": \"scatterpolargl\"}], \"scatterternary\": [{\"marker\": {\"colorbar\": {\"outlinewidth\": 0, \"ticks\": \"\"}}, \"type\": \"scatterternary\"}], \"surface\": [{\"colorbar\": {\"outlinewidth\": 0, \"ticks\": \"\"}, \"colorscale\": [[0.0, \"#0d0887\"], [0.1111111111111111, \"#46039f\"], [0.2222222222222222, \"#7201a8\"], [0.3333333333333333, \"#9c179e\"], [0.4444444444444444, \"#bd3786\"], [0.5555555555555556, \"#d8576b\"], [0.6666666666666666, \"#ed7953\"], [0.7777777777777778, \"#fb9f3a\"], [0.8888888888888888, \"#fdca26\"], [1.0, \"#f0f921\"]], \"type\": \"surface\"}], \"table\": [{\"cells\": {\"fill\": {\"color\": \"#EBF0F8\"}, \"line\": {\"color\": \"white\"}}, \"header\": {\"fill\": {\"color\": \"#C8D4E3\"}, \"line\": {\"color\": \"white\"}}, \"type\": \"table\"}]}, \"layout\": {\"annotationdefaults\": {\"arrowcolor\": \"#2a3f5f\", \"arrowhead\": 0, \"arrowwidth\": 1}, \"coloraxis\": {\"colorbar\": {\"outlinewidth\": 0, \"ticks\": \"\"}}, \"colorscale\": {\"diverging\": [[0, \"#8e0152\"], [0.1, \"#c51b7d\"], [0.2, \"#de77ae\"], [0.3, \"#f1b6da\"], [0.4, \"#fde0ef\"], [0.5, \"#f7f7f7\"], [0.6, \"#e6f5d0\"], [0.7, \"#b8e186\"], [0.8, \"#7fbc41\"], [0.9, \"#4d9221\"], [1, \"#276419\"]], \"sequential\": [[0.0, \"#0d0887\"], [0.1111111111111111, \"#46039f\"], [0.2222222222222222, \"#7201a8\"], [0.3333333333333333, \"#9c179e\"], [0.4444444444444444, \"#bd3786\"], [0.5555555555555556, \"#d8576b\"], [0.6666666666666666, \"#ed7953\"], [0.7777777777777778, \"#fb9f3a\"], [0.8888888888888888, \"#fdca26\"], [1.0, \"#f0f921\"]], \"sequentialminus\": [[0.0, \"#0d0887\"], [0.1111111111111111, \"#46039f\"], [0.2222222222222222, \"#7201a8\"], [0.3333333333333333, \"#9c179e\"], [0.4444444444444444, \"#bd3786\"], [0.5555555555555556, \"#d8576b\"], [0.6666666666666666, \"#ed7953\"], [0.7777777777777778, \"#fb9f3a\"], [0.8888888888888888, \"#fdca26\"], [1.0, \"#f0f921\"]]}, \"colorway\": [\"#636efa\", \"#EF553B\", \"#00cc96\", \"#ab63fa\", \"#FFA15A\", \"#19d3f3\", \"#FF6692\", \"#B6E880\", \"#FF97FF\", \"#FECB52\"], \"font\": {\"color\": \"#2a3f5f\"}, \"geo\": {\"bgcolor\": \"white\", \"lakecolor\": \"white\", \"landcolor\": \"#E5ECF6\", \"showlakes\": true, \"showland\": true, \"subunitcolor\": \"white\"}, \"hoverlabel\": {\"align\": \"left\"}, \"hovermode\": \"closest\", \"mapbox\": {\"style\": \"light\"}, \"paper_bgcolor\": \"white\", \"plot_bgcolor\": \"#E5ECF6\", \"polar\": {\"angularaxis\": {\"gridcolor\": \"white\", \"linecolor\": \"white\", \"ticks\": \"\"}, \"bgcolor\": \"#E5ECF6\", \"radialaxis\": {\"gridcolor\": \"white\", \"linecolor\": \"white\", \"ticks\": \"\"}}, \"scene\": {\"xaxis\": {\"backgroundcolor\": \"#E5ECF6\", \"gridcolor\": \"white\", \"gridwidth\": 2, \"linecolor\": \"white\", \"showbackground\": true, \"ticks\": \"\", \"zerolinecolor\": \"white\"}, \"yaxis\": {\"backgroundcolor\": \"#E5ECF6\", \"gridcolor\": \"white\", \"gridwidth\": 2, \"linecolor\": \"white\", \"showbackground\": true, \"ticks\": \"\", \"zerolinecolor\": \"white\"}, \"zaxis\": {\"backgroundcolor\": \"#E5ECF6\", \"gridcolor\": \"white\", \"gridwidth\": 2, \"linecolor\": \"white\", \"showbackground\": true, \"ticks\": \"\", \"zerolinecolor\": \"white\"}}, \"shapedefaults\": {\"line\": {\"color\": \"#2a3f5f\"}}, \"ternary\": {\"aaxis\": {\"gridcolor\": \"white\", \"linecolor\": \"white\", \"ticks\": \"\"}, \"baxis\": {\"gridcolor\": \"white\", \"linecolor\": \"white\", \"ticks\": \"\"}, \"bgcolor\": \"#E5ECF6\", \"caxis\": {\"gridcolor\": \"white\", \"linecolor\": \"white\", \"ticks\": \"\"}}, \"title\": {\"x\": 0.05}, \"xaxis\": {\"automargin\": true, \"gridcolor\": \"white\", \"linecolor\": \"white\", \"ticks\": \"\", \"title\": {\"standoff\": 15}, \"zerolinecolor\": \"white\", \"zerolinewidth\": 2}, \"yaxis\": {\"automargin\": true, \"gridcolor\": \"white\", \"linecolor\": \"white\", \"ticks\": \"\", \"title\": {\"standoff\": 15}, \"zerolinecolor\": \"white\", \"zerolinewidth\": 2}}}, \"title\": {\"text\": \"Distribution of Number of Daily Cases China\"}, \"xaxis\": {\"anchor\": \"y\", \"domain\": [0.0, 1.0], \"title\": {\"text\": \"Date\"}}, \"yaxis\": {\"anchor\": \"x\", \"domain\": [0.0, 1.0], \"title\": {\"text\": \"Number of Cases\"}}},\n",
              "                        {\"responsive\": true}\n",
              "                    ).then(function(){\n",
              "                            \n",
              "var gd = document.getElementById('0b528b03-dfe1-44df-978a-492ece6b49cb');\n",
              "var x = new MutationObserver(function (mutations, observer) {{\n",
              "        var display = window.getComputedStyle(gd).display;\n",
              "        if (!display || display === 'none') {{\n",
              "            console.log([gd, 'removed!']);\n",
              "            Plotly.purge(gd);\n",
              "            observer.disconnect();\n",
              "        }}\n",
              "}});\n",
              "\n",
              "// Listen for the removal of the full notebook cells\n",
              "var notebookContainer = gd.closest('#notebook-container');\n",
              "if (notebookContainer) {{\n",
              "    x.observe(notebookContainer, {childList: true});\n",
              "}}\n",
              "\n",
              "// Listen for the clearing of the current output cell\n",
              "var outputEl = gd.closest('.output');\n",
              "if (outputEl) {{\n",
              "    x.observe(outputEl, {childList: true});\n",
              "}}\n",
              "\n",
              "                        })\n",
              "                };\n",
              "                \n",
              "            </script>\n",
              "        </div>\n",
              "</body>\n",
              "</html>"
            ]
          },
          "metadata": {
            "tags": []
          }
        }
      ]
    },
    {
      "cell_type": "markdown",
      "metadata": {
        "id": "Qh5vHu4Y6uRz",
        "colab_type": "text"
      },
      "source": [
        "## USER INPUT"
      ]
    },
    {
      "cell_type": "markdown",
      "metadata": {
        "id": "L3QCmU7L_1aS",
        "colab_type": "text"
      },
      "source": [
        "This user inpput take for next report."
      ]
    },
    {
      "cell_type": "code",
      "metadata": {
        "id": "Sv0lEDitF1Hv",
        "colab_type": "code",
        "colab": {}
      },
      "source": [
        "#uncomment the code below and check the country name correctly\n",
        "data['country'].unique()"
      ],
      "execution_count": null,
      "outputs": []
    },
    {
      "cell_type": "code",
      "metadata": {
        "id": "QI1XaKhGwM2m",
        "colab_type": "code",
        "colab": {
          "base_uri": "https://localhost:8080/",
          "height": 51
        },
        "outputId": "e83d3d0e-f974-4286-e7eb-919582c8db91"
      },
      "source": [
        "print(\"Please input the country name which one you like to show next result\")\n",
        "name=input()"
      ],
      "execution_count": 101,
      "outputs": [
        {
          "output_type": "stream",
          "text": [
            "Please input the country name which one you like to show next result\n",
            "South_Korea\n"
          ],
          "name": "stdout"
        }
      ]
    },
    {
      "cell_type": "code",
      "metadata": {
        "id": "-nuamAHOe4Fx",
        "colab_type": "code",
        "colab": {
          "base_uri": "https://localhost:8080/",
          "height": 542
        },
        "outputId": "88abab46-0561-40cc-ebee-7a7a67e8e969"
      },
      "source": [
        "\n",
        "m=data[data['country']==name]\n",
        "m=m.sort_values(by=['year','month','day'])\n",
        "m[\"dateRep\"]=pd.to_datetime(m[\"dateRep\"])\n",
        "datewise_m=m.groupby([\"dateRep\"]).agg({\"cases\":'sum',\"deaths\":'sum' })\n",
        "datewise_m[\"Days Since\"]=datewise_m.index-datewise_m.index.min()\n",
        "datewise_m[\"WeekOfYear\"]=datewise_m.index.weekofyear\n",
        "\n",
        "week_num=[]\n",
        "cases=[]\n",
        "deaths=[] \n",
        "w=1\n",
        "for i in list(datewise_m[\"WeekOfYear\"].unique()):\n",
        "    cases.append(datewise_m[datewise_m[\"WeekOfYear\"]==i][\"cases\"].iloc[-1])\n",
        "    deaths.append(datewise_m[datewise_m[\"WeekOfYear\"]==i][\"deaths\"].iloc[-1]) \n",
        "    week_num.append(w)\n",
        "    w=w+1\n",
        "\n",
        "fig=go.Figure()\n",
        "fig.add_trace(go.Scatter(x=week_num, y=cases,\n",
        "                    mode='lines+markers',\n",
        "                    name='Weekly Growth of Confirmed Cases'))\n",
        "fig.add_trace(go.Scatter(x=week_num, y=deaths,\n",
        "                    mode='lines+markers',\n",
        "                    name='Weekly No of Deaths'))\n",
        " \n",
        "fig.update_layout(title=\"Weekly Growth of Cases and Deaths Rate in \"+name,\n",
        "                 xaxis_title=\"Week Number\",yaxis_title=\"Number of Cases\",legend=dict(x=0,y=1,traceorder=\"normal\"))\n",
        "fig.show()"
      ],
      "execution_count": null,
      "outputs": [
        {
          "output_type": "display_data",
          "data": {
            "text/html": [
              "<html>\n",
              "<head><meta charset=\"utf-8\" /></head>\n",
              "<body>\n",
              "    <div>\n",
              "            <script src=\"https://cdnjs.cloudflare.com/ajax/libs/mathjax/2.7.5/MathJax.js?config=TeX-AMS-MML_SVG\"></script><script type=\"text/javascript\">if (window.MathJax) {MathJax.Hub.Config({SVG: {font: \"STIX-Web\"}});}</script>\n",
              "                <script type=\"text/javascript\">window.PlotlyConfig = {MathJaxConfig: 'local'};</script>\n",
              "        <script src=\"https://cdn.plot.ly/plotly-latest.min.js\"></script>    \n",
              "            <div id=\"735f28fe-26bd-4443-89a3-810096ac520c\" class=\"plotly-graph-div\" style=\"height:525px; width:100%;\"></div>\n",
              "            <script type=\"text/javascript\">\n",
              "                \n",
              "                    window.PLOTLYENV=window.PLOTLYENV || {};\n",
              "                    \n",
              "                if (document.getElementById(\"735f28fe-26bd-4443-89a3-810096ac520c\")) {\n",
              "                    Plotly.newPlot(\n",
              "                        '735f28fe-26bd-4443-89a3-810096ac520c',\n",
              "                        [{\"mode\": \"lines+markers\", \"name\": \"Weekly Growth of Confirmed Cases\", \"type\": \"scatter\", \"x\": [1, 2, 3, 4, 5, 6, 7, 8, 9, 10, 11, 12, 13, 14, 15, 16, 17, 18, 19, 20, 21, 22, 23, 24, 25, 26, 27, 28, 29, 30, 31, 32, 33, 34, 35, 36], \"y\": [9, 35, 0, 1, 3, 38, 1, 256, 0, 49, 76, 98, 105, 8, 39, 8, 10, 438, 39, 13, 25, 27, 51, 33, 48, 62, 4, 57, 0, 38, 38, 27, 50, 0, 45, 56]}, {\"mode\": \"lines+markers\", \"name\": \"Weekly No of Deaths\", \"type\": \"scatter\", \"x\": [1, 2, 3, 4, 5, 6, 7, 8, 9, 10, 11, 12, 13, 14, 15, 16, 17, 18, 19, 20, 21, 22, 23, 24, 25, 26, 27, 28, 29, 30, 31, 32, 33, 34, 35, 36], \"y\": [1, 1, 0, 0, 0, 1, 0, 3, 0, 1, 3, 1, 8, 2, 0, 2, 2, 3, 0, 0, 0, 1, 0, 0, 0, 0, 1, 0, 0, 0, 1, 4, 2, 0, 0, 1]}],\n",
              "                        {\"legend\": {\"traceorder\": \"normal\", \"x\": 0, \"y\": 1}, \"template\": {\"data\": {\"bar\": [{\"error_x\": {\"color\": \"#2a3f5f\"}, \"error_y\": {\"color\": \"#2a3f5f\"}, \"marker\": {\"line\": {\"color\": \"#E5ECF6\", \"width\": 0.5}}, \"type\": \"bar\"}], \"barpolar\": [{\"marker\": {\"line\": {\"color\": \"#E5ECF6\", \"width\": 0.5}}, \"type\": \"barpolar\"}], \"carpet\": [{\"aaxis\": {\"endlinecolor\": \"#2a3f5f\", \"gridcolor\": \"white\", \"linecolor\": \"white\", \"minorgridcolor\": \"white\", \"startlinecolor\": \"#2a3f5f\"}, \"baxis\": {\"endlinecolor\": \"#2a3f5f\", \"gridcolor\": \"white\", \"linecolor\": \"white\", \"minorgridcolor\": \"white\", \"startlinecolor\": \"#2a3f5f\"}, \"type\": \"carpet\"}], \"choropleth\": [{\"colorbar\": {\"outlinewidth\": 0, \"ticks\": \"\"}, \"type\": \"choropleth\"}], \"contour\": [{\"colorbar\": {\"outlinewidth\": 0, \"ticks\": \"\"}, \"colorscale\": [[0.0, \"#0d0887\"], [0.1111111111111111, \"#46039f\"], [0.2222222222222222, \"#7201a8\"], [0.3333333333333333, \"#9c179e\"], [0.4444444444444444, \"#bd3786\"], [0.5555555555555556, \"#d8576b\"], [0.6666666666666666, \"#ed7953\"], [0.7777777777777778, \"#fb9f3a\"], [0.8888888888888888, \"#fdca26\"], [1.0, \"#f0f921\"]], \"type\": \"contour\"}], \"contourcarpet\": [{\"colorbar\": {\"outlinewidth\": 0, \"ticks\": \"\"}, \"type\": \"contourcarpet\"}], \"heatmap\": [{\"colorbar\": {\"outlinewidth\": 0, \"ticks\": \"\"}, \"colorscale\": [[0.0, \"#0d0887\"], [0.1111111111111111, \"#46039f\"], [0.2222222222222222, \"#7201a8\"], [0.3333333333333333, \"#9c179e\"], [0.4444444444444444, \"#bd3786\"], [0.5555555555555556, \"#d8576b\"], [0.6666666666666666, \"#ed7953\"], [0.7777777777777778, \"#fb9f3a\"], [0.8888888888888888, \"#fdca26\"], [1.0, \"#f0f921\"]], \"type\": \"heatmap\"}], \"heatmapgl\": [{\"colorbar\": {\"outlinewidth\": 0, \"ticks\": \"\"}, \"colorscale\": [[0.0, \"#0d0887\"], [0.1111111111111111, \"#46039f\"], [0.2222222222222222, \"#7201a8\"], [0.3333333333333333, \"#9c179e\"], [0.4444444444444444, \"#bd3786\"], [0.5555555555555556, \"#d8576b\"], [0.6666666666666666, \"#ed7953\"], [0.7777777777777778, \"#fb9f3a\"], [0.8888888888888888, \"#fdca26\"], [1.0, \"#f0f921\"]], \"type\": \"heatmapgl\"}], \"histogram\": [{\"marker\": {\"colorbar\": {\"outlinewidth\": 0, \"ticks\": \"\"}}, \"type\": \"histogram\"}], \"histogram2d\": [{\"colorbar\": {\"outlinewidth\": 0, \"ticks\": \"\"}, \"colorscale\": [[0.0, \"#0d0887\"], [0.1111111111111111, \"#46039f\"], [0.2222222222222222, \"#7201a8\"], [0.3333333333333333, \"#9c179e\"], [0.4444444444444444, \"#bd3786\"], [0.5555555555555556, \"#d8576b\"], [0.6666666666666666, \"#ed7953\"], [0.7777777777777778, \"#fb9f3a\"], [0.8888888888888888, \"#fdca26\"], [1.0, \"#f0f921\"]], \"type\": \"histogram2d\"}], \"histogram2dcontour\": [{\"colorbar\": {\"outlinewidth\": 0, \"ticks\": \"\"}, \"colorscale\": [[0.0, \"#0d0887\"], [0.1111111111111111, \"#46039f\"], [0.2222222222222222, \"#7201a8\"], [0.3333333333333333, \"#9c179e\"], [0.4444444444444444, \"#bd3786\"], [0.5555555555555556, \"#d8576b\"], [0.6666666666666666, \"#ed7953\"], [0.7777777777777778, \"#fb9f3a\"], [0.8888888888888888, \"#fdca26\"], [1.0, \"#f0f921\"]], \"type\": \"histogram2dcontour\"}], \"mesh3d\": [{\"colorbar\": {\"outlinewidth\": 0, \"ticks\": \"\"}, \"type\": \"mesh3d\"}], \"parcoords\": [{\"line\": {\"colorbar\": {\"outlinewidth\": 0, \"ticks\": \"\"}}, \"type\": \"parcoords\"}], \"pie\": [{\"automargin\": true, \"type\": \"pie\"}], \"scatter\": [{\"marker\": {\"colorbar\": {\"outlinewidth\": 0, \"ticks\": \"\"}}, \"type\": \"scatter\"}], \"scatter3d\": [{\"line\": {\"colorbar\": {\"outlinewidth\": 0, \"ticks\": \"\"}}, \"marker\": {\"colorbar\": {\"outlinewidth\": 0, \"ticks\": \"\"}}, \"type\": \"scatter3d\"}], \"scattercarpet\": [{\"marker\": {\"colorbar\": {\"outlinewidth\": 0, \"ticks\": \"\"}}, \"type\": \"scattercarpet\"}], \"scattergeo\": [{\"marker\": {\"colorbar\": {\"outlinewidth\": 0, \"ticks\": \"\"}}, \"type\": \"scattergeo\"}], \"scattergl\": [{\"marker\": {\"colorbar\": {\"outlinewidth\": 0, \"ticks\": \"\"}}, \"type\": \"scattergl\"}], \"scattermapbox\": [{\"marker\": {\"colorbar\": {\"outlinewidth\": 0, \"ticks\": \"\"}}, \"type\": \"scattermapbox\"}], \"scatterpolar\": [{\"marker\": {\"colorbar\": {\"outlinewidth\": 0, \"ticks\": \"\"}}, \"type\": \"scatterpolar\"}], \"scatterpolargl\": [{\"marker\": {\"colorbar\": {\"outlinewidth\": 0, \"ticks\": \"\"}}, \"type\": \"scatterpolargl\"}], \"scatterternary\": [{\"marker\": {\"colorbar\": {\"outlinewidth\": 0, \"ticks\": \"\"}}, \"type\": \"scatterternary\"}], \"surface\": [{\"colorbar\": {\"outlinewidth\": 0, \"ticks\": \"\"}, \"colorscale\": [[0.0, \"#0d0887\"], [0.1111111111111111, \"#46039f\"], [0.2222222222222222, \"#7201a8\"], [0.3333333333333333, \"#9c179e\"], [0.4444444444444444, \"#bd3786\"], [0.5555555555555556, \"#d8576b\"], [0.6666666666666666, \"#ed7953\"], [0.7777777777777778, \"#fb9f3a\"], [0.8888888888888888, \"#fdca26\"], [1.0, \"#f0f921\"]], \"type\": \"surface\"}], \"table\": [{\"cells\": {\"fill\": {\"color\": \"#EBF0F8\"}, \"line\": {\"color\": \"white\"}}, \"header\": {\"fill\": {\"color\": \"#C8D4E3\"}, \"line\": {\"color\": \"white\"}}, \"type\": \"table\"}]}, \"layout\": {\"annotationdefaults\": {\"arrowcolor\": \"#2a3f5f\", \"arrowhead\": 0, \"arrowwidth\": 1}, \"coloraxis\": {\"colorbar\": {\"outlinewidth\": 0, \"ticks\": \"\"}}, \"colorscale\": {\"diverging\": [[0, \"#8e0152\"], [0.1, \"#c51b7d\"], [0.2, \"#de77ae\"], [0.3, \"#f1b6da\"], [0.4, \"#fde0ef\"], [0.5, \"#f7f7f7\"], [0.6, \"#e6f5d0\"], [0.7, \"#b8e186\"], [0.8, \"#7fbc41\"], [0.9, \"#4d9221\"], [1, \"#276419\"]], \"sequential\": [[0.0, \"#0d0887\"], [0.1111111111111111, \"#46039f\"], [0.2222222222222222, \"#7201a8\"], [0.3333333333333333, \"#9c179e\"], [0.4444444444444444, \"#bd3786\"], [0.5555555555555556, \"#d8576b\"], [0.6666666666666666, \"#ed7953\"], [0.7777777777777778, \"#fb9f3a\"], [0.8888888888888888, \"#fdca26\"], [1.0, \"#f0f921\"]], \"sequentialminus\": [[0.0, \"#0d0887\"], [0.1111111111111111, \"#46039f\"], [0.2222222222222222, \"#7201a8\"], [0.3333333333333333, \"#9c179e\"], [0.4444444444444444, \"#bd3786\"], [0.5555555555555556, \"#d8576b\"], [0.6666666666666666, \"#ed7953\"], [0.7777777777777778, \"#fb9f3a\"], [0.8888888888888888, \"#fdca26\"], [1.0, \"#f0f921\"]]}, \"colorway\": [\"#636efa\", \"#EF553B\", \"#00cc96\", \"#ab63fa\", \"#FFA15A\", \"#19d3f3\", \"#FF6692\", \"#B6E880\", \"#FF97FF\", \"#FECB52\"], \"font\": {\"color\": \"#2a3f5f\"}, \"geo\": {\"bgcolor\": \"white\", \"lakecolor\": \"white\", \"landcolor\": \"#E5ECF6\", \"showlakes\": true, \"showland\": true, \"subunitcolor\": \"white\"}, \"hoverlabel\": {\"align\": \"left\"}, \"hovermode\": \"closest\", \"mapbox\": {\"style\": \"light\"}, \"paper_bgcolor\": \"white\", \"plot_bgcolor\": \"#E5ECF6\", \"polar\": {\"angularaxis\": {\"gridcolor\": \"white\", \"linecolor\": \"white\", \"ticks\": \"\"}, \"bgcolor\": \"#E5ECF6\", \"radialaxis\": {\"gridcolor\": \"white\", \"linecolor\": \"white\", \"ticks\": \"\"}}, \"scene\": {\"xaxis\": {\"backgroundcolor\": \"#E5ECF6\", \"gridcolor\": \"white\", \"gridwidth\": 2, \"linecolor\": \"white\", \"showbackground\": true, \"ticks\": \"\", \"zerolinecolor\": \"white\"}, \"yaxis\": {\"backgroundcolor\": \"#E5ECF6\", \"gridcolor\": \"white\", \"gridwidth\": 2, \"linecolor\": \"white\", \"showbackground\": true, \"ticks\": \"\", \"zerolinecolor\": \"white\"}, \"zaxis\": {\"backgroundcolor\": \"#E5ECF6\", \"gridcolor\": \"white\", \"gridwidth\": 2, \"linecolor\": \"white\", \"showbackground\": true, \"ticks\": \"\", \"zerolinecolor\": \"white\"}}, \"shapedefaults\": {\"line\": {\"color\": \"#2a3f5f\"}}, \"ternary\": {\"aaxis\": {\"gridcolor\": \"white\", \"linecolor\": \"white\", \"ticks\": \"\"}, \"baxis\": {\"gridcolor\": \"white\", \"linecolor\": \"white\", \"ticks\": \"\"}, \"bgcolor\": \"#E5ECF6\", \"caxis\": {\"gridcolor\": \"white\", \"linecolor\": \"white\", \"ticks\": \"\"}}, \"title\": {\"x\": 0.05}, \"xaxis\": {\"automargin\": true, \"gridcolor\": \"white\", \"linecolor\": \"white\", \"ticks\": \"\", \"title\": {\"standoff\": 15}, \"zerolinecolor\": \"white\", \"zerolinewidth\": 2}, \"yaxis\": {\"automargin\": true, \"gridcolor\": \"white\", \"linecolor\": \"white\", \"ticks\": \"\", \"title\": {\"standoff\": 15}, \"zerolinecolor\": \"white\", \"zerolinewidth\": 2}}}, \"title\": {\"text\": \"Weekly Growth of Cases and Deaths Rate in South_Korea\"}, \"xaxis\": {\"title\": {\"text\": \"Week Number\"}}, \"yaxis\": {\"title\": {\"text\": \"Number of Cases\"}}},\n",
              "                        {\"responsive\": true}\n",
              "                    ).then(function(){\n",
              "                            \n",
              "var gd = document.getElementById('735f28fe-26bd-4443-89a3-810096ac520c');\n",
              "var x = new MutationObserver(function (mutations, observer) {{\n",
              "        var display = window.getComputedStyle(gd).display;\n",
              "        if (!display || display === 'none') {{\n",
              "            console.log([gd, 'removed!']);\n",
              "            Plotly.purge(gd);\n",
              "            observer.disconnect();\n",
              "        }}\n",
              "}});\n",
              "\n",
              "// Listen for the removal of the full notebook cells\n",
              "var notebookContainer = gd.closest('#notebook-container');\n",
              "if (notebookContainer) {{\n",
              "    x.observe(notebookContainer, {childList: true});\n",
              "}}\n",
              "\n",
              "// Listen for the clearing of the current output cell\n",
              "var outputEl = gd.closest('.output');\n",
              "if (outputEl) {{\n",
              "    x.observe(outputEl, {childList: true});\n",
              "}}\n",
              "\n",
              "                        })\n",
              "                };\n",
              "                \n",
              "            </script>\n",
              "        </div>\n",
              "</body>\n",
              "</html>"
            ]
          },
          "metadata": {
            "tags": []
          }
        }
      ]
    },
    {
      "cell_type": "code",
      "metadata": {
        "id": "waOOaGBbWS65",
        "colab_type": "code",
        "colab": {
          "base_uri": "https://localhost:8080/",
          "height": 542
        },
        "outputId": "53d6ef3e-78f1-43d4-81a6-ba632a26390d"
      },
      "source": [
        "fig=go.Figure()\n",
        "\n",
        "#fig.add_trace(go.Scatter(x=bd['dateRep'], y=bd['cases'],mode='lines+markers',name='Bangladesh'))\n",
        "fig.add_trace(go.Scatter(x=sk['dateRep'], y=sk['cases'],\n",
        "                    mode='lines+markers',\n",
        "                    name='South Korea'))\n",
        "fig.add_trace(go.Scatter(x=cn['dateRep'], y=cn['cases'],\n",
        "                    mode='lines+markers',\n",
        "                    name='China'))\n",
        "fig.add_trace(go.Scatter(x=us['dateRep'], y=us['cases'],\n",
        "                    mode='lines+markers',\n",
        "                    name='USA'))\n",
        "fig.update_layout(title=\"Growth of China,South Korea and USA\",\n",
        "                 xaxis_title=\"Date\",yaxis_title=\"Number of Cases\",legend=dict(x=0,y=1,traceorder=\"normal\"))\n",
        "fig.show()"
      ],
      "execution_count": null,
      "outputs": [
        {
          "output_type": "display_data",
          "data": {
            "text/html": [
              "<html>\n",
              "<head><meta charset=\"utf-8\" /></head>\n",
              "<body>\n",
              "    <div>\n",
              "            <script src=\"https://cdnjs.cloudflare.com/ajax/libs/mathjax/2.7.5/MathJax.js?config=TeX-AMS-MML_SVG\"></script><script type=\"text/javascript\">if (window.MathJax) {MathJax.Hub.Config({SVG: {font: \"STIX-Web\"}});}</script>\n",
              "                <script type=\"text/javascript\">window.PlotlyConfig = {MathJaxConfig: 'local'};</script>\n",
              "        <script src=\"https://cdn.plot.ly/plotly-latest.min.js\"></script>    \n",
              "            <div id=\"ee05499e-3ed3-4fb2-b72d-36b9cd474b61\" class=\"plotly-graph-div\" style=\"height:525px; width:100%;\"></div>\n",
              "            <script type=\"text/javascript\">\n",
              "                \n",
              "                    window.PLOTLYENV=window.PLOTLYENV || {};\n",
              "                    \n",
              "                if (document.getElementById(\"ee05499e-3ed3-4fb2-b72d-36b9cd474b61\")) {\n",
              "                    Plotly.newPlot(\n",
              "                        'ee05499e-3ed3-4fb2-b72d-36b9cd474b61',\n",
              "                        [{\"mode\": \"lines+markers\", \"name\": \"South Korea\", \"type\": \"scatter\", \"x\": [\"31/12/2019\", \"01/01/2020\", \"02/01/2020\", \"03/01/2020\", \"04/01/2020\", \"05/01/2020\", \"06/01/2020\", \"07/01/2020\", \"08/01/2020\", \"09/01/2020\", \"10/01/2020\", \"11/01/2020\", \"12/01/2020\", \"13/01/2020\", \"14/01/2020\", \"15/01/2020\", \"16/01/2020\", \"17/01/2020\", \"18/01/2020\", \"19/01/2020\", \"20/01/2020\", \"21/01/2020\", \"22/01/2020\", \"23/01/2020\", \"24/01/2020\", \"25/01/2020\", \"26/01/2020\", \"27/01/2020\", \"28/01/2020\", \"29/01/2020\", \"30/01/2020\", \"31/01/2020\", \"01/02/2020\", \"02/02/2020\", \"03/02/2020\", \"04/02/2020\", \"05/02/2020\", \"06/02/2020\", \"07/02/2020\", \"08/02/2020\", \"09/02/2020\", \"10/02/2020\", \"11/02/2020\", \"12/02/2020\", \"13/02/2020\", \"14/02/2020\", \"15/02/2020\", \"16/02/2020\", \"17/02/2020\", \"18/02/2020\", \"19/02/2020\", \"20/02/2020\", \"21/02/2020\", \"22/02/2020\", \"23/02/2020\", \"24/02/2020\", \"25/02/2020\", \"26/02/2020\", \"27/02/2020\", \"28/02/2020\", \"29/02/2020\", \"01/03/2020\", \"02/03/2020\", \"03/03/2020\", \"04/03/2020\", \"05/03/2020\", \"06/03/2020\", \"07/03/2020\", \"08/03/2020\", \"09/03/2020\", \"10/03/2020\", \"11/03/2020\", \"12/03/2020\", \"13/03/2020\", \"14/03/2020\", \"15/03/2020\", \"16/03/2020\", \"17/03/2020\", \"18/03/2020\", \"19/03/2020\", \"20/03/2020\", \"21/03/2020\", \"22/03/2020\", \"23/03/2020\", \"24/03/2020\", \"25/03/2020\", \"26/03/2020\", \"27/03/2020\", \"28/03/2020\", \"29/03/2020\", \"30/03/2020\", \"31/03/2020\", \"01/04/2020\", \"02/04/2020\", \"03/04/2020\", \"04/04/2020\", \"05/04/2020\", \"06/04/2020\", \"07/04/2020\", \"08/04/2020\", \"09/04/2020\", \"10/04/2020\", \"11/04/2020\", \"12/04/2020\", \"13/04/2020\", \"14/04/2020\", \"15/04/2020\", \"16/04/2020\", \"17/04/2020\", \"18/04/2020\", \"19/04/2020\", \"20/04/2020\", \"21/04/2020\", \"22/04/2020\", \"23/04/2020\", \"24/04/2020\", \"25/04/2020\", \"26/04/2020\", \"27/04/2020\", \"28/04/2020\", \"29/04/2020\", \"30/04/2020\", \"01/05/2020\", \"02/05/2020\", \"03/05/2020\", \"04/05/2020\", \"05/05/2020\", \"06/05/2020\", \"07/05/2020\", \"08/05/2020\", \"09/05/2020\", \"10/05/2020\", \"11/05/2020\", \"12/05/2020\", \"13/05/2020\", \"14/05/2020\", \"15/05/2020\", \"16/05/2020\", \"17/05/2020\", \"18/05/2020\", \"19/05/2020\", \"20/05/2020\", \"21/05/2020\", \"22/05/2020\", \"23/05/2020\", \"24/05/2020\", \"25/05/2020\", \"26/05/2020\", \"27/05/2020\", \"28/05/2020\", \"29/05/2020\", \"30/05/2020\", \"31/05/2020\", \"01/06/2020\", \"02/06/2020\", \"03/06/2020\", \"04/06/2020\", \"05/06/2020\", \"06/06/2020\", \"07/06/2020\", \"08/06/2020\", \"09/06/2020\", \"10/06/2020\", \"11/06/2020\", \"12/06/2020\", \"13/06/2020\", \"14/06/2020\", \"15/06/2020\", \"16/06/2020\", \"17/06/2020\", \"18/06/2020\", \"19/06/2020\", \"20/06/2020\", \"21/06/2020\", \"22/06/2020\", \"23/06/2020\", \"24/06/2020\", \"25/06/2020\", \"26/06/2020\", \"27/06/2020\", \"28/06/2020\"], \"y\": [0, 0, 0, 0, 0, 0, 0, 0, 0, 0, 0, 0, 0, 0, 0, 0, 0, 0, 0, 0, 1, 0, 0, 0, 1, 0, 1, 1, 0, 0, 0, 3, 5, 3, 0, 1, 2, 5, 1, 0, 1, 2, 1, 0, 0, 0, 0, 1, 1, 1, 15, 34, 75, 190, 256, 161, 130, 254, 449, 427, 909, 595, 686, 600, 516, 438, 518, 483, 367, 248, 131, 242, 114, 110, 107, 76, 74, 84, 93, 152, 87, 147, 98, 64, 76, 100, 104, 91, 146, 105, 78, 125, 0, 190, 86, 94, 81, 47, 47, 53, 39, 27, 0, 62, 25, 27, 27, 22, 22, 18, 8, 13, 9, 11, 8, 6, 10, 10, 10, 14, 9, 4, 9, 6, 13, 8, 3, 2, 4, 12, 18, 34, 35, 27, 26, 29, 27, 19, 13, 15, 13, 32, 12, 20, 23, 25, 16, 19, 40, 79, 58, 39, 27, 35, 38, 49, 39, 39, 51, 57, 38, 38, 50, 45, 56, 48, 33, 37, 34, 43, 59, 49, 67, 48, 17, 46, 51, 28, 39, 51, 62]}, {\"mode\": \"lines+markers\", \"name\": \"China\", \"type\": \"scatter\", \"x\": [\"31/12/2019\", \"01/01/2020\", \"02/01/2020\", \"03/01/2020\", \"04/01/2020\", \"05/01/2020\", \"06/01/2020\", \"07/01/2020\", \"08/01/2020\", \"09/01/2020\", \"10/01/2020\", \"11/01/2020\", \"12/01/2020\", \"13/01/2020\", \"14/01/2020\", \"15/01/2020\", \"16/01/2020\", \"17/01/2020\", \"18/01/2020\", \"19/01/2020\", \"20/01/2020\", \"21/01/2020\", \"22/01/2020\", \"23/01/2020\", \"24/01/2020\", \"25/01/2020\", \"26/01/2020\", \"27/01/2020\", \"28/01/2020\", \"29/01/2020\", \"30/01/2020\", \"31/01/2020\", \"01/02/2020\", \"02/02/2020\", \"03/02/2020\", \"04/02/2020\", \"05/02/2020\", \"06/02/2020\", \"07/02/2020\", \"08/02/2020\", \"09/02/2020\", \"10/02/2020\", \"11/02/2020\", \"12/02/2020\", \"13/02/2020\", \"14/02/2020\", \"15/02/2020\", \"16/02/2020\", \"17/02/2020\", \"18/02/2020\", \"19/02/2020\", \"20/02/2020\", \"21/02/2020\", \"22/02/2020\", \"23/02/2020\", \"24/02/2020\", \"25/02/2020\", \"26/02/2020\", \"27/02/2020\", \"28/02/2020\", \"29/02/2020\", \"01/03/2020\", \"02/03/2020\", \"03/03/2020\", \"04/03/2020\", \"05/03/2020\", \"06/03/2020\", \"07/03/2020\", \"08/03/2020\", \"09/03/2020\", \"10/03/2020\", \"11/03/2020\", \"12/03/2020\", \"13/03/2020\", \"14/03/2020\", \"15/03/2020\", \"16/03/2020\", \"17/03/2020\", \"18/03/2020\", \"19/03/2020\", \"20/03/2020\", \"21/03/2020\", \"22/03/2020\", \"23/03/2020\", \"24/03/2020\", \"25/03/2020\", \"26/03/2020\", \"27/03/2020\", \"28/03/2020\", \"29/03/2020\", \"30/03/2020\", \"31/03/2020\", \"01/04/2020\", \"02/04/2020\", \"03/04/2020\", \"04/04/2020\", \"05/04/2020\", \"06/04/2020\", \"07/04/2020\", \"08/04/2020\", \"09/04/2020\", \"10/04/2020\", \"11/04/2020\", \"12/04/2020\", \"13/04/2020\", \"14/04/2020\", \"15/04/2020\", \"16/04/2020\", \"17/04/2020\", \"18/04/2020\", \"19/04/2020\", \"20/04/2020\", \"21/04/2020\", \"22/04/2020\", \"23/04/2020\", \"24/04/2020\", \"25/04/2020\", \"26/04/2020\", \"27/04/2020\", \"28/04/2020\", \"29/04/2020\", \"30/04/2020\", \"01/05/2020\", \"02/05/2020\", \"03/05/2020\", \"04/05/2020\", \"05/05/2020\", \"06/05/2020\", \"07/05/2020\", \"08/05/2020\", \"09/05/2020\", \"10/05/2020\", \"11/05/2020\", \"12/05/2020\", \"13/05/2020\", \"14/05/2020\", \"15/05/2020\", \"16/05/2020\", \"17/05/2020\", \"18/05/2020\", \"19/05/2020\", \"20/05/2020\", \"21/05/2020\", \"22/05/2020\", \"23/05/2020\", \"24/05/2020\", \"25/05/2020\", \"26/05/2020\", \"27/05/2020\", \"28/05/2020\", \"29/05/2020\", \"30/05/2020\", \"31/05/2020\", \"01/06/2020\", \"02/06/2020\", \"03/06/2020\", \"04/06/2020\", \"05/06/2020\", \"06/06/2020\", \"07/06/2020\", \"08/06/2020\", \"09/06/2020\", \"10/06/2020\", \"11/06/2020\", \"12/06/2020\", \"13/06/2020\", \"14/06/2020\", \"15/06/2020\", \"16/06/2020\", \"17/06/2020\", \"18/06/2020\", \"19/06/2020\", \"20/06/2020\", \"21/06/2020\", \"22/06/2020\", \"23/06/2020\", \"24/06/2020\", \"25/06/2020\", \"26/06/2020\", \"27/06/2020\", \"28/06/2020\"], \"y\": [27, 0, 0, 17, 0, 15, 0, 0, 0, 0, 0, 0, 0, 0, 0, 0, 0, 4, 17, 136, 19, 151, 140, 97, 259, 441, 665, 787, 1753, 1466, 1740, 1980, 2095, 2590, 2812, 3237, 3872, 3727, 3160, 3418, 2607, 2974, 2490, 2028, 15141, 4156, 2538, 2007, 2052, 1890, 1750, 394, 891, 826, 647, 218, 515, 410, 439, 329, 428, 574, 205, 127, 119, 117, 170, 101, 46, 45, 20, 29, 24, 22, 19, 22, 25, 43, 23, 44, 99, 52, 65, 138, 69, 78, 102, 94, 119, 113, 98, 84, 54, 100, 70, 62, 48, 67, 56, 86, 86, 55, 79, 93, 112, 94, 49, 50, 352, 31, 18, 14, 32, 15, 12, 8, 15, 10, 3, 26, 2, 4, 12, 3, 2, 3, 2, 2, 2, 6, 0, 15, 19, 1, 7, 6, 5, 9, 6, 10, 9, 2, 2, 12, 2, 3, 11, 7, 1, 3, 0, 17, 5, 19, 7, 5, 1, 11, 6, 9, 5, 3, 4, 11, 7, 12, 60, 47, 43, 44, 36, 36, 30, 29, 19, 52, 29, 20, 28, 24, 18]}, {\"mode\": \"lines+markers\", \"name\": \"USA\", \"type\": \"scatter\", \"x\": [\"31/12/2019\", \"01/01/2020\", \"02/01/2020\", \"03/01/2020\", \"04/01/2020\", \"05/01/2020\", \"06/01/2020\", \"07/01/2020\", \"08/01/2020\", \"09/01/2020\", \"10/01/2020\", \"11/01/2020\", \"12/01/2020\", \"13/01/2020\", \"14/01/2020\", \"15/01/2020\", \"16/01/2020\", \"17/01/2020\", \"18/01/2020\", \"19/01/2020\", \"20/01/2020\", \"21/01/2020\", \"22/01/2020\", \"23/01/2020\", \"24/01/2020\", \"25/01/2020\", \"26/01/2020\", \"27/01/2020\", \"28/01/2020\", \"29/01/2020\", \"30/01/2020\", \"31/01/2020\", \"01/02/2020\", \"02/02/2020\", \"03/02/2020\", \"04/02/2020\", \"05/02/2020\", \"06/02/2020\", \"07/02/2020\", \"08/02/2020\", \"09/02/2020\", \"10/02/2020\", \"11/02/2020\", \"12/02/2020\", \"13/02/2020\", \"14/02/2020\", \"15/02/2020\", \"16/02/2020\", \"17/02/2020\", \"18/02/2020\", \"19/02/2020\", \"20/02/2020\", \"21/02/2020\", \"22/02/2020\", \"23/02/2020\", \"24/02/2020\", \"25/02/2020\", \"26/02/2020\", \"27/02/2020\", \"28/02/2020\", \"29/02/2020\", \"01/03/2020\", \"02/03/2020\", \"03/03/2020\", \"04/03/2020\", \"05/03/2020\", \"06/03/2020\", \"07/03/2020\", \"08/03/2020\", \"09/03/2020\", \"10/03/2020\", \"11/03/2020\", \"12/03/2020\", \"13/03/2020\", \"14/03/2020\", \"15/03/2020\", \"16/03/2020\", \"17/03/2020\", \"18/03/2020\", \"19/03/2020\", \"20/03/2020\", \"21/03/2020\", \"22/03/2020\", \"23/03/2020\", \"24/03/2020\", \"25/03/2020\", \"26/03/2020\", \"27/03/2020\", \"28/03/2020\", \"29/03/2020\", \"30/03/2020\", \"31/03/2020\", \"01/04/2020\", \"02/04/2020\", \"03/04/2020\", \"04/04/2020\", \"05/04/2020\", \"06/04/2020\", \"07/04/2020\", \"08/04/2020\", \"09/04/2020\", \"10/04/2020\", \"11/04/2020\", \"12/04/2020\", \"13/04/2020\", \"14/04/2020\", \"15/04/2020\", \"16/04/2020\", \"17/04/2020\", \"18/04/2020\", \"19/04/2020\", \"20/04/2020\", \"21/04/2020\", \"22/04/2020\", \"23/04/2020\", \"24/04/2020\", \"25/04/2020\", \"26/04/2020\", \"27/04/2020\", \"28/04/2020\", \"29/04/2020\", \"30/04/2020\", \"01/05/2020\", \"02/05/2020\", \"03/05/2020\", \"04/05/2020\", \"05/05/2020\", \"06/05/2020\", \"07/05/2020\", \"08/05/2020\", \"09/05/2020\", \"10/05/2020\", \"11/05/2020\", \"12/05/2020\", \"13/05/2020\", \"14/05/2020\", \"15/05/2020\", \"16/05/2020\", \"17/05/2020\", \"18/05/2020\", \"19/05/2020\", \"20/05/2020\", \"21/05/2020\", \"22/05/2020\", \"23/05/2020\", \"24/05/2020\", \"25/05/2020\", \"26/05/2020\", \"27/05/2020\", \"28/05/2020\", \"29/05/2020\", \"30/05/2020\", \"31/05/2020\", \"01/06/2020\", \"02/06/2020\", \"03/06/2020\", \"04/06/2020\", \"05/06/2020\", \"06/06/2020\", \"07/06/2020\", \"08/06/2020\", \"09/06/2020\", \"10/06/2020\", \"11/06/2020\", \"12/06/2020\", \"13/06/2020\", \"14/06/2020\", \"15/06/2020\", \"16/06/2020\", \"17/06/2020\", \"18/06/2020\", \"19/06/2020\", \"20/06/2020\", \"21/06/2020\", \"22/06/2020\", \"23/06/2020\", \"24/06/2020\", \"25/06/2020\", \"26/06/2020\", \"27/06/2020\", \"28/06/2020\"], \"y\": [0, 0, 0, 0, 0, 0, 0, 0, 0, 0, 0, 0, 0, 0, 0, 0, 0, 0, 0, 0, 0, 1, 0, 0, 0, 1, 0, 3, 0, 0, 0, 1, 1, 1, 3, 0, 0, 1, 0, 0, 0, 0, 1, 0, 1, 1, 0, 0, 0, 0, 0, 0, 1, 19, 0, 0, 18, 0, 6, 1, 6, 3, 20, 14, 22, 34, 74, 105, 95, 121, 200, 271, 287, 351, 511, 777, 823, 887, 1766, 2988, 4835, 5374, 7123, 8459, 11236, 8789, 13963, 16797, 18695, 19979, 18360, 21595, 24998, 27103, 28819, 32425, 34272, 25398, 30561, 30613, 33323, 33901, 35527, 28391, 27620, 25023, 26922, 30148, 31667, 30833, 32922, 24601, 28065, 37289, 17588, 26543, 21352, 48529, 26857, 22541, 24132, 27326, 29917, 33955, 29288, 24972, 22593, 23841, 24128, 28369, 26957, 25612, 20258, 18117, 22048, 20782, 27143, 25508, 24487, 18873, 21841, 19970, 23285, 25434, 24147, 21236, 20568, 19064, 18910, 18721, 21817, 25337, 23297, 19807, 21086, 20544, 19699, 21140, 25178, 22223, 22302, 18822, 18665, 20614, 22883, 25639, 25540, 19543, 19957, 23705, 25559, 27762, 29909, 34158, 25793, 31390, 34720, 34339, 40949, 45527, 42486]}],\n",
              "                        {\"legend\": {\"traceorder\": \"normal\", \"x\": 0, \"y\": 1}, \"template\": {\"data\": {\"bar\": [{\"error_x\": {\"color\": \"#2a3f5f\"}, \"error_y\": {\"color\": \"#2a3f5f\"}, \"marker\": {\"line\": {\"color\": \"#E5ECF6\", \"width\": 0.5}}, \"type\": \"bar\"}], \"barpolar\": [{\"marker\": {\"line\": {\"color\": \"#E5ECF6\", \"width\": 0.5}}, \"type\": \"barpolar\"}], \"carpet\": [{\"aaxis\": {\"endlinecolor\": \"#2a3f5f\", \"gridcolor\": \"white\", \"linecolor\": \"white\", \"minorgridcolor\": \"white\", \"startlinecolor\": \"#2a3f5f\"}, \"baxis\": {\"endlinecolor\": \"#2a3f5f\", \"gridcolor\": \"white\", \"linecolor\": \"white\", \"minorgridcolor\": \"white\", \"startlinecolor\": \"#2a3f5f\"}, \"type\": \"carpet\"}], \"choropleth\": [{\"colorbar\": {\"outlinewidth\": 0, \"ticks\": \"\"}, \"type\": \"choropleth\"}], \"contour\": [{\"colorbar\": {\"outlinewidth\": 0, \"ticks\": \"\"}, \"colorscale\": [[0.0, \"#0d0887\"], [0.1111111111111111, \"#46039f\"], [0.2222222222222222, \"#7201a8\"], [0.3333333333333333, \"#9c179e\"], [0.4444444444444444, \"#bd3786\"], [0.5555555555555556, \"#d8576b\"], [0.6666666666666666, \"#ed7953\"], [0.7777777777777778, \"#fb9f3a\"], [0.8888888888888888, \"#fdca26\"], [1.0, \"#f0f921\"]], \"type\": \"contour\"}], \"contourcarpet\": [{\"colorbar\": {\"outlinewidth\": 0, \"ticks\": \"\"}, \"type\": \"contourcarpet\"}], \"heatmap\": [{\"colorbar\": {\"outlinewidth\": 0, \"ticks\": \"\"}, \"colorscale\": [[0.0, \"#0d0887\"], [0.1111111111111111, \"#46039f\"], [0.2222222222222222, \"#7201a8\"], [0.3333333333333333, \"#9c179e\"], [0.4444444444444444, \"#bd3786\"], [0.5555555555555556, \"#d8576b\"], [0.6666666666666666, \"#ed7953\"], [0.7777777777777778, \"#fb9f3a\"], [0.8888888888888888, \"#fdca26\"], [1.0, \"#f0f921\"]], \"type\": \"heatmap\"}], \"heatmapgl\": [{\"colorbar\": {\"outlinewidth\": 0, \"ticks\": \"\"}, \"colorscale\": [[0.0, \"#0d0887\"], [0.1111111111111111, \"#46039f\"], [0.2222222222222222, \"#7201a8\"], [0.3333333333333333, \"#9c179e\"], [0.4444444444444444, \"#bd3786\"], [0.5555555555555556, \"#d8576b\"], [0.6666666666666666, \"#ed7953\"], [0.7777777777777778, \"#fb9f3a\"], [0.8888888888888888, \"#fdca26\"], [1.0, \"#f0f921\"]], \"type\": \"heatmapgl\"}], \"histogram\": [{\"marker\": {\"colorbar\": {\"outlinewidth\": 0, \"ticks\": \"\"}}, \"type\": \"histogram\"}], \"histogram2d\": [{\"colorbar\": {\"outlinewidth\": 0, \"ticks\": \"\"}, \"colorscale\": [[0.0, \"#0d0887\"], [0.1111111111111111, \"#46039f\"], [0.2222222222222222, \"#7201a8\"], [0.3333333333333333, \"#9c179e\"], [0.4444444444444444, \"#bd3786\"], [0.5555555555555556, \"#d8576b\"], [0.6666666666666666, \"#ed7953\"], [0.7777777777777778, \"#fb9f3a\"], [0.8888888888888888, \"#fdca26\"], [1.0, \"#f0f921\"]], \"type\": \"histogram2d\"}], \"histogram2dcontour\": [{\"colorbar\": {\"outlinewidth\": 0, \"ticks\": \"\"}, \"colorscale\": [[0.0, \"#0d0887\"], [0.1111111111111111, \"#46039f\"], [0.2222222222222222, \"#7201a8\"], [0.3333333333333333, \"#9c179e\"], [0.4444444444444444, \"#bd3786\"], [0.5555555555555556, \"#d8576b\"], [0.6666666666666666, \"#ed7953\"], [0.7777777777777778, \"#fb9f3a\"], [0.8888888888888888, \"#fdca26\"], [1.0, \"#f0f921\"]], \"type\": \"histogram2dcontour\"}], \"mesh3d\": [{\"colorbar\": {\"outlinewidth\": 0, \"ticks\": \"\"}, \"type\": \"mesh3d\"}], \"parcoords\": [{\"line\": {\"colorbar\": {\"outlinewidth\": 0, \"ticks\": \"\"}}, \"type\": \"parcoords\"}], \"pie\": [{\"automargin\": true, \"type\": \"pie\"}], \"scatter\": [{\"marker\": {\"colorbar\": {\"outlinewidth\": 0, \"ticks\": \"\"}}, \"type\": \"scatter\"}], \"scatter3d\": [{\"line\": {\"colorbar\": {\"outlinewidth\": 0, \"ticks\": \"\"}}, \"marker\": {\"colorbar\": {\"outlinewidth\": 0, \"ticks\": \"\"}}, \"type\": \"scatter3d\"}], \"scattercarpet\": [{\"marker\": {\"colorbar\": {\"outlinewidth\": 0, \"ticks\": \"\"}}, \"type\": \"scattercarpet\"}], \"scattergeo\": [{\"marker\": {\"colorbar\": {\"outlinewidth\": 0, \"ticks\": \"\"}}, \"type\": \"scattergeo\"}], \"scattergl\": [{\"marker\": {\"colorbar\": {\"outlinewidth\": 0, \"ticks\": \"\"}}, \"type\": \"scattergl\"}], \"scattermapbox\": [{\"marker\": {\"colorbar\": {\"outlinewidth\": 0, \"ticks\": \"\"}}, \"type\": \"scattermapbox\"}], \"scatterpolar\": [{\"marker\": {\"colorbar\": {\"outlinewidth\": 0, \"ticks\": \"\"}}, \"type\": \"scatterpolar\"}], \"scatterpolargl\": [{\"marker\": {\"colorbar\": {\"outlinewidth\": 0, \"ticks\": \"\"}}, \"type\": \"scatterpolargl\"}], \"scatterternary\": [{\"marker\": {\"colorbar\": {\"outlinewidth\": 0, \"ticks\": \"\"}}, \"type\": \"scatterternary\"}], \"surface\": [{\"colorbar\": {\"outlinewidth\": 0, \"ticks\": \"\"}, \"colorscale\": [[0.0, \"#0d0887\"], [0.1111111111111111, \"#46039f\"], [0.2222222222222222, \"#7201a8\"], [0.3333333333333333, \"#9c179e\"], [0.4444444444444444, \"#bd3786\"], [0.5555555555555556, \"#d8576b\"], [0.6666666666666666, \"#ed7953\"], [0.7777777777777778, \"#fb9f3a\"], [0.8888888888888888, \"#fdca26\"], [1.0, \"#f0f921\"]], \"type\": \"surface\"}], \"table\": [{\"cells\": {\"fill\": {\"color\": \"#EBF0F8\"}, \"line\": {\"color\": \"white\"}}, \"header\": {\"fill\": {\"color\": \"#C8D4E3\"}, \"line\": {\"color\": \"white\"}}, \"type\": \"table\"}]}, \"layout\": {\"annotationdefaults\": {\"arrowcolor\": \"#2a3f5f\", \"arrowhead\": 0, \"arrowwidth\": 1}, \"coloraxis\": {\"colorbar\": {\"outlinewidth\": 0, \"ticks\": \"\"}}, \"colorscale\": {\"diverging\": [[0, \"#8e0152\"], [0.1, \"#c51b7d\"], [0.2, \"#de77ae\"], [0.3, \"#f1b6da\"], [0.4, \"#fde0ef\"], [0.5, \"#f7f7f7\"], [0.6, \"#e6f5d0\"], [0.7, \"#b8e186\"], [0.8, \"#7fbc41\"], [0.9, \"#4d9221\"], [1, \"#276419\"]], \"sequential\": [[0.0, \"#0d0887\"], [0.1111111111111111, \"#46039f\"], [0.2222222222222222, \"#7201a8\"], [0.3333333333333333, \"#9c179e\"], [0.4444444444444444, \"#bd3786\"], [0.5555555555555556, \"#d8576b\"], [0.6666666666666666, \"#ed7953\"], [0.7777777777777778, \"#fb9f3a\"], [0.8888888888888888, \"#fdca26\"], [1.0, \"#f0f921\"]], \"sequentialminus\": [[0.0, \"#0d0887\"], [0.1111111111111111, \"#46039f\"], [0.2222222222222222, \"#7201a8\"], [0.3333333333333333, \"#9c179e\"], [0.4444444444444444, \"#bd3786\"], [0.5555555555555556, \"#d8576b\"], [0.6666666666666666, \"#ed7953\"], [0.7777777777777778, \"#fb9f3a\"], [0.8888888888888888, \"#fdca26\"], [1.0, \"#f0f921\"]]}, \"colorway\": [\"#636efa\", \"#EF553B\", \"#00cc96\", \"#ab63fa\", \"#FFA15A\", \"#19d3f3\", \"#FF6692\", \"#B6E880\", \"#FF97FF\", \"#FECB52\"], \"font\": {\"color\": \"#2a3f5f\"}, \"geo\": {\"bgcolor\": \"white\", \"lakecolor\": \"white\", \"landcolor\": \"#E5ECF6\", \"showlakes\": true, \"showland\": true, \"subunitcolor\": \"white\"}, \"hoverlabel\": {\"align\": \"left\"}, \"hovermode\": \"closest\", \"mapbox\": {\"style\": \"light\"}, \"paper_bgcolor\": \"white\", \"plot_bgcolor\": \"#E5ECF6\", \"polar\": {\"angularaxis\": {\"gridcolor\": \"white\", \"linecolor\": \"white\", \"ticks\": \"\"}, \"bgcolor\": \"#E5ECF6\", \"radialaxis\": {\"gridcolor\": \"white\", \"linecolor\": \"white\", \"ticks\": \"\"}}, \"scene\": {\"xaxis\": {\"backgroundcolor\": \"#E5ECF6\", \"gridcolor\": \"white\", \"gridwidth\": 2, \"linecolor\": \"white\", \"showbackground\": true, \"ticks\": \"\", \"zerolinecolor\": \"white\"}, \"yaxis\": {\"backgroundcolor\": \"#E5ECF6\", \"gridcolor\": \"white\", \"gridwidth\": 2, \"linecolor\": \"white\", \"showbackground\": true, \"ticks\": \"\", \"zerolinecolor\": \"white\"}, \"zaxis\": {\"backgroundcolor\": \"#E5ECF6\", \"gridcolor\": \"white\", \"gridwidth\": 2, \"linecolor\": \"white\", \"showbackground\": true, \"ticks\": \"\", \"zerolinecolor\": \"white\"}}, \"shapedefaults\": {\"line\": {\"color\": \"#2a3f5f\"}}, \"ternary\": {\"aaxis\": {\"gridcolor\": \"white\", \"linecolor\": \"white\", \"ticks\": \"\"}, \"baxis\": {\"gridcolor\": \"white\", \"linecolor\": \"white\", \"ticks\": \"\"}, \"bgcolor\": \"#E5ECF6\", \"caxis\": {\"gridcolor\": \"white\", \"linecolor\": \"white\", \"ticks\": \"\"}}, \"title\": {\"x\": 0.05}, \"xaxis\": {\"automargin\": true, \"gridcolor\": \"white\", \"linecolor\": \"white\", \"ticks\": \"\", \"title\": {\"standoff\": 15}, \"zerolinecolor\": \"white\", \"zerolinewidth\": 2}, \"yaxis\": {\"automargin\": true, \"gridcolor\": \"white\", \"linecolor\": \"white\", \"ticks\": \"\", \"title\": {\"standoff\": 15}, \"zerolinecolor\": \"white\", \"zerolinewidth\": 2}}}, \"title\": {\"text\": \"Growth of China,South Korea and USA\"}, \"xaxis\": {\"title\": {\"text\": \"Date\"}}, \"yaxis\": {\"title\": {\"text\": \"Number of Cases\"}}},\n",
              "                        {\"responsive\": true}\n",
              "                    ).then(function(){\n",
              "                            \n",
              "var gd = document.getElementById('ee05499e-3ed3-4fb2-b72d-36b9cd474b61');\n",
              "var x = new MutationObserver(function (mutations, observer) {{\n",
              "        var display = window.getComputedStyle(gd).display;\n",
              "        if (!display || display === 'none') {{\n",
              "            console.log([gd, 'removed!']);\n",
              "            Plotly.purge(gd);\n",
              "            observer.disconnect();\n",
              "        }}\n",
              "}});\n",
              "\n",
              "// Listen for the removal of the full notebook cells\n",
              "var notebookContainer = gd.closest('#notebook-container');\n",
              "if (notebookContainer) {{\n",
              "    x.observe(notebookContainer, {childList: true});\n",
              "}}\n",
              "\n",
              "// Listen for the clearing of the current output cell\n",
              "var outputEl = gd.closest('.output');\n",
              "if (outputEl) {{\n",
              "    x.observe(outputEl, {childList: true});\n",
              "}}\n",
              "\n",
              "                        })\n",
              "                };\n",
              "                \n",
              "            </script>\n",
              "        </div>\n",
              "</body>\n",
              "</html>"
            ]
          },
          "metadata": {
            "tags": []
          }
        }
      ]
    },
    {
      "cell_type": "code",
      "metadata": {
        "id": "CFJcnz0SAlUO",
        "colab_type": "code",
        "colab": {
          "base_uri": "https://localhost:8080/",
          "height": 534
        },
        "outputId": "ad4d3ef0-f00d-44c9-f4c1-8f533eb85073"
      },
      "source": [
        "datewise_m[\"Mortality Rate\"]=(datewise_m[\"deaths\"]/datewise_m[\"cases\"])*100\n",
        "  \n",
        "print(\"Average Mortality Rate\",datewise_m[\"Mortality Rate\"].mean())\n",
        "  \n",
        "fig = go.Figure()\n",
        "fig.add_trace(\n",
        "    go.Scatter(x=datewise_m.index, y=(datewise_m[\"deaths\"]/datewise_m[\"cases\"])*100,name=\"Mortality Rate\") \n",
        ")\n",
        "fig.update_layout(height=500,legend=dict(x=-0.1,y=1.2,traceorder=\"normal\"))\n",
        "fig.update_xaxes(title_text=\"Date\" )\n",
        "fig.update_yaxes(title_text=\"Mortality Rate \" ) \n",
        "fig.show()"
      ],
      "execution_count": null,
      "outputs": [
        {
          "output_type": "stream",
          "text": [
            "Average Mortality Rate 5.285667099019435\n"
          ],
          "name": "stdout"
        },
        {
          "output_type": "display_data",
          "data": {
            "text/html": [
              "<html>\n",
              "<head><meta charset=\"utf-8\" /></head>\n",
              "<body>\n",
              "    <div>\n",
              "            <script src=\"https://cdnjs.cloudflare.com/ajax/libs/mathjax/2.7.5/MathJax.js?config=TeX-AMS-MML_SVG\"></script><script type=\"text/javascript\">if (window.MathJax) {MathJax.Hub.Config({SVG: {font: \"STIX-Web\"}});}</script>\n",
              "                <script type=\"text/javascript\">window.PlotlyConfig = {MathJaxConfig: 'local'};</script>\n",
              "        <script src=\"https://cdn.plot.ly/plotly-latest.min.js\"></script>    \n",
              "            <div id=\"171b9b0b-c041-4dcf-b5fd-1110c7d6e22d\" class=\"plotly-graph-div\" style=\"height:500px; width:100%;\"></div>\n",
              "            <script type=\"text/javascript\">\n",
              "                \n",
              "                    window.PLOTLYENV=window.PLOTLYENV || {};\n",
              "                    \n",
              "                if (document.getElementById(\"171b9b0b-c041-4dcf-b5fd-1110c7d6e22d\")) {\n",
              "                    Plotly.newPlot(\n",
              "                        '171b9b0b-c041-4dcf-b5fd-1110c7d6e22d',\n",
              "                        [{\"name\": \"Mortality Rate\", \"type\": \"scatter\", \"x\": [\"2019-12-31T00:00:00\", \"2020-01-01T00:00:00\", \"2020-01-02T00:00:00\", \"2020-01-03T00:00:00\", \"2020-01-04T00:00:00\", \"2020-01-05T00:00:00\", \"2020-01-06T00:00:00\", \"2020-01-13T00:00:00\", \"2020-01-14T00:00:00\", \"2020-01-15T00:00:00\", \"2020-01-16T00:00:00\", \"2020-01-17T00:00:00\", \"2020-01-18T00:00:00\", \"2020-01-19T00:00:00\", \"2020-01-20T00:00:00\", \"2020-01-21T00:00:00\", \"2020-01-22T00:00:00\", \"2020-01-23T00:00:00\", \"2020-01-24T00:00:00\", \"2020-01-25T00:00:00\", \"2020-01-26T00:00:00\", \"2020-01-27T00:00:00\", \"2020-01-28T00:00:00\", \"2020-01-29T00:00:00\", \"2020-01-30T00:00:00\", \"2020-01-31T00:00:00\", \"2020-02-01T00:00:00\", \"2020-02-02T00:00:00\", \"2020-02-03T00:00:00\", \"2020-02-04T00:00:00\", \"2020-02-05T00:00:00\", \"2020-02-06T00:00:00\", \"2020-02-13T00:00:00\", \"2020-02-14T00:00:00\", \"2020-02-15T00:00:00\", \"2020-02-16T00:00:00\", \"2020-02-17T00:00:00\", \"2020-02-18T00:00:00\", \"2020-02-19T00:00:00\", \"2020-02-20T00:00:00\", \"2020-02-21T00:00:00\", \"2020-02-22T00:00:00\", \"2020-02-23T00:00:00\", \"2020-02-24T00:00:00\", \"2020-02-25T00:00:00\", \"2020-02-26T00:00:00\", \"2020-02-27T00:00:00\", \"2020-02-28T00:00:00\", \"2020-02-29T00:00:00\", \"2020-03-01T00:00:00\", \"2020-03-02T00:00:00\", \"2020-03-03T00:00:00\", \"2020-03-04T00:00:00\", \"2020-03-05T00:00:00\", \"2020-03-06T00:00:00\", \"2020-03-13T00:00:00\", \"2020-03-14T00:00:00\", \"2020-03-15T00:00:00\", \"2020-03-16T00:00:00\", \"2020-03-17T00:00:00\", \"2020-03-18T00:00:00\", \"2020-03-19T00:00:00\", \"2020-03-20T00:00:00\", \"2020-03-21T00:00:00\", \"2020-03-22T00:00:00\", \"2020-03-23T00:00:00\", \"2020-03-24T00:00:00\", \"2020-03-25T00:00:00\", \"2020-03-26T00:00:00\", \"2020-03-27T00:00:00\", \"2020-03-28T00:00:00\", \"2020-03-29T00:00:00\", \"2020-03-30T00:00:00\", \"2020-03-31T00:00:00\", \"2020-04-01T00:00:00\", \"2020-04-02T00:00:00\", \"2020-04-03T00:00:00\", \"2020-04-04T00:00:00\", \"2020-04-05T00:00:00\", \"2020-04-06T00:00:00\", \"2020-04-13T00:00:00\", \"2020-04-14T00:00:00\", \"2020-04-15T00:00:00\", \"2020-04-16T00:00:00\", \"2020-04-17T00:00:00\", \"2020-04-18T00:00:00\", \"2020-04-19T00:00:00\", \"2020-04-20T00:00:00\", \"2020-04-21T00:00:00\", \"2020-04-22T00:00:00\", \"2020-04-23T00:00:00\", \"2020-04-24T00:00:00\", \"2020-04-25T00:00:00\", \"2020-04-26T00:00:00\", \"2020-04-27T00:00:00\", \"2020-04-28T00:00:00\", \"2020-04-29T00:00:00\", \"2020-04-30T00:00:00\", \"2020-05-01T00:00:00\", \"2020-05-02T00:00:00\", \"2020-05-03T00:00:00\", \"2020-05-04T00:00:00\", \"2020-05-05T00:00:00\", \"2020-05-06T00:00:00\", \"2020-05-13T00:00:00\", \"2020-05-14T00:00:00\", \"2020-05-15T00:00:00\", \"2020-05-16T00:00:00\", \"2020-05-17T00:00:00\", \"2020-05-18T00:00:00\", \"2020-05-19T00:00:00\", \"2020-05-20T00:00:00\", \"2020-05-21T00:00:00\", \"2020-05-22T00:00:00\", \"2020-05-23T00:00:00\", \"2020-05-24T00:00:00\", \"2020-05-25T00:00:00\", \"2020-05-26T00:00:00\", \"2020-05-27T00:00:00\", \"2020-05-28T00:00:00\", \"2020-05-29T00:00:00\", \"2020-05-30T00:00:00\", \"2020-05-31T00:00:00\", \"2020-06-01T00:00:00\", \"2020-06-02T00:00:00\", \"2020-06-03T00:00:00\", \"2020-06-04T00:00:00\", \"2020-06-05T00:00:00\", \"2020-06-06T00:00:00\", \"2020-06-13T00:00:00\", \"2020-06-14T00:00:00\", \"2020-06-15T00:00:00\", \"2020-06-16T00:00:00\", \"2020-06-17T00:00:00\", \"2020-06-18T00:00:00\", \"2020-06-19T00:00:00\", \"2020-06-20T00:00:00\", \"2020-06-21T00:00:00\", \"2020-06-22T00:00:00\", \"2020-06-23T00:00:00\", \"2020-06-24T00:00:00\", \"2020-06-25T00:00:00\", \"2020-06-26T00:00:00\", \"2020-06-27T00:00:00\", \"2020-06-28T00:00:00\", \"2020-07-01T00:00:00\", \"2020-07-02T00:00:00\", \"2020-07-03T00:00:00\", \"2020-07-04T00:00:00\", \"2020-07-05T00:00:00\", \"2020-07-06T00:00:00\", \"2020-08-01T00:00:00\", \"2020-08-02T00:00:00\", \"2020-08-03T00:00:00\", \"2020-08-04T00:00:00\", \"2020-08-05T00:00:00\", \"2020-08-06T00:00:00\", \"2020-09-01T00:00:00\", \"2020-09-02T00:00:00\", \"2020-09-03T00:00:00\", \"2020-09-04T00:00:00\", \"2020-09-05T00:00:00\", \"2020-09-06T00:00:00\", \"2020-10-01T00:00:00\", \"2020-10-02T00:00:00\", \"2020-10-03T00:00:00\", \"2020-10-04T00:00:00\", \"2020-10-05T00:00:00\", \"2020-10-06T00:00:00\", \"2020-11-01T00:00:00\", \"2020-11-02T00:00:00\", \"2020-11-03T00:00:00\", \"2020-11-04T00:00:00\", \"2020-11-05T00:00:00\", \"2020-11-06T00:00:00\", \"2020-12-01T00:00:00\", \"2020-12-02T00:00:00\", \"2020-12-03T00:00:00\", \"2020-12-04T00:00:00\", \"2020-12-05T00:00:00\", \"2020-12-06T00:00:00\"], \"y\": [null, null, 0.0, 0.16806722689075632, null, 11.11111111111111, 2.857142857142857, null, null, null, null, null, null, null, 0.0, null, null, null, 0.0, null, 0.0, 0.0, null, null, null, 0.0, null, 0.0, 0.7288629737609329, 3.1578947368421053, 33.33333333333333, 2.631578947368421, null, null, null, 0.0, 0.0, 0.0, 0.0, 0.0, 1.3333333333333335, 0.5263157894736842, 1.171875, 1.2422360248447204, 0.7692307692307693, 1.1811023622047243, 0.22271714922048996, 0.234192037470726, 0.33003300330033003, null, null, 1.0, 5.813953488372093, 0.0, 2.0408163265306123, 0.9090909090909091, 4.672897196261682, 3.9473684210526314, 0.0, 7.142857142857142, 5.376344086021505, 3.289473684210526, 10.344827586206897, 2.0408163265306123, 1.0204081632653061, 14.0625, 9.210526315789473, 6.0, 4.807692307692308, 8.791208791208792, 3.4246575342465753, 7.6190476190476195, 7.6923076923076925, 4.0, null, 0.0, 0.7751937984496124, 3.1914893617021276, 25.0, 0.0, 12.0, 18.51851851851852, 11.11111111111111, 18.181818181818183, 4.545454545454546, 11.11111111111111, 25.0, 15.384615384615385, 11.11111111111111, 9.090909090909092, 25.0, 0.0, 0.0, 20.0, 10.0, 7.142857142857142, 22.22222222222222, 25.0, null, 0.0, 0.684931506849315, 7.4074074074074066, 66.66666666666666, 0.0, 3.8461538461538463, 3.4482758620689653, 0.0, 10.526315789473683, 0.0, 6.666666666666667, 0.0, 0.0, 8.333333333333332, 0.0, 8.695652173913043, 0.0, 6.25, 10.526315789473683, 0.0, 0.0, 0.0, 0.0, 3.7037037037037033, null, 0.0, 1.3513513513513513, 6.382978723404255, 50.0, 0.0, 0.0, 0.0, 0.0, 2.941176470588235, 2.3255813953488373, 1.694915254237288, 0.0, 0.0, 0.0, 0.0, 2.1739130434782608, 0.0, 3.571428571428571, 0.0, 0.0, 0.0, null, 0.0, 0.4140786749482402, 12.76595744680851, 25.0, 0.0, null, null, 1.6348773841961852, 15.09433962264151, 0.0, 0.0, null, 0.0, 0.4032258064516129, 10.256410256410255, 0.0, 2.631578947368421, null, 0.0, 2.2900763358778624, 14.814814814814813, 0.0, 4.0, null, 0.0, 2.479338842975207, null, 0.0, 0.0, null, null, 5.263157894736842, 9.67741935483871, 7.4074074074074066, 1.7857142857142856]}],\n",
              "                        {\"height\": 500, \"legend\": {\"traceorder\": \"normal\", \"x\": -0.1, \"y\": 1.2}, \"template\": {\"data\": {\"bar\": [{\"error_x\": {\"color\": \"#2a3f5f\"}, \"error_y\": {\"color\": \"#2a3f5f\"}, \"marker\": {\"line\": {\"color\": \"#E5ECF6\", \"width\": 0.5}}, \"type\": \"bar\"}], \"barpolar\": [{\"marker\": {\"line\": {\"color\": \"#E5ECF6\", \"width\": 0.5}}, \"type\": \"barpolar\"}], \"carpet\": [{\"aaxis\": {\"endlinecolor\": \"#2a3f5f\", \"gridcolor\": \"white\", \"linecolor\": \"white\", \"minorgridcolor\": \"white\", \"startlinecolor\": \"#2a3f5f\"}, \"baxis\": {\"endlinecolor\": \"#2a3f5f\", \"gridcolor\": \"white\", \"linecolor\": \"white\", \"minorgridcolor\": \"white\", \"startlinecolor\": \"#2a3f5f\"}, \"type\": \"carpet\"}], \"choropleth\": [{\"colorbar\": {\"outlinewidth\": 0, \"ticks\": \"\"}, \"type\": \"choropleth\"}], \"contour\": [{\"colorbar\": {\"outlinewidth\": 0, \"ticks\": \"\"}, \"colorscale\": [[0.0, \"#0d0887\"], [0.1111111111111111, \"#46039f\"], [0.2222222222222222, \"#7201a8\"], [0.3333333333333333, \"#9c179e\"], [0.4444444444444444, \"#bd3786\"], [0.5555555555555556, \"#d8576b\"], [0.6666666666666666, \"#ed7953\"], [0.7777777777777778, \"#fb9f3a\"], [0.8888888888888888, \"#fdca26\"], [1.0, \"#f0f921\"]], \"type\": \"contour\"}], \"contourcarpet\": [{\"colorbar\": {\"outlinewidth\": 0, \"ticks\": \"\"}, \"type\": \"contourcarpet\"}], \"heatmap\": [{\"colorbar\": {\"outlinewidth\": 0, \"ticks\": \"\"}, \"colorscale\": [[0.0, \"#0d0887\"], [0.1111111111111111, \"#46039f\"], [0.2222222222222222, \"#7201a8\"], [0.3333333333333333, \"#9c179e\"], [0.4444444444444444, \"#bd3786\"], [0.5555555555555556, \"#d8576b\"], [0.6666666666666666, \"#ed7953\"], [0.7777777777777778, \"#fb9f3a\"], [0.8888888888888888, \"#fdca26\"], [1.0, \"#f0f921\"]], \"type\": \"heatmap\"}], \"heatmapgl\": [{\"colorbar\": {\"outlinewidth\": 0, \"ticks\": \"\"}, \"colorscale\": [[0.0, \"#0d0887\"], [0.1111111111111111, \"#46039f\"], [0.2222222222222222, \"#7201a8\"], [0.3333333333333333, \"#9c179e\"], [0.4444444444444444, \"#bd3786\"], [0.5555555555555556, \"#d8576b\"], [0.6666666666666666, \"#ed7953\"], [0.7777777777777778, \"#fb9f3a\"], [0.8888888888888888, \"#fdca26\"], [1.0, \"#f0f921\"]], \"type\": \"heatmapgl\"}], \"histogram\": [{\"marker\": {\"colorbar\": {\"outlinewidth\": 0, \"ticks\": \"\"}}, \"type\": \"histogram\"}], \"histogram2d\": [{\"colorbar\": {\"outlinewidth\": 0, \"ticks\": \"\"}, \"colorscale\": [[0.0, \"#0d0887\"], [0.1111111111111111, \"#46039f\"], [0.2222222222222222, \"#7201a8\"], [0.3333333333333333, \"#9c179e\"], [0.4444444444444444, \"#bd3786\"], [0.5555555555555556, \"#d8576b\"], [0.6666666666666666, \"#ed7953\"], [0.7777777777777778, \"#fb9f3a\"], [0.8888888888888888, \"#fdca26\"], [1.0, \"#f0f921\"]], \"type\": \"histogram2d\"}], \"histogram2dcontour\": [{\"colorbar\": {\"outlinewidth\": 0, \"ticks\": \"\"}, \"colorscale\": [[0.0, \"#0d0887\"], [0.1111111111111111, \"#46039f\"], [0.2222222222222222, \"#7201a8\"], [0.3333333333333333, \"#9c179e\"], [0.4444444444444444, \"#bd3786\"], [0.5555555555555556, \"#d8576b\"], [0.6666666666666666, \"#ed7953\"], [0.7777777777777778, \"#fb9f3a\"], [0.8888888888888888, \"#fdca26\"], [1.0, \"#f0f921\"]], \"type\": \"histogram2dcontour\"}], \"mesh3d\": [{\"colorbar\": {\"outlinewidth\": 0, \"ticks\": \"\"}, \"type\": \"mesh3d\"}], \"parcoords\": [{\"line\": {\"colorbar\": {\"outlinewidth\": 0, \"ticks\": \"\"}}, \"type\": \"parcoords\"}], \"pie\": [{\"automargin\": true, \"type\": \"pie\"}], \"scatter\": [{\"marker\": {\"colorbar\": {\"outlinewidth\": 0, \"ticks\": \"\"}}, \"type\": \"scatter\"}], \"scatter3d\": [{\"line\": {\"colorbar\": {\"outlinewidth\": 0, \"ticks\": \"\"}}, \"marker\": {\"colorbar\": {\"outlinewidth\": 0, \"ticks\": \"\"}}, \"type\": \"scatter3d\"}], \"scattercarpet\": [{\"marker\": {\"colorbar\": {\"outlinewidth\": 0, \"ticks\": \"\"}}, \"type\": \"scattercarpet\"}], \"scattergeo\": [{\"marker\": {\"colorbar\": {\"outlinewidth\": 0, \"ticks\": \"\"}}, \"type\": \"scattergeo\"}], \"scattergl\": [{\"marker\": {\"colorbar\": {\"outlinewidth\": 0, \"ticks\": \"\"}}, \"type\": \"scattergl\"}], \"scattermapbox\": [{\"marker\": {\"colorbar\": {\"outlinewidth\": 0, \"ticks\": \"\"}}, \"type\": \"scattermapbox\"}], \"scatterpolar\": [{\"marker\": {\"colorbar\": {\"outlinewidth\": 0, \"ticks\": \"\"}}, \"type\": \"scatterpolar\"}], \"scatterpolargl\": [{\"marker\": {\"colorbar\": {\"outlinewidth\": 0, \"ticks\": \"\"}}, \"type\": \"scatterpolargl\"}], \"scatterternary\": [{\"marker\": {\"colorbar\": {\"outlinewidth\": 0, \"ticks\": \"\"}}, \"type\": \"scatterternary\"}], \"surface\": [{\"colorbar\": {\"outlinewidth\": 0, \"ticks\": \"\"}, \"colorscale\": [[0.0, \"#0d0887\"], [0.1111111111111111, \"#46039f\"], [0.2222222222222222, \"#7201a8\"], [0.3333333333333333, \"#9c179e\"], [0.4444444444444444, \"#bd3786\"], [0.5555555555555556, \"#d8576b\"], [0.6666666666666666, \"#ed7953\"], [0.7777777777777778, \"#fb9f3a\"], [0.8888888888888888, \"#fdca26\"], [1.0, \"#f0f921\"]], \"type\": \"surface\"}], \"table\": [{\"cells\": {\"fill\": {\"color\": \"#EBF0F8\"}, \"line\": {\"color\": \"white\"}}, \"header\": {\"fill\": {\"color\": \"#C8D4E3\"}, \"line\": {\"color\": \"white\"}}, \"type\": \"table\"}]}, \"layout\": {\"annotationdefaults\": {\"arrowcolor\": \"#2a3f5f\", \"arrowhead\": 0, \"arrowwidth\": 1}, \"coloraxis\": {\"colorbar\": {\"outlinewidth\": 0, \"ticks\": \"\"}}, \"colorscale\": {\"diverging\": [[0, \"#8e0152\"], [0.1, \"#c51b7d\"], [0.2, \"#de77ae\"], [0.3, \"#f1b6da\"], [0.4, \"#fde0ef\"], [0.5, \"#f7f7f7\"], [0.6, \"#e6f5d0\"], [0.7, \"#b8e186\"], [0.8, \"#7fbc41\"], [0.9, \"#4d9221\"], [1, \"#276419\"]], \"sequential\": [[0.0, \"#0d0887\"], [0.1111111111111111, \"#46039f\"], [0.2222222222222222, \"#7201a8\"], [0.3333333333333333, \"#9c179e\"], [0.4444444444444444, \"#bd3786\"], [0.5555555555555556, \"#d8576b\"], [0.6666666666666666, \"#ed7953\"], [0.7777777777777778, \"#fb9f3a\"], [0.8888888888888888, \"#fdca26\"], [1.0, \"#f0f921\"]], \"sequentialminus\": [[0.0, \"#0d0887\"], [0.1111111111111111, \"#46039f\"], [0.2222222222222222, \"#7201a8\"], [0.3333333333333333, \"#9c179e\"], [0.4444444444444444, \"#bd3786\"], [0.5555555555555556, \"#d8576b\"], [0.6666666666666666, \"#ed7953\"], [0.7777777777777778, \"#fb9f3a\"], [0.8888888888888888, \"#fdca26\"], [1.0, \"#f0f921\"]]}, \"colorway\": [\"#636efa\", \"#EF553B\", \"#00cc96\", \"#ab63fa\", \"#FFA15A\", \"#19d3f3\", \"#FF6692\", \"#B6E880\", \"#FF97FF\", \"#FECB52\"], \"font\": {\"color\": \"#2a3f5f\"}, \"geo\": {\"bgcolor\": \"white\", \"lakecolor\": \"white\", \"landcolor\": \"#E5ECF6\", \"showlakes\": true, \"showland\": true, \"subunitcolor\": \"white\"}, \"hoverlabel\": {\"align\": \"left\"}, \"hovermode\": \"closest\", \"mapbox\": {\"style\": \"light\"}, \"paper_bgcolor\": \"white\", \"plot_bgcolor\": \"#E5ECF6\", \"polar\": {\"angularaxis\": {\"gridcolor\": \"white\", \"linecolor\": \"white\", \"ticks\": \"\"}, \"bgcolor\": \"#E5ECF6\", \"radialaxis\": {\"gridcolor\": \"white\", \"linecolor\": \"white\", \"ticks\": \"\"}}, \"scene\": {\"xaxis\": {\"backgroundcolor\": \"#E5ECF6\", \"gridcolor\": \"white\", \"gridwidth\": 2, \"linecolor\": \"white\", \"showbackground\": true, \"ticks\": \"\", \"zerolinecolor\": \"white\"}, \"yaxis\": {\"backgroundcolor\": \"#E5ECF6\", \"gridcolor\": \"white\", \"gridwidth\": 2, \"linecolor\": \"white\", \"showbackground\": true, \"ticks\": \"\", \"zerolinecolor\": \"white\"}, \"zaxis\": {\"backgroundcolor\": \"#E5ECF6\", \"gridcolor\": \"white\", \"gridwidth\": 2, \"linecolor\": \"white\", \"showbackground\": true, \"ticks\": \"\", \"zerolinecolor\": \"white\"}}, \"shapedefaults\": {\"line\": {\"color\": \"#2a3f5f\"}}, \"ternary\": {\"aaxis\": {\"gridcolor\": \"white\", \"linecolor\": \"white\", \"ticks\": \"\"}, \"baxis\": {\"gridcolor\": \"white\", \"linecolor\": \"white\", \"ticks\": \"\"}, \"bgcolor\": \"#E5ECF6\", \"caxis\": {\"gridcolor\": \"white\", \"linecolor\": \"white\", \"ticks\": \"\"}}, \"title\": {\"x\": 0.05}, \"xaxis\": {\"automargin\": true, \"gridcolor\": \"white\", \"linecolor\": \"white\", \"ticks\": \"\", \"title\": {\"standoff\": 15}, \"zerolinecolor\": \"white\", \"zerolinewidth\": 2}, \"yaxis\": {\"automargin\": true, \"gridcolor\": \"white\", \"linecolor\": \"white\", \"ticks\": \"\", \"title\": {\"standoff\": 15}, \"zerolinecolor\": \"white\", \"zerolinewidth\": 2}}}, \"xaxis\": {\"title\": {\"text\": \"Date\"}}, \"yaxis\": {\"title\": {\"text\": \"Mortality Rate \"}}},\n",
              "                        {\"responsive\": true}\n",
              "                    ).then(function(){\n",
              "                            \n",
              "var gd = document.getElementById('171b9b0b-c041-4dcf-b5fd-1110c7d6e22d');\n",
              "var x = new MutationObserver(function (mutations, observer) {{\n",
              "        var display = window.getComputedStyle(gd).display;\n",
              "        if (!display || display === 'none') {{\n",
              "            console.log([gd, 'removed!']);\n",
              "            Plotly.purge(gd);\n",
              "            observer.disconnect();\n",
              "        }}\n",
              "}});\n",
              "\n",
              "// Listen for the removal of the full notebook cells\n",
              "var notebookContainer = gd.closest('#notebook-container');\n",
              "if (notebookContainer) {{\n",
              "    x.observe(notebookContainer, {childList: true});\n",
              "}}\n",
              "\n",
              "// Listen for the clearing of the current output cell\n",
              "var outputEl = gd.closest('.output');\n",
              "if (outputEl) {{\n",
              "    x.observe(outputEl, {childList: true});\n",
              "}}\n",
              "\n",
              "                        })\n",
              "                };\n",
              "                \n",
              "            </script>\n",
              "        </div>\n",
              "</body>\n",
              "</html>"
            ]
          },
          "metadata": {
            "tags": []
          }
        }
      ]
    },
    {
      "cell_type": "code",
      "metadata": {
        "id": "2Xq4DXY5KZYG",
        "colab_type": "code",
        "colab": {}
      },
      "source": [
        ""
      ],
      "execution_count": null,
      "outputs": []
    },
    {
      "cell_type": "markdown",
      "metadata": {
        "id": "jxsDeVUgKZ7b",
        "colab_type": "text"
      },
      "source": [
        "## Prediction\n"
      ]
    },
    {
      "cell_type": "code",
      "metadata": {
        "id": "-9AiLFAS6U7F",
        "colab_type": "code",
        "colab": {
          "base_uri": "https://localhost:8080/",
          "height": 419
        },
        "outputId": "e6a5fde7-fa09-4fcb-e65d-6dcf25cec281"
      },
      "source": [
        "data[\"dateRep\"]=pd.to_datetime(data[\"dateRep\"])\n",
        "data "
      ],
      "execution_count": 102,
      "outputs": [
        {
          "output_type": "execute_result",
          "data": {
            "text/html": [
              "<div>\n",
              "<style scoped>\n",
              "    .dataframe tbody tr th:only-of-type {\n",
              "        vertical-align: middle;\n",
              "    }\n",
              "\n",
              "    .dataframe tbody tr th {\n",
              "        vertical-align: top;\n",
              "    }\n",
              "\n",
              "    .dataframe thead th {\n",
              "        text-align: right;\n",
              "    }\n",
              "</style>\n",
              "<table border=\"1\" class=\"dataframe\">\n",
              "  <thead>\n",
              "    <tr style=\"text-align: right;\">\n",
              "      <th></th>\n",
              "      <th>dateRep</th>\n",
              "      <th>day</th>\n",
              "      <th>month</th>\n",
              "      <th>year</th>\n",
              "      <th>cases</th>\n",
              "      <th>deaths</th>\n",
              "      <th>country</th>\n",
              "      <th>geoId</th>\n",
              "      <th>countryCode</th>\n",
              "      <th>popData2019</th>\n",
              "      <th>continentExp</th>\n",
              "    </tr>\n",
              "  </thead>\n",
              "  <tbody>\n",
              "    <tr>\n",
              "      <th>0</th>\n",
              "      <td>2020-06-28</td>\n",
              "      <td>28</td>\n",
              "      <td>6</td>\n",
              "      <td>2020</td>\n",
              "      <td>165</td>\n",
              "      <td>20</td>\n",
              "      <td>Afghanistan</td>\n",
              "      <td>AF</td>\n",
              "      <td>AFG</td>\n",
              "      <td>38041757.0</td>\n",
              "      <td>Asia</td>\n",
              "    </tr>\n",
              "    <tr>\n",
              "      <th>1</th>\n",
              "      <td>2020-06-27</td>\n",
              "      <td>27</td>\n",
              "      <td>6</td>\n",
              "      <td>2020</td>\n",
              "      <td>276</td>\n",
              "      <td>8</td>\n",
              "      <td>Afghanistan</td>\n",
              "      <td>AF</td>\n",
              "      <td>AFG</td>\n",
              "      <td>38041757.0</td>\n",
              "      <td>Asia</td>\n",
              "    </tr>\n",
              "    <tr>\n",
              "      <th>2</th>\n",
              "      <td>2020-06-26</td>\n",
              "      <td>26</td>\n",
              "      <td>6</td>\n",
              "      <td>2020</td>\n",
              "      <td>460</td>\n",
              "      <td>36</td>\n",
              "      <td>Afghanistan</td>\n",
              "      <td>AF</td>\n",
              "      <td>AFG</td>\n",
              "      <td>38041757.0</td>\n",
              "      <td>Asia</td>\n",
              "    </tr>\n",
              "    <tr>\n",
              "      <th>3</th>\n",
              "      <td>2020-06-25</td>\n",
              "      <td>25</td>\n",
              "      <td>6</td>\n",
              "      <td>2020</td>\n",
              "      <td>234</td>\n",
              "      <td>21</td>\n",
              "      <td>Afghanistan</td>\n",
              "      <td>AF</td>\n",
              "      <td>AFG</td>\n",
              "      <td>38041757.0</td>\n",
              "      <td>Asia</td>\n",
              "    </tr>\n",
              "    <tr>\n",
              "      <th>4</th>\n",
              "      <td>2020-06-24</td>\n",
              "      <td>24</td>\n",
              "      <td>6</td>\n",
              "      <td>2020</td>\n",
              "      <td>338</td>\n",
              "      <td>20</td>\n",
              "      <td>Afghanistan</td>\n",
              "      <td>AF</td>\n",
              "      <td>AFG</td>\n",
              "      <td>38041757.0</td>\n",
              "      <td>Asia</td>\n",
              "    </tr>\n",
              "    <tr>\n",
              "      <th>...</th>\n",
              "      <td>...</td>\n",
              "      <td>...</td>\n",
              "      <td>...</td>\n",
              "      <td>...</td>\n",
              "      <td>...</td>\n",
              "      <td>...</td>\n",
              "      <td>...</td>\n",
              "      <td>...</td>\n",
              "      <td>...</td>\n",
              "      <td>...</td>\n",
              "      <td>...</td>\n",
              "    </tr>\n",
              "    <tr>\n",
              "      <th>26348</th>\n",
              "      <td>2020-03-25</td>\n",
              "      <td>25</td>\n",
              "      <td>3</td>\n",
              "      <td>2020</td>\n",
              "      <td>0</td>\n",
              "      <td>0</td>\n",
              "      <td>Zimbabwe</td>\n",
              "      <td>ZW</td>\n",
              "      <td>ZWE</td>\n",
              "      <td>14645473.0</td>\n",
              "      <td>Africa</td>\n",
              "    </tr>\n",
              "    <tr>\n",
              "      <th>26349</th>\n",
              "      <td>2020-03-24</td>\n",
              "      <td>24</td>\n",
              "      <td>3</td>\n",
              "      <td>2020</td>\n",
              "      <td>0</td>\n",
              "      <td>1</td>\n",
              "      <td>Zimbabwe</td>\n",
              "      <td>ZW</td>\n",
              "      <td>ZWE</td>\n",
              "      <td>14645473.0</td>\n",
              "      <td>Africa</td>\n",
              "    </tr>\n",
              "    <tr>\n",
              "      <th>26350</th>\n",
              "      <td>2020-03-23</td>\n",
              "      <td>23</td>\n",
              "      <td>3</td>\n",
              "      <td>2020</td>\n",
              "      <td>0</td>\n",
              "      <td>0</td>\n",
              "      <td>Zimbabwe</td>\n",
              "      <td>ZW</td>\n",
              "      <td>ZWE</td>\n",
              "      <td>14645473.0</td>\n",
              "      <td>Africa</td>\n",
              "    </tr>\n",
              "    <tr>\n",
              "      <th>26351</th>\n",
              "      <td>2020-03-22</td>\n",
              "      <td>22</td>\n",
              "      <td>3</td>\n",
              "      <td>2020</td>\n",
              "      <td>1</td>\n",
              "      <td>0</td>\n",
              "      <td>Zimbabwe</td>\n",
              "      <td>ZW</td>\n",
              "      <td>ZWE</td>\n",
              "      <td>14645473.0</td>\n",
              "      <td>Africa</td>\n",
              "    </tr>\n",
              "    <tr>\n",
              "      <th>26352</th>\n",
              "      <td>2020-03-21</td>\n",
              "      <td>21</td>\n",
              "      <td>3</td>\n",
              "      <td>2020</td>\n",
              "      <td>1</td>\n",
              "      <td>0</td>\n",
              "      <td>Zimbabwe</td>\n",
              "      <td>ZW</td>\n",
              "      <td>ZWE</td>\n",
              "      <td>14645473.0</td>\n",
              "      <td>Africa</td>\n",
              "    </tr>\n",
              "  </tbody>\n",
              "</table>\n",
              "<p>26353 rows × 11 columns</p>\n",
              "</div>"
            ],
            "text/plain": [
              "         dateRep  day  month  year  ...  geoId  countryCode popData2019 continentExp\n",
              "0     2020-06-28   28      6  2020  ...     AF          AFG  38041757.0         Asia\n",
              "1     2020-06-27   27      6  2020  ...     AF          AFG  38041757.0         Asia\n",
              "2     2020-06-26   26      6  2020  ...     AF          AFG  38041757.0         Asia\n",
              "3     2020-06-25   25      6  2020  ...     AF          AFG  38041757.0         Asia\n",
              "4     2020-06-24   24      6  2020  ...     AF          AFG  38041757.0         Asia\n",
              "...          ...  ...    ...   ...  ...    ...          ...         ...          ...\n",
              "26348 2020-03-25   25      3  2020  ...     ZW          ZWE  14645473.0       Africa\n",
              "26349 2020-03-24   24      3  2020  ...     ZW          ZWE  14645473.0       Africa\n",
              "26350 2020-03-23   23      3  2020  ...     ZW          ZWE  14645473.0       Africa\n",
              "26351 2020-03-22   22      3  2020  ...     ZW          ZWE  14645473.0       Africa\n",
              "26352 2020-03-21   21      3  2020  ...     ZW          ZWE  14645473.0       Africa\n",
              "\n",
              "[26353 rows x 11 columns]"
            ]
          },
          "metadata": {
            "tags": []
          },
          "execution_count": 102
        }
      ]
    },
    {
      "cell_type": "code",
      "metadata": {
        "id": "mqyexvUd6ctU",
        "colab_type": "code",
        "colab": {
          "base_uri": "https://localhost:8080/",
          "height": 419
        },
        "outputId": "6c3543b2-1921-4a9e-f9e3-0b4dfad54637"
      },
      "source": [
        "grouped_country = data.groupby([\"country\",\"dateRep\",\"year\",\"month\",\"day\"]).agg({\"cases\":'sum' ,\"deaths\":'sum'})\n",
        "grouped_country= grouped_country.reset_index()\n",
        "grouped_country = grouped_country[grouped_country['country']==name]\n",
        "grouped_country"
      ],
      "execution_count": 103,
      "outputs": [
        {
          "output_type": "execute_result",
          "data": {
            "text/html": [
              "<div>\n",
              "<style scoped>\n",
              "    .dataframe tbody tr th:only-of-type {\n",
              "        vertical-align: middle;\n",
              "    }\n",
              "\n",
              "    .dataframe tbody tr th {\n",
              "        vertical-align: top;\n",
              "    }\n",
              "\n",
              "    .dataframe thead th {\n",
              "        text-align: right;\n",
              "    }\n",
              "</style>\n",
              "<table border=\"1\" class=\"dataframe\">\n",
              "  <thead>\n",
              "    <tr style=\"text-align: right;\">\n",
              "      <th></th>\n",
              "      <th>country</th>\n",
              "      <th>dateRep</th>\n",
              "      <th>year</th>\n",
              "      <th>month</th>\n",
              "      <th>day</th>\n",
              "      <th>cases</th>\n",
              "      <th>deaths</th>\n",
              "    </tr>\n",
              "  </thead>\n",
              "  <tbody>\n",
              "    <tr>\n",
              "      <th>22245</th>\n",
              "      <td>South_Korea</td>\n",
              "      <td>2019-12-31</td>\n",
              "      <td>2019</td>\n",
              "      <td>12</td>\n",
              "      <td>31</td>\n",
              "      <td>0</td>\n",
              "      <td>0</td>\n",
              "    </tr>\n",
              "    <tr>\n",
              "      <th>22246</th>\n",
              "      <td>South_Korea</td>\n",
              "      <td>2020-01-01</td>\n",
              "      <td>2020</td>\n",
              "      <td>1</td>\n",
              "      <td>1</td>\n",
              "      <td>0</td>\n",
              "      <td>0</td>\n",
              "    </tr>\n",
              "    <tr>\n",
              "      <th>22247</th>\n",
              "      <td>South_Korea</td>\n",
              "      <td>2020-01-02</td>\n",
              "      <td>2020</td>\n",
              "      <td>2</td>\n",
              "      <td>1</td>\n",
              "      <td>5</td>\n",
              "      <td>0</td>\n",
              "    </tr>\n",
              "    <tr>\n",
              "      <th>22248</th>\n",
              "      <td>South_Korea</td>\n",
              "      <td>2020-01-03</td>\n",
              "      <td>2020</td>\n",
              "      <td>3</td>\n",
              "      <td>1</td>\n",
              "      <td>595</td>\n",
              "      <td>1</td>\n",
              "    </tr>\n",
              "    <tr>\n",
              "      <th>22249</th>\n",
              "      <td>South_Korea</td>\n",
              "      <td>2020-01-04</td>\n",
              "      <td>2020</td>\n",
              "      <td>4</td>\n",
              "      <td>1</td>\n",
              "      <td>0</td>\n",
              "      <td>0</td>\n",
              "    </tr>\n",
              "    <tr>\n",
              "      <th>...</th>\n",
              "      <td>...</td>\n",
              "      <td>...</td>\n",
              "      <td>...</td>\n",
              "      <td>...</td>\n",
              "      <td>...</td>\n",
              "      <td>...</td>\n",
              "      <td>...</td>\n",
              "    </tr>\n",
              "    <tr>\n",
              "      <th>22421</th>\n",
              "      <td>South_Korea</td>\n",
              "      <td>2020-12-02</td>\n",
              "      <td>2020</td>\n",
              "      <td>2</td>\n",
              "      <td>12</td>\n",
              "      <td>0</td>\n",
              "      <td>0</td>\n",
              "    </tr>\n",
              "    <tr>\n",
              "      <th>22422</th>\n",
              "      <td>South_Korea</td>\n",
              "      <td>2020-12-03</td>\n",
              "      <td>2020</td>\n",
              "      <td>3</td>\n",
              "      <td>12</td>\n",
              "      <td>114</td>\n",
              "      <td>6</td>\n",
              "    </tr>\n",
              "    <tr>\n",
              "      <th>22423</th>\n",
              "      <td>South_Korea</td>\n",
              "      <td>2020-12-04</td>\n",
              "      <td>2020</td>\n",
              "      <td>4</td>\n",
              "      <td>12</td>\n",
              "      <td>62</td>\n",
              "      <td>6</td>\n",
              "    </tr>\n",
              "    <tr>\n",
              "      <th>22424</th>\n",
              "      <td>South_Korea</td>\n",
              "      <td>2020-12-05</td>\n",
              "      <td>2020</td>\n",
              "      <td>5</td>\n",
              "      <td>12</td>\n",
              "      <td>27</td>\n",
              "      <td>2</td>\n",
              "    </tr>\n",
              "    <tr>\n",
              "      <th>22425</th>\n",
              "      <td>South_Korea</td>\n",
              "      <td>2020-12-06</td>\n",
              "      <td>2020</td>\n",
              "      <td>6</td>\n",
              "      <td>12</td>\n",
              "      <td>56</td>\n",
              "      <td>1</td>\n",
              "    </tr>\n",
              "  </tbody>\n",
              "</table>\n",
              "<p>181 rows × 7 columns</p>\n",
              "</div>"
            ],
            "text/plain": [
              "           country    dateRep  year  month  day  cases  deaths\n",
              "22245  South_Korea 2019-12-31  2019     12   31      0       0\n",
              "22246  South_Korea 2020-01-01  2020      1    1      0       0\n",
              "22247  South_Korea 2020-01-02  2020      2    1      5       0\n",
              "22248  South_Korea 2020-01-03  2020      3    1    595       1\n",
              "22249  South_Korea 2020-01-04  2020      4    1      0       0\n",
              "...            ...        ...   ...    ...  ...    ...     ...\n",
              "22421  South_Korea 2020-12-02  2020      2   12      0       0\n",
              "22422  South_Korea 2020-12-03  2020      3   12    114       6\n",
              "22423  South_Korea 2020-12-04  2020      4   12     62       6\n",
              "22424  South_Korea 2020-12-05  2020      5   12     27       2\n",
              "22425  South_Korea 2020-12-06  2020      6   12     56       1\n",
              "\n",
              "[181 rows x 7 columns]"
            ]
          },
          "metadata": {
            "tags": []
          },
          "execution_count": 103
        }
      ]
    },
    {
      "cell_type": "code",
      "metadata": {
        "id": "5xxuaOJ8Y5St",
        "colab_type": "code",
        "colab": {
          "base_uri": "https://localhost:8080/",
          "height": 450
        },
        "outputId": "d3b1bf64-a58f-49cb-96ee-2ea1dff58e40"
      },
      "source": [
        "#Grouping datewise\n",
        "datewise=data.groupby([\"dateRep\",\"year\",\"month\",\"day\"]).agg({\"cases\":'sum',\"deaths\":'sum' })\n",
        "datewise=datewise.reset_index();\n",
        "datewise = datewise.sort_values(by=['year','month','day'])\n",
        "datewise=datewise.set_index(\"dateRep\")\n",
        "datewise[\"days_num\"]=datewise.index-datewise.index.min()\n",
        "datewise "
      ],
      "execution_count": 139,
      "outputs": [
        {
          "output_type": "execute_result",
          "data": {
            "text/html": [
              "<div>\n",
              "<style scoped>\n",
              "    .dataframe tbody tr th:only-of-type {\n",
              "        vertical-align: middle;\n",
              "    }\n",
              "\n",
              "    .dataframe tbody tr th {\n",
              "        vertical-align: top;\n",
              "    }\n",
              "\n",
              "    .dataframe thead th {\n",
              "        text-align: right;\n",
              "    }\n",
              "</style>\n",
              "<table border=\"1\" class=\"dataframe\">\n",
              "  <thead>\n",
              "    <tr style=\"text-align: right;\">\n",
              "      <th></th>\n",
              "      <th>year</th>\n",
              "      <th>month</th>\n",
              "      <th>day</th>\n",
              "      <th>cases</th>\n",
              "      <th>deaths</th>\n",
              "      <th>days_num</th>\n",
              "    </tr>\n",
              "    <tr>\n",
              "      <th>dateRep</th>\n",
              "      <th></th>\n",
              "      <th></th>\n",
              "      <th></th>\n",
              "      <th></th>\n",
              "      <th></th>\n",
              "      <th></th>\n",
              "    </tr>\n",
              "  </thead>\n",
              "  <tbody>\n",
              "    <tr>\n",
              "      <th>2019-12-31</th>\n",
              "      <td>2019</td>\n",
              "      <td>12</td>\n",
              "      <td>31</td>\n",
              "      <td>27</td>\n",
              "      <td>0</td>\n",
              "      <td>0 days</td>\n",
              "    </tr>\n",
              "    <tr>\n",
              "      <th>2020-01-01</th>\n",
              "      <td>2020</td>\n",
              "      <td>1</td>\n",
              "      <td>1</td>\n",
              "      <td>0</td>\n",
              "      <td>0</td>\n",
              "      <td>1 days</td>\n",
              "    </tr>\n",
              "    <tr>\n",
              "      <th>2020-02-01</th>\n",
              "      <td>2020</td>\n",
              "      <td>1</td>\n",
              "      <td>2</td>\n",
              "      <td>0</td>\n",
              "      <td>0</td>\n",
              "      <td>32 days</td>\n",
              "    </tr>\n",
              "    <tr>\n",
              "      <th>2020-03-01</th>\n",
              "      <td>2020</td>\n",
              "      <td>1</td>\n",
              "      <td>3</td>\n",
              "      <td>17</td>\n",
              "      <td>0</td>\n",
              "      <td>61 days</td>\n",
              "    </tr>\n",
              "    <tr>\n",
              "      <th>2020-04-01</th>\n",
              "      <td>2020</td>\n",
              "      <td>1</td>\n",
              "      <td>4</td>\n",
              "      <td>0</td>\n",
              "      <td>0</td>\n",
              "      <td>92 days</td>\n",
              "    </tr>\n",
              "    <tr>\n",
              "      <th>...</th>\n",
              "      <td>...</td>\n",
              "      <td>...</td>\n",
              "      <td>...</td>\n",
              "      <td>...</td>\n",
              "      <td>...</td>\n",
              "      <td>...</td>\n",
              "    </tr>\n",
              "    <tr>\n",
              "      <th>2020-06-24</th>\n",
              "      <td>2020</td>\n",
              "      <td>6</td>\n",
              "      <td>24</td>\n",
              "      <td>165799</td>\n",
              "      <td>5577</td>\n",
              "      <td>176 days</td>\n",
              "    </tr>\n",
              "    <tr>\n",
              "      <th>2020-06-25</th>\n",
              "      <td>2020</td>\n",
              "      <td>6</td>\n",
              "      <td>25</td>\n",
              "      <td>171237</td>\n",
              "      <td>5194</td>\n",
              "      <td>177 days</td>\n",
              "    </tr>\n",
              "    <tr>\n",
              "      <th>2020-06-26</th>\n",
              "      <td>2020</td>\n",
              "      <td>6</td>\n",
              "      <td>26</td>\n",
              "      <td>181511</td>\n",
              "      <td>6716</td>\n",
              "      <td>178 days</td>\n",
              "    </tr>\n",
              "    <tr>\n",
              "      <th>2020-06-27</th>\n",
              "      <td>2020</td>\n",
              "      <td>6</td>\n",
              "      <td>27</td>\n",
              "      <td>189197</td>\n",
              "      <td>4701</td>\n",
              "      <td>179 days</td>\n",
              "    </tr>\n",
              "    <tr>\n",
              "      <th>2020-06-28</th>\n",
              "      <td>2020</td>\n",
              "      <td>6</td>\n",
              "      <td>28</td>\n",
              "      <td>180989</td>\n",
              "      <td>4623</td>\n",
              "      <td>180 days</td>\n",
              "    </tr>\n",
              "  </tbody>\n",
              "</table>\n",
              "<p>181 rows × 6 columns</p>\n",
              "</div>"
            ],
            "text/plain": [
              "            year  month  day   cases  deaths days_num\n",
              "dateRep                                              \n",
              "2019-12-31  2019     12   31      27       0   0 days\n",
              "2020-01-01  2020      1    1       0       0   1 days\n",
              "2020-02-01  2020      1    2       0       0  32 days\n",
              "2020-03-01  2020      1    3      17       0  61 days\n",
              "2020-04-01  2020      1    4       0       0  92 days\n",
              "...          ...    ...  ...     ...     ...      ...\n",
              "2020-06-24  2020      6   24  165799    5577 176 days\n",
              "2020-06-25  2020      6   25  171237    5194 177 days\n",
              "2020-06-26  2020      6   26  181511    6716 178 days\n",
              "2020-06-27  2020      6   27  189197    4701 179 days\n",
              "2020-06-28  2020      6   28  180989    4623 180 days\n",
              "\n",
              "[181 rows x 6 columns]"
            ]
          },
          "metadata": {
            "tags": []
          },
          "execution_count": 139
        }
      ]
    },
    {
      "cell_type": "code",
      "metadata": {
        "id": "VYWuWUhs_rZB",
        "colab_type": "code",
        "colab": {
          "base_uri": "https://localhost:8080/",
          "height": 450
        },
        "outputId": "80af6ffb-217f-4166-d062-575ab088fe38"
      },
      "source": [
        "datewise[\"Days Since\"]=datewise.index-datewise.index[0]\n",
        "datewise[\"Days Since\"]=datewise[\"Days Since\"].dt.days\n",
        "datewise=datewise.drop(['year','month','day'],axis=1)#\n",
        "datewise=datewise.sort_values(by=[\"Days Since\"]) #\n",
        "datewise"
      ],
      "execution_count": 140,
      "outputs": [
        {
          "output_type": "execute_result",
          "data": {
            "text/html": [
              "<div>\n",
              "<style scoped>\n",
              "    .dataframe tbody tr th:only-of-type {\n",
              "        vertical-align: middle;\n",
              "    }\n",
              "\n",
              "    .dataframe tbody tr th {\n",
              "        vertical-align: top;\n",
              "    }\n",
              "\n",
              "    .dataframe thead th {\n",
              "        text-align: right;\n",
              "    }\n",
              "</style>\n",
              "<table border=\"1\" class=\"dataframe\">\n",
              "  <thead>\n",
              "    <tr style=\"text-align: right;\">\n",
              "      <th></th>\n",
              "      <th>cases</th>\n",
              "      <th>deaths</th>\n",
              "      <th>days_num</th>\n",
              "      <th>Days Since</th>\n",
              "    </tr>\n",
              "    <tr>\n",
              "      <th>dateRep</th>\n",
              "      <th></th>\n",
              "      <th></th>\n",
              "      <th></th>\n",
              "      <th></th>\n",
              "    </tr>\n",
              "  </thead>\n",
              "  <tbody>\n",
              "    <tr>\n",
              "      <th>2019-12-31</th>\n",
              "      <td>27</td>\n",
              "      <td>0</td>\n",
              "      <td>0 days</td>\n",
              "      <td>0</td>\n",
              "    </tr>\n",
              "    <tr>\n",
              "      <th>2020-01-01</th>\n",
              "      <td>0</td>\n",
              "      <td>0</td>\n",
              "      <td>1 days</td>\n",
              "      <td>1</td>\n",
              "    </tr>\n",
              "    <tr>\n",
              "      <th>2020-01-02</th>\n",
              "      <td>2120</td>\n",
              "      <td>46</td>\n",
              "      <td>2 days</td>\n",
              "      <td>2</td>\n",
              "    </tr>\n",
              "    <tr>\n",
              "      <th>2020-01-03</th>\n",
              "      <td>1819</td>\n",
              "      <td>58</td>\n",
              "      <td>3 days</td>\n",
              "      <td>3</td>\n",
              "    </tr>\n",
              "    <tr>\n",
              "      <th>2020-01-04</th>\n",
              "      <td>73404</td>\n",
              "      <td>4622</td>\n",
              "      <td>4 days</td>\n",
              "      <td>4</td>\n",
              "    </tr>\n",
              "    <tr>\n",
              "      <th>...</th>\n",
              "      <td>...</td>\n",
              "      <td>...</td>\n",
              "      <td>...</td>\n",
              "      <td>...</td>\n",
              "    </tr>\n",
              "    <tr>\n",
              "      <th>2020-12-02</th>\n",
              "      <td>2072</td>\n",
              "      <td>97</td>\n",
              "      <td>337 days</td>\n",
              "      <td>337</td>\n",
              "    </tr>\n",
              "    <tr>\n",
              "      <th>2020-12-03</th>\n",
              "      <td>7662</td>\n",
              "      <td>326</td>\n",
              "      <td>338 days</td>\n",
              "      <td>338</td>\n",
              "    </tr>\n",
              "    <tr>\n",
              "      <th>2020-12-04</th>\n",
              "      <td>80442</td>\n",
              "      <td>5989</td>\n",
              "      <td>339 days</td>\n",
              "      <td>339</td>\n",
              "    </tr>\n",
              "    <tr>\n",
              "      <th>2020-12-05</th>\n",
              "      <td>71124</td>\n",
              "      <td>3581</td>\n",
              "      <td>340 days</td>\n",
              "      <td>340</td>\n",
              "    </tr>\n",
              "    <tr>\n",
              "      <th>2020-12-06</th>\n",
              "      <td>137529</td>\n",
              "      <td>4762</td>\n",
              "      <td>341 days</td>\n",
              "      <td>341</td>\n",
              "    </tr>\n",
              "  </tbody>\n",
              "</table>\n",
              "<p>181 rows × 4 columns</p>\n",
              "</div>"
            ],
            "text/plain": [
              "             cases  deaths days_num  Days Since\n",
              "dateRep                                        \n",
              "2019-12-31      27       0   0 days           0\n",
              "2020-01-01       0       0   1 days           1\n",
              "2020-01-02    2120      46   2 days           2\n",
              "2020-01-03    1819      58   3 days           3\n",
              "2020-01-04   73404    4622   4 days           4\n",
              "...            ...     ...      ...         ...\n",
              "2020-12-02    2072      97 337 days         337\n",
              "2020-12-03    7662     326 338 days         338\n",
              "2020-12-04   80442    5989 339 days         339\n",
              "2020-12-05   71124    3581 340 days         340\n",
              "2020-12-06  137529    4762 341 days         341\n",
              "\n",
              "[181 rows x 4 columns]"
            ]
          },
          "metadata": {
            "tags": []
          },
          "execution_count": 140
        }
      ]
    },
    {
      "cell_type": "code",
      "metadata": {
        "id": "jymSCqV4AqCG",
        "colab_type": "code",
        "colab": {
          "base_uri": "https://localhost:8080/",
          "height": 241
        },
        "outputId": "41a03dcf-d97e-46ba-f28e-73ca0de8cd25"
      },
      "source": [
        "import warnings\n",
        "warnings.filterwarnings('ignore')\n",
        "import pandas as pd\n",
        "import matplotlib.pyplot as plt\n",
        "import seaborn as sns\n",
        "#!pip install plotly\n",
        "import plotly.express as px\n",
        "import plotly.graph_objects as go\n",
        "from plotly.subplots import make_subplots\n",
        "import numpy as np\n",
        "import datetime as dt\n",
        "from datetime import timedelta\n",
        "from sklearn.model_selection import GridSearchCV\n",
        "from sklearn.preprocessing import StandardScaler\n",
        "from sklearn.cluster import KMeans\n",
        "from sklearn.metrics import silhouette_score,silhouette_samples\n",
        "from sklearn.linear_model import LinearRegression,Ridge,Lasso\n",
        "from sklearn.svm import SVR\n",
        "from sklearn.metrics import mean_squared_error,r2_score\n",
        "import statsmodels.api as sm\n",
        "from statsmodels.tsa.api import Holt,SimpleExpSmoothing,ExponentialSmoothing\n",
        "from fbprophet import Prophet\n",
        "from sklearn.preprocessing import PolynomialFeatures\n",
        "from statsmodels.tsa.stattools import adfuller\n",
        "!pip install pyramid-arima\n",
        "from pyramid.arima import auto_arima\n",
        "std=StandardScaler()"
      ],
      "execution_count": 129,
      "outputs": [
        {
          "output_type": "stream",
          "text": [
            "Requirement already satisfied: pyramid-arima in /usr/local/lib/python3.6/dist-packages (0.9.0)\n",
            "Requirement already satisfied: scipy>=0.9 in /usr/local/lib/python3.6/dist-packages (from pyramid-arima) (1.4.1)\n",
            "Requirement already satisfied: numpy>=1.10 in /usr/local/lib/python3.6/dist-packages (from pyramid-arima) (1.18.5)\n",
            "Requirement already satisfied: pandas>=0.19 in /usr/local/lib/python3.6/dist-packages (from pyramid-arima) (1.0.5)\n",
            "Requirement already satisfied: Cython>=0.23 in /usr/local/lib/python3.6/dist-packages (from pyramid-arima) (0.29.20)\n",
            "Requirement already satisfied: statsmodels>=0.9.0 in /usr/local/lib/python3.6/dist-packages (from pyramid-arima) (0.10.2)\n",
            "Requirement already satisfied: scikit-learn>=0.17 in /usr/local/lib/python3.6/dist-packages (from pyramid-arima) (0.22.2.post1)\n",
            "Requirement already satisfied: python-dateutil>=2.6.1 in /usr/local/lib/python3.6/dist-packages (from pandas>=0.19->pyramid-arima) (2.8.1)\n",
            "Requirement already satisfied: pytz>=2017.2 in /usr/local/lib/python3.6/dist-packages (from pandas>=0.19->pyramid-arima) (2018.9)\n",
            "Requirement already satisfied: patsy>=0.4.0 in /usr/local/lib/python3.6/dist-packages (from statsmodels>=0.9.0->pyramid-arima) (0.5.1)\n",
            "Requirement already satisfied: joblib>=0.11 in /usr/local/lib/python3.6/dist-packages (from scikit-learn>=0.17->pyramid-arima) (0.15.1)\n",
            "Requirement already satisfied: six>=1.5 in /usr/local/lib/python3.6/dist-packages (from python-dateutil>=2.6.1->pandas>=0.19->pyramid-arima) (1.12.0)\n"
          ],
          "name": "stdout"
        }
      ]
    },
    {
      "cell_type": "code",
      "metadata": {
        "id": "7MSDTvOfACLg",
        "colab_type": "code",
        "colab": {
          "base_uri": "https://localhost:8080/",
          "height": 34
        },
        "outputId": "0e21d093-be56-4ca6-a9bd-8c1abcb4cddc"
      },
      "source": [
        "train_ml=datewise.iloc[:int(datewise.shape[0]*0.95)]\n",
        "valid_ml=datewise.iloc[int(datewise.shape[0]*0.95):]\n",
        "model_scores=[]\n",
        "lin_reg=LinearRegression(normalize=True)\n",
        "lin_reg.fit(np.array(train_ml[\"Days Since\"]).reshape(-1,1),np.array(train_ml[\"cases\"]).reshape(-1,1))"
      ],
      "execution_count": 141,
      "outputs": [
        {
          "output_type": "execute_result",
          "data": {
            "text/plain": [
              "LinearRegression(copy_X=True, fit_intercept=True, n_jobs=None, normalize=True)"
            ]
          },
          "metadata": {
            "tags": []
          },
          "execution_count": 141
        }
      ]
    },
    {
      "cell_type": "code",
      "metadata": {
        "id": "pTpNpPmQATb8",
        "colab_type": "code",
        "colab": {}
      },
      "source": [
        "prediction_valid_linreg=lin_reg.predict(np.array(valid_ml[\"Days Since\"]).reshape(-1,1))"
      ],
      "execution_count": 142,
      "outputs": []
    },
    {
      "cell_type": "code",
      "metadata": {
        "id": "yiFZ1x9mAXFa",
        "colab_type": "code",
        "colab": {
          "base_uri": "https://localhost:8080/",
          "height": 34
        },
        "outputId": "2559f6cd-54e1-4825-9b3f-54569909b56e"
      },
      "source": [
        "model_scores.append(np.sqrt(mean_squared_error(valid_ml[\"cases\"],prediction_valid_linreg)))\n",
        "print(\"Root Mean Square Error for Linear Regression: \",np.sqrt(mean_squared_error(valid_ml[\"cases\"],prediction_valid_linreg)))"
      ],
      "execution_count": 143,
      "outputs": [
        {
          "output_type": "stream",
          "text": [
            "Root Mean Square Error for Linear Regression:  77764.0324634305\n"
          ],
          "name": "stdout"
        }
      ]
    },
    {
      "cell_type": "code",
      "metadata": {
        "id": "lLA3s_JkAaiH",
        "colab_type": "code",
        "colab": {
          "base_uri": "https://localhost:8080/",
          "height": 559
        },
        "outputId": "727a3219-b355-43ba-b321-4ed17ce76c48"
      },
      "source": [
        "plt.figure(figsize=(11,6))\n",
        "prediction_linreg=lin_reg.predict(np.array(datewise[\"Days Since\"]).reshape(-1,1))\n",
        "linreg_output=[]\n",
        "for i in range(prediction_linreg.shape[0]):\n",
        "    linreg_output.append(prediction_linreg[i][0])\n",
        "\n",
        "fig=go.Figure()\n",
        "fig.add_trace(go.Scatter(x=datewise.index, y=datewise[\"cases\"],\n",
        "                    mode='lines+markers',name=\"Train Data for Confirmed Cases\"))\n",
        "fig.add_trace(go.Scatter(x=datewise.index, y=linreg_output,\n",
        "                    mode='lines',name=\"Linear Regression Best Fit Line\",\n",
        "                    line=dict(color='black', dash='dot')))\n",
        "fig.update_layout(title=\"Confirmed Cases Linear Regression Prediction\",\n",
        "                 xaxis_title=\"Date\",yaxis_title=\"Confirmed Cases\",legend=dict(x=0,y=1,traceorder=\"normal\"))\n",
        "fig.show()"
      ],
      "execution_count": 144,
      "outputs": [
        {
          "output_type": "display_data",
          "data": {
            "text/html": [
              "<html>\n",
              "<head><meta charset=\"utf-8\" /></head>\n",
              "<body>\n",
              "    <div>\n",
              "            <script src=\"https://cdnjs.cloudflare.com/ajax/libs/mathjax/2.7.5/MathJax.js?config=TeX-AMS-MML_SVG\"></script><script type=\"text/javascript\">if (window.MathJax) {MathJax.Hub.Config({SVG: {font: \"STIX-Web\"}});}</script>\n",
              "                <script type=\"text/javascript\">window.PlotlyConfig = {MathJaxConfig: 'local'};</script>\n",
              "        <script src=\"https://cdn.plot.ly/plotly-latest.min.js\"></script>    \n",
              "            <div id=\"c19889bc-c3ec-47fb-883a-6b81a1a79dd0\" class=\"plotly-graph-div\" style=\"height:525px; width:100%;\"></div>\n",
              "            <script type=\"text/javascript\">\n",
              "                \n",
              "                    window.PLOTLYENV=window.PLOTLYENV || {};\n",
              "                    \n",
              "                if (document.getElementById(\"c19889bc-c3ec-47fb-883a-6b81a1a79dd0\")) {\n",
              "                    Plotly.newPlot(\n",
              "                        'c19889bc-c3ec-47fb-883a-6b81a1a79dd0',\n",
              "                        [{\"mode\": \"lines+markers\", \"name\": \"Train Data for Confirmed Cases\", \"type\": \"scatter\", \"x\": [\"2019-12-31T00:00:00\", \"2020-01-01T00:00:00\", \"2020-01-02T00:00:00\", \"2020-01-03T00:00:00\", \"2020-01-04T00:00:00\", \"2020-01-05T00:00:00\", \"2020-01-06T00:00:00\", \"2020-01-13T00:00:00\", \"2020-01-14T00:00:00\", \"2020-01-15T00:00:00\", \"2020-01-16T00:00:00\", \"2020-01-17T00:00:00\", \"2020-01-18T00:00:00\", \"2020-01-19T00:00:00\", \"2020-01-20T00:00:00\", \"2020-01-21T00:00:00\", \"2020-01-22T00:00:00\", \"2020-01-23T00:00:00\", \"2020-01-24T00:00:00\", \"2020-01-25T00:00:00\", \"2020-01-26T00:00:00\", \"2020-01-27T00:00:00\", \"2020-01-28T00:00:00\", \"2020-01-29T00:00:00\", \"2020-01-30T00:00:00\", \"2020-01-31T00:00:00\", \"2020-02-01T00:00:00\", \"2020-02-02T00:00:00\", \"2020-02-03T00:00:00\", \"2020-02-04T00:00:00\", \"2020-02-05T00:00:00\", \"2020-02-06T00:00:00\", \"2020-02-13T00:00:00\", \"2020-02-14T00:00:00\", \"2020-02-15T00:00:00\", \"2020-02-16T00:00:00\", \"2020-02-17T00:00:00\", \"2020-02-18T00:00:00\", \"2020-02-19T00:00:00\", \"2020-02-20T00:00:00\", \"2020-02-21T00:00:00\", \"2020-02-22T00:00:00\", \"2020-02-23T00:00:00\", \"2020-02-24T00:00:00\", \"2020-02-25T00:00:00\", \"2020-02-26T00:00:00\", \"2020-02-27T00:00:00\", \"2020-02-28T00:00:00\", \"2020-02-29T00:00:00\", \"2020-03-01T00:00:00\", \"2020-03-02T00:00:00\", \"2020-03-03T00:00:00\", \"2020-03-04T00:00:00\", \"2020-03-05T00:00:00\", \"2020-03-06T00:00:00\", \"2020-03-13T00:00:00\", \"2020-03-14T00:00:00\", \"2020-03-15T00:00:00\", \"2020-03-16T00:00:00\", \"2020-03-17T00:00:00\", \"2020-03-18T00:00:00\", \"2020-03-19T00:00:00\", \"2020-03-20T00:00:00\", \"2020-03-21T00:00:00\", \"2020-03-22T00:00:00\", \"2020-03-23T00:00:00\", \"2020-03-24T00:00:00\", \"2020-03-25T00:00:00\", \"2020-03-26T00:00:00\", \"2020-03-27T00:00:00\", \"2020-03-28T00:00:00\", \"2020-03-29T00:00:00\", \"2020-03-30T00:00:00\", \"2020-03-31T00:00:00\", \"2020-04-01T00:00:00\", \"2020-04-02T00:00:00\", \"2020-04-03T00:00:00\", \"2020-04-04T00:00:00\", \"2020-04-05T00:00:00\", \"2020-04-06T00:00:00\", \"2020-04-13T00:00:00\", \"2020-04-14T00:00:00\", \"2020-04-15T00:00:00\", \"2020-04-16T00:00:00\", \"2020-04-17T00:00:00\", \"2020-04-18T00:00:00\", \"2020-04-19T00:00:00\", \"2020-04-20T00:00:00\", \"2020-04-21T00:00:00\", \"2020-04-22T00:00:00\", \"2020-04-23T00:00:00\", \"2020-04-24T00:00:00\", \"2020-04-25T00:00:00\", \"2020-04-26T00:00:00\", \"2020-04-27T00:00:00\", \"2020-04-28T00:00:00\", \"2020-04-29T00:00:00\", \"2020-04-30T00:00:00\", \"2020-05-01T00:00:00\", \"2020-05-02T00:00:00\", \"2020-05-03T00:00:00\", \"2020-05-04T00:00:00\", \"2020-05-05T00:00:00\", \"2020-05-06T00:00:00\", \"2020-05-13T00:00:00\", \"2020-05-14T00:00:00\", \"2020-05-15T00:00:00\", \"2020-05-16T00:00:00\", \"2020-05-17T00:00:00\", \"2020-05-18T00:00:00\", \"2020-05-19T00:00:00\", \"2020-05-20T00:00:00\", \"2020-05-21T00:00:00\", \"2020-05-22T00:00:00\", \"2020-05-23T00:00:00\", \"2020-05-24T00:00:00\", \"2020-05-25T00:00:00\", \"2020-05-26T00:00:00\", \"2020-05-27T00:00:00\", \"2020-05-28T00:00:00\", \"2020-05-29T00:00:00\", \"2020-05-30T00:00:00\", \"2020-05-31T00:00:00\", \"2020-06-01T00:00:00\", \"2020-06-02T00:00:00\", \"2020-06-03T00:00:00\", \"2020-06-04T00:00:00\", \"2020-06-05T00:00:00\", \"2020-06-06T00:00:00\", \"2020-06-13T00:00:00\", \"2020-06-14T00:00:00\", \"2020-06-15T00:00:00\", \"2020-06-16T00:00:00\", \"2020-06-17T00:00:00\", \"2020-06-18T00:00:00\", \"2020-06-19T00:00:00\", \"2020-06-20T00:00:00\", \"2020-06-21T00:00:00\", \"2020-06-22T00:00:00\", \"2020-06-23T00:00:00\", \"2020-06-24T00:00:00\", \"2020-06-25T00:00:00\", \"2020-06-26T00:00:00\", \"2020-06-27T00:00:00\", \"2020-06-28T00:00:00\", \"2020-07-01T00:00:00\", \"2020-07-02T00:00:00\", \"2020-07-03T00:00:00\", \"2020-07-04T00:00:00\", \"2020-07-05T00:00:00\", \"2020-07-06T00:00:00\", \"2020-08-01T00:00:00\", \"2020-08-02T00:00:00\", \"2020-08-03T00:00:00\", \"2020-08-04T00:00:00\", \"2020-08-05T00:00:00\", \"2020-08-06T00:00:00\", \"2020-09-01T00:00:00\", \"2020-09-02T00:00:00\", \"2020-09-03T00:00:00\", \"2020-09-04T00:00:00\", \"2020-09-05T00:00:00\", \"2020-09-06T00:00:00\", \"2020-10-01T00:00:00\", \"2020-10-02T00:00:00\", \"2020-10-03T00:00:00\", \"2020-10-04T00:00:00\", \"2020-10-05T00:00:00\", \"2020-10-06T00:00:00\", \"2020-11-01T00:00:00\", \"2020-11-02T00:00:00\", \"2020-11-03T00:00:00\", \"2020-11-04T00:00:00\", \"2020-11-05T00:00:00\", \"2020-11-06T00:00:00\", \"2020-12-01T00:00:00\", \"2020-12-02T00:00:00\", \"2020-12-03T00:00:00\", \"2020-12-04T00:00:00\", \"2020-12-05T00:00:00\", \"2020-12-06T00:00:00\"], \"y\": [27, 0, 2120, 1819, 73404, 84513, 107821, 1, 0, 1, 0, 5, 17, 136, 20, 153, 142, 97, 266, 453, 673, 797, 1767, 1480, 1756, 2003, 0, 2608, 2094, 77071, 91466, 100403, 15151, 4215, 2560, 2162, 2067, 1995, 1864, 532, 996, 1085, 1008, 527, 793, 865, 1109, 1269, 1848, 17, 2818, 1833, 76818, 80968, 112599, 9186, 10047, 12182, 12374, 13928, 16722, 20100, 30774, 31554, 33959, 33900, 43882, 41555, 52755, 60415, 64805, 62259, 56791, 64236, 0, 3243, 2281, 81217, 78261, 126774, 70142, 65607, 77634, 78914, 83390, 81947, 79413, 71273, 75745, 86020, 66130, 77494, 73072, 99903, 82452, 65977, 71486, 77795, 15, 3907, 2316, 84256, 77474, 127748, 85852, 86066, 96652, 98017, 93997, 81007, 87164, 95127, 99552, 107743, 106544, 100929, 94009, 89150, 95955, 102627, 118707, 122965, 127731, 0, 3751, 3032, 68340, 79478, 133525, 144444, 134025, 122077, 118769, 141347, 176463, 138694, 177240, 161919, 129796, 136912, 165799, 171237, 181511, 189197, 180989, 0, 3218, 4134, 73134, 90103, 125766, 0, 3442, 3931, 75110, 93972, 116217, 0, 2619, 4178, 84857, 90030, 105879, 0, 2988, 4753, 86449, 89810, 125649, 0, 2565, 4990, 89955, 76622, 133446, 0, 2072, 7662, 80442, 71124, 137529]}, {\"line\": {\"color\": \"black\", \"dash\": \"dot\"}, \"mode\": \"lines\", \"name\": \"Linear Regression Best Fit Line\", \"type\": \"scatter\", \"x\": [\"2019-12-31T00:00:00\", \"2020-01-01T00:00:00\", \"2020-01-02T00:00:00\", \"2020-01-03T00:00:00\", \"2020-01-04T00:00:00\", \"2020-01-05T00:00:00\", \"2020-01-06T00:00:00\", \"2020-01-13T00:00:00\", \"2020-01-14T00:00:00\", \"2020-01-15T00:00:00\", \"2020-01-16T00:00:00\", \"2020-01-17T00:00:00\", \"2020-01-18T00:00:00\", \"2020-01-19T00:00:00\", \"2020-01-20T00:00:00\", \"2020-01-21T00:00:00\", \"2020-01-22T00:00:00\", \"2020-01-23T00:00:00\", \"2020-01-24T00:00:00\", \"2020-01-25T00:00:00\", \"2020-01-26T00:00:00\", \"2020-01-27T00:00:00\", \"2020-01-28T00:00:00\", \"2020-01-29T00:00:00\", \"2020-01-30T00:00:00\", \"2020-01-31T00:00:00\", \"2020-02-01T00:00:00\", \"2020-02-02T00:00:00\", \"2020-02-03T00:00:00\", \"2020-02-04T00:00:00\", \"2020-02-05T00:00:00\", \"2020-02-06T00:00:00\", \"2020-02-13T00:00:00\", \"2020-02-14T00:00:00\", \"2020-02-15T00:00:00\", \"2020-02-16T00:00:00\", \"2020-02-17T00:00:00\", \"2020-02-18T00:00:00\", \"2020-02-19T00:00:00\", \"2020-02-20T00:00:00\", \"2020-02-21T00:00:00\", \"2020-02-22T00:00:00\", \"2020-02-23T00:00:00\", \"2020-02-24T00:00:00\", \"2020-02-25T00:00:00\", \"2020-02-26T00:00:00\", \"2020-02-27T00:00:00\", \"2020-02-28T00:00:00\", \"2020-02-29T00:00:00\", \"2020-03-01T00:00:00\", \"2020-03-02T00:00:00\", \"2020-03-03T00:00:00\", \"2020-03-04T00:00:00\", \"2020-03-05T00:00:00\", \"2020-03-06T00:00:00\", \"2020-03-13T00:00:00\", \"2020-03-14T00:00:00\", \"2020-03-15T00:00:00\", \"2020-03-16T00:00:00\", \"2020-03-17T00:00:00\", \"2020-03-18T00:00:00\", \"2020-03-19T00:00:00\", \"2020-03-20T00:00:00\", \"2020-03-21T00:00:00\", \"2020-03-22T00:00:00\", \"2020-03-23T00:00:00\", \"2020-03-24T00:00:00\", \"2020-03-25T00:00:00\", \"2020-03-26T00:00:00\", \"2020-03-27T00:00:00\", \"2020-03-28T00:00:00\", \"2020-03-29T00:00:00\", \"2020-03-30T00:00:00\", \"2020-03-31T00:00:00\", \"2020-04-01T00:00:00\", \"2020-04-02T00:00:00\", \"2020-04-03T00:00:00\", \"2020-04-04T00:00:00\", \"2020-04-05T00:00:00\", \"2020-04-06T00:00:00\", \"2020-04-13T00:00:00\", \"2020-04-14T00:00:00\", \"2020-04-15T00:00:00\", \"2020-04-16T00:00:00\", \"2020-04-17T00:00:00\", \"2020-04-18T00:00:00\", \"2020-04-19T00:00:00\", \"2020-04-20T00:00:00\", \"2020-04-21T00:00:00\", \"2020-04-22T00:00:00\", \"2020-04-23T00:00:00\", \"2020-04-24T00:00:00\", \"2020-04-25T00:00:00\", \"2020-04-26T00:00:00\", \"2020-04-27T00:00:00\", \"2020-04-28T00:00:00\", \"2020-04-29T00:00:00\", \"2020-04-30T00:00:00\", \"2020-05-01T00:00:00\", \"2020-05-02T00:00:00\", \"2020-05-03T00:00:00\", \"2020-05-04T00:00:00\", \"2020-05-05T00:00:00\", \"2020-05-06T00:00:00\", \"2020-05-13T00:00:00\", \"2020-05-14T00:00:00\", \"2020-05-15T00:00:00\", \"2020-05-16T00:00:00\", \"2020-05-17T00:00:00\", \"2020-05-18T00:00:00\", \"2020-05-19T00:00:00\", \"2020-05-20T00:00:00\", \"2020-05-21T00:00:00\", \"2020-05-22T00:00:00\", \"2020-05-23T00:00:00\", \"2020-05-24T00:00:00\", \"2020-05-25T00:00:00\", \"2020-05-26T00:00:00\", \"2020-05-27T00:00:00\", \"2020-05-28T00:00:00\", \"2020-05-29T00:00:00\", \"2020-05-30T00:00:00\", \"2020-05-31T00:00:00\", \"2020-06-01T00:00:00\", \"2020-06-02T00:00:00\", \"2020-06-03T00:00:00\", \"2020-06-04T00:00:00\", \"2020-06-05T00:00:00\", \"2020-06-06T00:00:00\", \"2020-06-13T00:00:00\", \"2020-06-14T00:00:00\", \"2020-06-15T00:00:00\", \"2020-06-16T00:00:00\", \"2020-06-17T00:00:00\", \"2020-06-18T00:00:00\", \"2020-06-19T00:00:00\", \"2020-06-20T00:00:00\", \"2020-06-21T00:00:00\", \"2020-06-22T00:00:00\", \"2020-06-23T00:00:00\", \"2020-06-24T00:00:00\", \"2020-06-25T00:00:00\", \"2020-06-26T00:00:00\", \"2020-06-27T00:00:00\", \"2020-06-28T00:00:00\", \"2020-07-01T00:00:00\", \"2020-07-02T00:00:00\", \"2020-07-03T00:00:00\", \"2020-07-04T00:00:00\", \"2020-07-05T00:00:00\", \"2020-07-06T00:00:00\", \"2020-08-01T00:00:00\", \"2020-08-02T00:00:00\", \"2020-08-03T00:00:00\", \"2020-08-04T00:00:00\", \"2020-08-05T00:00:00\", \"2020-08-06T00:00:00\", \"2020-09-01T00:00:00\", \"2020-09-02T00:00:00\", \"2020-09-03T00:00:00\", \"2020-09-04T00:00:00\", \"2020-09-05T00:00:00\", \"2020-09-06T00:00:00\", \"2020-10-01T00:00:00\", \"2020-10-02T00:00:00\", \"2020-10-03T00:00:00\", \"2020-10-04T00:00:00\", \"2020-10-05T00:00:00\", \"2020-10-06T00:00:00\", \"2020-11-01T00:00:00\", \"2020-11-02T00:00:00\", \"2020-11-03T00:00:00\", \"2020-11-04T00:00:00\", \"2020-11-05T00:00:00\", \"2020-11-06T00:00:00\", \"2020-12-01T00:00:00\", \"2020-12-02T00:00:00\", \"2020-12-03T00:00:00\", \"2020-12-04T00:00:00\", \"2020-12-05T00:00:00\", \"2020-12-06T00:00:00\"], \"y\": [20774.450134156126, 21073.332928311713, 21372.2157224673, 21671.09851662289, 21969.981310778476, 22268.864104934062, 22567.74689908965, 24659.92645817876, 24958.809252334348, 25257.692046489934, 25556.57484064552, 25855.45763480111, 26154.340428956697, 26453.223223112283, 26752.10601726787, 27050.988811423456, 27349.871605579043, 27648.754399734633, 27947.63719389022, 28246.519988045806, 28545.402782201392, 28844.285576356982, 29143.16837051257, 29442.051164668155, 29740.93395882374, 30039.816752979328, 30338.699547134915, 30637.5823412905, 30936.46513544609, 31235.347929601678, 31534.230723757268, 31833.113517912854, 33925.29307700196, 34224.17587115755, 34523.05866531314, 34821.941459468726, 35120.82425362431, 35419.7070477799, 35718.589841935485, 36017.47263609107, 36316.35543024666, 36615.238224402245, 36914.12101855784, 37213.00381271342, 37511.88660686901, 37810.7694010246, 38109.652195180184, 38408.53498933577, 38707.41778349136, 39006.30057764694, 39305.18337180253, 39604.066165958124, 39902.9489601137, 40201.8317542693, 40500.714548424876, 42592.89410751399, 42891.77690166958, 43190.65969582516, 43489.542489980755, 43788.42528413634, 44087.30807829193, 44386.190872447514, 44685.0736666031, 44983.95646075869, 45282.83925491427, 45581.72204906987, 45880.60484322545, 46179.48763738104, 46478.37043153662, 46777.25322569221, 47076.1360198478, 47375.018814003386, 47673.90160815897, 47972.78440231456, 48271.66719647015, 48570.54999062573, 48869.432784781326, 49168.315578936905, 49467.1983730925, 49766.081167248085, 51858.26072633719, 52157.143520492784, 52456.02631464837, 52754.90910880396, 53053.79190295954, 53352.67469711513, 53651.557491270716, 53950.4402854263, 54249.32307958189, 54548.205873737475, 54847.08866789307, 55145.971462048656, 55444.85425620424, 55743.73705035983, 56042.619844515415, 56341.502638671, 56640.38543282659, 56939.268226982174, 57238.15102113776, 57537.03381529335, 57835.91660944894, 58134.79940360453, 58433.682197760114, 58732.5649919157, 60824.74455100481, 61123.6273451604, 61422.510139315986, 61721.39293347157, 62020.27572762716, 62319.158521782745, 62618.04131593833, 62916.92411009392, 63215.806904249504, 63514.6896984051, 63813.572492560685, 64112.45528671627, 64411.33808087186, 64710.220875027444, 65009.10366918303, 65307.98646333862, 65606.8692574942, 65905.75205164979, 66204.63484580538, 66503.51763996098, 66802.40043411656, 67101.28322827214, 67400.16602242773, 67699.04881658332, 67997.9316107389, 70090.11116982801, 70388.99396398361, 70687.87675813919, 70986.75955229477, 71285.64234645036, 71584.52514060595, 71883.40793476153, 72182.29072891711, 72481.1735230727, 72780.0563172283, 73078.9391113839, 73377.82190553947, 73676.70469969505, 73975.58749385065, 74274.47028800624, 74573.35308216182, 75470.00146462859, 75768.88425878418, 76067.76705293976, 76366.64984709534, 76665.53264125093, 76964.41543540652, 84735.36808345179, 85034.25087760738, 85333.13367176296, 85632.01646591854, 85930.89926007413, 86229.78205422973, 94000.73470227499, 94299.61749643057, 94598.50029058616, 94897.38308474176, 95196.26587889733, 95495.14867305293, 102967.2185269426, 103266.10132109819, 103564.98411525378, 103863.86690940936, 104162.74970356496, 104461.63249772054, 112232.58514576581, 112531.4679399214, 112830.35073407699, 113129.23352823257, 113428.11632238816, 113726.99911654374, 121199.06897043342, 121497.95176458902, 121796.8345587446, 122095.71735290019, 122394.60014705577, 122693.48294121136]}],\n",
              "                        {\"legend\": {\"traceorder\": \"normal\", \"x\": 0, \"y\": 1}, \"template\": {\"data\": {\"bar\": [{\"error_x\": {\"color\": \"#2a3f5f\"}, \"error_y\": {\"color\": \"#2a3f5f\"}, \"marker\": {\"line\": {\"color\": \"#E5ECF6\", \"width\": 0.5}}, \"type\": \"bar\"}], \"barpolar\": [{\"marker\": {\"line\": {\"color\": \"#E5ECF6\", \"width\": 0.5}}, \"type\": \"barpolar\"}], \"carpet\": [{\"aaxis\": {\"endlinecolor\": \"#2a3f5f\", \"gridcolor\": \"white\", \"linecolor\": \"white\", \"minorgridcolor\": \"white\", \"startlinecolor\": \"#2a3f5f\"}, \"baxis\": {\"endlinecolor\": \"#2a3f5f\", \"gridcolor\": \"white\", \"linecolor\": \"white\", \"minorgridcolor\": \"white\", \"startlinecolor\": \"#2a3f5f\"}, \"type\": \"carpet\"}], \"choropleth\": [{\"colorbar\": {\"outlinewidth\": 0, \"ticks\": \"\"}, \"type\": \"choropleth\"}], \"contour\": [{\"colorbar\": {\"outlinewidth\": 0, \"ticks\": \"\"}, \"colorscale\": [[0.0, \"#0d0887\"], [0.1111111111111111, \"#46039f\"], [0.2222222222222222, \"#7201a8\"], [0.3333333333333333, \"#9c179e\"], [0.4444444444444444, \"#bd3786\"], [0.5555555555555556, \"#d8576b\"], [0.6666666666666666, \"#ed7953\"], [0.7777777777777778, \"#fb9f3a\"], [0.8888888888888888, \"#fdca26\"], [1.0, \"#f0f921\"]], \"type\": \"contour\"}], \"contourcarpet\": [{\"colorbar\": {\"outlinewidth\": 0, \"ticks\": \"\"}, \"type\": \"contourcarpet\"}], \"heatmap\": [{\"colorbar\": {\"outlinewidth\": 0, \"ticks\": \"\"}, \"colorscale\": [[0.0, \"#0d0887\"], [0.1111111111111111, \"#46039f\"], [0.2222222222222222, \"#7201a8\"], [0.3333333333333333, \"#9c179e\"], [0.4444444444444444, \"#bd3786\"], [0.5555555555555556, \"#d8576b\"], [0.6666666666666666, \"#ed7953\"], [0.7777777777777778, \"#fb9f3a\"], [0.8888888888888888, \"#fdca26\"], [1.0, \"#f0f921\"]], \"type\": \"heatmap\"}], \"heatmapgl\": [{\"colorbar\": {\"outlinewidth\": 0, \"ticks\": \"\"}, \"colorscale\": [[0.0, \"#0d0887\"], [0.1111111111111111, \"#46039f\"], [0.2222222222222222, \"#7201a8\"], [0.3333333333333333, \"#9c179e\"], [0.4444444444444444, \"#bd3786\"], [0.5555555555555556, \"#d8576b\"], [0.6666666666666666, \"#ed7953\"], [0.7777777777777778, \"#fb9f3a\"], [0.8888888888888888, \"#fdca26\"], [1.0, \"#f0f921\"]], \"type\": \"heatmapgl\"}], \"histogram\": [{\"marker\": {\"colorbar\": {\"outlinewidth\": 0, \"ticks\": \"\"}}, \"type\": \"histogram\"}], \"histogram2d\": [{\"colorbar\": {\"outlinewidth\": 0, \"ticks\": \"\"}, \"colorscale\": [[0.0, \"#0d0887\"], [0.1111111111111111, \"#46039f\"], [0.2222222222222222, \"#7201a8\"], [0.3333333333333333, \"#9c179e\"], [0.4444444444444444, \"#bd3786\"], [0.5555555555555556, \"#d8576b\"], [0.6666666666666666, \"#ed7953\"], [0.7777777777777778, \"#fb9f3a\"], [0.8888888888888888, \"#fdca26\"], [1.0, \"#f0f921\"]], \"type\": \"histogram2d\"}], \"histogram2dcontour\": [{\"colorbar\": {\"outlinewidth\": 0, \"ticks\": \"\"}, \"colorscale\": [[0.0, \"#0d0887\"], [0.1111111111111111, \"#46039f\"], [0.2222222222222222, \"#7201a8\"], [0.3333333333333333, \"#9c179e\"], [0.4444444444444444, \"#bd3786\"], [0.5555555555555556, \"#d8576b\"], [0.6666666666666666, \"#ed7953\"], [0.7777777777777778, \"#fb9f3a\"], [0.8888888888888888, \"#fdca26\"], [1.0, \"#f0f921\"]], \"type\": \"histogram2dcontour\"}], \"mesh3d\": [{\"colorbar\": {\"outlinewidth\": 0, \"ticks\": \"\"}, \"type\": \"mesh3d\"}], \"parcoords\": [{\"line\": {\"colorbar\": {\"outlinewidth\": 0, \"ticks\": \"\"}}, \"type\": \"parcoords\"}], \"pie\": [{\"automargin\": true, \"type\": \"pie\"}], \"scatter\": [{\"marker\": {\"colorbar\": {\"outlinewidth\": 0, \"ticks\": \"\"}}, \"type\": \"scatter\"}], \"scatter3d\": [{\"line\": {\"colorbar\": {\"outlinewidth\": 0, \"ticks\": \"\"}}, \"marker\": {\"colorbar\": {\"outlinewidth\": 0, \"ticks\": \"\"}}, \"type\": \"scatter3d\"}], \"scattercarpet\": [{\"marker\": {\"colorbar\": {\"outlinewidth\": 0, \"ticks\": \"\"}}, \"type\": \"scattercarpet\"}], \"scattergeo\": [{\"marker\": {\"colorbar\": {\"outlinewidth\": 0, \"ticks\": \"\"}}, \"type\": \"scattergeo\"}], \"scattergl\": [{\"marker\": {\"colorbar\": {\"outlinewidth\": 0, \"ticks\": \"\"}}, \"type\": \"scattergl\"}], \"scattermapbox\": [{\"marker\": {\"colorbar\": {\"outlinewidth\": 0, \"ticks\": \"\"}}, \"type\": \"scattermapbox\"}], \"scatterpolar\": [{\"marker\": {\"colorbar\": {\"outlinewidth\": 0, \"ticks\": \"\"}}, \"type\": \"scatterpolar\"}], \"scatterpolargl\": [{\"marker\": {\"colorbar\": {\"outlinewidth\": 0, \"ticks\": \"\"}}, \"type\": \"scatterpolargl\"}], \"scatterternary\": [{\"marker\": {\"colorbar\": {\"outlinewidth\": 0, \"ticks\": \"\"}}, \"type\": \"scatterternary\"}], \"surface\": [{\"colorbar\": {\"outlinewidth\": 0, \"ticks\": \"\"}, \"colorscale\": [[0.0, \"#0d0887\"], [0.1111111111111111, \"#46039f\"], [0.2222222222222222, \"#7201a8\"], [0.3333333333333333, \"#9c179e\"], [0.4444444444444444, \"#bd3786\"], [0.5555555555555556, \"#d8576b\"], [0.6666666666666666, \"#ed7953\"], [0.7777777777777778, \"#fb9f3a\"], [0.8888888888888888, \"#fdca26\"], [1.0, \"#f0f921\"]], \"type\": \"surface\"}], \"table\": [{\"cells\": {\"fill\": {\"color\": \"#EBF0F8\"}, \"line\": {\"color\": \"white\"}}, \"header\": {\"fill\": {\"color\": \"#C8D4E3\"}, \"line\": {\"color\": \"white\"}}, \"type\": \"table\"}]}, \"layout\": {\"annotationdefaults\": {\"arrowcolor\": \"#2a3f5f\", \"arrowhead\": 0, \"arrowwidth\": 1}, \"coloraxis\": {\"colorbar\": {\"outlinewidth\": 0, \"ticks\": \"\"}}, \"colorscale\": {\"diverging\": [[0, \"#8e0152\"], [0.1, \"#c51b7d\"], [0.2, \"#de77ae\"], [0.3, \"#f1b6da\"], [0.4, \"#fde0ef\"], [0.5, \"#f7f7f7\"], [0.6, \"#e6f5d0\"], [0.7, \"#b8e186\"], [0.8, \"#7fbc41\"], [0.9, \"#4d9221\"], [1, \"#276419\"]], \"sequential\": [[0.0, \"#0d0887\"], [0.1111111111111111, \"#46039f\"], [0.2222222222222222, \"#7201a8\"], [0.3333333333333333, \"#9c179e\"], [0.4444444444444444, \"#bd3786\"], [0.5555555555555556, \"#d8576b\"], [0.6666666666666666, \"#ed7953\"], [0.7777777777777778, \"#fb9f3a\"], [0.8888888888888888, \"#fdca26\"], [1.0, \"#f0f921\"]], \"sequentialminus\": [[0.0, \"#0d0887\"], [0.1111111111111111, \"#46039f\"], [0.2222222222222222, \"#7201a8\"], [0.3333333333333333, \"#9c179e\"], [0.4444444444444444, \"#bd3786\"], [0.5555555555555556, \"#d8576b\"], [0.6666666666666666, \"#ed7953\"], [0.7777777777777778, \"#fb9f3a\"], [0.8888888888888888, \"#fdca26\"], [1.0, \"#f0f921\"]]}, \"colorway\": [\"#636efa\", \"#EF553B\", \"#00cc96\", \"#ab63fa\", \"#FFA15A\", \"#19d3f3\", \"#FF6692\", \"#B6E880\", \"#FF97FF\", \"#FECB52\"], \"font\": {\"color\": \"#2a3f5f\"}, \"geo\": {\"bgcolor\": \"white\", \"lakecolor\": \"white\", \"landcolor\": \"#E5ECF6\", \"showlakes\": true, \"showland\": true, \"subunitcolor\": \"white\"}, \"hoverlabel\": {\"align\": \"left\"}, \"hovermode\": \"closest\", \"mapbox\": {\"style\": \"light\"}, \"paper_bgcolor\": \"white\", \"plot_bgcolor\": \"#E5ECF6\", \"polar\": {\"angularaxis\": {\"gridcolor\": \"white\", \"linecolor\": \"white\", \"ticks\": \"\"}, \"bgcolor\": \"#E5ECF6\", \"radialaxis\": {\"gridcolor\": \"white\", \"linecolor\": \"white\", \"ticks\": \"\"}}, \"scene\": {\"xaxis\": {\"backgroundcolor\": \"#E5ECF6\", \"gridcolor\": \"white\", \"gridwidth\": 2, \"linecolor\": \"white\", \"showbackground\": true, \"ticks\": \"\", \"zerolinecolor\": \"white\"}, \"yaxis\": {\"backgroundcolor\": \"#E5ECF6\", \"gridcolor\": \"white\", \"gridwidth\": 2, \"linecolor\": \"white\", \"showbackground\": true, \"ticks\": \"\", \"zerolinecolor\": \"white\"}, \"zaxis\": {\"backgroundcolor\": \"#E5ECF6\", \"gridcolor\": \"white\", \"gridwidth\": 2, \"linecolor\": \"white\", \"showbackground\": true, \"ticks\": \"\", \"zerolinecolor\": \"white\"}}, \"shapedefaults\": {\"line\": {\"color\": \"#2a3f5f\"}}, \"ternary\": {\"aaxis\": {\"gridcolor\": \"white\", \"linecolor\": \"white\", \"ticks\": \"\"}, \"baxis\": {\"gridcolor\": \"white\", \"linecolor\": \"white\", \"ticks\": \"\"}, \"bgcolor\": \"#E5ECF6\", \"caxis\": {\"gridcolor\": \"white\", \"linecolor\": \"white\", \"ticks\": \"\"}}, \"title\": {\"x\": 0.05}, \"xaxis\": {\"automargin\": true, \"gridcolor\": \"white\", \"linecolor\": \"white\", \"ticks\": \"\", \"title\": {\"standoff\": 15}, \"zerolinecolor\": \"white\", \"zerolinewidth\": 2}, \"yaxis\": {\"automargin\": true, \"gridcolor\": \"white\", \"linecolor\": \"white\", \"ticks\": \"\", \"title\": {\"standoff\": 15}, \"zerolinecolor\": \"white\", \"zerolinewidth\": 2}}}, \"title\": {\"text\": \"Confirmed Cases Linear Regression Prediction\"}, \"xaxis\": {\"title\": {\"text\": \"Date\"}}, \"yaxis\": {\"title\": {\"text\": \"Confirmed Cases\"}}},\n",
              "                        {\"responsive\": true}\n",
              "                    ).then(function(){\n",
              "                            \n",
              "var gd = document.getElementById('c19889bc-c3ec-47fb-883a-6b81a1a79dd0');\n",
              "var x = new MutationObserver(function (mutations, observer) {{\n",
              "        var display = window.getComputedStyle(gd).display;\n",
              "        if (!display || display === 'none') {{\n",
              "            console.log([gd, 'removed!']);\n",
              "            Plotly.purge(gd);\n",
              "            observer.disconnect();\n",
              "        }}\n",
              "}});\n",
              "\n",
              "// Listen for the removal of the full notebook cells\n",
              "var notebookContainer = gd.closest('#notebook-container');\n",
              "if (notebookContainer) {{\n",
              "    x.observe(notebookContainer, {childList: true});\n",
              "}}\n",
              "\n",
              "// Listen for the clearing of the current output cell\n",
              "var outputEl = gd.closest('.output');\n",
              "if (outputEl) {{\n",
              "    x.observe(outputEl, {childList: true});\n",
              "}}\n",
              "\n",
              "                        })\n",
              "                };\n",
              "                \n",
              "            </script>\n",
              "        </div>\n",
              "</body>\n",
              "</html>"
            ]
          },
          "metadata": {
            "tags": []
          }
        },
        {
          "output_type": "display_data",
          "data": {
            "text/plain": [
              "<Figure size 792x432 with 0 Axes>"
            ]
          },
          "metadata": {
            "tags": []
          }
        }
      ]
    },
    {
      "cell_type": "code",
      "metadata": {
        "id": "C34NA9GWBIVG",
        "colab_type": "code",
        "colab": {
          "base_uri": "https://localhost:8080/",
          "height": 34
        },
        "outputId": "df8d4fed-fb25-4f2a-d323-605bbbd8f7a8"
      },
      "source": [
        "train_ml=datewise.iloc[:int(datewise.shape[0]*0.95)]\n",
        "valid_ml=datewise.iloc[int(datewise.shape[0]*0.95):]\n",
        "poly = PolynomialFeatures(degree = 2)\n",
        "train_poly=poly.fit_transform(np.array(train_ml[\"Days Since\"]).reshape(-1,1))\n",
        "valid_poly=poly.fit_transform(np.array(valid_ml[\"Days Since\"]).reshape(-1,1))\n",
        "y=train_ml[\"cases\"]\n",
        "linreg=LinearRegression(normalize=True)\n",
        "linreg.fit(train_poly,y)\n",
        "prediction_poly=linreg.predict(valid_poly)\n",
        "rmse_poly=np.sqrt(mean_squared_error(valid_ml[\"cases\"],prediction_poly))\n",
        "model_scores.append(rmse_poly)\n",
        "print(\"Root Mean Squared Error for Polynomial Regression: \",rmse_poly)"
      ],
      "execution_count": 145,
      "outputs": [
        {
          "output_type": "stream",
          "text": [
            "Root Mean Squared Error for Polynomial Regression:  74542.43767430047\n"
          ],
          "name": "stdout"
        }
      ]
    },
    {
      "cell_type": "code",
      "metadata": {
        "id": "e0wFY0rtBWM0",
        "colab_type": "code",
        "colab": {
          "base_uri": "https://localhost:8080/",
          "height": 559
        },
        "outputId": "83be36b4-c5f8-4056-d41a-4367f6e51b98"
      },
      "source": [
        "comp_data=poly.fit_transform(np.array(datewise[\"Days Since\"]).reshape(-1,1))\n",
        "plt.figure(figsize=(11,6))\n",
        "predictions_poly=linreg.predict(comp_data)\n",
        "\n",
        "fig=go.Figure()\n",
        "fig.add_trace(go.Scatter(x=datewise.index, y=datewise[\"cases\"],\n",
        "                    mode='lines+markers',name=\"Train Data for Confirmed Cases\"))\n",
        "fig.add_trace(go.Scatter(x=datewise.index, y=predictions_poly,\n",
        "                    mode='lines',name=\"Polynomial Regression Best Fit\",\n",
        "                    line=dict(color='black', dash='dot')))\n",
        "\n",
        "fig.update_layout(title=\"Confirmed Cases Polynomial Regression Prediction\",\n",
        "                 xaxis_title=\"Date\",yaxis_title=\"Confirmed Cases\",\n",
        "                 legend=dict(x=0,y=1,traceorder=\"normal\"))\n",
        "fig.show()"
      ],
      "execution_count": 146,
      "outputs": [
        {
          "output_type": "display_data",
          "data": {
            "text/html": [
              "<html>\n",
              "<head><meta charset=\"utf-8\" /></head>\n",
              "<body>\n",
              "    <div>\n",
              "            <script src=\"https://cdnjs.cloudflare.com/ajax/libs/mathjax/2.7.5/MathJax.js?config=TeX-AMS-MML_SVG\"></script><script type=\"text/javascript\">if (window.MathJax) {MathJax.Hub.Config({SVG: {font: \"STIX-Web\"}});}</script>\n",
              "                <script type=\"text/javascript\">window.PlotlyConfig = {MathJaxConfig: 'local'};</script>\n",
              "        <script src=\"https://cdn.plot.ly/plotly-latest.min.js\"></script>    \n",
              "            <div id=\"e50adcd2-3bec-43ef-9e2d-ec2573e9dd07\" class=\"plotly-graph-div\" style=\"height:525px; width:100%;\"></div>\n",
              "            <script type=\"text/javascript\">\n",
              "                \n",
              "                    window.PLOTLYENV=window.PLOTLYENV || {};\n",
              "                    \n",
              "                if (document.getElementById(\"e50adcd2-3bec-43ef-9e2d-ec2573e9dd07\")) {\n",
              "                    Plotly.newPlot(\n",
              "                        'e50adcd2-3bec-43ef-9e2d-ec2573e9dd07',\n",
              "                        [{\"mode\": \"lines+markers\", \"name\": \"Train Data for Confirmed Cases\", \"type\": \"scatter\", \"x\": [\"2019-12-31T00:00:00\", \"2020-01-01T00:00:00\", \"2020-01-02T00:00:00\", \"2020-01-03T00:00:00\", \"2020-01-04T00:00:00\", \"2020-01-05T00:00:00\", \"2020-01-06T00:00:00\", \"2020-01-13T00:00:00\", \"2020-01-14T00:00:00\", \"2020-01-15T00:00:00\", \"2020-01-16T00:00:00\", \"2020-01-17T00:00:00\", \"2020-01-18T00:00:00\", \"2020-01-19T00:00:00\", \"2020-01-20T00:00:00\", \"2020-01-21T00:00:00\", \"2020-01-22T00:00:00\", \"2020-01-23T00:00:00\", \"2020-01-24T00:00:00\", \"2020-01-25T00:00:00\", \"2020-01-26T00:00:00\", \"2020-01-27T00:00:00\", \"2020-01-28T00:00:00\", \"2020-01-29T00:00:00\", \"2020-01-30T00:00:00\", \"2020-01-31T00:00:00\", \"2020-02-01T00:00:00\", \"2020-02-02T00:00:00\", \"2020-02-03T00:00:00\", \"2020-02-04T00:00:00\", \"2020-02-05T00:00:00\", \"2020-02-06T00:00:00\", \"2020-02-13T00:00:00\", \"2020-02-14T00:00:00\", \"2020-02-15T00:00:00\", \"2020-02-16T00:00:00\", \"2020-02-17T00:00:00\", \"2020-02-18T00:00:00\", \"2020-02-19T00:00:00\", \"2020-02-20T00:00:00\", \"2020-02-21T00:00:00\", \"2020-02-22T00:00:00\", \"2020-02-23T00:00:00\", \"2020-02-24T00:00:00\", \"2020-02-25T00:00:00\", \"2020-02-26T00:00:00\", \"2020-02-27T00:00:00\", \"2020-02-28T00:00:00\", \"2020-02-29T00:00:00\", \"2020-03-01T00:00:00\", \"2020-03-02T00:00:00\", \"2020-03-03T00:00:00\", \"2020-03-04T00:00:00\", \"2020-03-05T00:00:00\", \"2020-03-06T00:00:00\", \"2020-03-13T00:00:00\", \"2020-03-14T00:00:00\", \"2020-03-15T00:00:00\", \"2020-03-16T00:00:00\", \"2020-03-17T00:00:00\", \"2020-03-18T00:00:00\", \"2020-03-19T00:00:00\", \"2020-03-20T00:00:00\", \"2020-03-21T00:00:00\", \"2020-03-22T00:00:00\", \"2020-03-23T00:00:00\", \"2020-03-24T00:00:00\", \"2020-03-25T00:00:00\", \"2020-03-26T00:00:00\", \"2020-03-27T00:00:00\", \"2020-03-28T00:00:00\", \"2020-03-29T00:00:00\", \"2020-03-30T00:00:00\", \"2020-03-31T00:00:00\", \"2020-04-01T00:00:00\", \"2020-04-02T00:00:00\", \"2020-04-03T00:00:00\", \"2020-04-04T00:00:00\", \"2020-04-05T00:00:00\", \"2020-04-06T00:00:00\", \"2020-04-13T00:00:00\", \"2020-04-14T00:00:00\", \"2020-04-15T00:00:00\", \"2020-04-16T00:00:00\", \"2020-04-17T00:00:00\", \"2020-04-18T00:00:00\", \"2020-04-19T00:00:00\", \"2020-04-20T00:00:00\", \"2020-04-21T00:00:00\", \"2020-04-22T00:00:00\", \"2020-04-23T00:00:00\", \"2020-04-24T00:00:00\", \"2020-04-25T00:00:00\", \"2020-04-26T00:00:00\", \"2020-04-27T00:00:00\", \"2020-04-28T00:00:00\", \"2020-04-29T00:00:00\", \"2020-04-30T00:00:00\", \"2020-05-01T00:00:00\", \"2020-05-02T00:00:00\", \"2020-05-03T00:00:00\", \"2020-05-04T00:00:00\", \"2020-05-05T00:00:00\", \"2020-05-06T00:00:00\", \"2020-05-13T00:00:00\", \"2020-05-14T00:00:00\", \"2020-05-15T00:00:00\", \"2020-05-16T00:00:00\", \"2020-05-17T00:00:00\", \"2020-05-18T00:00:00\", \"2020-05-19T00:00:00\", \"2020-05-20T00:00:00\", \"2020-05-21T00:00:00\", \"2020-05-22T00:00:00\", \"2020-05-23T00:00:00\", \"2020-05-24T00:00:00\", \"2020-05-25T00:00:00\", \"2020-05-26T00:00:00\", \"2020-05-27T00:00:00\", \"2020-05-28T00:00:00\", \"2020-05-29T00:00:00\", \"2020-05-30T00:00:00\", \"2020-05-31T00:00:00\", \"2020-06-01T00:00:00\", \"2020-06-02T00:00:00\", \"2020-06-03T00:00:00\", \"2020-06-04T00:00:00\", \"2020-06-05T00:00:00\", \"2020-06-06T00:00:00\", \"2020-06-13T00:00:00\", \"2020-06-14T00:00:00\", \"2020-06-15T00:00:00\", \"2020-06-16T00:00:00\", \"2020-06-17T00:00:00\", \"2020-06-18T00:00:00\", \"2020-06-19T00:00:00\", \"2020-06-20T00:00:00\", \"2020-06-21T00:00:00\", \"2020-06-22T00:00:00\", \"2020-06-23T00:00:00\", \"2020-06-24T00:00:00\", \"2020-06-25T00:00:00\", \"2020-06-26T00:00:00\", \"2020-06-27T00:00:00\", \"2020-06-28T00:00:00\", \"2020-07-01T00:00:00\", \"2020-07-02T00:00:00\", \"2020-07-03T00:00:00\", \"2020-07-04T00:00:00\", \"2020-07-05T00:00:00\", \"2020-07-06T00:00:00\", \"2020-08-01T00:00:00\", \"2020-08-02T00:00:00\", \"2020-08-03T00:00:00\", \"2020-08-04T00:00:00\", \"2020-08-05T00:00:00\", \"2020-08-06T00:00:00\", \"2020-09-01T00:00:00\", \"2020-09-02T00:00:00\", \"2020-09-03T00:00:00\", \"2020-09-04T00:00:00\", \"2020-09-05T00:00:00\", \"2020-09-06T00:00:00\", \"2020-10-01T00:00:00\", \"2020-10-02T00:00:00\", \"2020-10-03T00:00:00\", \"2020-10-04T00:00:00\", \"2020-10-05T00:00:00\", \"2020-10-06T00:00:00\", \"2020-11-01T00:00:00\", \"2020-11-02T00:00:00\", \"2020-11-03T00:00:00\", \"2020-11-04T00:00:00\", \"2020-11-05T00:00:00\", \"2020-11-06T00:00:00\", \"2020-12-01T00:00:00\", \"2020-12-02T00:00:00\", \"2020-12-03T00:00:00\", \"2020-12-04T00:00:00\", \"2020-12-05T00:00:00\", \"2020-12-06T00:00:00\"], \"y\": [27, 0, 2120, 1819, 73404, 84513, 107821, 1, 0, 1, 0, 5, 17, 136, 20, 153, 142, 97, 266, 453, 673, 797, 1767, 1480, 1756, 2003, 0, 2608, 2094, 77071, 91466, 100403, 15151, 4215, 2560, 2162, 2067, 1995, 1864, 532, 996, 1085, 1008, 527, 793, 865, 1109, 1269, 1848, 17, 2818, 1833, 76818, 80968, 112599, 9186, 10047, 12182, 12374, 13928, 16722, 20100, 30774, 31554, 33959, 33900, 43882, 41555, 52755, 60415, 64805, 62259, 56791, 64236, 0, 3243, 2281, 81217, 78261, 126774, 70142, 65607, 77634, 78914, 83390, 81947, 79413, 71273, 75745, 86020, 66130, 77494, 73072, 99903, 82452, 65977, 71486, 77795, 15, 3907, 2316, 84256, 77474, 127748, 85852, 86066, 96652, 98017, 93997, 81007, 87164, 95127, 99552, 107743, 106544, 100929, 94009, 89150, 95955, 102627, 118707, 122965, 127731, 0, 3751, 3032, 68340, 79478, 133525, 144444, 134025, 122077, 118769, 141347, 176463, 138694, 177240, 161919, 129796, 136912, 165799, 171237, 181511, 189197, 180989, 0, 3218, 4134, 73134, 90103, 125766, 0, 3442, 3931, 75110, 93972, 116217, 0, 2619, 4178, 84857, 90030, 105879, 0, 2988, 4753, 86449, 89810, 125649, 0, 2565, 4990, 89955, 76622, 133446, 0, 2072, 7662, 80442, 71124, 137529]}, {\"line\": {\"color\": \"black\", \"dash\": \"dot\"}, \"mode\": \"lines\", \"name\": \"Polynomial Regression Best Fit\", \"type\": \"scatter\", \"x\": [\"2019-12-31T00:00:00\", \"2020-01-01T00:00:00\", \"2020-01-02T00:00:00\", \"2020-01-03T00:00:00\", \"2020-01-04T00:00:00\", \"2020-01-05T00:00:00\", \"2020-01-06T00:00:00\", \"2020-01-13T00:00:00\", \"2020-01-14T00:00:00\", \"2020-01-15T00:00:00\", \"2020-01-16T00:00:00\", \"2020-01-17T00:00:00\", \"2020-01-18T00:00:00\", \"2020-01-19T00:00:00\", \"2020-01-20T00:00:00\", \"2020-01-21T00:00:00\", \"2020-01-22T00:00:00\", \"2020-01-23T00:00:00\", \"2020-01-24T00:00:00\", \"2020-01-25T00:00:00\", \"2020-01-26T00:00:00\", \"2020-01-27T00:00:00\", \"2020-01-28T00:00:00\", \"2020-01-29T00:00:00\", \"2020-01-30T00:00:00\", \"2020-01-31T00:00:00\", \"2020-02-01T00:00:00\", \"2020-02-02T00:00:00\", \"2020-02-03T00:00:00\", \"2020-02-04T00:00:00\", \"2020-02-05T00:00:00\", \"2020-02-06T00:00:00\", \"2020-02-13T00:00:00\", \"2020-02-14T00:00:00\", \"2020-02-15T00:00:00\", \"2020-02-16T00:00:00\", \"2020-02-17T00:00:00\", \"2020-02-18T00:00:00\", \"2020-02-19T00:00:00\", \"2020-02-20T00:00:00\", \"2020-02-21T00:00:00\", \"2020-02-22T00:00:00\", \"2020-02-23T00:00:00\", \"2020-02-24T00:00:00\", \"2020-02-25T00:00:00\", \"2020-02-26T00:00:00\", \"2020-02-27T00:00:00\", \"2020-02-28T00:00:00\", \"2020-02-29T00:00:00\", \"2020-03-01T00:00:00\", \"2020-03-02T00:00:00\", \"2020-03-03T00:00:00\", \"2020-03-04T00:00:00\", \"2020-03-05T00:00:00\", \"2020-03-06T00:00:00\", \"2020-03-13T00:00:00\", \"2020-03-14T00:00:00\", \"2020-03-15T00:00:00\", \"2020-03-16T00:00:00\", \"2020-03-17T00:00:00\", \"2020-03-18T00:00:00\", \"2020-03-19T00:00:00\", \"2020-03-20T00:00:00\", \"2020-03-21T00:00:00\", \"2020-03-22T00:00:00\", \"2020-03-23T00:00:00\", \"2020-03-24T00:00:00\", \"2020-03-25T00:00:00\", \"2020-03-26T00:00:00\", \"2020-03-27T00:00:00\", \"2020-03-28T00:00:00\", \"2020-03-29T00:00:00\", \"2020-03-30T00:00:00\", \"2020-03-31T00:00:00\", \"2020-04-01T00:00:00\", \"2020-04-02T00:00:00\", \"2020-04-03T00:00:00\", \"2020-04-04T00:00:00\", \"2020-04-05T00:00:00\", \"2020-04-06T00:00:00\", \"2020-04-13T00:00:00\", \"2020-04-14T00:00:00\", \"2020-04-15T00:00:00\", \"2020-04-16T00:00:00\", \"2020-04-17T00:00:00\", \"2020-04-18T00:00:00\", \"2020-04-19T00:00:00\", \"2020-04-20T00:00:00\", \"2020-04-21T00:00:00\", \"2020-04-22T00:00:00\", \"2020-04-23T00:00:00\", \"2020-04-24T00:00:00\", \"2020-04-25T00:00:00\", \"2020-04-26T00:00:00\", \"2020-04-27T00:00:00\", \"2020-04-28T00:00:00\", \"2020-04-29T00:00:00\", \"2020-04-30T00:00:00\", \"2020-05-01T00:00:00\", \"2020-05-02T00:00:00\", \"2020-05-03T00:00:00\", \"2020-05-04T00:00:00\", \"2020-05-05T00:00:00\", \"2020-05-06T00:00:00\", \"2020-05-13T00:00:00\", \"2020-05-14T00:00:00\", \"2020-05-15T00:00:00\", \"2020-05-16T00:00:00\", \"2020-05-17T00:00:00\", \"2020-05-18T00:00:00\", \"2020-05-19T00:00:00\", \"2020-05-20T00:00:00\", \"2020-05-21T00:00:00\", \"2020-05-22T00:00:00\", \"2020-05-23T00:00:00\", \"2020-05-24T00:00:00\", \"2020-05-25T00:00:00\", \"2020-05-26T00:00:00\", \"2020-05-27T00:00:00\", \"2020-05-28T00:00:00\", \"2020-05-29T00:00:00\", \"2020-05-30T00:00:00\", \"2020-05-31T00:00:00\", \"2020-06-01T00:00:00\", \"2020-06-02T00:00:00\", \"2020-06-03T00:00:00\", \"2020-06-04T00:00:00\", \"2020-06-05T00:00:00\", \"2020-06-06T00:00:00\", \"2020-06-13T00:00:00\", \"2020-06-14T00:00:00\", \"2020-06-15T00:00:00\", \"2020-06-16T00:00:00\", \"2020-06-17T00:00:00\", \"2020-06-18T00:00:00\", \"2020-06-19T00:00:00\", \"2020-06-20T00:00:00\", \"2020-06-21T00:00:00\", \"2020-06-22T00:00:00\", \"2020-06-23T00:00:00\", \"2020-06-24T00:00:00\", \"2020-06-25T00:00:00\", \"2020-06-26T00:00:00\", \"2020-06-27T00:00:00\", \"2020-06-28T00:00:00\", \"2020-07-01T00:00:00\", \"2020-07-02T00:00:00\", \"2020-07-03T00:00:00\", \"2020-07-04T00:00:00\", \"2020-07-05T00:00:00\", \"2020-07-06T00:00:00\", \"2020-08-01T00:00:00\", \"2020-08-02T00:00:00\", \"2020-08-03T00:00:00\", \"2020-08-04T00:00:00\", \"2020-08-05T00:00:00\", \"2020-08-06T00:00:00\", \"2020-09-01T00:00:00\", \"2020-09-02T00:00:00\", \"2020-09-03T00:00:00\", \"2020-09-04T00:00:00\", \"2020-09-05T00:00:00\", \"2020-09-06T00:00:00\", \"2020-10-01T00:00:00\", \"2020-10-02T00:00:00\", \"2020-10-03T00:00:00\", \"2020-10-04T00:00:00\", \"2020-10-05T00:00:00\", \"2020-10-06T00:00:00\", \"2020-11-01T00:00:00\", \"2020-11-02T00:00:00\", \"2020-11-03T00:00:00\", \"2020-11-04T00:00:00\", \"2020-11-05T00:00:00\", \"2020-11-06T00:00:00\", \"2020-12-01T00:00:00\", \"2020-12-02T00:00:00\", \"2020-12-03T00:00:00\", \"2020-12-04T00:00:00\", \"2020-12-05T00:00:00\", \"2020-12-06T00:00:00\"], \"y\": [-21760.4173502407, -20525.270868047268, -19297.174846099748, -18076.129284398143, -16862.13418294245, -15655.18954173267, -14455.295360768805, -6253.448980907318, -5109.958481910759, -3973.5184431601156, -2844.1288646553803, -1721.78974639656, -606.5010883836585, 501.73710938333534, 1602.9248469044142, 2697.0621241795816, 3784.148941208834, 4864.185297992171, 5937.171194529597, 7003.106630821112, 8061.991606866708, 9113.826122666393, 10158.61017822017, 11196.343773528031, 12227.02690858997, 13250.659583406006, 14267.241797976123, 15276.773552300336, 16279.25484637863, 17274.685680211005, 18263.06605379747, 19244.39596713802, 25916.29247363632, 26841.218705009567, 27759.094476136896, 28669.919787018312, 29573.694637653818, 30470.41902804342, 31360.092958187095, 32242.71642808486, 33118.28943773671, 33986.81198714265, 34848.284076302676, 35702.705705216795, 36550.076873884995, 37390.39758230727, 38223.66783048365, 39049.887618414105, 39869.05694609865, 40681.17581353729, 41486.244220730005, 42284.26216767682, 43075.229654377705, 43859.14668083269, 44636.01324704175, 49876.66632361964, 50597.1292078614, 51310.541631857246, 52016.90359560717, 52716.21509911121, 53408.476142369305, 54093.68672538151, 54771.84684814778, 55442.95651066815, 56107.0157129426, 56764.02445497114, 57413.98273675377, 58056.89055829048, 58692.74791958127, 59321.55482062617, 59943.31126142514, 60558.017241978196, 61165.67276228536, 61766.27782234658, 62359.83242216189, 62946.3365617313, 63525.79024105479, 64098.19346013238, 64663.546218964046, 65221.8485175498, 68932.55172076449, 69434.45033738294, 69929.29849375549, 70417.09618988211, 70897.84342576281, 71371.54020139761, 71838.18651678649, 72297.78237192944, 72750.3277668265, 73195.82270147765, 73634.26717588285, 74065.66119004218, 74490.0047439556, 74907.29783762305, 75317.54047104463, 75720.73264422032, 76116.87435715002, 76505.96560983389, 76888.0064022718, 77262.99673446381, 77630.9366064099, 77991.82601811009, 78345.66496956436, 78692.4534607727, 80922.56001234561, 81212.94482158666, 81496.27917058181, 81772.563059331, 82041.7964878343, 82303.9794560917, 82559.11196410318, 82807.19401186876, 83048.22559938842, 83282.20672666215, 83509.13739368998, 83729.01760047188, 83941.84734700786, 84147.62663329797, 84346.35545934216, 84538.03382514039, 84722.66173069275, 84900.23917599919, 85070.7661610597, 85234.24268587431, 85390.668750443, 85540.04435476579, 85682.36949884266, 85817.6441826736, 85945.86840625867, 86646.02508446833, 86717.84562608608, 86782.61570745791, 86840.33532858384, 86891.00448946381, 86934.62319009789, 86971.19143048607, 87000.70921062832, 87023.17653052465, 87038.59339017508, 87046.95978957959, 87048.2757287382, 87042.54120765091, 87029.75622631764, 87009.92078473853, 86983.03488291349, 86860.07441596282, 86804.98667315411, 86742.8484700995, 86673.65980679897, 86597.42068325254, 86514.13109946015, 81873.89037454329, 81600.23836411122, 81319.53589343329, 81031.78296250946, 80736.9795713397, 80435.12571992405, 70112.21403680099, 69619.99775874568, 69120.73102044436, 68614.41382189724, 68101.04616310415, 67580.62804406518, 52278.77548816869, 51575.04540273599, 50864.26485705736, 50146.4338511328, 49421.55238496226, 48689.62045854591, 27184.678825404313, 26262.384472348313, 25333.039659046328, 24396.644385498475, 23453.198651704697, 22502.702457664935, -3551.101973249293, -4684.910133682781, -5825.768754362136, -6973.677835287359, -8128.637376458566, -9290.64737787564]}],\n",
              "                        {\"legend\": {\"traceorder\": \"normal\", \"x\": 0, \"y\": 1}, \"template\": {\"data\": {\"bar\": [{\"error_x\": {\"color\": \"#2a3f5f\"}, \"error_y\": {\"color\": \"#2a3f5f\"}, \"marker\": {\"line\": {\"color\": \"#E5ECF6\", \"width\": 0.5}}, \"type\": \"bar\"}], \"barpolar\": [{\"marker\": {\"line\": {\"color\": \"#E5ECF6\", \"width\": 0.5}}, \"type\": \"barpolar\"}], \"carpet\": [{\"aaxis\": {\"endlinecolor\": \"#2a3f5f\", \"gridcolor\": \"white\", \"linecolor\": \"white\", \"minorgridcolor\": \"white\", \"startlinecolor\": \"#2a3f5f\"}, \"baxis\": {\"endlinecolor\": \"#2a3f5f\", \"gridcolor\": \"white\", \"linecolor\": \"white\", \"minorgridcolor\": \"white\", \"startlinecolor\": \"#2a3f5f\"}, \"type\": \"carpet\"}], \"choropleth\": [{\"colorbar\": {\"outlinewidth\": 0, \"ticks\": \"\"}, \"type\": \"choropleth\"}], \"contour\": [{\"colorbar\": {\"outlinewidth\": 0, \"ticks\": \"\"}, \"colorscale\": [[0.0, \"#0d0887\"], [0.1111111111111111, \"#46039f\"], [0.2222222222222222, \"#7201a8\"], [0.3333333333333333, \"#9c179e\"], [0.4444444444444444, \"#bd3786\"], [0.5555555555555556, \"#d8576b\"], [0.6666666666666666, \"#ed7953\"], [0.7777777777777778, \"#fb9f3a\"], [0.8888888888888888, \"#fdca26\"], [1.0, \"#f0f921\"]], \"type\": \"contour\"}], \"contourcarpet\": [{\"colorbar\": {\"outlinewidth\": 0, \"ticks\": \"\"}, \"type\": \"contourcarpet\"}], \"heatmap\": [{\"colorbar\": {\"outlinewidth\": 0, \"ticks\": \"\"}, \"colorscale\": [[0.0, \"#0d0887\"], [0.1111111111111111, \"#46039f\"], [0.2222222222222222, \"#7201a8\"], [0.3333333333333333, \"#9c179e\"], [0.4444444444444444, \"#bd3786\"], [0.5555555555555556, \"#d8576b\"], [0.6666666666666666, \"#ed7953\"], [0.7777777777777778, \"#fb9f3a\"], [0.8888888888888888, \"#fdca26\"], [1.0, \"#f0f921\"]], \"type\": \"heatmap\"}], \"heatmapgl\": [{\"colorbar\": {\"outlinewidth\": 0, \"ticks\": \"\"}, \"colorscale\": [[0.0, \"#0d0887\"], [0.1111111111111111, \"#46039f\"], [0.2222222222222222, \"#7201a8\"], [0.3333333333333333, \"#9c179e\"], [0.4444444444444444, \"#bd3786\"], [0.5555555555555556, \"#d8576b\"], [0.6666666666666666, \"#ed7953\"], [0.7777777777777778, \"#fb9f3a\"], [0.8888888888888888, \"#fdca26\"], [1.0, \"#f0f921\"]], \"type\": \"heatmapgl\"}], \"histogram\": [{\"marker\": {\"colorbar\": {\"outlinewidth\": 0, \"ticks\": \"\"}}, \"type\": \"histogram\"}], \"histogram2d\": [{\"colorbar\": {\"outlinewidth\": 0, \"ticks\": \"\"}, \"colorscale\": [[0.0, \"#0d0887\"], [0.1111111111111111, \"#46039f\"], [0.2222222222222222, \"#7201a8\"], [0.3333333333333333, \"#9c179e\"], [0.4444444444444444, \"#bd3786\"], [0.5555555555555556, \"#d8576b\"], [0.6666666666666666, \"#ed7953\"], [0.7777777777777778, \"#fb9f3a\"], [0.8888888888888888, \"#fdca26\"], [1.0, \"#f0f921\"]], \"type\": \"histogram2d\"}], \"histogram2dcontour\": [{\"colorbar\": {\"outlinewidth\": 0, \"ticks\": \"\"}, \"colorscale\": [[0.0, \"#0d0887\"], [0.1111111111111111, \"#46039f\"], [0.2222222222222222, \"#7201a8\"], [0.3333333333333333, \"#9c179e\"], [0.4444444444444444, \"#bd3786\"], [0.5555555555555556, \"#d8576b\"], [0.6666666666666666, \"#ed7953\"], [0.7777777777777778, \"#fb9f3a\"], [0.8888888888888888, \"#fdca26\"], [1.0, \"#f0f921\"]], \"type\": \"histogram2dcontour\"}], \"mesh3d\": [{\"colorbar\": {\"outlinewidth\": 0, \"ticks\": \"\"}, \"type\": \"mesh3d\"}], \"parcoords\": [{\"line\": {\"colorbar\": {\"outlinewidth\": 0, \"ticks\": \"\"}}, \"type\": \"parcoords\"}], \"pie\": [{\"automargin\": true, \"type\": \"pie\"}], \"scatter\": [{\"marker\": {\"colorbar\": {\"outlinewidth\": 0, \"ticks\": \"\"}}, \"type\": \"scatter\"}], \"scatter3d\": [{\"line\": {\"colorbar\": {\"outlinewidth\": 0, \"ticks\": \"\"}}, \"marker\": {\"colorbar\": {\"outlinewidth\": 0, \"ticks\": \"\"}}, \"type\": \"scatter3d\"}], \"scattercarpet\": [{\"marker\": {\"colorbar\": {\"outlinewidth\": 0, \"ticks\": \"\"}}, \"type\": \"scattercarpet\"}], \"scattergeo\": [{\"marker\": {\"colorbar\": {\"outlinewidth\": 0, \"ticks\": \"\"}}, \"type\": \"scattergeo\"}], \"scattergl\": [{\"marker\": {\"colorbar\": {\"outlinewidth\": 0, \"ticks\": \"\"}}, \"type\": \"scattergl\"}], \"scattermapbox\": [{\"marker\": {\"colorbar\": {\"outlinewidth\": 0, \"ticks\": \"\"}}, \"type\": \"scattermapbox\"}], \"scatterpolar\": [{\"marker\": {\"colorbar\": {\"outlinewidth\": 0, \"ticks\": \"\"}}, \"type\": \"scatterpolar\"}], \"scatterpolargl\": [{\"marker\": {\"colorbar\": {\"outlinewidth\": 0, \"ticks\": \"\"}}, \"type\": \"scatterpolargl\"}], \"scatterternary\": [{\"marker\": {\"colorbar\": {\"outlinewidth\": 0, \"ticks\": \"\"}}, \"type\": \"scatterternary\"}], \"surface\": [{\"colorbar\": {\"outlinewidth\": 0, \"ticks\": \"\"}, \"colorscale\": [[0.0, \"#0d0887\"], [0.1111111111111111, \"#46039f\"], [0.2222222222222222, \"#7201a8\"], [0.3333333333333333, \"#9c179e\"], [0.4444444444444444, \"#bd3786\"], [0.5555555555555556, \"#d8576b\"], [0.6666666666666666, \"#ed7953\"], [0.7777777777777778, \"#fb9f3a\"], [0.8888888888888888, \"#fdca26\"], [1.0, \"#f0f921\"]], \"type\": \"surface\"}], \"table\": [{\"cells\": {\"fill\": {\"color\": \"#EBF0F8\"}, \"line\": {\"color\": \"white\"}}, \"header\": {\"fill\": {\"color\": \"#C8D4E3\"}, \"line\": {\"color\": \"white\"}}, \"type\": \"table\"}]}, \"layout\": {\"annotationdefaults\": {\"arrowcolor\": \"#2a3f5f\", \"arrowhead\": 0, \"arrowwidth\": 1}, \"coloraxis\": {\"colorbar\": {\"outlinewidth\": 0, \"ticks\": \"\"}}, \"colorscale\": {\"diverging\": [[0, \"#8e0152\"], [0.1, \"#c51b7d\"], [0.2, \"#de77ae\"], [0.3, \"#f1b6da\"], [0.4, \"#fde0ef\"], [0.5, \"#f7f7f7\"], [0.6, \"#e6f5d0\"], [0.7, \"#b8e186\"], [0.8, \"#7fbc41\"], [0.9, \"#4d9221\"], [1, \"#276419\"]], \"sequential\": [[0.0, \"#0d0887\"], [0.1111111111111111, \"#46039f\"], [0.2222222222222222, \"#7201a8\"], [0.3333333333333333, \"#9c179e\"], [0.4444444444444444, \"#bd3786\"], [0.5555555555555556, \"#d8576b\"], [0.6666666666666666, \"#ed7953\"], [0.7777777777777778, \"#fb9f3a\"], [0.8888888888888888, \"#fdca26\"], [1.0, \"#f0f921\"]], \"sequentialminus\": [[0.0, \"#0d0887\"], [0.1111111111111111, \"#46039f\"], [0.2222222222222222, \"#7201a8\"], [0.3333333333333333, \"#9c179e\"], [0.4444444444444444, \"#bd3786\"], [0.5555555555555556, \"#d8576b\"], [0.6666666666666666, \"#ed7953\"], [0.7777777777777778, \"#fb9f3a\"], [0.8888888888888888, \"#fdca26\"], [1.0, \"#f0f921\"]]}, \"colorway\": [\"#636efa\", \"#EF553B\", \"#00cc96\", \"#ab63fa\", \"#FFA15A\", \"#19d3f3\", \"#FF6692\", \"#B6E880\", \"#FF97FF\", \"#FECB52\"], \"font\": {\"color\": \"#2a3f5f\"}, \"geo\": {\"bgcolor\": \"white\", \"lakecolor\": \"white\", \"landcolor\": \"#E5ECF6\", \"showlakes\": true, \"showland\": true, \"subunitcolor\": \"white\"}, \"hoverlabel\": {\"align\": \"left\"}, \"hovermode\": \"closest\", \"mapbox\": {\"style\": \"light\"}, \"paper_bgcolor\": \"white\", \"plot_bgcolor\": \"#E5ECF6\", \"polar\": {\"angularaxis\": {\"gridcolor\": \"white\", \"linecolor\": \"white\", \"ticks\": \"\"}, \"bgcolor\": \"#E5ECF6\", \"radialaxis\": {\"gridcolor\": \"white\", \"linecolor\": \"white\", \"ticks\": \"\"}}, \"scene\": {\"xaxis\": {\"backgroundcolor\": \"#E5ECF6\", \"gridcolor\": \"white\", \"gridwidth\": 2, \"linecolor\": \"white\", \"showbackground\": true, \"ticks\": \"\", \"zerolinecolor\": \"white\"}, \"yaxis\": {\"backgroundcolor\": \"#E5ECF6\", \"gridcolor\": \"white\", \"gridwidth\": 2, \"linecolor\": \"white\", \"showbackground\": true, \"ticks\": \"\", \"zerolinecolor\": \"white\"}, \"zaxis\": {\"backgroundcolor\": \"#E5ECF6\", \"gridcolor\": \"white\", \"gridwidth\": 2, \"linecolor\": \"white\", \"showbackground\": true, \"ticks\": \"\", \"zerolinecolor\": \"white\"}}, \"shapedefaults\": {\"line\": {\"color\": \"#2a3f5f\"}}, \"ternary\": {\"aaxis\": {\"gridcolor\": \"white\", \"linecolor\": \"white\", \"ticks\": \"\"}, \"baxis\": {\"gridcolor\": \"white\", \"linecolor\": \"white\", \"ticks\": \"\"}, \"bgcolor\": \"#E5ECF6\", \"caxis\": {\"gridcolor\": \"white\", \"linecolor\": \"white\", \"ticks\": \"\"}}, \"title\": {\"x\": 0.05}, \"xaxis\": {\"automargin\": true, \"gridcolor\": \"white\", \"linecolor\": \"white\", \"ticks\": \"\", \"title\": {\"standoff\": 15}, \"zerolinecolor\": \"white\", \"zerolinewidth\": 2}, \"yaxis\": {\"automargin\": true, \"gridcolor\": \"white\", \"linecolor\": \"white\", \"ticks\": \"\", \"title\": {\"standoff\": 15}, \"zerolinecolor\": \"white\", \"zerolinewidth\": 2}}}, \"title\": {\"text\": \"Confirmed Cases Polynomial Regression Prediction\"}, \"xaxis\": {\"title\": {\"text\": \"Date\"}}, \"yaxis\": {\"title\": {\"text\": \"Confirmed Cases\"}}},\n",
              "                        {\"responsive\": true}\n",
              "                    ).then(function(){\n",
              "                            \n",
              "var gd = document.getElementById('e50adcd2-3bec-43ef-9e2d-ec2573e9dd07');\n",
              "var x = new MutationObserver(function (mutations, observer) {{\n",
              "        var display = window.getComputedStyle(gd).display;\n",
              "        if (!display || display === 'none') {{\n",
              "            console.log([gd, 'removed!']);\n",
              "            Plotly.purge(gd);\n",
              "            observer.disconnect();\n",
              "        }}\n",
              "}});\n",
              "\n",
              "// Listen for the removal of the full notebook cells\n",
              "var notebookContainer = gd.closest('#notebook-container');\n",
              "if (notebookContainer) {{\n",
              "    x.observe(notebookContainer, {childList: true});\n",
              "}}\n",
              "\n",
              "// Listen for the clearing of the current output cell\n",
              "var outputEl = gd.closest('.output');\n",
              "if (outputEl) {{\n",
              "    x.observe(outputEl, {childList: true});\n",
              "}}\n",
              "\n",
              "                        })\n",
              "                };\n",
              "                \n",
              "            </script>\n",
              "        </div>\n",
              "</body>\n",
              "</html>"
            ]
          },
          "metadata": {
            "tags": []
          }
        },
        {
          "output_type": "display_data",
          "data": {
            "text/plain": [
              "<Figure size 792x432 with 0 Axes>"
            ]
          },
          "metadata": {
            "tags": []
          }
        }
      ]
    },
    {
      "cell_type": "code",
      "metadata": {
        "id": "wVzmIwLHKWLc",
        "colab_type": "code",
        "colab": {}
      },
      "source": [
        ""
      ],
      "execution_count": null,
      "outputs": []
    },
    {
      "cell_type": "markdown",
      "metadata": {
        "id": "ooTsW_liaZAQ",
        "colab_type": "text"
      },
      "source": [
        "References:\n",
        "https://data.europa.eu/euodp/en/data/dataset/covid-19-coronavirus-data/resource/260bbbde-2316-40eb-aec3-7cd7bfc2f590"
      ]
    }
  ]
}